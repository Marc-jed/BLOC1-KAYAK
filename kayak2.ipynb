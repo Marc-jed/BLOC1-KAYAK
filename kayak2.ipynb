{
 "cells": [
  {
   "cell_type": "code",
   "execution_count": 2,
   "metadata": {
    "executionInfo": {
     "elapsed": 3682,
     "status": "ok",
     "timestamp": 1743451979018,
     "user": {
      "displayName": "Gdleds Led",
      "userId": "04477971106892264481"
     },
     "user_tz": -120
    },
    "id": "uOo10zE7Goca"
   },
   "outputs": [],
   "source": [
    "import pandas as pd\n",
    "import requests\n",
    "import numpy as np\n",
    "import json\n",
    "import asyncio\n",
    "import dotenv\n",
    "import boto3\n",
    "import scrapy\n",
    "import glob\n",
    "import os\n",
    "import logging\n",
    "import asyncio\n",
    "import psycopg2\n",
    "import plotly.express as px\n",
    "from dotenv import load_dotenv\n",
    "from sqlalchemy import create_engine, text\n",
    "from collections import defaultdict\n",
    "from scrapy.crawler import CrawlerProcess, CrawlerRunner\n",
    "from twisted.internet import asyncioreactor\n",
    "from twisted.internet import reactor\n",
    "from scrapy.crawler import CrawlerRunner\n",
    "\n",
    "\n",
    "\n",
    "\n"
   ]
  },
  {
   "cell_type": "markdown",
   "metadata": {},
   "source": [
    "## Coordonnées GPS et METEO\n",
    "Pour débuter le projet, nous allons récupérer les coordonnées géographiques (longitude et latitude) de chaque ville de notre liste en utilisant l’API Nominatim.\n",
    "Dans un second temps, nous collecterons les données météorologiques correspondantes via l’API OpenWeatherMap.\n",
    "Nous choisirons de conserver la température maximale, les precipitations et que l’indice de conditions météo (ensoleillé, pluvieux, nuageux, etc.).\n",
    "L’ensemble de ces informations sera compilé dans un fichier unique csv."
   ]
  },
  {
   "cell_type": "code",
   "execution_count": null,
   "metadata": {
    "colab": {
     "base_uri": "https://localhost:8080/"
    },
    "executionInfo": {
     "elapsed": 73,
     "status": "ok",
     "timestamp": 1743452418301,
     "user": {
      "displayName": "Gdleds Led",
      "userId": "04477971106892264481"
     },
     "user_tz": -120
    },
    "id": "cLG75j7kGocc",
    "outputId": "02cd32e7-cd1a-4e4c-eff4-85a70c1c0a34"
   },
   "outputs": [],
   "source": [
    "\n",
    "villes = {\"Mont Saint Michel\",\n",
    "\"St Malo\",\n",
    "\"Bayeux\",\n",
    "\"Le Havre\",\n",
    "\"Rouen\",\n",
    "\"Paris\",\n",
    "\"Amiens\",\n",
    "\"Lille\",\n",
    "\"Strasbourg\",\n",
    "\"Chateau du Haut Koenigsbourg\",\n",
    "\"Colmar\",\n",
    "\"Eguisheim\",\n",
    "\"Besancon\",\n",
    "\"Dijon\",\n",
    "\"Annecy\",\n",
    "\"Grenoble\",\n",
    "\"Lyon\",\n",
    "\"Gorges du Verdon\",\n",
    "\"Bormes les Mimosas\",\n",
    "\"Cassis\",\n",
    "\"Marseille\",\n",
    "\"Aix en Provence\",\n",
    "\"Avignon\",\n",
    "\"Uzes\",\n",
    "\"Nimes\",\n",
    "\"Aigues Mortes\",\n",
    "\"Saintes Maries de la mer\",\n",
    "\"Collioure\",\n",
    "\"Carcassonne\",\n",
    "\"Ariege\",\n",
    "\"Toulouse\",\n",
    "\"Montauban\",\n",
    "\"Biarritz\",\n",
    "\"Bayonne\",\n",
    "\"La Rochelle\"\n",
    "}\n",
    "headers = {\"User-Agent\": \"KayakProject/1.0 (gdleds31@gmail.com)\"}\n",
    "data = []\n",
    "for idx, ville in enumerate(villes):\n",
    "    url = f\"https://nominatim.openstreetmap.org/search?q={ville}&format=json&addressdetails=1&limit=1&polygon_svg=1\"\n",
    "    response = requests.get(url, headers=headers).json()\n",
    "    if response:\n",
    "        data.append({\n",
    "            \"ville\": ville,\n",
    "            \"latitude\": response[0][\"lat\"],\n",
    "            \"longitude\": response[0][\"lon\"]\n",
    "        })\n",
    "\n",
    "df_villes = pd.DataFrame(data)\n"
   ]
  },
  {
   "cell_type": "code",
   "execution_count": null,
   "metadata": {},
   "outputs": [],
   "source": [
    "# On vérifie les données récupérées\n",
    "df_villes.info(), df_villes.head()"
   ]
  },
  {
   "cell_type": "code",
   "execution_count": null,
   "metadata": {},
   "outputs": [],
   "source": [
    "df_villes.head()"
   ]
  },
  {
   "cell_type": "markdown",
   "metadata": {},
   "source": [
    "### METEO - API OPENWEATHERMAP\n",
    "Tout d'abord faisons une simple requête de nom des villes afin de voir si tout fonctionne bien."
   ]
  },
  {
   "cell_type": "code",
   "execution_count": 20,
   "metadata": {},
   "outputs": [
    {
     "data": {
      "text/html": [
       "<div>\n",
       "<style scoped>\n",
       "    .dataframe tbody tr th:only-of-type {\n",
       "        vertical-align: middle;\n",
       "    }\n",
       "\n",
       "    .dataframe tbody tr th {\n",
       "        vertical-align: top;\n",
       "    }\n",
       "\n",
       "    .dataframe thead th {\n",
       "        text-align: right;\n",
       "    }\n",
       "</style>\n",
       "<table border=\"1\" class=\"dataframe\">\n",
       "  <thead>\n",
       "    <tr style=\"text-align: right;\">\n",
       "      <th></th>\n",
       "      <th>ville</th>\n",
       "      <th>latitude</th>\n",
       "      <th>longitude</th>\n",
       "      <th>id</th>\n",
       "      <th>ville-1</th>\n",
       "    </tr>\n",
       "  </thead>\n",
       "  <tbody>\n",
       "    <tr>\n",
       "      <th>0</th>\n",
       "      <td>Grenoble</td>\n",
       "      <td>45.1875602</td>\n",
       "      <td>5.7357819</td>\n",
       "      <td>0</td>\n",
       "      <td>La Tronche</td>\n",
       "    </tr>\n",
       "    <tr>\n",
       "      <th>1</th>\n",
       "      <td>Rouen</td>\n",
       "      <td>49.4404591</td>\n",
       "      <td>1.0939658</td>\n",
       "      <td>1</td>\n",
       "      <td>Rouen</td>\n",
       "    </tr>\n",
       "    <tr>\n",
       "      <th>2</th>\n",
       "      <td>Besancon</td>\n",
       "      <td>47.2380222</td>\n",
       "      <td>6.0243622</td>\n",
       "      <td>2</td>\n",
       "      <td>Besançon</td>\n",
       "    </tr>\n",
       "    <tr>\n",
       "      <th>3</th>\n",
       "      <td>Aix en Provence</td>\n",
       "      <td>43.5298424</td>\n",
       "      <td>5.4474738</td>\n",
       "      <td>3</td>\n",
       "      <td>Aix-en-Provence</td>\n",
       "    </tr>\n",
       "    <tr>\n",
       "      <th>4</th>\n",
       "      <td>Cassis</td>\n",
       "      <td>43.2140359</td>\n",
       "      <td>5.5396318</td>\n",
       "      <td>4</td>\n",
       "      <td>Cassis</td>\n",
       "    </tr>\n",
       "    <tr>\n",
       "      <th>5</th>\n",
       "      <td>Biarritz</td>\n",
       "      <td>43.4711437</td>\n",
       "      <td>-1.5527266</td>\n",
       "      <td>5</td>\n",
       "      <td>Biarritz</td>\n",
       "    </tr>\n",
       "    <tr>\n",
       "      <th>6</th>\n",
       "      <td>Toulouse</td>\n",
       "      <td>43.6044638</td>\n",
       "      <td>1.4442433</td>\n",
       "      <td>6</td>\n",
       "      <td>Toulouse</td>\n",
       "    </tr>\n",
       "    <tr>\n",
       "      <th>7</th>\n",
       "      <td>Nimes</td>\n",
       "      <td>43.8374249</td>\n",
       "      <td>4.3600687</td>\n",
       "      <td>7</td>\n",
       "      <td>Nîmes</td>\n",
       "    </tr>\n",
       "    <tr>\n",
       "      <th>8</th>\n",
       "      <td>Lyon</td>\n",
       "      <td>45.7578137</td>\n",
       "      <td>4.8320114</td>\n",
       "      <td>8</td>\n",
       "      <td>Vieux Lyon</td>\n",
       "    </tr>\n",
       "    <tr>\n",
       "      <th>9</th>\n",
       "      <td>Dijon</td>\n",
       "      <td>47.3215806</td>\n",
       "      <td>5.0414701</td>\n",
       "      <td>9</td>\n",
       "      <td>Larrey</td>\n",
       "    </tr>\n",
       "    <tr>\n",
       "      <th>10</th>\n",
       "      <td>Lille</td>\n",
       "      <td>50.6365654</td>\n",
       "      <td>3.0635282</td>\n",
       "      <td>10</td>\n",
       "      <td>La Madeleine</td>\n",
       "    </tr>\n",
       "    <tr>\n",
       "      <th>11</th>\n",
       "      <td>Eguisheim</td>\n",
       "      <td>48.0447968</td>\n",
       "      <td>7.3079618</td>\n",
       "      <td>11</td>\n",
       "      <td>Eguisheim</td>\n",
       "    </tr>\n",
       "    <tr>\n",
       "      <th>12</th>\n",
       "      <td>Annecy</td>\n",
       "      <td>45.8992348</td>\n",
       "      <td>6.1288847</td>\n",
       "      <td>12</td>\n",
       "      <td>Annecy</td>\n",
       "    </tr>\n",
       "    <tr>\n",
       "      <th>13</th>\n",
       "      <td>Colmar</td>\n",
       "      <td>48.0777517</td>\n",
       "      <td>7.3579641</td>\n",
       "      <td>13</td>\n",
       "      <td>Colmar</td>\n",
       "    </tr>\n",
       "    <tr>\n",
       "      <th>14</th>\n",
       "      <td>Montauban</td>\n",
       "      <td>44.0175835</td>\n",
       "      <td>1.3549991</td>\n",
       "      <td>14</td>\n",
       "      <td>Montauban</td>\n",
       "    </tr>\n",
       "    <tr>\n",
       "      <th>15</th>\n",
       "      <td>Carcassonne</td>\n",
       "      <td>43.2130358</td>\n",
       "      <td>2.3491069</td>\n",
       "      <td>15</td>\n",
       "      <td>Carcassonne</td>\n",
       "    </tr>\n",
       "    <tr>\n",
       "      <th>16</th>\n",
       "      <td>La Rochelle</td>\n",
       "      <td>46.1597320</td>\n",
       "      <td>-1.1515951</td>\n",
       "      <td>16</td>\n",
       "      <td>La Rochelle</td>\n",
       "    </tr>\n",
       "    <tr>\n",
       "      <th>17</th>\n",
       "      <td>Ariege</td>\n",
       "      <td>42.9455368</td>\n",
       "      <td>1.4065544</td>\n",
       "      <td>17</td>\n",
       "      <td>Larbont</td>\n",
       "    </tr>\n",
       "    <tr>\n",
       "      <th>18</th>\n",
       "      <td>Bayonne</td>\n",
       "      <td>43.4945144</td>\n",
       "      <td>-1.4736657</td>\n",
       "      <td>18</td>\n",
       "      <td>Bayonne</td>\n",
       "    </tr>\n",
       "    <tr>\n",
       "      <th>19</th>\n",
       "      <td>Collioure</td>\n",
       "      <td>42.5250500</td>\n",
       "      <td>3.0831554</td>\n",
       "      <td>19</td>\n",
       "      <td>Collioure</td>\n",
       "    </tr>\n",
       "    <tr>\n",
       "      <th>20</th>\n",
       "      <td>Avignon</td>\n",
       "      <td>43.9492493</td>\n",
       "      <td>4.8059012</td>\n",
       "      <td>20</td>\n",
       "      <td>Avignon</td>\n",
       "    </tr>\n",
       "    <tr>\n",
       "      <th>21</th>\n",
       "      <td>St Malo</td>\n",
       "      <td>49.3146950</td>\n",
       "      <td>-96.9538228</td>\n",
       "      <td>21</td>\n",
       "      <td>Dufrost</td>\n",
       "    </tr>\n",
       "    <tr>\n",
       "      <th>22</th>\n",
       "      <td>Uzes</td>\n",
       "      <td>44.0121279</td>\n",
       "      <td>4.4196718</td>\n",
       "      <td>22</td>\n",
       "      <td>Uzès</td>\n",
       "    </tr>\n",
       "    <tr>\n",
       "      <th>23</th>\n",
       "      <td>Chateau du Haut Koenigsbourg</td>\n",
       "      <td>48.2494107</td>\n",
       "      <td>7.3443202</td>\n",
       "      <td>23</td>\n",
       "      <td>Saint-Hippolyte</td>\n",
       "    </tr>\n",
       "    <tr>\n",
       "      <th>24</th>\n",
       "      <td>Le Havre</td>\n",
       "      <td>49.4938975</td>\n",
       "      <td>0.1079732</td>\n",
       "      <td>24</td>\n",
       "      <td>Havre-de-Grâce</td>\n",
       "    </tr>\n",
       "    <tr>\n",
       "      <th>25</th>\n",
       "      <td>Amiens</td>\n",
       "      <td>49.8941708</td>\n",
       "      <td>2.2956951</td>\n",
       "      <td>25</td>\n",
       "      <td>Amiens</td>\n",
       "    </tr>\n",
       "    <tr>\n",
       "      <th>26</th>\n",
       "      <td>Bormes les Mimosas</td>\n",
       "      <td>43.1506968</td>\n",
       "      <td>6.3419285</td>\n",
       "      <td>26</td>\n",
       "      <td>Bormes-les-Mimosas</td>\n",
       "    </tr>\n",
       "    <tr>\n",
       "      <th>27</th>\n",
       "      <td>Bayeux</td>\n",
       "      <td>49.2764624</td>\n",
       "      <td>-0.7024738</td>\n",
       "      <td>27</td>\n",
       "      <td>Bayeux</td>\n",
       "    </tr>\n",
       "    <tr>\n",
       "      <th>28</th>\n",
       "      <td>Strasbourg</td>\n",
       "      <td>48.5846140</td>\n",
       "      <td>7.7507127</td>\n",
       "      <td>28</td>\n",
       "      <td>Strasbourg</td>\n",
       "    </tr>\n",
       "    <tr>\n",
       "      <th>29</th>\n",
       "      <td>Marseille</td>\n",
       "      <td>43.2961743</td>\n",
       "      <td>5.3699525</td>\n",
       "      <td>29</td>\n",
       "      <td>Marseille</td>\n",
       "    </tr>\n",
       "    <tr>\n",
       "      <th>30</th>\n",
       "      <td>Aigues Mortes</td>\n",
       "      <td>43.5661521</td>\n",
       "      <td>4.1915400</td>\n",
       "      <td>30</td>\n",
       "      <td>Aigues-Mortes</td>\n",
       "    </tr>\n",
       "    <tr>\n",
       "      <th>31</th>\n",
       "      <td>Gorges du Verdon</td>\n",
       "      <td>43.7496562</td>\n",
       "      <td>6.3285616</td>\n",
       "      <td>31</td>\n",
       "      <td>Bauduen</td>\n",
       "    </tr>\n",
       "    <tr>\n",
       "      <th>32</th>\n",
       "      <td>Saintes Maries de la mer</td>\n",
       "      <td>43.4515922</td>\n",
       "      <td>4.4277202</td>\n",
       "      <td>32</td>\n",
       "      <td>Saintes-Maries-de-la-Mer</td>\n",
       "    </tr>\n",
       "    <tr>\n",
       "      <th>33</th>\n",
       "      <td>Mont Saint Michel</td>\n",
       "      <td>48.6359541</td>\n",
       "      <td>-1.5114600</td>\n",
       "      <td>33</td>\n",
       "      <td>Huisnes-sur-Mer</td>\n",
       "    </tr>\n",
       "    <tr>\n",
       "      <th>34</th>\n",
       "      <td>Paris</td>\n",
       "      <td>48.8534951</td>\n",
       "      <td>2.3483915</td>\n",
       "      <td>34</td>\n",
       "      <td>Paris</td>\n",
       "    </tr>\n",
       "  </tbody>\n",
       "</table>\n",
       "</div>"
      ],
      "text/plain": [
       "                           ville    latitude    longitude  id  \\\n",
       "0                       Grenoble  45.1875602    5.7357819   0   \n",
       "1                          Rouen  49.4404591    1.0939658   1   \n",
       "2                       Besancon  47.2380222    6.0243622   2   \n",
       "3                Aix en Provence  43.5298424    5.4474738   3   \n",
       "4                         Cassis  43.2140359    5.5396318   4   \n",
       "5                       Biarritz  43.4711437   -1.5527266   5   \n",
       "6                       Toulouse  43.6044638    1.4442433   6   \n",
       "7                          Nimes  43.8374249    4.3600687   7   \n",
       "8                           Lyon  45.7578137    4.8320114   8   \n",
       "9                          Dijon  47.3215806    5.0414701   9   \n",
       "10                         Lille  50.6365654    3.0635282  10   \n",
       "11                     Eguisheim  48.0447968    7.3079618  11   \n",
       "12                        Annecy  45.8992348    6.1288847  12   \n",
       "13                        Colmar  48.0777517    7.3579641  13   \n",
       "14                     Montauban  44.0175835    1.3549991  14   \n",
       "15                   Carcassonne  43.2130358    2.3491069  15   \n",
       "16                   La Rochelle  46.1597320   -1.1515951  16   \n",
       "17                        Ariege  42.9455368    1.4065544  17   \n",
       "18                       Bayonne  43.4945144   -1.4736657  18   \n",
       "19                     Collioure  42.5250500    3.0831554  19   \n",
       "20                       Avignon  43.9492493    4.8059012  20   \n",
       "21                       St Malo  49.3146950  -96.9538228  21   \n",
       "22                          Uzes  44.0121279    4.4196718  22   \n",
       "23  Chateau du Haut Koenigsbourg  48.2494107    7.3443202  23   \n",
       "24                      Le Havre  49.4938975    0.1079732  24   \n",
       "25                        Amiens  49.8941708    2.2956951  25   \n",
       "26            Bormes les Mimosas  43.1506968    6.3419285  26   \n",
       "27                        Bayeux  49.2764624   -0.7024738  27   \n",
       "28                    Strasbourg  48.5846140    7.7507127  28   \n",
       "29                     Marseille  43.2961743    5.3699525  29   \n",
       "30                 Aigues Mortes  43.5661521    4.1915400  30   \n",
       "31              Gorges du Verdon  43.7496562    6.3285616  31   \n",
       "32      Saintes Maries de la mer  43.4515922    4.4277202  32   \n",
       "33             Mont Saint Michel  48.6359541   -1.5114600  33   \n",
       "34                         Paris  48.8534951    2.3483915  34   \n",
       "\n",
       "                     ville-1  \n",
       "0                 La Tronche  \n",
       "1                      Rouen  \n",
       "2                   Besançon  \n",
       "3            Aix-en-Provence  \n",
       "4                     Cassis  \n",
       "5                   Biarritz  \n",
       "6                   Toulouse  \n",
       "7                      Nîmes  \n",
       "8                 Vieux Lyon  \n",
       "9                     Larrey  \n",
       "10              La Madeleine  \n",
       "11                 Eguisheim  \n",
       "12                    Annecy  \n",
       "13                    Colmar  \n",
       "14                 Montauban  \n",
       "15               Carcassonne  \n",
       "16               La Rochelle  \n",
       "17                   Larbont  \n",
       "18                   Bayonne  \n",
       "19                 Collioure  \n",
       "20                   Avignon  \n",
       "21                   Dufrost  \n",
       "22                      Uzès  \n",
       "23           Saint-Hippolyte  \n",
       "24            Havre-de-Grâce  \n",
       "25                    Amiens  \n",
       "26        Bormes-les-Mimosas  \n",
       "27                    Bayeux  \n",
       "28                Strasbourg  \n",
       "29                 Marseille  \n",
       "30             Aigues-Mortes  \n",
       "31                   Bauduen  \n",
       "32  Saintes-Maries-de-la-Mer  \n",
       "33           Huisnes-sur-Mer  \n",
       "34                     Paris  "
      ]
     },
     "execution_count": 20,
     "metadata": {},
     "output_type": "execute_result"
    }
   ],
   "source": [
    "API_KEY = '50354bff210b5943251ba7d75d2024ba'\n",
    "\n",
    "city_data = []\n",
    "for lat, lon in df_villes[[\"latitude\", \"longitude\"]].values:\n",
    "    url = f\"https://api.openweathermap.org/data/2.5/forecast?lat={lat}&lon={lon}&cnt=40&appid={API_KEY}&units=metric&lang=fr\"\n",
    "    response = requests.get(url).json()\n",
    "    if response:\n",
    "        city_data.append({\"ville-1\" : response['city']['name']})\n",
    "city_data = pd.DataFrame(city_data)\n",
    "df_villes1 = pd.concat([df_villes, city_data], axis=1)\n",
    "df_villes1.head(35)"
   ]
  },
  {
   "cell_type": "code",
   "execution_count": 21,
   "metadata": {},
   "outputs": [
    {
     "name": "stdout",
     "output_type": "stream",
     "text": [
      "Attention, la ville Grenoble n'est pas cohérente avec La Tronche\n",
      "Attention, la ville Besancon n'est pas cohérente avec Besançon\n",
      "Attention, la ville Aix en Provence n'est pas cohérente avec Aix-en-Provence\n",
      "Attention, la ville Nimes n'est pas cohérente avec Nîmes\n",
      "Attention, la ville Lyon n'est pas cohérente avec Vieux Lyon\n",
      "Attention, la ville Dijon n'est pas cohérente avec Larrey\n",
      "Attention, la ville Lille n'est pas cohérente avec La Madeleine\n",
      "Attention, la ville Ariege n'est pas cohérente avec Larbont\n",
      "Attention, la ville St Malo n'est pas cohérente avec Dufrost\n",
      "Attention, la ville Uzes n'est pas cohérente avec Uzès\n",
      "Attention, la ville Chateau du Haut Koenigsbourg n'est pas cohérente avec Saint-Hippolyte\n",
      "Attention, la ville Le Havre n'est pas cohérente avec Havre-de-Grâce\n",
      "Attention, la ville Bormes les Mimosas n'est pas cohérente avec Bormes-les-Mimosas\n",
      "Attention, la ville Aigues Mortes n'est pas cohérente avec Aigues-Mortes\n",
      "Attention, la ville Gorges du Verdon n'est pas cohérente avec Bauduen\n",
      "Attention, la ville Saintes Maries de la mer n'est pas cohérente avec Saintes-Maries-de-la-Mer\n",
      "Attention, la ville Mont Saint Michel n'est pas cohérente avec Huisnes-sur-Mer\n"
     ]
    }
   ],
   "source": [
    "# vérifions si nos données villes sont cohérentes\n",
    "for ville in df_villes1['ville']:\n",
    "    if ville == df_villes1['ville-1'].values[df_villes1['ville'] == ville][0]:\n",
    "        pass\n",
    "    else:\n",
    "        print(f\"Attention, la ville {ville} n'est pas cohérente avec {df_villes1['ville-1'].values[df_villes1['ville'] == ville][0]}\")\n"
   ]
  },
  {
   "cell_type": "markdown",
   "metadata": {},
   "source": [
    "Analyse des incohérences entre Nominatim et OpenWeatherMap\n",
    "\n",
    "Lors de la comparaison des coordonnées GPS et des noms de villes renvoyés respectivement par Nominatim et OpenWeatherMap, nous avons observé plusieurs incohérences.\n",
    "\n",
    "Dans la majorité des cas, il s’agit de simples différences d’orthographe ou d’usage des accents (par exemple Uzes vs Uzès, Besancon vs Besançon). Ces écarts sont mineurs et n’ont pas d’impact sur l’exploitation des données.\n",
    "\n",
    "Dans d’autres cas, la localisation renvoyée correspond bien à la ville recherchée mais fait référence à un quartier ou à une zone voisine (par exemple Paris => Quartier du Palais-Royal, Lyon => Vieux Lyon). Ces variations restent acceptables car elles pointent bien sur la zone géographique attendue.\n",
    "\n",
    "En revanche, deux cas nécessitent une correction spécifique :\n",
    "\n",
    "Ariège : Nominatim interprète la requête comme le département et prend la ville la plus au centre de la région. Nous avons choisi de remplacer par Foix, chef-lieu de l’Ariège, afin d’obtenir une localisation cohérente.\n",
    "\n",
    "St Malo : l’abréviation \"St\" est mal interprétée par OpenWeatherMap (Dufrost). Pour corriger ce problème, nous utiliserons la forme complète Saint Malo.\n"
   ]
  },
  {
   "cell_type": "code",
   "execution_count": 18,
   "metadata": {},
   "outputs": [],
   "source": [
    "villes -= {\"Ariege\", \"St Malo\"}\n",
    "\n",
    "villes |= {\"Foix\", \"Saint Malo\"}"
   ]
  },
  {
   "cell_type": "code",
   "execution_count": null,
   "metadata": {},
   "outputs": [
    {
     "data": {
      "text/html": [
       "<div>\n",
       "<style scoped>\n",
       "    .dataframe tbody tr th:only-of-type {\n",
       "        vertical-align: middle;\n",
       "    }\n",
       "\n",
       "    .dataframe tbody tr th {\n",
       "        vertical-align: top;\n",
       "    }\n",
       "\n",
       "    .dataframe thead th {\n",
       "        text-align: right;\n",
       "    }\n",
       "</style>\n",
       "<table border=\"1\" class=\"dataframe\">\n",
       "  <thead>\n",
       "    <tr style=\"text-align: right;\">\n",
       "      <th></th>\n",
       "      <th>ville</th>\n",
       "      <th>latitude</th>\n",
       "      <th>longitude</th>\n",
       "      <th>id</th>\n",
       "      <th>ville-1</th>\n",
       "    </tr>\n",
       "  </thead>\n",
       "  <tbody>\n",
       "    <tr>\n",
       "      <th>0</th>\n",
       "      <td>Le Havre</td>\n",
       "      <td>49.4938975</td>\n",
       "      <td>0.1079732</td>\n",
       "      <td>0</td>\n",
       "      <td>Havre-de-Grâce</td>\n",
       "    </tr>\n",
       "    <tr>\n",
       "      <th>1</th>\n",
       "      <td>Nimes</td>\n",
       "      <td>43.8374249</td>\n",
       "      <td>4.3600687</td>\n",
       "      <td>1</td>\n",
       "      <td>Nîmes</td>\n",
       "    </tr>\n",
       "    <tr>\n",
       "      <th>2</th>\n",
       "      <td>Saint Malo</td>\n",
       "      <td>48.6495180</td>\n",
       "      <td>-2.0260409</td>\n",
       "      <td>2</td>\n",
       "      <td>Saint-Malo</td>\n",
       "    </tr>\n",
       "    <tr>\n",
       "      <th>3</th>\n",
       "      <td>Besancon</td>\n",
       "      <td>47.2380222</td>\n",
       "      <td>6.0243622</td>\n",
       "      <td>3</td>\n",
       "      <td>Besançon</td>\n",
       "    </tr>\n",
       "    <tr>\n",
       "      <th>4</th>\n",
       "      <td>Bayonne</td>\n",
       "      <td>43.4945144</td>\n",
       "      <td>-1.4736657</td>\n",
       "      <td>4</td>\n",
       "      <td>Le Limpou</td>\n",
       "    </tr>\n",
       "    <tr>\n",
       "      <th>5</th>\n",
       "      <td>Lille</td>\n",
       "      <td>50.6365654</td>\n",
       "      <td>3.0635282</td>\n",
       "      <td>5</td>\n",
       "      <td>Lille</td>\n",
       "    </tr>\n",
       "    <tr>\n",
       "      <th>6</th>\n",
       "      <td>La Rochelle</td>\n",
       "      <td>46.1597320</td>\n",
       "      <td>-1.1515951</td>\n",
       "      <td>6</td>\n",
       "      <td>La Rochelle</td>\n",
       "    </tr>\n",
       "    <tr>\n",
       "      <th>7</th>\n",
       "      <td>Bormes les Mimosas</td>\n",
       "      <td>43.1506968</td>\n",
       "      <td>6.3419285</td>\n",
       "      <td>7</td>\n",
       "      <td>Bormes-les-Mimosas</td>\n",
       "    </tr>\n",
       "    <tr>\n",
       "      <th>8</th>\n",
       "      <td>Saintes Maries de la mer</td>\n",
       "      <td>43.4515922</td>\n",
       "      <td>4.4277202</td>\n",
       "      <td>8</td>\n",
       "      <td>Saintes-Maries-de-la-Mer</td>\n",
       "    </tr>\n",
       "    <tr>\n",
       "      <th>9</th>\n",
       "      <td>Mont Saint Michel</td>\n",
       "      <td>48.6359541</td>\n",
       "      <td>-1.5114600</td>\n",
       "      <td>9</td>\n",
       "      <td>Huisnes-sur-Mer</td>\n",
       "    </tr>\n",
       "    <tr>\n",
       "      <th>10</th>\n",
       "      <td>Gorges du Verdon</td>\n",
       "      <td>43.7496562</td>\n",
       "      <td>6.3285616</td>\n",
       "      <td>10</td>\n",
       "      <td>Bauduen</td>\n",
       "    </tr>\n",
       "    <tr>\n",
       "      <th>11</th>\n",
       "      <td>Foix</td>\n",
       "      <td>42.9638998</td>\n",
       "      <td>1.6053807</td>\n",
       "      <td>11</td>\n",
       "      <td>Foix</td>\n",
       "    </tr>\n",
       "    <tr>\n",
       "      <th>12</th>\n",
       "      <td>Collioure</td>\n",
       "      <td>42.5250500</td>\n",
       "      <td>3.0831554</td>\n",
       "      <td>12</td>\n",
       "      <td>Collioure</td>\n",
       "    </tr>\n",
       "    <tr>\n",
       "      <th>13</th>\n",
       "      <td>Uzes</td>\n",
       "      <td>44.0121279</td>\n",
       "      <td>4.4196718</td>\n",
       "      <td>13</td>\n",
       "      <td>Uzès</td>\n",
       "    </tr>\n",
       "    <tr>\n",
       "      <th>14</th>\n",
       "      <td>Biarritz</td>\n",
       "      <td>43.4711437</td>\n",
       "      <td>-1.5527266</td>\n",
       "      <td>14</td>\n",
       "      <td>La Négresse</td>\n",
       "    </tr>\n",
       "    <tr>\n",
       "      <th>15</th>\n",
       "      <td>Cassis</td>\n",
       "      <td>43.2140359</td>\n",
       "      <td>5.5396318</td>\n",
       "      <td>15</td>\n",
       "      <td>Cassis</td>\n",
       "    </tr>\n",
       "    <tr>\n",
       "      <th>16</th>\n",
       "      <td>Bayeux</td>\n",
       "      <td>49.2764624</td>\n",
       "      <td>-0.7024738</td>\n",
       "      <td>16</td>\n",
       "      <td>Bayeux</td>\n",
       "    </tr>\n",
       "    <tr>\n",
       "      <th>17</th>\n",
       "      <td>Eguisheim</td>\n",
       "      <td>48.0447968</td>\n",
       "      <td>7.3079618</td>\n",
       "      <td>17</td>\n",
       "      <td>Eguisheim</td>\n",
       "    </tr>\n",
       "    <tr>\n",
       "      <th>18</th>\n",
       "      <td>Lyon</td>\n",
       "      <td>45.7578137</td>\n",
       "      <td>4.8320114</td>\n",
       "      <td>18</td>\n",
       "      <td>Vieux Lyon</td>\n",
       "    </tr>\n",
       "    <tr>\n",
       "      <th>19</th>\n",
       "      <td>Colmar</td>\n",
       "      <td>48.0777517</td>\n",
       "      <td>7.3579641</td>\n",
       "      <td>19</td>\n",
       "      <td>Colmar</td>\n",
       "    </tr>\n",
       "    <tr>\n",
       "      <th>20</th>\n",
       "      <td>Aigues Mortes</td>\n",
       "      <td>43.5661521</td>\n",
       "      <td>4.1915400</td>\n",
       "      <td>20</td>\n",
       "      <td>Aigues-Mortes</td>\n",
       "    </tr>\n",
       "    <tr>\n",
       "      <th>21</th>\n",
       "      <td>Aix en Provence</td>\n",
       "      <td>43.5298424</td>\n",
       "      <td>5.4474738</td>\n",
       "      <td>21</td>\n",
       "      <td>Aix-en-Provence</td>\n",
       "    </tr>\n",
       "    <tr>\n",
       "      <th>22</th>\n",
       "      <td>Grenoble</td>\n",
       "      <td>45.1875602</td>\n",
       "      <td>5.7357819</td>\n",
       "      <td>22</td>\n",
       "      <td>Grenoble</td>\n",
       "    </tr>\n",
       "    <tr>\n",
       "      <th>23</th>\n",
       "      <td>Rouen</td>\n",
       "      <td>49.4404591</td>\n",
       "      <td>1.0939658</td>\n",
       "      <td>23</td>\n",
       "      <td>Rouen</td>\n",
       "    </tr>\n",
       "    <tr>\n",
       "      <th>24</th>\n",
       "      <td>Amiens</td>\n",
       "      <td>49.8941708</td>\n",
       "      <td>2.2956951</td>\n",
       "      <td>24</td>\n",
       "      <td>Amiens</td>\n",
       "    </tr>\n",
       "    <tr>\n",
       "      <th>25</th>\n",
       "      <td>Marseille</td>\n",
       "      <td>43.2961743</td>\n",
       "      <td>5.3699525</td>\n",
       "      <td>25</td>\n",
       "      <td>Marseille</td>\n",
       "    </tr>\n",
       "    <tr>\n",
       "      <th>26</th>\n",
       "      <td>Avignon</td>\n",
       "      <td>43.9492493</td>\n",
       "      <td>4.8059012</td>\n",
       "      <td>26</td>\n",
       "      <td>Avignon</td>\n",
       "    </tr>\n",
       "    <tr>\n",
       "      <th>27</th>\n",
       "      <td>Chateau du Haut Koenigsbourg</td>\n",
       "      <td>48.2494107</td>\n",
       "      <td>7.3443202</td>\n",
       "      <td>27</td>\n",
       "      <td>Saint-Hippolyte</td>\n",
       "    </tr>\n",
       "    <tr>\n",
       "      <th>28</th>\n",
       "      <td>Annecy</td>\n",
       "      <td>45.8992348</td>\n",
       "      <td>6.1288847</td>\n",
       "      <td>28</td>\n",
       "      <td>Annecy</td>\n",
       "    </tr>\n",
       "    <tr>\n",
       "      <th>29</th>\n",
       "      <td>Carcassonne</td>\n",
       "      <td>43.2130358</td>\n",
       "      <td>2.3491069</td>\n",
       "      <td>29</td>\n",
       "      <td>Carcassonne</td>\n",
       "    </tr>\n",
       "    <tr>\n",
       "      <th>30</th>\n",
       "      <td>Dijon</td>\n",
       "      <td>47.3215806</td>\n",
       "      <td>5.0414701</td>\n",
       "      <td>30</td>\n",
       "      <td>Larrey</td>\n",
       "    </tr>\n",
       "    <tr>\n",
       "      <th>31</th>\n",
       "      <td>Toulouse</td>\n",
       "      <td>43.6044638</td>\n",
       "      <td>1.4442433</td>\n",
       "      <td>31</td>\n",
       "      <td>Toulouse</td>\n",
       "    </tr>\n",
       "    <tr>\n",
       "      <th>32</th>\n",
       "      <td>Montauban</td>\n",
       "      <td>44.0175835</td>\n",
       "      <td>1.3549991</td>\n",
       "      <td>32</td>\n",
       "      <td>Montauban</td>\n",
       "    </tr>\n",
       "    <tr>\n",
       "      <th>33</th>\n",
       "      <td>Strasbourg</td>\n",
       "      <td>48.5846140</td>\n",
       "      <td>7.7507127</td>\n",
       "      <td>33</td>\n",
       "      <td>Strasbourg</td>\n",
       "    </tr>\n",
       "    <tr>\n",
       "      <th>34</th>\n",
       "      <td>Paris</td>\n",
       "      <td>48.8588897</td>\n",
       "      <td>2.3200410</td>\n",
       "      <td>34</td>\n",
       "      <td>Quartier du Palais-Royal</td>\n",
       "    </tr>\n",
       "  </tbody>\n",
       "</table>\n",
       "</div>"
      ],
      "text/plain": [
       "                           ville    latitude   longitude  id  \\\n",
       "0                       Le Havre  49.4938975   0.1079732   0   \n",
       "1                          Nimes  43.8374249   4.3600687   1   \n",
       "2                     Saint Malo  48.6495180  -2.0260409   2   \n",
       "3                       Besancon  47.2380222   6.0243622   3   \n",
       "4                        Bayonne  43.4945144  -1.4736657   4   \n",
       "5                          Lille  50.6365654   3.0635282   5   \n",
       "6                    La Rochelle  46.1597320  -1.1515951   6   \n",
       "7             Bormes les Mimosas  43.1506968   6.3419285   7   \n",
       "8       Saintes Maries de la mer  43.4515922   4.4277202   8   \n",
       "9              Mont Saint Michel  48.6359541  -1.5114600   9   \n",
       "10              Gorges du Verdon  43.7496562   6.3285616  10   \n",
       "11                          Foix  42.9638998   1.6053807  11   \n",
       "12                     Collioure  42.5250500   3.0831554  12   \n",
       "13                          Uzes  44.0121279   4.4196718  13   \n",
       "14                      Biarritz  43.4711437  -1.5527266  14   \n",
       "15                        Cassis  43.2140359   5.5396318  15   \n",
       "16                        Bayeux  49.2764624  -0.7024738  16   \n",
       "17                     Eguisheim  48.0447968   7.3079618  17   \n",
       "18                          Lyon  45.7578137   4.8320114  18   \n",
       "19                        Colmar  48.0777517   7.3579641  19   \n",
       "20                 Aigues Mortes  43.5661521   4.1915400  20   \n",
       "21               Aix en Provence  43.5298424   5.4474738  21   \n",
       "22                      Grenoble  45.1875602   5.7357819  22   \n",
       "23                         Rouen  49.4404591   1.0939658  23   \n",
       "24                        Amiens  49.8941708   2.2956951  24   \n",
       "25                     Marseille  43.2961743   5.3699525  25   \n",
       "26                       Avignon  43.9492493   4.8059012  26   \n",
       "27  Chateau du Haut Koenigsbourg  48.2494107   7.3443202  27   \n",
       "28                        Annecy  45.8992348   6.1288847  28   \n",
       "29                   Carcassonne  43.2130358   2.3491069  29   \n",
       "30                         Dijon  47.3215806   5.0414701  30   \n",
       "31                      Toulouse  43.6044638   1.4442433  31   \n",
       "32                     Montauban  44.0175835   1.3549991  32   \n",
       "33                    Strasbourg  48.5846140   7.7507127  33   \n",
       "34                         Paris  48.8588897   2.3200410  34   \n",
       "\n",
       "                     ville-1  \n",
       "0             Havre-de-Grâce  \n",
       "1                      Nîmes  \n",
       "2                 Saint-Malo  \n",
       "3                   Besançon  \n",
       "4                  Le Limpou  \n",
       "5                      Lille  \n",
       "6                La Rochelle  \n",
       "7         Bormes-les-Mimosas  \n",
       "8   Saintes-Maries-de-la-Mer  \n",
       "9            Huisnes-sur-Mer  \n",
       "10                   Bauduen  \n",
       "11                      Foix  \n",
       "12                 Collioure  \n",
       "13                      Uzès  \n",
       "14               La Négresse  \n",
       "15                    Cassis  \n",
       "16                    Bayeux  \n",
       "17                 Eguisheim  \n",
       "18                Vieux Lyon  \n",
       "19                    Colmar  \n",
       "20             Aigues-Mortes  \n",
       "21           Aix-en-Provence  \n",
       "22                  Grenoble  \n",
       "23                     Rouen  \n",
       "24                    Amiens  \n",
       "25                 Marseille  \n",
       "26                   Avignon  \n",
       "27           Saint-Hippolyte  \n",
       "28                    Annecy  \n",
       "29               Carcassonne  \n",
       "30                    Larrey  \n",
       "31                  Toulouse  \n",
       "32                 Montauban  \n",
       "33                Strasbourg  \n",
       "34  Quartier du Palais-Royal  "
      ]
     },
     "execution_count": 19,
     "metadata": {},
     "output_type": "execute_result"
    }
   ],
   "source": [
    "# On relance la récupération des coordonnées \n",
    "headers = {\"User-Agent\": \"KayakProject/1.0 (gdleds31@gmail.com)\"}\n",
    "data = []\n",
    "for idx, ville in enumerate(villes):\n",
    "    url = f\"https://nominatim.openstreetmap.org/search?q={ville}&format=json&addressdetails=1&limit=1&polygon_svg=1\"\n",
    "    response = requests.get(url, headers=headers).json()\n",
    "    if response:\n",
    "        data.append({\n",
    "            \"ville\": ville,\n",
    "            \"latitude\": response[0][\"lat\"],\n",
    "            \"longitude\": response[0][\"lon\"]\n",
    "        })\n",
    "\n",
    "df_villes = pd.DataFrame(data)\n",
    "\n",
    "# On crée une colonne id pour chaque ville\n",
    "df_villes['id'] = pd.factorize(df_villes['ville'])[0]\n",
    "\n",
    "# On récupère les données météo pour chaque ville\n",
    "API_KEY = '50354bff210b5943251ba7d75d2024ba'\n",
    "\n",
    "city_data = []\n",
    "for lat, lon in df_villes[[\"latitude\", \"longitude\"]].values:\n",
    "    url = f\"https://api.openweathermap.org/data/2.5/forecast?lat={lat}&lon={lon}&cnt=40&appid={API_KEY}&units=metric&lang=fr\"\n",
    "    response = requests.get(url).json()\n",
    "    if response:\n",
    "        city_data.append({\"ville-1\" : response['city']['name']})\n",
    "city_data = pd.DataFrame(city_data)\n",
    "df_villes1 = pd.concat([df_villes, city_data], axis=1)\n",
    "df_villes1.head(35)\n",
    "\n"
   ]
  },
  {
   "cell_type": "code",
   "execution_count": 20,
   "metadata": {},
   "outputs": [
    {
     "name": "stdout",
     "output_type": "stream",
     "text": [
      "Attention, la ville Le Havre n'est pas cohérente avec Havre-de-Grâce\n",
      "Attention, la ville Nimes n'est pas cohérente avec Nîmes\n",
      "Attention, la ville Saint Malo n'est pas cohérente avec Saint-Malo\n",
      "Attention, la ville Besancon n'est pas cohérente avec Besançon\n",
      "Attention, la ville Bayonne n'est pas cohérente avec Le Limpou\n",
      "Attention, la ville Bormes les Mimosas n'est pas cohérente avec Bormes-les-Mimosas\n",
      "Attention, la ville Saintes Maries de la mer n'est pas cohérente avec Saintes-Maries-de-la-Mer\n",
      "Attention, la ville Mont Saint Michel n'est pas cohérente avec Huisnes-sur-Mer\n",
      "Attention, la ville Gorges du Verdon n'est pas cohérente avec Bauduen\n",
      "Attention, la ville Uzes n'est pas cohérente avec Uzès\n",
      "Attention, la ville Biarritz n'est pas cohérente avec La Négresse\n",
      "Attention, la ville Lyon n'est pas cohérente avec Vieux Lyon\n",
      "Attention, la ville Aigues Mortes n'est pas cohérente avec Aigues-Mortes\n",
      "Attention, la ville Aix en Provence n'est pas cohérente avec Aix-en-Provence\n",
      "Attention, la ville Chateau du Haut Koenigsbourg n'est pas cohérente avec Saint-Hippolyte\n",
      "Attention, la ville Dijon n'est pas cohérente avec Larrey\n",
      "Attention, la ville Paris n'est pas cohérente avec Quartier du Palais-Royal\n"
     ]
    }
   ],
   "source": [
    "# vérifions si nos données villes sont cohérentes\n",
    "for ville in df_villes1['ville']:\n",
    "    if ville == df_villes1['ville-1'].values[df_villes1['ville'] == ville][0]:\n",
    "        pass\n",
    "    else:\n",
    "        print(f\"Attention, la ville {ville} n'est pas cohérente avec {df_villes1['ville-1'].values[df_villes1['ville'] == ville][0]}\")"
   ]
  },
  {
   "cell_type": "markdown",
   "metadata": {},
   "source": [
    "Nous allons récupérer les informations météo sur 5 jours via l’API OpenWeather. Pour chaque jour, nous prendrons uniquement les données de 9h (matin) et de 15h (après-midi). Nous nous intéresserons uniquement à la température maximale, aux précipitations et à la description du temps. Pour chaque type de données, nous créerons de nouvelles colonnes dans notre tableau. Enfin, nous fusionnerons ce tableau avec notre fichier contenant les coordonnées GPS des villes."
   ]
  },
  {
   "cell_type": "code",
   "execution_count": 21,
   "metadata": {},
   "outputs": [],
   "source": [
    "weather_data = []\n",
    "\n",
    "# Boucle sur les villes\n",
    "for lat, lon, city in df_villes[[\"latitude\", \"longitude\",\"ville\"]].values:\n",
    "    url = f\"https://api.openweathermap.org/data/2.5/forecast?lat={lat}&lon={lon}&cnt=40&appid={API_KEY}&units=metric&lang=fr\"\n",
    "    response = requests.get(url).json()\n",
    "    \n",
    "\n",
    "\n",
    "    # Dictionnaire temporaire pour stocker les données par jour\n",
    "    daily_data = {}\n",
    "\n",
    "    for forecast in response[\"list\"]:\n",
    "        date = forecast[\"dt_txt\"].split(\" \")[0]\n",
    "        hour = forecast[\"dt_txt\"].split(\" \")[1]\n",
    "\n",
    "        # On s’intéresse uniquement à 09:00:00 et 15:00:00 pour avoir une météo matin et après midi\n",
    "        if hour == \"09:00:00\" or hour == \"15:00:00\":\n",
    "            temp_max = forecast[\"main\"][\"temp_max\"]\n",
    "            description = forecast[\"weather\"][0][\"description\"]\n",
    "\n",
    "            # Gestion des précipitations\n",
    "            precipitation = 0\n",
    "            if \"rain\" in forecast and \"3h\" in forecast[\"rain\"]:\n",
    "                precipitation = forecast[\"rain\"][\"3h\"]\n",
    "            elif \"snow\" in forecast and \"3h\" in forecast[\"snow\"]:\n",
    "                precipitation = forecast[\"snow\"][\"3h\"]\n",
    "\n",
    "            # Initialisation du dictionnaire si nouveau jour\n",
    "            if date not in daily_data:\n",
    "                daily_data[date] = {\n",
    "                    \"ville\": city,\n",
    "                    \"date\": date,\n",
    "                    \"temp_max_matin\": None,\n",
    "                    \"temp_max_aprem\": None,\n",
    "                    \"precip_matin\": None,\n",
    "                    \"precip_aprem\": None,\n",
    "                    \"desc_matin\": None,\n",
    "                    \"desc_aprem\": None\n",
    "                }\n",
    "\n",
    "            # Remplir selon l’heure\n",
    "            if hour == \"09:00:00\":\n",
    "                daily_data[date][\"temp_max_matin\"] = temp_max\n",
    "                daily_data[date][\"precip_matin\"] = precipitation\n",
    "                daily_data[date][\"desc_matin\"] = description\n",
    "            elif hour == \"15:00:00\":\n",
    "                daily_data[date][\"temp_max_aprem\"] = temp_max\n",
    "                daily_data[date][\"precip_aprem\"] = precipitation\n",
    "                daily_data[date][\"desc_aprem\"] = description\n",
    "\n",
    "    # Ajoute les données du jour au tableau final\n",
    "    weather_data.extend(daily_data.values())\n",
    "\n",
    "# Convertir en DataFrame\n",
    "df_meteo = pd.DataFrame(weather_data)\n",
    "\n",
    "# # Joindre aux infos des villes si besoin\n",
    "# df_ville_meteo = pd.merge(df_villes1, df_meteo, left_on=\"ville\", right_on=\"ville\", how=\"left\")\n",
    "\n"
   ]
  },
  {
   "cell_type": "code",
   "execution_count": 22,
   "metadata": {},
   "outputs": [
    {
     "data": {
      "text/html": [
       "<div>\n",
       "<style scoped>\n",
       "    .dataframe tbody tr th:only-of-type {\n",
       "        vertical-align: middle;\n",
       "    }\n",
       "\n",
       "    .dataframe tbody tr th {\n",
       "        vertical-align: top;\n",
       "    }\n",
       "\n",
       "    .dataframe thead th {\n",
       "        text-align: right;\n",
       "    }\n",
       "</style>\n",
       "<table border=\"1\" class=\"dataframe\">\n",
       "  <thead>\n",
       "    <tr style=\"text-align: right;\">\n",
       "      <th></th>\n",
       "      <th>ville</th>\n",
       "      <th>date</th>\n",
       "      <th>temp_max_matin</th>\n",
       "      <th>temp_max_aprem</th>\n",
       "      <th>precip_matin</th>\n",
       "      <th>precip_aprem</th>\n",
       "      <th>desc_matin</th>\n",
       "      <th>desc_aprem</th>\n",
       "    </tr>\n",
       "  </thead>\n",
       "  <tbody>\n",
       "    <tr>\n",
       "      <th>0</th>\n",
       "      <td>Le Havre</td>\n",
       "      <td>2025-09-25</td>\n",
       "      <td>15.26</td>\n",
       "      <td>15.74</td>\n",
       "      <td>0.0</td>\n",
       "      <td>0.00</td>\n",
       "      <td>ciel dégagé</td>\n",
       "      <td>nuageux</td>\n",
       "    </tr>\n",
       "    <tr>\n",
       "      <th>1</th>\n",
       "      <td>Le Havre</td>\n",
       "      <td>2025-09-26</td>\n",
       "      <td>12.10</td>\n",
       "      <td>14.54</td>\n",
       "      <td>0.0</td>\n",
       "      <td>0.00</td>\n",
       "      <td>couvert</td>\n",
       "      <td>couvert</td>\n",
       "    </tr>\n",
       "    <tr>\n",
       "      <th>2</th>\n",
       "      <td>Le Havre</td>\n",
       "      <td>2025-09-27</td>\n",
       "      <td>12.50</td>\n",
       "      <td>16.03</td>\n",
       "      <td>0.0</td>\n",
       "      <td>0.00</td>\n",
       "      <td>nuageux</td>\n",
       "      <td>couvert</td>\n",
       "    </tr>\n",
       "    <tr>\n",
       "      <th>3</th>\n",
       "      <td>Le Havre</td>\n",
       "      <td>2025-09-28</td>\n",
       "      <td>14.43</td>\n",
       "      <td>15.57</td>\n",
       "      <td>0.0</td>\n",
       "      <td>0.13</td>\n",
       "      <td>couvert</td>\n",
       "      <td>légère pluie</td>\n",
       "    </tr>\n",
       "    <tr>\n",
       "      <th>4</th>\n",
       "      <td>Le Havre</td>\n",
       "      <td>2025-09-29</td>\n",
       "      <td>16.06</td>\n",
       "      <td>16.20</td>\n",
       "      <td>0.0</td>\n",
       "      <td>0.00</td>\n",
       "      <td>ciel dégagé</td>\n",
       "      <td>couvert</td>\n",
       "    </tr>\n",
       "  </tbody>\n",
       "</table>\n",
       "</div>"
      ],
      "text/plain": [
       "      ville        date  temp_max_matin  temp_max_aprem  precip_matin  \\\n",
       "0  Le Havre  2025-09-25           15.26           15.74           0.0   \n",
       "1  Le Havre  2025-09-26           12.10           14.54           0.0   \n",
       "2  Le Havre  2025-09-27           12.50           16.03           0.0   \n",
       "3  Le Havre  2025-09-28           14.43           15.57           0.0   \n",
       "4  Le Havre  2025-09-29           16.06           16.20           0.0   \n",
       "\n",
       "   precip_aprem   desc_matin    desc_aprem  \n",
       "0          0.00  ciel dégagé       nuageux  \n",
       "1          0.00      couvert       couvert  \n",
       "2          0.00      nuageux       couvert  \n",
       "3          0.13      couvert  légère pluie  \n",
       "4          0.00  ciel dégagé       couvert  "
      ]
     },
     "metadata": {},
     "output_type": "display_data"
    },
    {
     "data": {
      "text/plain": [
       "ville             0\n",
       "date              0\n",
       "temp_max_matin    0\n",
       "temp_max_aprem    0\n",
       "precip_matin      0\n",
       "precip_aprem      0\n",
       "desc_matin        0\n",
       "desc_aprem        0\n",
       "dtype: int64"
      ]
     },
     "metadata": {},
     "output_type": "display_data"
    }
   ],
   "source": [
    "# vérification des données fusionnées\n",
    "display(df_meteo.head(5), df_meteo.isna().sum())"
   ]
  },
  {
   "cell_type": "markdown",
   "metadata": {},
   "source": [
    "## Données Hotels\n",
    "Nous devons maintenant récupérer les données des hôtels présents dans chacune des villes de notre liste.\n",
    "Pour cela, nous utilisons un script Python qui va scraper le site Booking.com.\n",
    "Ce script génère un fichier JSON par ville, puis tous ces fichiers sont regroupés et consolidés en un seul fichier CSV."
   ]
  },
  {
   "cell_type": "code",
   "execution_count": null,
   "metadata": {},
   "outputs": [
    {
     "name": "stdout",
     "output_type": "stream",
     "text": [
      "\n",
      "🚀 Lancement batch 1: ['Mont Saint Michel', 'St Malo']\n",
      "\n",
      "2025-09-06 09:42:00 [scrapy.utils.log] INFO: Scrapy 2.13.3 started (bot: scrapybot)\n",
      "2025-09-06 09:42:00 [scrapy.utils.log] INFO: Versions:\n",
      "{'lxml': '6.0.1',\n",
      " 'libxml2': '2.14.5',\n",
      " 'cssselect': '1.3.0',\n",
      " 'parsel': '1.10.0',\n",
      " 'w3lib': '2.3.1',\n",
      " 'Twisted': '25.5.0',\n",
      " 'Python': '3.10.18 (main, Jun  5 2025, 13:14:17) [GCC 11.2.0]',\n",
      " 'pyOpenSSL': '25.1.0 (OpenSSL 3.5.2 5 Aug 2025)',\n",
      " 'cryptography': '45.0.7',\n",
      " 'Platform': 'Linux-5.15.167.4-microsoft-standard-WSL2-x86_64-with-glibc2.39'}\n",
      "2025-09-06 09:42:00 [scrapy.addons] INFO: Enabled addons:\n",
      "[]\n",
      "2025-09-06 09:42:00 [scrapy.extensions.telnet] INFO: Telnet Password: e6a679d5ea30b424\n",
      "2025-09-06 09:42:00 [scrapy.middleware] INFO: Enabled extensions:\n",
      "['scrapy.extensions.corestats.CoreStats',\n",
      " 'scrapy.extensions.telnet.TelnetConsole',\n",
      " 'scrapy.extensions.memusage.MemoryUsage',\n",
      " 'scrapy.extensions.logstats.LogStats',\n",
      " 'scrapy.extensions.throttle.AutoThrottle']\n",
      "2025-09-06 09:42:00 [scrapy.crawler] INFO: Overridden settings:\n",
      "{'AUTOTHROTTLE_ENABLED': True,\n",
      " 'AUTOTHROTTLE_MAX_DELAY': 10,\n",
      " 'AUTOTHROTTLE_START_DELAY': 1,\n",
      " 'DOWNLOAD_DELAY': 2.0,\n",
      " 'LOG_LEVEL': 'INFO',\n",
      " 'RETRY_TIMES': 3,\n",
      " 'USER_AGENT': 'Mozilla/5.0 (Windows NT 10.0; Win64; x64) AppleWebKit/537.36 '\n",
      "               '(KHTML, like Gecko) Chrome/115.0.0.0 Safari/537.36'}\n",
      "2025-09-06 09:42:00 [scrapy.middleware] INFO: Enabled downloader middlewares:\n",
      "['scrapy.downloadermiddlewares.offsite.OffsiteMiddleware',\n",
      " 'scrapy.downloadermiddlewares.httpauth.HttpAuthMiddleware',\n",
      " 'scrapy.downloadermiddlewares.downloadtimeout.DownloadTimeoutMiddleware',\n",
      " 'scrapy.downloadermiddlewares.defaultheaders.DefaultHeadersMiddleware',\n",
      " 'scrapy.downloadermiddlewares.useragent.UserAgentMiddleware',\n",
      " 'scrapy.downloadermiddlewares.retry.RetryMiddleware',\n",
      " 'scrapy.downloadermiddlewares.redirect.MetaRefreshMiddleware',\n",
      " 'scrapy.downloadermiddlewares.httpcompression.HttpCompressionMiddleware',\n",
      " 'scrapy.downloadermiddlewares.redirect.RedirectMiddleware',\n",
      " 'scrapy.downloadermiddlewares.cookies.CookiesMiddleware',\n",
      " 'scrapy.downloadermiddlewares.httpproxy.HttpProxyMiddleware',\n",
      " 'scrapy.downloadermiddlewares.stats.DownloaderStats']\n",
      "2025-09-06 09:42:00 [scrapy.middleware] INFO: Enabled spider middlewares:\n",
      "['scrapy.spidermiddlewares.start.StartSpiderMiddleware',\n",
      " 'scrapy.spidermiddlewares.httperror.HttpErrorMiddleware',\n",
      " 'scrapy.spidermiddlewares.referer.RefererMiddleware',\n",
      " 'scrapy.spidermiddlewares.urllength.UrlLengthMiddleware',\n",
      " 'scrapy.spidermiddlewares.depth.DepthMiddleware']\n",
      "2025-09-06 09:42:00 [scrapy.middleware] INFO: Enabled item pipelines:\n",
      "[]\n",
      "2025-09-06 09:42:00 [scrapy.core.engine] INFO: Spider opened\n",
      "2025-09-06 09:42:00 [py.warnings] WARNING: /home/m_bar/miniconda3/envs/kayak/lib/python3.10/site-packages/scrapy/core/spidermw.py:433: ScrapyDeprecationWarning: __main__.BookingSpider defines the deprecated start_requests() method. start_requests() has been deprecated in favor of a new method, start(), to support asynchronous code execution. start_requests() will stop being called in a future version of Scrapy. If you use Scrapy 2.13 or higher only, replace start_requests() with start(); note that start() is a coroutine (async def). If you need to maintain compatibility with lower Scrapy versions, when overriding start_requests() in a spider class, override start() as well; you can use super() to reuse the inherited start() implementation without copy-pasting. See the release notes of Scrapy 2.13 for details: https://docs.scrapy.org/en/2.13/news.html\n",
      "  warn(\n",
      "\n",
      "2025-09-06 09:42:00 [scrapy.extensions.logstats] INFO: Crawled 0 pages (at 0 pages/min), scraped 0 items (at 0 items/min)\n",
      "2025-09-06 09:42:00 [scrapy.extensions.telnet] INFO: Telnet console listening on 127.0.0.1:6023\n",
      "2025-09-06 09:42:00 [scrapy-playwright] INFO: Starting download handler\n",
      "2025-09-06 09:42:00 [scrapy-playwright] INFO: Starting download handler\n",
      "2025-09-06 09:42:00 [scrapy-playwright] INFO: Launching browser chromium\n",
      "2025-09-06 09:42:00 [scrapy-playwright] INFO: Browser chromium launched\n",
      "2025-09-06 09:43:00 [scrapy.extensions.logstats] INFO: Crawled 14 pages (at 14 pages/min), scraped 0 items (at 0 items/min)\n",
      "2025-09-06 09:44:00 [scrapy.extensions.logstats] INFO: Crawled 28 pages (at 14 pages/min), scraped 0 items (at 0 items/min)\n",
      "2025-09-06 09:45:00 [scrapy.extensions.logstats] INFO: Crawled 42 pages (at 14 pages/min), scraped 0 items (at 0 items/min)\n",
      "2025-09-06 09:45:45 [scrapy.core.engine] INFO: Closing spider (finished)\n",
      "2025-09-06 09:45:45 [booking] INFO: Résultats sauvegardés dans booking_results/results_mont_saint_michel.json\n",
      "2025-09-06 09:45:45 [booking] INFO: Résultats sauvegardés dans booking_results/results_st_malo.json\n",
      "2025-09-06 09:45:45 [scrapy.statscollectors] INFO: Dumping Scrapy stats:\n",
      "{'downloader/request_bytes': 40568,\n",
      " 'downloader/request_count': 52,\n",
      " 'downloader/request_method_count/GET': 52,\n",
      " 'downloader/response_bytes': 81451938,\n",
      " 'downloader/response_count': 52,\n",
      " 'downloader/response_status_count/200': 52,\n",
      " 'dupefilter/filtered': 50,\n",
      " 'elapsed_time_seconds': 225.415752,\n",
      " 'finish_reason': 'finished',\n",
      " 'finish_time': datetime.datetime(2025, 9, 6, 7, 45, 45, 634722, tzinfo=datetime.timezone.utc),\n",
      " 'items_per_minute': 0.0,\n",
      " 'log_count/INFO': 19,\n",
      " 'log_count/WARNING': 1,\n",
      " 'memusage/max': 164474880,\n",
      " 'memusage/startup': 63451136,\n",
      " 'playwright/browser_count': 1,\n",
      " 'playwright/context_count': 1,\n",
      " 'playwright/context_count/max_concurrent': 1,\n",
      " 'playwright/context_count/persistent/False': 1,\n",
      " 'playwright/context_count/remote/False': 1,\n",
      " 'playwright/page_count': 52,\n",
      " 'playwright/page_count/closed': 52,\n",
      " 'playwright/page_count/max_concurrent': 3,\n",
      " 'playwright/request_count': 14470,\n",
      " 'playwright/request_count/method/GET': 13800,\n",
      " 'playwright/request_count/method/POST': 670,\n",
      " 'playwright/request_count/navigation': 52,\n",
      " 'playwright/request_count/resource_type/document': 52,\n",
      " 'playwright/request_count/resource_type/fetch': 637,\n",
      " 'playwright/request_count/resource_type/font': 154,\n",
      " 'playwright/request_count/resource_type/image': 1558,\n",
      " 'playwright/request_count/resource_type/other': 266,\n",
      " 'playwright/request_count/resource_type/ping': 97,\n",
      " 'playwright/request_count/resource_type/script': 6999,\n",
      " 'playwright/request_count/resource_type/stylesheet': 4239,\n",
      " 'playwright/request_count/resource_type/xhr': 468,\n",
      " 'playwright/response_count': 13971,\n",
      " 'playwright/response_count/method/GET': 13472,\n",
      " 'playwright/response_count/method/POST': 499,\n",
      " 'playwright/response_count/resource_type/document': 52,\n",
      " 'playwright/response_count/resource_type/fetch': 403,\n",
      " 'playwright/response_count/resource_type/font': 154,\n",
      " 'playwright/response_count/resource_type/image': 1390,\n",
      " 'playwright/response_count/resource_type/other': 261,\n",
      " 'playwright/response_count/resource_type/ping': 80,\n",
      " 'playwright/response_count/resource_type/script': 6982,\n",
      " 'playwright/response_count/resource_type/stylesheet': 4219,\n",
      " 'playwright/response_count/resource_type/xhr': 430,\n",
      " 'request_depth_max': 1,\n",
      " 'response_received_count': 52,\n",
      " 'responses_per_minute': 13.866666666666667,\n",
      " 'scheduler/dequeued': 52,\n",
      " 'scheduler/dequeued/memory': 52,\n",
      " 'scheduler/enqueued': 52,\n",
      " 'scheduler/enqueued/memory': 52,\n",
      " 'start_time': datetime.datetime(2025, 9, 6, 7, 42, 0, 218970, tzinfo=datetime.timezone.utc)}\n",
      "2025-09-06 09:45:45 [scrapy.core.engine] INFO: Spider closed (finished)\n",
      "2025-09-06 09:45:45 [scrapy-playwright] INFO: Closing download handler\n",
      "2025-09-06 09:45:45 [scrapy-playwright] INFO: Closing download handler\n",
      "2025-09-06 09:45:45 [scrapy-playwright] INFO: Closing browser\n",
      "⏳ Pause 30s avant le prochain batch...\n",
      "\n",
      "🚀 Lancement batch 2: ['Bayeux', 'Le Havre']\n",
      "\n",
      "2025-09-06 09:46:17 [scrapy.utils.log] INFO: Scrapy 2.13.3 started (bot: scrapybot)\n",
      "2025-09-06 09:46:17 [scrapy.utils.log] INFO: Versions:\n",
      "{'lxml': '6.0.1',\n",
      " 'libxml2': '2.14.5',\n",
      " 'cssselect': '1.3.0',\n",
      " 'parsel': '1.10.0',\n",
      " 'w3lib': '2.3.1',\n",
      " 'Twisted': '25.5.0',\n",
      " 'Python': '3.10.18 (main, Jun  5 2025, 13:14:17) [GCC 11.2.0]',\n",
      " 'pyOpenSSL': '25.1.0 (OpenSSL 3.5.2 5 Aug 2025)',\n",
      " 'cryptography': '45.0.7',\n",
      " 'Platform': 'Linux-5.15.167.4-microsoft-standard-WSL2-x86_64-with-glibc2.39'}\n",
      "2025-09-06 09:46:17 [scrapy.addons] INFO: Enabled addons:\n",
      "[]\n",
      "2025-09-06 09:46:17 [scrapy.extensions.telnet] INFO: Telnet Password: 80afa00a1c395e83\n",
      "2025-09-06 09:46:17 [scrapy.middleware] INFO: Enabled extensions:\n",
      "['scrapy.extensions.corestats.CoreStats',\n",
      " 'scrapy.extensions.telnet.TelnetConsole',\n",
      " 'scrapy.extensions.memusage.MemoryUsage',\n",
      " 'scrapy.extensions.logstats.LogStats',\n",
      " 'scrapy.extensions.throttle.AutoThrottle']\n",
      "2025-09-06 09:46:17 [scrapy.crawler] INFO: Overridden settings:\n",
      "{'AUTOTHROTTLE_ENABLED': True,\n",
      " 'AUTOTHROTTLE_MAX_DELAY': 10,\n",
      " 'AUTOTHROTTLE_START_DELAY': 1,\n",
      " 'DOWNLOAD_DELAY': 2.0,\n",
      " 'LOG_LEVEL': 'INFO',\n",
      " 'RETRY_TIMES': 3,\n",
      " 'USER_AGENT': 'Mozilla/5.0 (Windows NT 10.0; Win64; x64) AppleWebKit/537.36 '\n",
      "               '(KHTML, like Gecko) Chrome/115.0.0.0 Safari/537.36'}\n",
      "2025-09-06 09:46:18 [scrapy.middleware] INFO: Enabled downloader middlewares:\n",
      "['scrapy.downloadermiddlewares.offsite.OffsiteMiddleware',\n",
      " 'scrapy.downloadermiddlewares.httpauth.HttpAuthMiddleware',\n",
      " 'scrapy.downloadermiddlewares.downloadtimeout.DownloadTimeoutMiddleware',\n",
      " 'scrapy.downloadermiddlewares.defaultheaders.DefaultHeadersMiddleware',\n",
      " 'scrapy.downloadermiddlewares.useragent.UserAgentMiddleware',\n",
      " 'scrapy.downloadermiddlewares.retry.RetryMiddleware',\n",
      " 'scrapy.downloadermiddlewares.redirect.MetaRefreshMiddleware',\n",
      " 'scrapy.downloadermiddlewares.httpcompression.HttpCompressionMiddleware',\n",
      " 'scrapy.downloadermiddlewares.redirect.RedirectMiddleware',\n",
      " 'scrapy.downloadermiddlewares.cookies.CookiesMiddleware',\n",
      " 'scrapy.downloadermiddlewares.httpproxy.HttpProxyMiddleware',\n",
      " 'scrapy.downloadermiddlewares.stats.DownloaderStats']\n",
      "2025-09-06 09:46:18 [scrapy.middleware] INFO: Enabled spider middlewares:\n",
      "['scrapy.spidermiddlewares.start.StartSpiderMiddleware',\n",
      " 'scrapy.spidermiddlewares.httperror.HttpErrorMiddleware',\n",
      " 'scrapy.spidermiddlewares.referer.RefererMiddleware',\n",
      " 'scrapy.spidermiddlewares.urllength.UrlLengthMiddleware',\n",
      " 'scrapy.spidermiddlewares.depth.DepthMiddleware']\n",
      "2025-09-06 09:46:18 [scrapy.middleware] INFO: Enabled item pipelines:\n",
      "[]\n",
      "2025-09-06 09:46:18 [scrapy.core.engine] INFO: Spider opened\n",
      "2025-09-06 09:46:18 [py.warnings] WARNING: /home/m_bar/miniconda3/envs/kayak/lib/python3.10/site-packages/scrapy/core/spidermw.py:433: ScrapyDeprecationWarning: __main__.BookingSpider defines the deprecated start_requests() method. start_requests() has been deprecated in favor of a new method, start(), to support asynchronous code execution. start_requests() will stop being called in a future version of Scrapy. If you use Scrapy 2.13 or higher only, replace start_requests() with start(); note that start() is a coroutine (async def). If you need to maintain compatibility with lower Scrapy versions, when overriding start_requests() in a spider class, override start() as well; you can use super() to reuse the inherited start() implementation without copy-pasting. See the release notes of Scrapy 2.13 for details: https://docs.scrapy.org/en/2.13/news.html\n",
      "  warn(\n",
      "\n",
      "2025-09-06 09:46:18 [scrapy.extensions.logstats] INFO: Crawled 0 pages (at 0 pages/min), scraped 0 items (at 0 items/min)\n",
      "2025-09-06 09:46:18 [scrapy.extensions.telnet] INFO: Telnet console listening on 127.0.0.1:6023\n",
      "2025-09-06 09:46:18 [scrapy-playwright] INFO: Starting download handler\n",
      "2025-09-06 09:46:18 [scrapy-playwright] INFO: Starting download handler\n",
      "2025-09-06 09:46:18 [scrapy-playwright] INFO: Launching browser chromium\n",
      "2025-09-06 09:46:18 [scrapy-playwright] INFO: Browser chromium launched\n",
      "2025-09-06 09:47:18 [scrapy.extensions.logstats] INFO: Crawled 15 pages (at 15 pages/min), scraped 0 items (at 0 items/min)\n",
      "2025-09-06 09:48:18 [scrapy.extensions.logstats] INFO: Crawled 30 pages (at 15 pages/min), scraped 0 items (at 0 items/min)\n",
      "2025-09-06 09:49:18 [scrapy.extensions.logstats] INFO: Crawled 43 pages (at 13 pages/min), scraped 0 items (at 0 items/min)\n",
      "2025-09-06 09:49:52 [scrapy.core.engine] INFO: Closing spider (finished)\n",
      "2025-09-06 09:49:52 [booking] INFO: Résultats sauvegardés dans booking_results/results_bayeux.json\n",
      "2025-09-06 09:49:52 [booking] INFO: Résultats sauvegardés dans booking_results/results_le_havre.json\n",
      "2025-09-06 09:49:52 [scrapy.statscollectors] INFO: Dumping Scrapy stats:\n",
      "{'downloader/request_bytes': 40717,\n",
      " 'downloader/request_count': 52,\n",
      " 'downloader/request_method_count/GET': 52,\n",
      " 'downloader/response_bytes': 81189705,\n",
      " 'downloader/response_count': 52,\n",
      " 'downloader/response_status_count/200': 51,\n",
      " 'downloader/response_status_count/202': 1,\n",
      " 'dupefilter/filtered': 50,\n",
      " 'elapsed_time_seconds': 214.318804,\n",
      " 'finish_reason': 'finished',\n",
      " 'finish_time': datetime.datetime(2025, 9, 6, 7, 49, 52, 348672, tzinfo=datetime.timezone.utc),\n",
      " 'items_per_minute': 0.0,\n",
      " 'log_count/INFO': 19,\n",
      " 'log_count/WARNING': 1,\n",
      " 'memusage/max': 145039360,\n",
      " 'memusage/startup': 63524864,\n",
      " 'playwright/browser_count': 1,\n",
      " 'playwright/context_count': 1,\n",
      " 'playwright/context_count/max_concurrent': 1,\n",
      " 'playwright/context_count/persistent/False': 1,\n",
      " 'playwright/context_count/remote/False': 1,\n",
      " 'playwright/page_count': 52,\n",
      " 'playwright/page_count/closed': 52,\n",
      " 'playwright/page_count/max_concurrent': 2,\n",
      " 'playwright/request_count': 14233,\n",
      " 'playwright/request_count/method/GET': 13607,\n",
      " 'playwright/request_count/method/POST': 626,\n",
      " 'playwright/request_count/navigation': 53,\n",
      " 'playwright/request_count/resource_type/document': 53,\n",
      " 'playwright/request_count/resource_type/fetch': 652,\n",
      " 'playwright/request_count/resource_type/font': 154,\n",
      " 'playwright/request_count/resource_type/image': 1485,\n",
      " 'playwright/request_count/resource_type/other': 266,\n",
      " 'playwright/request_count/resource_type/ping': 101,\n",
      " 'playwright/request_count/resource_type/script': 6910,\n",
      " 'playwright/request_count/resource_type/stylesheet': 4183,\n",
      " 'playwright/request_count/resource_type/xhr': 429,\n",
      " 'playwright/response_count': 13761,\n",
      " 'playwright/response_count/method/GET': 13288,\n",
      " 'playwright/response_count/method/POST': 473,\n",
      " 'playwright/response_count/resource_type/document': 53,\n",
      " 'playwright/response_count/resource_type/fetch': 465,\n",
      " 'playwright/response_count/resource_type/font': 154,\n",
      " 'playwright/response_count/resource_type/image': 1308,\n",
      " 'playwright/response_count/resource_type/other': 260,\n",
      " 'playwright/response_count/resource_type/ping': 69,\n",
      " 'playwright/response_count/resource_type/script': 6899,\n",
      " 'playwright/response_count/resource_type/stylesheet': 4162,\n",
      " 'playwright/response_count/resource_type/xhr': 391,\n",
      " 'request_depth_max': 1,\n",
      " 'response_received_count': 52,\n",
      " 'responses_per_minute': 14.579439252336448,\n",
      " 'scheduler/dequeued': 52,\n",
      " 'scheduler/dequeued/memory': 52,\n",
      " 'scheduler/enqueued': 52,\n",
      " 'scheduler/enqueued/memory': 52,\n",
      " 'start_time': datetime.datetime(2025, 9, 6, 7, 46, 18, 29868, tzinfo=datetime.timezone.utc)}\n",
      "2025-09-06 09:49:52 [scrapy.core.engine] INFO: Spider closed (finished)\n",
      "2025-09-06 09:49:52 [scrapy-playwright] INFO: Closing download handler\n",
      "2025-09-06 09:49:52 [scrapy-playwright] INFO: Closing download handler\n",
      "2025-09-06 09:49:52 [scrapy-playwright] INFO: Closing browser\n",
      "⏳ Pause 30s avant le prochain batch...\n",
      "\n",
      "🚀 Lancement batch 3: ['Rouen', 'Paris']\n",
      "\n",
      "2025-09-06 09:50:24 [scrapy.utils.log] INFO: Scrapy 2.13.3 started (bot: scrapybot)\n",
      "2025-09-06 09:50:24 [scrapy.utils.log] INFO: Versions:\n",
      "{'lxml': '6.0.1',\n",
      " 'libxml2': '2.14.5',\n",
      " 'cssselect': '1.3.0',\n",
      " 'parsel': '1.10.0',\n",
      " 'w3lib': '2.3.1',\n",
      " 'Twisted': '25.5.0',\n",
      " 'Python': '3.10.18 (main, Jun  5 2025, 13:14:17) [GCC 11.2.0]',\n",
      " 'pyOpenSSL': '25.1.0 (OpenSSL 3.5.2 5 Aug 2025)',\n",
      " 'cryptography': '45.0.7',\n",
      " 'Platform': 'Linux-5.15.167.4-microsoft-standard-WSL2-x86_64-with-glibc2.39'}\n",
      "2025-09-06 09:50:24 [scrapy.addons] INFO: Enabled addons:\n",
      "[]\n",
      "2025-09-06 09:50:24 [scrapy.extensions.telnet] INFO: Telnet Password: 923505d0f1c7b476\n",
      "2025-09-06 09:50:24 [scrapy.middleware] INFO: Enabled extensions:\n",
      "['scrapy.extensions.corestats.CoreStats',\n",
      " 'scrapy.extensions.telnet.TelnetConsole',\n",
      " 'scrapy.extensions.memusage.MemoryUsage',\n",
      " 'scrapy.extensions.logstats.LogStats',\n",
      " 'scrapy.extensions.throttle.AutoThrottle']\n",
      "2025-09-06 09:50:24 [scrapy.crawler] INFO: Overridden settings:\n",
      "{'AUTOTHROTTLE_ENABLED': True,\n",
      " 'AUTOTHROTTLE_MAX_DELAY': 10,\n",
      " 'AUTOTHROTTLE_START_DELAY': 1,\n",
      " 'DOWNLOAD_DELAY': 2.0,\n",
      " 'LOG_LEVEL': 'INFO',\n",
      " 'RETRY_TIMES': 3,\n",
      " 'USER_AGENT': 'Mozilla/5.0 (Windows NT 10.0; Win64; x64) AppleWebKit/537.36 '\n",
      "               '(KHTML, like Gecko) Chrome/115.0.0.0 Safari/537.36'}\n",
      "2025-09-06 09:50:24 [scrapy.middleware] INFO: Enabled downloader middlewares:\n",
      "['scrapy.downloadermiddlewares.offsite.OffsiteMiddleware',\n",
      " 'scrapy.downloadermiddlewares.httpauth.HttpAuthMiddleware',\n",
      " 'scrapy.downloadermiddlewares.downloadtimeout.DownloadTimeoutMiddleware',\n",
      " 'scrapy.downloadermiddlewares.defaultheaders.DefaultHeadersMiddleware',\n",
      " 'scrapy.downloadermiddlewares.useragent.UserAgentMiddleware',\n",
      " 'scrapy.downloadermiddlewares.retry.RetryMiddleware',\n",
      " 'scrapy.downloadermiddlewares.redirect.MetaRefreshMiddleware',\n",
      " 'scrapy.downloadermiddlewares.httpcompression.HttpCompressionMiddleware',\n",
      " 'scrapy.downloadermiddlewares.redirect.RedirectMiddleware',\n",
      " 'scrapy.downloadermiddlewares.cookies.CookiesMiddleware',\n",
      " 'scrapy.downloadermiddlewares.httpproxy.HttpProxyMiddleware',\n",
      " 'scrapy.downloadermiddlewares.stats.DownloaderStats']\n",
      "2025-09-06 09:50:24 [scrapy.middleware] INFO: Enabled spider middlewares:\n",
      "['scrapy.spidermiddlewares.start.StartSpiderMiddleware',\n",
      " 'scrapy.spidermiddlewares.httperror.HttpErrorMiddleware',\n",
      " 'scrapy.spidermiddlewares.referer.RefererMiddleware',\n",
      " 'scrapy.spidermiddlewares.urllength.UrlLengthMiddleware',\n",
      " 'scrapy.spidermiddlewares.depth.DepthMiddleware']\n",
      "2025-09-06 09:50:24 [scrapy.middleware] INFO: Enabled item pipelines:\n",
      "[]\n",
      "2025-09-06 09:50:24 [scrapy.core.engine] INFO: Spider opened\n",
      "2025-09-06 09:50:24 [py.warnings] WARNING: /home/m_bar/miniconda3/envs/kayak/lib/python3.10/site-packages/scrapy/core/spidermw.py:433: ScrapyDeprecationWarning: __main__.BookingSpider defines the deprecated start_requests() method. start_requests() has been deprecated in favor of a new method, start(), to support asynchronous code execution. start_requests() will stop being called in a future version of Scrapy. If you use Scrapy 2.13 or higher only, replace start_requests() with start(); note that start() is a coroutine (async def). If you need to maintain compatibility with lower Scrapy versions, when overriding start_requests() in a spider class, override start() as well; you can use super() to reuse the inherited start() implementation without copy-pasting. See the release notes of Scrapy 2.13 for details: https://docs.scrapy.org/en/2.13/news.html\n",
      "  warn(\n",
      "\n",
      "2025-09-06 09:50:24 [scrapy.extensions.logstats] INFO: Crawled 0 pages (at 0 pages/min), scraped 0 items (at 0 items/min)\n",
      "2025-09-06 09:50:24 [scrapy.extensions.telnet] INFO: Telnet console listening on 127.0.0.1:6023\n",
      "2025-09-06 09:50:24 [scrapy-playwright] INFO: Starting download handler\n",
      "2025-09-06 09:50:24 [scrapy-playwright] INFO: Starting download handler\n",
      "2025-09-06 09:50:25 [scrapy-playwright] INFO: Launching browser chromium\n",
      "2025-09-06 09:50:25 [scrapy-playwright] INFO: Browser chromium launched\n",
      "2025-09-06 09:51:24 [scrapy.extensions.logstats] INFO: Crawled 14 pages (at 14 pages/min), scraped 0 items (at 0 items/min)\n",
      "2025-09-06 09:52:24 [scrapy.extensions.logstats] INFO: Crawled 29 pages (at 15 pages/min), scraped 0 items (at 0 items/min)\n",
      "2025-09-06 09:53:24 [scrapy.extensions.logstats] INFO: Crawled 42 pages (at 13 pages/min), scraped 0 items (at 0 items/min)\n",
      "2025-09-06 09:54:09 [scrapy.core.engine] INFO: Closing spider (finished)\n",
      "2025-09-06 09:54:09 [booking] INFO: Résultats sauvegardés dans booking_results/results_rouen.json\n",
      "2025-09-06 09:54:09 [booking] INFO: Résultats sauvegardés dans booking_results/results_paris.json\n",
      "2025-09-06 09:54:09 [scrapy.statscollectors] INFO: Dumping Scrapy stats:\n",
      "{'downloader/request_bytes': 39709,\n",
      " 'downloader/request_count': 52,\n",
      " 'downloader/request_method_count/GET': 52,\n",
      " 'downloader/response_bytes': 80923012,\n",
      " 'downloader/response_count': 52,\n",
      " 'downloader/response_status_count/200': 52,\n",
      " 'dupefilter/filtered': 50,\n",
      " 'elapsed_time_seconds': 224.253431,\n",
      " 'finish_reason': 'finished',\n",
      " 'finish_time': datetime.datetime(2025, 9, 6, 7, 54, 9, 149146, tzinfo=datetime.timezone.utc),\n",
      " 'items_per_minute': 0.0,\n",
      " 'log_count/INFO': 19,\n",
      " 'log_count/WARNING': 1,\n",
      " 'memusage/max': 152301568,\n",
      " 'memusage/startup': 63688704,\n",
      " 'playwright/browser_count': 1,\n",
      " 'playwright/context_count': 1,\n",
      " 'playwright/context_count/max_concurrent': 1,\n",
      " 'playwright/context_count/persistent/False': 1,\n",
      " 'playwright/context_count/remote/False': 1,\n",
      " 'playwright/page_count': 52,\n",
      " 'playwright/page_count/closed': 52,\n",
      " 'playwright/page_count/max_concurrent': 2,\n",
      " 'playwright/request_count': 14309,\n",
      " 'playwright/request_count/method/GET': 13690,\n",
      " 'playwright/request_count/method/POST': 619,\n",
      " 'playwright/request_count/navigation': 52,\n",
      " 'playwright/request_count/resource_type/document': 52,\n",
      " 'playwright/request_count/resource_type/fetch': 646,\n",
      " 'playwright/request_count/resource_type/font': 154,\n",
      " 'playwright/request_count/resource_type/image': 1493,\n",
      " 'playwright/request_count/resource_type/other': 266,\n",
      " 'playwright/request_count/resource_type/ping': 100,\n",
      " 'playwright/request_count/resource_type/script': 6996,\n",
      " 'playwright/request_count/resource_type/stylesheet': 4170,\n",
      " 'playwright/request_count/resource_type/xhr': 432,\n",
      " 'playwright/response_count': 13990,\n",
      " 'playwright/response_count/method/GET': 13505,\n",
      " 'playwright/response_count/method/POST': 485,\n",
      " 'playwright/response_count/resource_type/document': 52,\n",
      " 'playwright/response_count/resource_type/fetch': 471,\n",
      " 'playwright/response_count/resource_type/font': 154,\n",
      " 'playwright/response_count/resource_type/image': 1445,\n",
      " 'playwright/response_count/resource_type/other': 262,\n",
      " 'playwright/response_count/resource_type/ping': 70,\n",
      " 'playwright/response_count/resource_type/script': 6986,\n",
      " 'playwright/response_count/resource_type/stylesheet': 4152,\n",
      " 'playwright/response_count/resource_type/xhr': 398,\n",
      " 'request_depth_max': 1,\n",
      " 'response_received_count': 52,\n",
      " 'responses_per_minute': 13.928571428571429,\n",
      " 'scheduler/dequeued': 52,\n",
      " 'scheduler/dequeued/memory': 52,\n",
      " 'scheduler/enqueued': 52,\n",
      " 'scheduler/enqueued/memory': 52,\n",
      " 'start_time': datetime.datetime(2025, 9, 6, 7, 50, 24, 895715, tzinfo=datetime.timezone.utc)}\n",
      "2025-09-06 09:54:09 [scrapy.core.engine] INFO: Spider closed (finished)\n",
      "2025-09-06 09:54:09 [scrapy-playwright] INFO: Closing download handler\n",
      "2025-09-06 09:54:09 [scrapy-playwright] INFO: Closing download handler\n",
      "2025-09-06 09:54:09 [scrapy-playwright] INFO: Closing browser\n",
      "⏳ Pause 30s avant le prochain batch...\n",
      "\n",
      "🚀 Lancement batch 4: ['Amiens', 'Lille']\n",
      "\n",
      "2025-09-06 09:54:41 [scrapy.utils.log] INFO: Scrapy 2.13.3 started (bot: scrapybot)\n",
      "2025-09-06 09:54:41 [scrapy.utils.log] INFO: Versions:\n",
      "{'lxml': '6.0.1',\n",
      " 'libxml2': '2.14.5',\n",
      " 'cssselect': '1.3.0',\n",
      " 'parsel': '1.10.0',\n",
      " 'w3lib': '2.3.1',\n",
      " 'Twisted': '25.5.0',\n",
      " 'Python': '3.10.18 (main, Jun  5 2025, 13:14:17) [GCC 11.2.0]',\n",
      " 'pyOpenSSL': '25.1.0 (OpenSSL 3.5.2 5 Aug 2025)',\n",
      " 'cryptography': '45.0.7',\n",
      " 'Platform': 'Linux-5.15.167.4-microsoft-standard-WSL2-x86_64-with-glibc2.39'}\n",
      "2025-09-06 09:54:41 [scrapy.addons] INFO: Enabled addons:\n",
      "[]\n",
      "2025-09-06 09:54:41 [scrapy.extensions.telnet] INFO: Telnet Password: 50f39f0bd99e340c\n",
      "2025-09-06 09:54:41 [scrapy.middleware] INFO: Enabled extensions:\n",
      "['scrapy.extensions.corestats.CoreStats',\n",
      " 'scrapy.extensions.telnet.TelnetConsole',\n",
      " 'scrapy.extensions.memusage.MemoryUsage',\n",
      " 'scrapy.extensions.logstats.LogStats',\n",
      " 'scrapy.extensions.throttle.AutoThrottle']\n",
      "2025-09-06 09:54:41 [scrapy.crawler] INFO: Overridden settings:\n",
      "{'AUTOTHROTTLE_ENABLED': True,\n",
      " 'AUTOTHROTTLE_MAX_DELAY': 10,\n",
      " 'AUTOTHROTTLE_START_DELAY': 1,\n",
      " 'DOWNLOAD_DELAY': 2.0,\n",
      " 'LOG_LEVEL': 'INFO',\n",
      " 'RETRY_TIMES': 3,\n",
      " 'USER_AGENT': 'Mozilla/5.0 (Windows NT 10.0; Win64; x64) AppleWebKit/537.36 '\n",
      "               '(KHTML, like Gecko) Chrome/115.0.0.0 Safari/537.36'}\n",
      "2025-09-06 09:54:41 [scrapy.middleware] INFO: Enabled downloader middlewares:\n",
      "['scrapy.downloadermiddlewares.offsite.OffsiteMiddleware',\n",
      " 'scrapy.downloadermiddlewares.httpauth.HttpAuthMiddleware',\n",
      " 'scrapy.downloadermiddlewares.downloadtimeout.DownloadTimeoutMiddleware',\n",
      " 'scrapy.downloadermiddlewares.defaultheaders.DefaultHeadersMiddleware',\n",
      " 'scrapy.downloadermiddlewares.useragent.UserAgentMiddleware',\n",
      " 'scrapy.downloadermiddlewares.retry.RetryMiddleware',\n",
      " 'scrapy.downloadermiddlewares.redirect.MetaRefreshMiddleware',\n",
      " 'scrapy.downloadermiddlewares.httpcompression.HttpCompressionMiddleware',\n",
      " 'scrapy.downloadermiddlewares.redirect.RedirectMiddleware',\n",
      " 'scrapy.downloadermiddlewares.cookies.CookiesMiddleware',\n",
      " 'scrapy.downloadermiddlewares.httpproxy.HttpProxyMiddleware',\n",
      " 'scrapy.downloadermiddlewares.stats.DownloaderStats']\n",
      "2025-09-06 09:54:41 [scrapy.middleware] INFO: Enabled spider middlewares:\n",
      "['scrapy.spidermiddlewares.start.StartSpiderMiddleware',\n",
      " 'scrapy.spidermiddlewares.httperror.HttpErrorMiddleware',\n",
      " 'scrapy.spidermiddlewares.referer.RefererMiddleware',\n",
      " 'scrapy.spidermiddlewares.urllength.UrlLengthMiddleware',\n",
      " 'scrapy.spidermiddlewares.depth.DepthMiddleware']\n",
      "2025-09-06 09:54:41 [scrapy.middleware] INFO: Enabled item pipelines:\n",
      "[]\n",
      "2025-09-06 09:54:41 [scrapy.core.engine] INFO: Spider opened\n",
      "2025-09-06 09:54:41 [py.warnings] WARNING: /home/m_bar/miniconda3/envs/kayak/lib/python3.10/site-packages/scrapy/core/spidermw.py:433: ScrapyDeprecationWarning: __main__.BookingSpider defines the deprecated start_requests() method. start_requests() has been deprecated in favor of a new method, start(), to support asynchronous code execution. start_requests() will stop being called in a future version of Scrapy. If you use Scrapy 2.13 or higher only, replace start_requests() with start(); note that start() is a coroutine (async def). If you need to maintain compatibility with lower Scrapy versions, when overriding start_requests() in a spider class, override start() as well; you can use super() to reuse the inherited start() implementation without copy-pasting. See the release notes of Scrapy 2.13 for details: https://docs.scrapy.org/en/2.13/news.html\n",
      "  warn(\n",
      "\n",
      "2025-09-06 09:54:41 [scrapy.extensions.logstats] INFO: Crawled 0 pages (at 0 pages/min), scraped 0 items (at 0 items/min)\n",
      "2025-09-06 09:54:41 [scrapy.extensions.telnet] INFO: Telnet console listening on 127.0.0.1:6023\n",
      "2025-09-06 09:54:41 [scrapy-playwright] INFO: Starting download handler\n",
      "2025-09-06 09:54:41 [scrapy-playwright] INFO: Starting download handler\n",
      "2025-09-06 09:54:41 [scrapy-playwright] INFO: Launching browser chromium\n",
      "2025-09-06 09:54:42 [scrapy-playwright] INFO: Browser chromium launched\n",
      "2025-09-06 09:55:41 [scrapy.extensions.logstats] INFO: Crawled 15 pages (at 15 pages/min), scraped 0 items (at 0 items/min)\n",
      "2025-09-06 09:56:41 [scrapy.extensions.logstats] INFO: Crawled 27 pages (at 12 pages/min), scraped 0 items (at 0 items/min)\n",
      "2025-09-06 09:57:41 [scrapy.extensions.logstats] INFO: Crawled 39 pages (at 12 pages/min), scraped 0 items (at 0 items/min)\n",
      "2025-09-06 09:58:32 [scrapy.core.engine] INFO: Closing spider (finished)\n",
      "2025-09-06 09:58:32 [booking] INFO: Résultats sauvegardés dans booking_results/results_amiens.json\n",
      "2025-09-06 09:58:32 [booking] INFO: Résultats sauvegardés dans booking_results/results_lille.json\n",
      "2025-09-06 09:58:32 [scrapy.statscollectors] INFO: Dumping Scrapy stats:\n",
      "{'downloader/request_bytes': 40811,\n",
      " 'downloader/request_count': 52,\n",
      " 'downloader/request_method_count/GET': 52,\n",
      " 'downloader/response_bytes': 79064990,\n",
      " 'downloader/response_count': 52,\n",
      " 'downloader/response_status_count/200': 51,\n",
      " 'downloader/response_status_count/202': 1,\n",
      " 'dupefilter/filtered': 50,\n",
      " 'elapsed_time_seconds': 230.571629,\n",
      " 'finish_reason': 'finished',\n",
      " 'finish_time': datetime.datetime(2025, 9, 6, 7, 58, 32, 354831, tzinfo=datetime.timezone.utc),\n",
      " 'items_per_minute': 0.0,\n",
      " 'log_count/INFO': 19,\n",
      " 'log_count/WARNING': 1,\n",
      " 'memusage/max': 146911232,\n",
      " 'memusage/startup': 63533056,\n",
      " 'playwright/browser_count': 1,\n",
      " 'playwright/context_count': 1,\n",
      " 'playwright/context_count/max_concurrent': 1,\n",
      " 'playwright/context_count/persistent/False': 1,\n",
      " 'playwright/context_count/remote/False': 1,\n",
      " 'playwright/page_count': 52,\n",
      " 'playwright/page_count/closed': 52,\n",
      " 'playwright/page_count/max_concurrent': 2,\n",
      " 'playwright/request_count': 14231,\n",
      " 'playwright/request_count/method/GET': 13611,\n",
      " 'playwright/request_count/method/POST': 620,\n",
      " 'playwright/request_count/navigation': 53,\n",
      " 'playwright/request_count/resource_type/document': 53,\n",
      " 'playwright/request_count/resource_type/fetch': 654,\n",
      " 'playwright/request_count/resource_type/font': 154,\n",
      " 'playwright/request_count/resource_type/image': 1419,\n",
      " 'playwright/request_count/resource_type/other': 266,\n",
      " 'playwright/request_count/resource_type/ping': 99,\n",
      " 'playwright/request_count/resource_type/script': 6932,\n",
      " 'playwright/request_count/resource_type/stylesheet': 4222,\n",
      " 'playwright/request_count/resource_type/xhr': 432,\n",
      " 'playwright/response_count': 13959,\n",
      " 'playwright/response_count/method/GET': 13460,\n",
      " 'playwright/response_count/method/POST': 499,\n",
      " 'playwright/response_count/resource_type/document': 53,\n",
      " 'playwright/response_count/resource_type/fetch': 486,\n",
      " 'playwright/response_count/resource_type/font': 154,\n",
      " 'playwright/response_count/resource_type/image': 1388,\n",
      " 'playwright/response_count/resource_type/other': 266,\n",
      " 'playwright/response_count/resource_type/ping': 81,\n",
      " 'playwright/response_count/resource_type/script': 6922,\n",
      " 'playwright/response_count/resource_type/stylesheet': 4212,\n",
      " 'playwright/response_count/resource_type/xhr': 397,\n",
      " 'request_depth_max': 1,\n",
      " 'response_received_count': 52,\n",
      " 'responses_per_minute': 13.565217391304348,\n",
      " 'scheduler/dequeued': 52,\n",
      " 'scheduler/dequeued/memory': 52,\n",
      " 'scheduler/enqueued': 52,\n",
      " 'scheduler/enqueued/memory': 52,\n",
      " 'start_time': datetime.datetime(2025, 9, 6, 7, 54, 41, 783202, tzinfo=datetime.timezone.utc)}\n",
      "2025-09-06 09:58:32 [scrapy.core.engine] INFO: Spider closed (finished)\n",
      "2025-09-06 09:58:32 [scrapy-playwright] INFO: Closing download handler\n",
      "2025-09-06 09:58:32 [scrapy-playwright] INFO: Closing download handler\n",
      "2025-09-06 09:58:32 [scrapy-playwright] INFO: Closing browser\n",
      "⏳ Pause 30s avant le prochain batch...\n",
      "\n",
      "🚀 Lancement batch 5: ['Strasbourg', 'Chateau du Haut Koenigsbourg']\n",
      "\n",
      "2025-09-06 09:59:04 [scrapy.utils.log] INFO: Scrapy 2.13.3 started (bot: scrapybot)\n",
      "2025-09-06 09:59:04 [scrapy.utils.log] INFO: Versions:\n",
      "{'lxml': '6.0.1',\n",
      " 'libxml2': '2.14.5',\n",
      " 'cssselect': '1.3.0',\n",
      " 'parsel': '1.10.0',\n",
      " 'w3lib': '2.3.1',\n",
      " 'Twisted': '25.5.0',\n",
      " 'Python': '3.10.18 (main, Jun  5 2025, 13:14:17) [GCC 11.2.0]',\n",
      " 'pyOpenSSL': '25.1.0 (OpenSSL 3.5.2 5 Aug 2025)',\n",
      " 'cryptography': '45.0.7',\n",
      " 'Platform': 'Linux-5.15.167.4-microsoft-standard-WSL2-x86_64-with-glibc2.39'}\n",
      "2025-09-06 09:59:04 [scrapy.addons] INFO: Enabled addons:\n",
      "[]\n",
      "2025-09-06 09:59:04 [scrapy.extensions.telnet] INFO: Telnet Password: b5eb24f2d318e273\n",
      "2025-09-06 09:59:04 [scrapy.middleware] INFO: Enabled extensions:\n",
      "['scrapy.extensions.corestats.CoreStats',\n",
      " 'scrapy.extensions.telnet.TelnetConsole',\n",
      " 'scrapy.extensions.memusage.MemoryUsage',\n",
      " 'scrapy.extensions.logstats.LogStats',\n",
      " 'scrapy.extensions.throttle.AutoThrottle']\n",
      "2025-09-06 09:59:04 [scrapy.crawler] INFO: Overridden settings:\n",
      "{'AUTOTHROTTLE_ENABLED': True,\n",
      " 'AUTOTHROTTLE_MAX_DELAY': 10,\n",
      " 'AUTOTHROTTLE_START_DELAY': 1,\n",
      " 'DOWNLOAD_DELAY': 2.0,\n",
      " 'LOG_LEVEL': 'INFO',\n",
      " 'RETRY_TIMES': 3,\n",
      " 'USER_AGENT': 'Mozilla/5.0 (Windows NT 10.0; Win64; x64) AppleWebKit/537.36 '\n",
      "               '(KHTML, like Gecko) Chrome/115.0.0.0 Safari/537.36'}\n",
      "2025-09-06 09:59:04 [scrapy.middleware] INFO: Enabled downloader middlewares:\n",
      "['scrapy.downloadermiddlewares.offsite.OffsiteMiddleware',\n",
      " 'scrapy.downloadermiddlewares.httpauth.HttpAuthMiddleware',\n",
      " 'scrapy.downloadermiddlewares.downloadtimeout.DownloadTimeoutMiddleware',\n",
      " 'scrapy.downloadermiddlewares.defaultheaders.DefaultHeadersMiddleware',\n",
      " 'scrapy.downloadermiddlewares.useragent.UserAgentMiddleware',\n",
      " 'scrapy.downloadermiddlewares.retry.RetryMiddleware',\n",
      " 'scrapy.downloadermiddlewares.redirect.MetaRefreshMiddleware',\n",
      " 'scrapy.downloadermiddlewares.httpcompression.HttpCompressionMiddleware',\n",
      " 'scrapy.downloadermiddlewares.redirect.RedirectMiddleware',\n",
      " 'scrapy.downloadermiddlewares.cookies.CookiesMiddleware',\n",
      " 'scrapy.downloadermiddlewares.httpproxy.HttpProxyMiddleware',\n",
      " 'scrapy.downloadermiddlewares.stats.DownloaderStats']\n",
      "2025-09-06 09:59:04 [scrapy.middleware] INFO: Enabled spider middlewares:\n",
      "['scrapy.spidermiddlewares.start.StartSpiderMiddleware',\n",
      " 'scrapy.spidermiddlewares.httperror.HttpErrorMiddleware',\n",
      " 'scrapy.spidermiddlewares.referer.RefererMiddleware',\n",
      " 'scrapy.spidermiddlewares.urllength.UrlLengthMiddleware',\n",
      " 'scrapy.spidermiddlewares.depth.DepthMiddleware']\n",
      "2025-09-06 09:59:04 [scrapy.middleware] INFO: Enabled item pipelines:\n",
      "[]\n",
      "2025-09-06 09:59:04 [scrapy.core.engine] INFO: Spider opened\n",
      "2025-09-06 09:59:04 [py.warnings] WARNING: /home/m_bar/miniconda3/envs/kayak/lib/python3.10/site-packages/scrapy/core/spidermw.py:433: ScrapyDeprecationWarning: __main__.BookingSpider defines the deprecated start_requests() method. start_requests() has been deprecated in favor of a new method, start(), to support asynchronous code execution. start_requests() will stop being called in a future version of Scrapy. If you use Scrapy 2.13 or higher only, replace start_requests() with start(); note that start() is a coroutine (async def). If you need to maintain compatibility with lower Scrapy versions, when overriding start_requests() in a spider class, override start() as well; you can use super() to reuse the inherited start() implementation without copy-pasting. See the release notes of Scrapy 2.13 for details: https://docs.scrapy.org/en/2.13/news.html\n",
      "  warn(\n",
      "\n",
      "2025-09-06 09:59:04 [scrapy.extensions.logstats] INFO: Crawled 0 pages (at 0 pages/min), scraped 0 items (at 0 items/min)\n",
      "2025-09-06 09:59:04 [scrapy.extensions.telnet] INFO: Telnet console listening on 127.0.0.1:6023\n",
      "2025-09-06 09:59:04 [scrapy-playwright] INFO: Starting download handler\n",
      "2025-09-06 09:59:04 [scrapy-playwright] INFO: Starting download handler\n",
      "2025-09-06 09:59:05 [scrapy-playwright] INFO: Launching browser chromium\n",
      "2025-09-06 09:59:05 [scrapy-playwright] INFO: Browser chromium launched\n",
      "2025-09-06 10:00:04 [scrapy.extensions.logstats] INFO: Crawled 13 pages (at 13 pages/min), scraped 0 items (at 0 items/min)\n",
      "2025-09-06 10:01:04 [scrapy.extensions.logstats] INFO: Crawled 25 pages (at 12 pages/min), scraped 0 items (at 0 items/min)\n",
      "2025-09-06 10:02:06 [scrapy.extensions.logstats] INFO: Crawled 39 pages (at 14 pages/min), scraped 0 items (at 0 items/min)\n",
      "2025-09-06 10:02:59 [scrapy.core.engine] INFO: Closing spider (finished)\n",
      "2025-09-06 10:02:59 [booking] INFO: Résultats sauvegardés dans booking_results/results_strasbourg.json\n",
      "2025-09-06 10:02:59 [booking] INFO: Résultats sauvegardés dans booking_results/results_chateau_du_haut_koenigsbourg.json\n",
      "2025-09-06 10:02:59 [scrapy.statscollectors] INFO: Dumping Scrapy stats:\n",
      "{'downloader/request_bytes': 42314,\n",
      " 'downloader/request_count': 52,\n",
      " 'downloader/request_method_count/GET': 52,\n",
      " 'downloader/response_bytes': 76301877,\n",
      " 'downloader/response_count': 52,\n",
      " 'downloader/response_status_count/200': 51,\n",
      " 'downloader/response_status_count/202': 1,\n",
      " 'dupefilter/filtered': 50,\n",
      " 'elapsed_time_seconds': 234.417699,\n",
      " 'finish_reason': 'finished',\n",
      " 'finish_time': datetime.datetime(2025, 9, 6, 8, 2, 59, 376790, tzinfo=datetime.timezone.utc),\n",
      " 'items_per_minute': 0.0,\n",
      " 'log_count/INFO': 19,\n",
      " 'log_count/WARNING': 1,\n",
      " 'memusage/max': 147599360,\n",
      " 'memusage/startup': 63553536,\n",
      " 'playwright/browser_count': 1,\n",
      " 'playwright/context_count': 1,\n",
      " 'playwright/context_count/max_concurrent': 1,\n",
      " 'playwright/context_count/persistent/False': 1,\n",
      " 'playwright/context_count/remote/False': 1,\n",
      " 'playwright/page_count': 52,\n",
      " 'playwright/page_count/closed': 52,\n",
      " 'playwright/page_count/max_concurrent': 2,\n",
      " 'playwright/request_count': 14095,\n",
      " 'playwright/request_count/method/GET': 13429,\n",
      " 'playwright/request_count/method/POST': 666,\n",
      " 'playwright/request_count/navigation': 53,\n",
      " 'playwright/request_count/resource_type/document': 53,\n",
      " 'playwright/request_count/resource_type/fetch': 654,\n",
      " 'playwright/request_count/resource_type/font': 154,\n",
      " 'playwright/request_count/resource_type/image': 1357,\n",
      " 'playwright/request_count/resource_type/other': 266,\n",
      " 'playwright/request_count/resource_type/ping': 99,\n",
      " 'playwright/request_count/resource_type/script': 6851,\n",
      " 'playwright/request_count/resource_type/stylesheet': 4188,\n",
      " 'playwright/request_count/resource_type/xhr': 473,\n",
      " 'playwright/response_count': 13785,\n",
      " 'playwright/response_count/method/GET': 13227,\n",
      " 'playwright/response_count/method/POST': 558,\n",
      " 'playwright/response_count/resource_type/document': 53,\n",
      " 'playwright/response_count/resource_type/fetch': 503,\n",
      " 'playwright/response_count/resource_type/font': 154,\n",
      " 'playwright/response_count/resource_type/image': 1260,\n",
      " 'playwright/response_count/resource_type/other': 266,\n",
      " 'playwright/response_count/resource_type/ping': 80,\n",
      " 'playwright/response_count/resource_type/script': 6843,\n",
      " 'playwright/response_count/resource_type/stylesheet': 4177,\n",
      " 'playwright/response_count/resource_type/xhr': 449,\n",
      " 'request_depth_max': 1,\n",
      " 'response_received_count': 52,\n",
      " 'responses_per_minute': 13.333333333333334,\n",
      " 'scheduler/dequeued': 52,\n",
      " 'scheduler/dequeued/memory': 52,\n",
      " 'scheduler/enqueued': 52,\n",
      " 'scheduler/enqueued/memory': 52,\n",
      " 'start_time': datetime.datetime(2025, 9, 6, 7, 59, 4, 959091, tzinfo=datetime.timezone.utc)}\n",
      "2025-09-06 10:02:59 [scrapy.core.engine] INFO: Spider closed (finished)\n",
      "2025-09-06 10:02:59 [scrapy-playwright] INFO: Closing download handler\n",
      "2025-09-06 10:02:59 [scrapy-playwright] INFO: Closing download handler\n",
      "2025-09-06 10:02:59 [scrapy-playwright] INFO: Closing browser\n",
      "⏳ Pause 30s avant le prochain batch...\n",
      "\n",
      "🚀 Lancement batch 6: ['Colmar', 'Eguisheim']\n",
      "\n",
      "2025-09-06 10:03:32 [scrapy.utils.log] INFO: Scrapy 2.13.3 started (bot: scrapybot)\n",
      "2025-09-06 10:03:32 [scrapy.utils.log] INFO: Versions:\n",
      "{'lxml': '6.0.1',\n",
      " 'libxml2': '2.14.5',\n",
      " 'cssselect': '1.3.0',\n",
      " 'parsel': '1.10.0',\n",
      " 'w3lib': '2.3.1',\n",
      " 'Twisted': '25.5.0',\n",
      " 'Python': '3.10.18 (main, Jun  5 2025, 13:14:17) [GCC 11.2.0]',\n",
      " 'pyOpenSSL': '25.1.0 (OpenSSL 3.5.2 5 Aug 2025)',\n",
      " 'cryptography': '45.0.7',\n",
      " 'Platform': 'Linux-5.15.167.4-microsoft-standard-WSL2-x86_64-with-glibc2.39'}\n",
      "2025-09-06 10:03:32 [scrapy.addons] INFO: Enabled addons:\n",
      "[]\n",
      "2025-09-06 10:03:32 [scrapy.extensions.telnet] INFO: Telnet Password: 3a26c7d54da2f6af\n",
      "2025-09-06 10:03:32 [scrapy.middleware] INFO: Enabled extensions:\n",
      "['scrapy.extensions.corestats.CoreStats',\n",
      " 'scrapy.extensions.telnet.TelnetConsole',\n",
      " 'scrapy.extensions.memusage.MemoryUsage',\n",
      " 'scrapy.extensions.logstats.LogStats',\n",
      " 'scrapy.extensions.throttle.AutoThrottle']\n",
      "2025-09-06 10:03:32 [scrapy.crawler] INFO: Overridden settings:\n",
      "{'AUTOTHROTTLE_ENABLED': True,\n",
      " 'AUTOTHROTTLE_MAX_DELAY': 10,\n",
      " 'AUTOTHROTTLE_START_DELAY': 1,\n",
      " 'DOWNLOAD_DELAY': 2.0,\n",
      " 'LOG_LEVEL': 'INFO',\n",
      " 'RETRY_TIMES': 3,\n",
      " 'USER_AGENT': 'Mozilla/5.0 (Windows NT 10.0; Win64; x64) AppleWebKit/537.36 '\n",
      "               '(KHTML, like Gecko) Chrome/115.0.0.0 Safari/537.36'}\n",
      "2025-09-06 10:03:32 [scrapy.middleware] INFO: Enabled downloader middlewares:\n",
      "['scrapy.downloadermiddlewares.offsite.OffsiteMiddleware',\n",
      " 'scrapy.downloadermiddlewares.httpauth.HttpAuthMiddleware',\n",
      " 'scrapy.downloadermiddlewares.downloadtimeout.DownloadTimeoutMiddleware',\n",
      " 'scrapy.downloadermiddlewares.defaultheaders.DefaultHeadersMiddleware',\n",
      " 'scrapy.downloadermiddlewares.useragent.UserAgentMiddleware',\n",
      " 'scrapy.downloadermiddlewares.retry.RetryMiddleware',\n",
      " 'scrapy.downloadermiddlewares.redirect.MetaRefreshMiddleware',\n",
      " 'scrapy.downloadermiddlewares.httpcompression.HttpCompressionMiddleware',\n",
      " 'scrapy.downloadermiddlewares.redirect.RedirectMiddleware',\n",
      " 'scrapy.downloadermiddlewares.cookies.CookiesMiddleware',\n",
      " 'scrapy.downloadermiddlewares.httpproxy.HttpProxyMiddleware',\n",
      " 'scrapy.downloadermiddlewares.stats.DownloaderStats']\n",
      "2025-09-06 10:03:32 [scrapy.middleware] INFO: Enabled spider middlewares:\n",
      "['scrapy.spidermiddlewares.start.StartSpiderMiddleware',\n",
      " 'scrapy.spidermiddlewares.httperror.HttpErrorMiddleware',\n",
      " 'scrapy.spidermiddlewares.referer.RefererMiddleware',\n",
      " 'scrapy.spidermiddlewares.urllength.UrlLengthMiddleware',\n",
      " 'scrapy.spidermiddlewares.depth.DepthMiddleware']\n",
      "2025-09-06 10:03:32 [scrapy.middleware] INFO: Enabled item pipelines:\n",
      "[]\n",
      "2025-09-06 10:03:32 [scrapy.core.engine] INFO: Spider opened\n",
      "2025-09-06 10:03:32 [py.warnings] WARNING: /home/m_bar/miniconda3/envs/kayak/lib/python3.10/site-packages/scrapy/core/spidermw.py:433: ScrapyDeprecationWarning: __main__.BookingSpider defines the deprecated start_requests() method. start_requests() has been deprecated in favor of a new method, start(), to support asynchronous code execution. start_requests() will stop being called in a future version of Scrapy. If you use Scrapy 2.13 or higher only, replace start_requests() with start(); note that start() is a coroutine (async def). If you need to maintain compatibility with lower Scrapy versions, when overriding start_requests() in a spider class, override start() as well; you can use super() to reuse the inherited start() implementation without copy-pasting. See the release notes of Scrapy 2.13 for details: https://docs.scrapy.org/en/2.13/news.html\n",
      "  warn(\n",
      "\n",
      "2025-09-06 10:03:32 [scrapy.extensions.logstats] INFO: Crawled 0 pages (at 0 pages/min), scraped 0 items (at 0 items/min)\n",
      "2025-09-06 10:03:32 [scrapy.extensions.telnet] INFO: Telnet console listening on 127.0.0.1:6023\n",
      "2025-09-06 10:03:32 [scrapy-playwright] INFO: Starting download handler\n",
      "2025-09-06 10:03:32 [scrapy-playwright] INFO: Starting download handler\n",
      "2025-09-06 10:03:32 [scrapy-playwright] INFO: Launching browser chromium\n",
      "2025-09-06 10:03:32 [scrapy-playwright] INFO: Browser chromium launched\n",
      "2025-09-06 10:04:32 [scrapy.extensions.logstats] INFO: Crawled 15 pages (at 15 pages/min), scraped 0 items (at 0 items/min)\n",
      "2025-09-06 10:05:34 [scrapy.extensions.logstats] INFO: Crawled 29 pages (at 14 pages/min), scraped 0 items (at 0 items/min)\n",
      "2025-09-06 10:06:32 [scrapy.extensions.logstats] INFO: Crawled 42 pages (at 13 pages/min), scraped 0 items (at 0 items/min)\n",
      "2025-09-06 10:07:27 [scrapy.core.engine] INFO: Closing spider (finished)\n",
      "2025-09-06 10:07:27 [booking] INFO: Résultats sauvegardés dans booking_results/results_colmar.json\n",
      "2025-09-06 10:07:27 [booking] INFO: Résultats sauvegardés dans booking_results/results_eguisheim.json\n",
      "2025-09-06 10:07:27 [scrapy.statscollectors] INFO: Dumping Scrapy stats:\n",
      "{'downloader/request_bytes': 40034,\n",
      " 'downloader/request_count': 52,\n",
      " 'downloader/request_method_count/GET': 52,\n",
      " 'downloader/response_bytes': 81505105,\n",
      " 'downloader/response_count': 52,\n",
      " 'downloader/response_status_count/200': 52,\n",
      " 'dupefilter/filtered': 50,\n",
      " 'elapsed_time_seconds': 235.498906,\n",
      " 'finish_reason': 'finished',\n",
      " 'finish_time': datetime.datetime(2025, 9, 6, 8, 7, 27, 657558, tzinfo=datetime.timezone.utc),\n",
      " 'items_per_minute': 0.0,\n",
      " 'log_count/INFO': 19,\n",
      " 'log_count/WARNING': 1,\n",
      " 'memusage/max': 159739904,\n",
      " 'memusage/startup': 63963136,\n",
      " 'playwright/browser_count': 1,\n",
      " 'playwright/context_count': 1,\n",
      " 'playwright/context_count/max_concurrent': 1,\n",
      " 'playwright/context_count/persistent/False': 1,\n",
      " 'playwright/context_count/remote/False': 1,\n",
      " 'playwright/page_count': 52,\n",
      " 'playwright/page_count/closed': 52,\n",
      " 'playwright/page_count/max_concurrent': 2,\n",
      " 'playwright/request_count': 14199,\n",
      " 'playwright/request_count/method/GET': 13522,\n",
      " 'playwright/request_count/method/POST': 677,\n",
      " 'playwright/request_count/navigation': 52,\n",
      " 'playwright/request_count/resource_type/document': 52,\n",
      " 'playwright/request_count/resource_type/fetch': 667,\n",
      " 'playwright/request_count/resource_type/font': 154,\n",
      " 'playwright/request_count/resource_type/image': 1444,\n",
      " 'playwright/request_count/resource_type/other': 266,\n",
      " 'playwright/request_count/resource_type/ping': 99,\n",
      " 'playwright/request_count/resource_type/script': 6886,\n",
      " 'playwright/request_count/resource_type/stylesheet': 4157,\n",
      " 'playwright/request_count/resource_type/xhr': 474,\n",
      " 'playwright/response_count': 13842,\n",
      " 'playwright/response_count/method/GET': 13252,\n",
      " 'playwright/response_count/method/POST': 590,\n",
      " 'playwright/response_count/resource_type/document': 52,\n",
      " 'playwright/response_count/resource_type/fetch': 549,\n",
      " 'playwright/response_count/resource_type/font': 154,\n",
      " 'playwright/response_count/resource_type/image': 1266,\n",
      " 'playwright/response_count/resource_type/other': 262,\n",
      " 'playwright/response_count/resource_type/ping': 72,\n",
      " 'playwright/response_count/resource_type/script': 6883,\n",
      " 'playwright/response_count/resource_type/stylesheet': 4147,\n",
      " 'playwright/response_count/resource_type/xhr': 457,\n",
      " 'request_depth_max': 1,\n",
      " 'response_received_count': 52,\n",
      " 'responses_per_minute': 13.27659574468085,\n",
      " 'scheduler/dequeued': 52,\n",
      " 'scheduler/dequeued/memory': 52,\n",
      " 'scheduler/enqueued': 52,\n",
      " 'scheduler/enqueued/memory': 52,\n",
      " 'start_time': datetime.datetime(2025, 9, 6, 8, 3, 32, 158652, tzinfo=datetime.timezone.utc)}\n",
      "2025-09-06 10:07:27 [scrapy.core.engine] INFO: Spider closed (finished)\n",
      "2025-09-06 10:07:27 [scrapy-playwright] INFO: Closing download handler\n",
      "2025-09-06 10:07:27 [scrapy-playwright] INFO: Closing download handler\n",
      "2025-09-06 10:07:27 [scrapy-playwright] INFO: Closing browser\n",
      "⏳ Pause 30s avant le prochain batch...\n",
      "\n",
      "🚀 Lancement batch 7: ['Besancon', 'Dijon']\n",
      "\n",
      "2025-09-06 10:08:00 [scrapy.utils.log] INFO: Scrapy 2.13.3 started (bot: scrapybot)\n",
      "2025-09-06 10:08:00 [scrapy.utils.log] INFO: Versions:\n",
      "{'lxml': '6.0.1',\n",
      " 'libxml2': '2.14.5',\n",
      " 'cssselect': '1.3.0',\n",
      " 'parsel': '1.10.0',\n",
      " 'w3lib': '2.3.1',\n",
      " 'Twisted': '25.5.0',\n",
      " 'Python': '3.10.18 (main, Jun  5 2025, 13:14:17) [GCC 11.2.0]',\n",
      " 'pyOpenSSL': '25.1.0 (OpenSSL 3.5.2 5 Aug 2025)',\n",
      " 'cryptography': '45.0.7',\n",
      " 'Platform': 'Linux-5.15.167.4-microsoft-standard-WSL2-x86_64-with-glibc2.39'}\n",
      "2025-09-06 10:08:00 [scrapy.addons] INFO: Enabled addons:\n",
      "[]\n",
      "2025-09-06 10:08:00 [scrapy.extensions.telnet] INFO: Telnet Password: 13f3b834ba05a3fa\n",
      "2025-09-06 10:08:00 [scrapy.middleware] INFO: Enabled extensions:\n",
      "['scrapy.extensions.corestats.CoreStats',\n",
      " 'scrapy.extensions.telnet.TelnetConsole',\n",
      " 'scrapy.extensions.memusage.MemoryUsage',\n",
      " 'scrapy.extensions.logstats.LogStats',\n",
      " 'scrapy.extensions.throttle.AutoThrottle']\n",
      "2025-09-06 10:08:00 [scrapy.crawler] INFO: Overridden settings:\n",
      "{'AUTOTHROTTLE_ENABLED': True,\n",
      " 'AUTOTHROTTLE_MAX_DELAY': 10,\n",
      " 'AUTOTHROTTLE_START_DELAY': 1,\n",
      " 'DOWNLOAD_DELAY': 2.0,\n",
      " 'LOG_LEVEL': 'INFO',\n",
      " 'RETRY_TIMES': 3,\n",
      " 'USER_AGENT': 'Mozilla/5.0 (Windows NT 10.0; Win64; x64) AppleWebKit/537.36 '\n",
      "               '(KHTML, like Gecko) Chrome/115.0.0.0 Safari/537.36'}\n",
      "2025-09-06 10:08:00 [scrapy.middleware] INFO: Enabled downloader middlewares:\n",
      "['scrapy.downloadermiddlewares.offsite.OffsiteMiddleware',\n",
      " 'scrapy.downloadermiddlewares.httpauth.HttpAuthMiddleware',\n",
      " 'scrapy.downloadermiddlewares.downloadtimeout.DownloadTimeoutMiddleware',\n",
      " 'scrapy.downloadermiddlewares.defaultheaders.DefaultHeadersMiddleware',\n",
      " 'scrapy.downloadermiddlewares.useragent.UserAgentMiddleware',\n",
      " 'scrapy.downloadermiddlewares.retry.RetryMiddleware',\n",
      " 'scrapy.downloadermiddlewares.redirect.MetaRefreshMiddleware',\n",
      " 'scrapy.downloadermiddlewares.httpcompression.HttpCompressionMiddleware',\n",
      " 'scrapy.downloadermiddlewares.redirect.RedirectMiddleware',\n",
      " 'scrapy.downloadermiddlewares.cookies.CookiesMiddleware',\n",
      " 'scrapy.downloadermiddlewares.httpproxy.HttpProxyMiddleware',\n",
      " 'scrapy.downloadermiddlewares.stats.DownloaderStats']\n",
      "2025-09-06 10:08:00 [scrapy.middleware] INFO: Enabled spider middlewares:\n",
      "['scrapy.spidermiddlewares.start.StartSpiderMiddleware',\n",
      " 'scrapy.spidermiddlewares.httperror.HttpErrorMiddleware',\n",
      " 'scrapy.spidermiddlewares.referer.RefererMiddleware',\n",
      " 'scrapy.spidermiddlewares.urllength.UrlLengthMiddleware',\n",
      " 'scrapy.spidermiddlewares.depth.DepthMiddleware']\n",
      "2025-09-06 10:08:00 [scrapy.middleware] INFO: Enabled item pipelines:\n",
      "[]\n",
      "2025-09-06 10:08:00 [scrapy.core.engine] INFO: Spider opened\n",
      "2025-09-06 10:08:00 [py.warnings] WARNING: /home/m_bar/miniconda3/envs/kayak/lib/python3.10/site-packages/scrapy/core/spidermw.py:433: ScrapyDeprecationWarning: __main__.BookingSpider defines the deprecated start_requests() method. start_requests() has been deprecated in favor of a new method, start(), to support asynchronous code execution. start_requests() will stop being called in a future version of Scrapy. If you use Scrapy 2.13 or higher only, replace start_requests() with start(); note that start() is a coroutine (async def). If you need to maintain compatibility with lower Scrapy versions, when overriding start_requests() in a spider class, override start() as well; you can use super() to reuse the inherited start() implementation without copy-pasting. See the release notes of Scrapy 2.13 for details: https://docs.scrapy.org/en/2.13/news.html\n",
      "  warn(\n",
      "\n",
      "2025-09-06 10:08:00 [scrapy.extensions.logstats] INFO: Crawled 0 pages (at 0 pages/min), scraped 0 items (at 0 items/min)\n",
      "2025-09-06 10:08:00 [scrapy.extensions.telnet] INFO: Telnet console listening on 127.0.0.1:6023\n",
      "2025-09-06 10:08:00 [scrapy-playwright] INFO: Starting download handler\n",
      "2025-09-06 10:08:00 [scrapy-playwright] INFO: Starting download handler\n",
      "2025-09-06 10:08:00 [scrapy-playwright] INFO: Launching browser chromium\n",
      "2025-09-06 10:08:00 [scrapy-playwright] INFO: Browser chromium launched\n",
      "2025-09-06 10:09:02 [scrapy.extensions.logstats] INFO: Crawled 15 pages (at 15 pages/min), scraped 0 items (at 0 items/min)\n",
      "2025-09-06 10:10:00 [scrapy.extensions.logstats] INFO: Crawled 28 pages (at 13 pages/min), scraped 0 items (at 0 items/min)\n",
      "2025-09-06 10:11:00 [scrapy.extensions.logstats] INFO: Crawled 41 pages (at 13 pages/min), scraped 0 items (at 0 items/min)\n",
      "2025-09-06 10:11:48 [scrapy.core.engine] INFO: Closing spider (finished)\n",
      "2025-09-06 10:11:48 [booking] INFO: Résultats sauvegardés dans booking_results/results_besancon.json\n",
      "2025-09-06 10:11:48 [booking] INFO: Résultats sauvegardés dans booking_results/results_dijon.json\n",
      "2025-09-06 10:11:48 [scrapy.statscollectors] INFO: Dumping Scrapy stats:\n",
      "{'downloader/request_bytes': 40609,\n",
      " 'downloader/request_count': 52,\n",
      " 'downloader/request_method_count/GET': 52,\n",
      " 'downloader/response_bytes': 82324621,\n",
      " 'downloader/response_count': 52,\n",
      " 'downloader/response_status_count/200': 51,\n",
      " 'downloader/response_status_count/202': 1,\n",
      " 'dupefilter/filtered': 50,\n",
      " 'elapsed_time_seconds': 227.679164,\n",
      " 'finish_reason': 'finished',\n",
      " 'finish_time': datetime.datetime(2025, 9, 6, 8, 11, 48, 131854, tzinfo=datetime.timezone.utc),\n",
      " 'items_per_minute': 0.0,\n",
      " 'log_count/INFO': 19,\n",
      " 'log_count/WARNING': 1,\n",
      " 'memusage/max': 141230080,\n",
      " 'memusage/startup': 63963136,\n",
      " 'playwright/browser_count': 1,\n",
      " 'playwright/context_count': 1,\n",
      " 'playwright/context_count/max_concurrent': 1,\n",
      " 'playwright/context_count/persistent/False': 1,\n",
      " 'playwright/context_count/remote/False': 1,\n",
      " 'playwright/page_count': 52,\n",
      " 'playwright/page_count/closed': 52,\n",
      " 'playwright/page_count/max_concurrent': 2,\n",
      " 'playwright/request_count': 14180,\n",
      " 'playwright/request_count/method/GET': 13565,\n",
      " 'playwright/request_count/method/POST': 615,\n",
      " 'playwright/request_count/navigation': 53,\n",
      " 'playwright/request_count/resource_type/document': 53,\n",
      " 'playwright/request_count/resource_type/fetch': 647,\n",
      " 'playwright/request_count/resource_type/font': 154,\n",
      " 'playwright/request_count/resource_type/image': 1426,\n",
      " 'playwright/request_count/resource_type/other': 266,\n",
      " 'playwright/request_count/resource_type/ping': 99,\n",
      " 'playwright/request_count/resource_type/script': 6942,\n",
      " 'playwright/request_count/resource_type/stylesheet': 4162,\n",
      " 'playwright/request_count/resource_type/xhr': 431,\n",
      " 'playwright/response_count': 13812,\n",
      " 'playwright/response_count/method/GET': 13284,\n",
      " 'playwright/response_count/method/POST': 528,\n",
      " 'playwright/response_count/resource_type/document': 53,\n",
      " 'playwright/response_count/resource_type/fetch': 510,\n",
      " 'playwright/response_count/resource_type/font': 154,\n",
      " 'playwright/response_count/resource_type/image': 1252,\n",
      " 'playwright/response_count/resource_type/other': 266,\n",
      " 'playwright/response_count/resource_type/ping': 84,\n",
      " 'playwright/response_count/resource_type/script': 6934,\n",
      " 'playwright/response_count/resource_type/stylesheet': 4153,\n",
      " 'playwright/response_count/resource_type/xhr': 406,\n",
      " 'request_depth_max': 1,\n",
      " 'response_received_count': 52,\n",
      " 'responses_per_minute': 13.744493392070485,\n",
      " 'scheduler/dequeued': 52,\n",
      " 'scheduler/dequeued/memory': 52,\n",
      " 'scheduler/enqueued': 52,\n",
      " 'scheduler/enqueued/memory': 52,\n",
      " 'start_time': datetime.datetime(2025, 9, 6, 8, 8, 0, 452690, tzinfo=datetime.timezone.utc)}\n",
      "2025-09-06 10:11:48 [scrapy.core.engine] INFO: Spider closed (finished)\n",
      "2025-09-06 10:11:48 [scrapy-playwright] INFO: Closing download handler\n",
      "2025-09-06 10:11:48 [scrapy-playwright] INFO: Closing download handler\n",
      "2025-09-06 10:11:48 [scrapy-playwright] INFO: Closing browser\n",
      "⏳ Pause 30s avant le prochain batch...\n",
      "\n",
      "🚀 Lancement batch 8: ['Annecy', 'Grenoble']\n",
      "\n",
      "2025-09-06 10:12:20 [scrapy.utils.log] INFO: Scrapy 2.13.3 started (bot: scrapybot)\n",
      "2025-09-06 10:12:20 [scrapy.utils.log] INFO: Versions:\n",
      "{'lxml': '6.0.1',\n",
      " 'libxml2': '2.14.5',\n",
      " 'cssselect': '1.3.0',\n",
      " 'parsel': '1.10.0',\n",
      " 'w3lib': '2.3.1',\n",
      " 'Twisted': '25.5.0',\n",
      " 'Python': '3.10.18 (main, Jun  5 2025, 13:14:17) [GCC 11.2.0]',\n",
      " 'pyOpenSSL': '25.1.0 (OpenSSL 3.5.2 5 Aug 2025)',\n",
      " 'cryptography': '45.0.7',\n",
      " 'Platform': 'Linux-5.15.167.4-microsoft-standard-WSL2-x86_64-with-glibc2.39'}\n",
      "2025-09-06 10:12:20 [scrapy.addons] INFO: Enabled addons:\n",
      "[]\n",
      "2025-09-06 10:12:20 [scrapy.extensions.telnet] INFO: Telnet Password: 57a0ee98e467ba66\n",
      "2025-09-06 10:12:20 [scrapy.middleware] INFO: Enabled extensions:\n",
      "['scrapy.extensions.corestats.CoreStats',\n",
      " 'scrapy.extensions.telnet.TelnetConsole',\n",
      " 'scrapy.extensions.memusage.MemoryUsage',\n",
      " 'scrapy.extensions.logstats.LogStats',\n",
      " 'scrapy.extensions.throttle.AutoThrottle']\n",
      "2025-09-06 10:12:20 [scrapy.crawler] INFO: Overridden settings:\n",
      "{'AUTOTHROTTLE_ENABLED': True,\n",
      " 'AUTOTHROTTLE_MAX_DELAY': 10,\n",
      " 'AUTOTHROTTLE_START_DELAY': 1,\n",
      " 'DOWNLOAD_DELAY': 2.0,\n",
      " 'LOG_LEVEL': 'INFO',\n",
      " 'RETRY_TIMES': 3,\n",
      " 'USER_AGENT': 'Mozilla/5.0 (Windows NT 10.0; Win64; x64) AppleWebKit/537.36 '\n",
      "               '(KHTML, like Gecko) Chrome/115.0.0.0 Safari/537.36'}\n",
      "2025-09-06 10:12:20 [scrapy.middleware] INFO: Enabled downloader middlewares:\n",
      "['scrapy.downloadermiddlewares.offsite.OffsiteMiddleware',\n",
      " 'scrapy.downloadermiddlewares.httpauth.HttpAuthMiddleware',\n",
      " 'scrapy.downloadermiddlewares.downloadtimeout.DownloadTimeoutMiddleware',\n",
      " 'scrapy.downloadermiddlewares.defaultheaders.DefaultHeadersMiddleware',\n",
      " 'scrapy.downloadermiddlewares.useragent.UserAgentMiddleware',\n",
      " 'scrapy.downloadermiddlewares.retry.RetryMiddleware',\n",
      " 'scrapy.downloadermiddlewares.redirect.MetaRefreshMiddleware',\n",
      " 'scrapy.downloadermiddlewares.httpcompression.HttpCompressionMiddleware',\n",
      " 'scrapy.downloadermiddlewares.redirect.RedirectMiddleware',\n",
      " 'scrapy.downloadermiddlewares.cookies.CookiesMiddleware',\n",
      " 'scrapy.downloadermiddlewares.httpproxy.HttpProxyMiddleware',\n",
      " 'scrapy.downloadermiddlewares.stats.DownloaderStats']\n",
      "2025-09-06 10:12:20 [scrapy.middleware] INFO: Enabled spider middlewares:\n",
      "['scrapy.spidermiddlewares.start.StartSpiderMiddleware',\n",
      " 'scrapy.spidermiddlewares.httperror.HttpErrorMiddleware',\n",
      " 'scrapy.spidermiddlewares.referer.RefererMiddleware',\n",
      " 'scrapy.spidermiddlewares.urllength.UrlLengthMiddleware',\n",
      " 'scrapy.spidermiddlewares.depth.DepthMiddleware']\n",
      "2025-09-06 10:12:20 [scrapy.middleware] INFO: Enabled item pipelines:\n",
      "[]\n",
      "2025-09-06 10:12:20 [scrapy.core.engine] INFO: Spider opened\n",
      "2025-09-06 10:12:20 [py.warnings] WARNING: /home/m_bar/miniconda3/envs/kayak/lib/python3.10/site-packages/scrapy/core/spidermw.py:433: ScrapyDeprecationWarning: __main__.BookingSpider defines the deprecated start_requests() method. start_requests() has been deprecated in favor of a new method, start(), to support asynchronous code execution. start_requests() will stop being called in a future version of Scrapy. If you use Scrapy 2.13 or higher only, replace start_requests() with start(); note that start() is a coroutine (async def). If you need to maintain compatibility with lower Scrapy versions, when overriding start_requests() in a spider class, override start() as well; you can use super() to reuse the inherited start() implementation without copy-pasting. See the release notes of Scrapy 2.13 for details: https://docs.scrapy.org/en/2.13/news.html\n",
      "  warn(\n",
      "\n",
      "2025-09-06 10:12:20 [scrapy.extensions.logstats] INFO: Crawled 0 pages (at 0 pages/min), scraped 0 items (at 0 items/min)\n",
      "2025-09-06 10:12:20 [scrapy.extensions.telnet] INFO: Telnet console listening on 127.0.0.1:6023\n",
      "2025-09-06 10:12:20 [scrapy-playwright] INFO: Starting download handler\n",
      "2025-09-06 10:12:20 [scrapy-playwright] INFO: Starting download handler\n",
      "2025-09-06 10:12:21 [scrapy-playwright] INFO: Launching browser chromium\n",
      "2025-09-06 10:12:21 [scrapy-playwright] INFO: Browser chromium launched\n",
      "2025-09-06 10:13:20 [scrapy.extensions.logstats] INFO: Crawled 13 pages (at 13 pages/min), scraped 0 items (at 0 items/min)\n",
      "2025-09-06 10:14:20 [scrapy.extensions.logstats] INFO: Crawled 26 pages (at 13 pages/min), scraped 0 items (at 0 items/min)\n",
      "2025-09-06 10:15:20 [scrapy.extensions.logstats] INFO: Crawled 39 pages (at 13 pages/min), scraped 0 items (at 0 items/min)\n",
      "2025-09-06 10:16:13 [scrapy.core.engine] INFO: Closing spider (finished)\n",
      "2025-09-06 10:16:13 [booking] INFO: Résultats sauvegardés dans booking_results/results_annecy.json\n",
      "2025-09-06 10:16:13 [booking] INFO: Résultats sauvegardés dans booking_results/results_grenoble.json\n",
      "2025-09-06 10:16:13 [scrapy.statscollectors] INFO: Dumping Scrapy stats:\n",
      "{'downloader/request_bytes': 40222,\n",
      " 'downloader/request_count': 52,\n",
      " 'downloader/request_method_count/GET': 52,\n",
      " 'downloader/response_bytes': 81742583,\n",
      " 'downloader/response_count': 52,\n",
      " 'downloader/response_status_count/200': 52,\n",
      " 'dupefilter/filtered': 50,\n",
      " 'elapsed_time_seconds': 232.123808,\n",
      " 'finish_reason': 'finished',\n",
      " 'finish_time': datetime.datetime(2025, 9, 6, 8, 16, 13, 35684, tzinfo=datetime.timezone.utc),\n",
      " 'items_per_minute': 0.0,\n",
      " 'log_count/INFO': 19,\n",
      " 'log_count/WARNING': 1,\n",
      " 'memusage/max': 147632128,\n",
      " 'memusage/startup': 63578112,\n",
      " 'playwright/browser_count': 1,\n",
      " 'playwright/context_count': 1,\n",
      " 'playwright/context_count/max_concurrent': 1,\n",
      " 'playwright/context_count/persistent/False': 1,\n",
      " 'playwright/context_count/remote/False': 1,\n",
      " 'playwright/page_count': 52,\n",
      " 'playwright/page_count/closed': 52,\n",
      " 'playwright/page_count/max_concurrent': 2,\n",
      " 'playwright/request_count': 14291,\n",
      " 'playwright/request_count/method/GET': 13619,\n",
      " 'playwright/request_count/method/POST': 672,\n",
      " 'playwright/request_count/navigation': 52,\n",
      " 'playwright/request_count/resource_type/document': 52,\n",
      " 'playwright/request_count/resource_type/fetch': 646,\n",
      " 'playwright/request_count/resource_type/font': 154,\n",
      " 'playwright/request_count/resource_type/image': 1472,\n",
      " 'playwright/request_count/resource_type/other': 266,\n",
      " 'playwright/request_count/resource_type/ping': 101,\n",
      " 'playwright/request_count/resource_type/script': 6927,\n",
      " 'playwright/request_count/resource_type/stylesheet': 4197,\n",
      " 'playwright/request_count/resource_type/xhr': 476,\n",
      " 'playwright/response_count': 13846,\n",
      " 'playwright/response_count/method/GET': 13312,\n",
      " 'playwright/response_count/method/POST': 534,\n",
      " 'playwright/response_count/resource_type/document': 52,\n",
      " 'playwright/response_count/resource_type/fetch': 461,\n",
      " 'playwright/response_count/resource_type/font': 154,\n",
      " 'playwright/response_count/resource_type/image': 1300,\n",
      " 'playwright/response_count/resource_type/other': 266,\n",
      " 'playwright/response_count/resource_type/ping': 77,\n",
      " 'playwright/response_count/resource_type/script': 6915,\n",
      " 'playwright/response_count/resource_type/stylesheet': 4181,\n",
      " 'playwright/response_count/resource_type/xhr': 440,\n",
      " 'request_depth_max': 1,\n",
      " 'response_received_count': 52,\n",
      " 'responses_per_minute': 13.448275862068966,\n",
      " 'scheduler/dequeued': 52,\n",
      " 'scheduler/dequeued/memory': 52,\n",
      " 'scheduler/enqueued': 52,\n",
      " 'scheduler/enqueued/memory': 52,\n",
      " 'start_time': datetime.datetime(2025, 9, 6, 8, 12, 20, 911876, tzinfo=datetime.timezone.utc)}\n",
      "2025-09-06 10:16:13 [scrapy.core.engine] INFO: Spider closed (finished)\n",
      "2025-09-06 10:16:13 [scrapy-playwright] INFO: Closing download handler\n",
      "2025-09-06 10:16:13 [scrapy-playwright] INFO: Closing download handler\n",
      "2025-09-06 10:16:13 [scrapy-playwright] INFO: Closing browser\n",
      "⏳ Pause 30s avant le prochain batch...\n",
      "\n",
      "🚀 Lancement batch 9: ['Lyon', 'Gorges du Verdon']\n",
      "\n",
      "2025-09-06 10:16:45 [scrapy.utils.log] INFO: Scrapy 2.13.3 started (bot: scrapybot)\n",
      "2025-09-06 10:16:45 [scrapy.utils.log] INFO: Versions:\n",
      "{'lxml': '6.0.1',\n",
      " 'libxml2': '2.14.5',\n",
      " 'cssselect': '1.3.0',\n",
      " 'parsel': '1.10.0',\n",
      " 'w3lib': '2.3.1',\n",
      " 'Twisted': '25.5.0',\n",
      " 'Python': '3.10.18 (main, Jun  5 2025, 13:14:17) [GCC 11.2.0]',\n",
      " 'pyOpenSSL': '25.1.0 (OpenSSL 3.5.2 5 Aug 2025)',\n",
      " 'cryptography': '45.0.7',\n",
      " 'Platform': 'Linux-5.15.167.4-microsoft-standard-WSL2-x86_64-with-glibc2.39'}\n",
      "2025-09-06 10:16:45 [scrapy.addons] INFO: Enabled addons:\n",
      "[]\n",
      "2025-09-06 10:16:45 [scrapy.extensions.telnet] INFO: Telnet Password: 32bb4de62002ab85\n",
      "2025-09-06 10:16:45 [scrapy.middleware] INFO: Enabled extensions:\n",
      "['scrapy.extensions.corestats.CoreStats',\n",
      " 'scrapy.extensions.telnet.TelnetConsole',\n",
      " 'scrapy.extensions.memusage.MemoryUsage',\n",
      " 'scrapy.extensions.logstats.LogStats',\n",
      " 'scrapy.extensions.throttle.AutoThrottle']\n",
      "2025-09-06 10:16:45 [scrapy.crawler] INFO: Overridden settings:\n",
      "{'AUTOTHROTTLE_ENABLED': True,\n",
      " 'AUTOTHROTTLE_MAX_DELAY': 10,\n",
      " 'AUTOTHROTTLE_START_DELAY': 1,\n",
      " 'DOWNLOAD_DELAY': 2.0,\n",
      " 'LOG_LEVEL': 'INFO',\n",
      " 'RETRY_TIMES': 3,\n",
      " 'USER_AGENT': 'Mozilla/5.0 (Windows NT 10.0; Win64; x64) AppleWebKit/537.36 '\n",
      "               '(KHTML, like Gecko) Chrome/115.0.0.0 Safari/537.36'}\n",
      "2025-09-06 10:16:45 [scrapy.middleware] INFO: Enabled downloader middlewares:\n",
      "['scrapy.downloadermiddlewares.offsite.OffsiteMiddleware',\n",
      " 'scrapy.downloadermiddlewares.httpauth.HttpAuthMiddleware',\n",
      " 'scrapy.downloadermiddlewares.downloadtimeout.DownloadTimeoutMiddleware',\n",
      " 'scrapy.downloadermiddlewares.defaultheaders.DefaultHeadersMiddleware',\n",
      " 'scrapy.downloadermiddlewares.useragent.UserAgentMiddleware',\n",
      " 'scrapy.downloadermiddlewares.retry.RetryMiddleware',\n",
      " 'scrapy.downloadermiddlewares.redirect.MetaRefreshMiddleware',\n",
      " 'scrapy.downloadermiddlewares.httpcompression.HttpCompressionMiddleware',\n",
      " 'scrapy.downloadermiddlewares.redirect.RedirectMiddleware',\n",
      " 'scrapy.downloadermiddlewares.cookies.CookiesMiddleware',\n",
      " 'scrapy.downloadermiddlewares.httpproxy.HttpProxyMiddleware',\n",
      " 'scrapy.downloadermiddlewares.stats.DownloaderStats']\n",
      "2025-09-06 10:16:45 [scrapy.middleware] INFO: Enabled spider middlewares:\n",
      "['scrapy.spidermiddlewares.start.StartSpiderMiddleware',\n",
      " 'scrapy.spidermiddlewares.httperror.HttpErrorMiddleware',\n",
      " 'scrapy.spidermiddlewares.referer.RefererMiddleware',\n",
      " 'scrapy.spidermiddlewares.urllength.UrlLengthMiddleware',\n",
      " 'scrapy.spidermiddlewares.depth.DepthMiddleware']\n",
      "2025-09-06 10:16:45 [scrapy.middleware] INFO: Enabled item pipelines:\n",
      "[]\n",
      "2025-09-06 10:16:45 [scrapy.core.engine] INFO: Spider opened\n",
      "2025-09-06 10:16:45 [py.warnings] WARNING: /home/m_bar/miniconda3/envs/kayak/lib/python3.10/site-packages/scrapy/core/spidermw.py:433: ScrapyDeprecationWarning: __main__.BookingSpider defines the deprecated start_requests() method. start_requests() has been deprecated in favor of a new method, start(), to support asynchronous code execution. start_requests() will stop being called in a future version of Scrapy. If you use Scrapy 2.13 or higher only, replace start_requests() with start(); note that start() is a coroutine (async def). If you need to maintain compatibility with lower Scrapy versions, when overriding start_requests() in a spider class, override start() as well; you can use super() to reuse the inherited start() implementation without copy-pasting. See the release notes of Scrapy 2.13 for details: https://docs.scrapy.org/en/2.13/news.html\n",
      "  warn(\n",
      "\n",
      "2025-09-06 10:16:45 [scrapy.extensions.logstats] INFO: Crawled 0 pages (at 0 pages/min), scraped 0 items (at 0 items/min)\n",
      "2025-09-06 10:16:45 [scrapy.extensions.telnet] INFO: Telnet console listening on 127.0.0.1:6023\n",
      "2025-09-06 10:16:45 [scrapy-playwright] INFO: Starting download handler\n",
      "2025-09-06 10:16:45 [scrapy-playwright] INFO: Starting download handler\n",
      "2025-09-06 10:16:46 [scrapy-playwright] INFO: Launching browser chromium\n",
      "2025-09-06 10:16:46 [scrapy-playwright] INFO: Browser chromium launched\n",
      "2025-09-06 10:17:45 [scrapy.extensions.logstats] INFO: Crawled 14 pages (at 14 pages/min), scraped 0 items (at 0 items/min)\n",
      "2025-09-06 10:18:48 [scrapy.extensions.logstats] INFO: Crawled 27 pages (at 13 pages/min), scraped 0 items (at 0 items/min)\n",
      "2025-09-06 10:19:45 [scrapy.extensions.logstats] INFO: Crawled 39 pages (at 12 pages/min), scraped 0 items (at 0 items/min)\n",
      "2025-09-06 10:20:41 [scrapy.core.engine] INFO: Closing spider (finished)\n",
      "2025-09-06 10:20:41 [booking] INFO: Résultats sauvegardés dans booking_results/results_lyon.json\n",
      "2025-09-06 10:20:41 [booking] INFO: Résultats sauvegardés dans booking_results/results_gorges_du_verdon.json\n",
      "2025-09-06 10:20:41 [scrapy.statscollectors] INFO: Dumping Scrapy stats:\n",
      "{'downloader/request_bytes': 40570,\n",
      " 'downloader/request_count': 52,\n",
      " 'downloader/request_method_count/GET': 52,\n",
      " 'downloader/response_bytes': 79263291,\n",
      " 'downloader/response_count': 52,\n",
      " 'downloader/response_status_count/200': 52,\n",
      " 'dupefilter/filtered': 50,\n",
      " 'elapsed_time_seconds': 235.881761,\n",
      " 'finish_reason': 'finished',\n",
      " 'finish_time': datetime.datetime(2025, 9, 6, 8, 20, 41, 731835, tzinfo=datetime.timezone.utc),\n",
      " 'items_per_minute': 0.0,\n",
      " 'log_count/INFO': 19,\n",
      " 'log_count/WARNING': 1,\n",
      " 'memusage/max': 157396992,\n",
      " 'memusage/startup': 63553536,\n",
      " 'playwright/browser_count': 1,\n",
      " 'playwright/context_count': 1,\n",
      " 'playwright/context_count/max_concurrent': 1,\n",
      " 'playwright/context_count/persistent/False': 1,\n",
      " 'playwright/context_count/remote/False': 1,\n",
      " 'playwright/page_count': 52,\n",
      " 'playwright/page_count/closed': 52,\n",
      " 'playwright/page_count/max_concurrent': 2,\n",
      " 'playwright/request_count': 14240,\n",
      " 'playwright/request_count/method/GET': 13574,\n",
      " 'playwright/request_count/method/POST': 666,\n",
      " 'playwright/request_count/navigation': 52,\n",
      " 'playwright/request_count/resource_type/document': 52,\n",
      " 'playwright/request_count/resource_type/fetch': 631,\n",
      " 'playwright/request_count/resource_type/font': 154,\n",
      " 'playwright/request_count/resource_type/image': 1473,\n",
      " 'playwright/request_count/resource_type/other': 266,\n",
      " 'playwright/request_count/resource_type/ping': 101,\n",
      " 'playwright/request_count/resource_type/script': 6903,\n",
      " 'playwright/request_count/resource_type/stylesheet': 4191,\n",
      " 'playwright/request_count/resource_type/xhr': 469,\n",
      " 'playwright/response_count': 13783,\n",
      " 'playwright/response_count/method/GET': 13267,\n",
      " 'playwright/response_count/method/POST': 516,\n",
      " 'playwright/response_count/resource_type/document': 52,\n",
      " 'playwright/response_count/resource_type/fetch': 419,\n",
      " 'playwright/response_count/resource_type/font': 154,\n",
      " 'playwright/response_count/resource_type/image': 1310,\n",
      " 'playwright/response_count/resource_type/other': 266,\n",
      " 'playwright/response_count/resource_type/ping': 89,\n",
      " 'playwright/response_count/resource_type/script': 6887,\n",
      " 'playwright/response_count/resource_type/stylesheet': 4174,\n",
      " 'playwright/response_count/resource_type/xhr': 432,\n",
      " 'request_depth_max': 1,\n",
      " 'response_received_count': 52,\n",
      " 'responses_per_minute': 13.27659574468085,\n",
      " 'scheduler/dequeued': 52,\n",
      " 'scheduler/dequeued/memory': 52,\n",
      " 'scheduler/enqueued': 52,\n",
      " 'scheduler/enqueued/memory': 52,\n",
      " 'start_time': datetime.datetime(2025, 9, 6, 8, 16, 45, 850074, tzinfo=datetime.timezone.utc)}\n",
      "2025-09-06 10:20:41 [scrapy.core.engine] INFO: Spider closed (finished)\n",
      "2025-09-06 10:20:41 [scrapy-playwright] INFO: Closing download handler\n",
      "2025-09-06 10:20:41 [scrapy-playwright] INFO: Closing download handler\n",
      "2025-09-06 10:20:41 [scrapy-playwright] INFO: Closing browser\n",
      "⏳ Pause 30s avant le prochain batch...\n",
      "\n",
      "🚀 Lancement batch 10: ['Bormes les Mimosas', 'CassisMarseille']\n",
      "\n",
      "2025-09-06 10:21:13 [scrapy.utils.log] INFO: Scrapy 2.13.3 started (bot: scrapybot)\n",
      "2025-09-06 10:21:13 [scrapy.utils.log] INFO: Versions:\n",
      "{'lxml': '6.0.1',\n",
      " 'libxml2': '2.14.5',\n",
      " 'cssselect': '1.3.0',\n",
      " 'parsel': '1.10.0',\n",
      " 'w3lib': '2.3.1',\n",
      " 'Twisted': '25.5.0',\n",
      " 'Python': '3.10.18 (main, Jun  5 2025, 13:14:17) [GCC 11.2.0]',\n",
      " 'pyOpenSSL': '25.1.0 (OpenSSL 3.5.2 5 Aug 2025)',\n",
      " 'cryptography': '45.0.7',\n",
      " 'Platform': 'Linux-5.15.167.4-microsoft-standard-WSL2-x86_64-with-glibc2.39'}\n",
      "2025-09-06 10:21:13 [scrapy.addons] INFO: Enabled addons:\n",
      "[]\n",
      "2025-09-06 10:21:13 [scrapy.extensions.telnet] INFO: Telnet Password: 7061965d91df3dda\n",
      "2025-09-06 10:21:13 [scrapy.middleware] INFO: Enabled extensions:\n",
      "['scrapy.extensions.corestats.CoreStats',\n",
      " 'scrapy.extensions.telnet.TelnetConsole',\n",
      " 'scrapy.extensions.memusage.MemoryUsage',\n",
      " 'scrapy.extensions.logstats.LogStats',\n",
      " 'scrapy.extensions.throttle.AutoThrottle']\n",
      "2025-09-06 10:21:13 [scrapy.crawler] INFO: Overridden settings:\n",
      "{'AUTOTHROTTLE_ENABLED': True,\n",
      " 'AUTOTHROTTLE_MAX_DELAY': 10,\n",
      " 'AUTOTHROTTLE_START_DELAY': 1,\n",
      " 'DOWNLOAD_DELAY': 2.0,\n",
      " 'LOG_LEVEL': 'INFO',\n",
      " 'RETRY_TIMES': 3,\n",
      " 'USER_AGENT': 'Mozilla/5.0 (Windows NT 10.0; Win64; x64) AppleWebKit/537.36 '\n",
      "               '(KHTML, like Gecko) Chrome/115.0.0.0 Safari/537.36'}\n",
      "2025-09-06 10:21:13 [scrapy.middleware] INFO: Enabled downloader middlewares:\n",
      "['scrapy.downloadermiddlewares.offsite.OffsiteMiddleware',\n",
      " 'scrapy.downloadermiddlewares.httpauth.HttpAuthMiddleware',\n",
      " 'scrapy.downloadermiddlewares.downloadtimeout.DownloadTimeoutMiddleware',\n",
      " 'scrapy.downloadermiddlewares.defaultheaders.DefaultHeadersMiddleware',\n",
      " 'scrapy.downloadermiddlewares.useragent.UserAgentMiddleware',\n",
      " 'scrapy.downloadermiddlewares.retry.RetryMiddleware',\n",
      " 'scrapy.downloadermiddlewares.redirect.MetaRefreshMiddleware',\n",
      " 'scrapy.downloadermiddlewares.httpcompression.HttpCompressionMiddleware',\n",
      " 'scrapy.downloadermiddlewares.redirect.RedirectMiddleware',\n",
      " 'scrapy.downloadermiddlewares.cookies.CookiesMiddleware',\n",
      " 'scrapy.downloadermiddlewares.httpproxy.HttpProxyMiddleware',\n",
      " 'scrapy.downloadermiddlewares.stats.DownloaderStats']\n",
      "2025-09-06 10:21:13 [scrapy.middleware] INFO: Enabled spider middlewares:\n",
      "['scrapy.spidermiddlewares.start.StartSpiderMiddleware',\n",
      " 'scrapy.spidermiddlewares.httperror.HttpErrorMiddleware',\n",
      " 'scrapy.spidermiddlewares.referer.RefererMiddleware',\n",
      " 'scrapy.spidermiddlewares.urllength.UrlLengthMiddleware',\n",
      " 'scrapy.spidermiddlewares.depth.DepthMiddleware']\n",
      "2025-09-06 10:21:13 [scrapy.middleware] INFO: Enabled item pipelines:\n",
      "[]\n",
      "2025-09-06 10:21:13 [scrapy.core.engine] INFO: Spider opened\n",
      "2025-09-06 10:21:13 [py.warnings] WARNING: /home/m_bar/miniconda3/envs/kayak/lib/python3.10/site-packages/scrapy/core/spidermw.py:433: ScrapyDeprecationWarning: __main__.BookingSpider defines the deprecated start_requests() method. start_requests() has been deprecated in favor of a new method, start(), to support asynchronous code execution. start_requests() will stop being called in a future version of Scrapy. If you use Scrapy 2.13 or higher only, replace start_requests() with start(); note that start() is a coroutine (async def). If you need to maintain compatibility with lower Scrapy versions, when overriding start_requests() in a spider class, override start() as well; you can use super() to reuse the inherited start() implementation without copy-pasting. See the release notes of Scrapy 2.13 for details: https://docs.scrapy.org/en/2.13/news.html\n",
      "  warn(\n",
      "\n",
      "2025-09-06 10:21:13 [scrapy.extensions.logstats] INFO: Crawled 0 pages (at 0 pages/min), scraped 0 items (at 0 items/min)\n",
      "2025-09-06 10:21:13 [scrapy.extensions.telnet] INFO: Telnet console listening on 127.0.0.1:6023\n",
      "2025-09-06 10:21:13 [scrapy-playwright] INFO: Starting download handler\n",
      "2025-09-06 10:21:13 [scrapy-playwright] INFO: Starting download handler\n",
      "2025-09-06 10:21:13 [scrapy-playwright] INFO: Launching browser chromium\n",
      "2025-09-06 10:21:13 [scrapy-playwright] INFO: Browser chromium launched\n",
      "2025-09-06 10:22:13 [scrapy.extensions.logstats] INFO: Crawled 15 pages (at 15 pages/min), scraped 0 items (at 0 items/min)\n",
      "2025-09-06 10:23:13 [scrapy.extensions.logstats] INFO: Crawled 29 pages (at 14 pages/min), scraped 0 items (at 0 items/min)\n",
      "2025-09-06 10:24:13 [scrapy.extensions.logstats] INFO: Crawled 45 pages (at 16 pages/min), scraped 0 items (at 0 items/min)\n",
      "2025-09-06 10:24:35 [scrapy.core.engine] INFO: Closing spider (finished)\n",
      "2025-09-06 10:24:35 [booking] INFO: Résultats sauvegardés dans booking_results/results_bormes_les_mimosas.json\n",
      "2025-09-06 10:24:35 [booking] INFO: Résultats sauvegardés dans booking_results/results_cassismarseille.json\n",
      "2025-09-06 10:24:35 [scrapy.statscollectors] INFO: Dumping Scrapy stats:\n",
      "{'downloader/request_bytes': 42721,\n",
      " 'downloader/request_count': 52,\n",
      " 'downloader/request_method_count/GET': 52,\n",
      " 'downloader/response_bytes': 71601519,\n",
      " 'downloader/response_count': 52,\n",
      " 'downloader/response_status_count/200': 51,\n",
      " 'downloader/response_status_count/202': 1,\n",
      " 'dupefilter/filtered': 50,\n",
      " 'elapsed_time_seconds': 202.54017,\n",
      " 'finish_reason': 'finished',\n",
      " 'finish_time': datetime.datetime(2025, 9, 6, 8, 24, 35, 772876, tzinfo=datetime.timezone.utc),\n",
      " 'items_per_minute': 0.0,\n",
      " 'log_count/INFO': 19,\n",
      " 'log_count/WARNING': 1,\n",
      " 'memusage/max': 140070912,\n",
      " 'memusage/startup': 63725568,\n",
      " 'playwright/browser_count': 1,\n",
      " 'playwright/context_count': 1,\n",
      " 'playwright/context_count/max_concurrent': 1,\n",
      " 'playwright/context_count/persistent/False': 1,\n",
      " 'playwright/context_count/remote/False': 1,\n",
      " 'playwright/page_count': 52,\n",
      " 'playwright/page_count/closed': 52,\n",
      " 'playwright/page_count/max_concurrent': 2,\n",
      " 'playwright/request_count': 13613,\n",
      " 'playwright/request_count/method/GET': 12951,\n",
      " 'playwright/request_count/method/POST': 662,\n",
      " 'playwright/request_count/navigation': 53,\n",
      " 'playwright/request_count/resource_type/document': 53,\n",
      " 'playwright/request_count/resource_type/fetch': 649,\n",
      " 'playwright/request_count/resource_type/font': 154,\n",
      " 'playwright/request_count/resource_type/image': 1000,\n",
      " 'playwright/request_count/resource_type/other': 266,\n",
      " 'playwright/request_count/resource_type/ping': 98,\n",
      " 'playwright/request_count/resource_type/script': 6750,\n",
      " 'playwright/request_count/resource_type/stylesheet': 4181,\n",
      " 'playwright/request_count/resource_type/xhr': 462,\n",
      " 'playwright/response_count': 13234,\n",
      " 'playwright/response_count/method/GET': 12754,\n",
      " 'playwright/response_count/method/POST': 480,\n",
      " 'playwright/response_count/resource_type/document': 53,\n",
      " 'playwright/response_count/resource_type/fetch': 425,\n",
      " 'playwright/response_count/resource_type/font': 154,\n",
      " 'playwright/response_count/resource_type/image': 945,\n",
      " 'playwright/response_count/resource_type/other': 266,\n",
      " 'playwright/response_count/resource_type/ping': 64,\n",
      " 'playwright/response_count/resource_type/script': 6740,\n",
      " 'playwright/response_count/resource_type/stylesheet': 4168,\n",
      " 'playwright/response_count/resource_type/xhr': 419,\n",
      " 'request_depth_max': 1,\n",
      " 'response_received_count': 52,\n",
      " 'responses_per_minute': 15.445544554455445,\n",
      " 'scheduler/dequeued': 52,\n",
      " 'scheduler/dequeued/memory': 52,\n",
      " 'scheduler/enqueued': 52,\n",
      " 'scheduler/enqueued/memory': 52,\n",
      " 'start_time': datetime.datetime(2025, 9, 6, 8, 21, 13, 232706, tzinfo=datetime.timezone.utc)}\n",
      "2025-09-06 10:24:35 [scrapy.core.engine] INFO: Spider closed (finished)\n",
      "2025-09-06 10:24:35 [scrapy-playwright] INFO: Closing download handler\n",
      "2025-09-06 10:24:35 [scrapy-playwright] INFO: Closing download handler\n",
      "2025-09-06 10:24:35 [scrapy-playwright] INFO: Closing browser\n",
      "⏳ Pause 30s avant le prochain batch...\n",
      "\n",
      "🚀 Lancement batch 11: ['Aix en Provence', 'Avignon']\n",
      "\n",
      "2025-09-06 10:25:07 [scrapy.utils.log] INFO: Scrapy 2.13.3 started (bot: scrapybot)\n",
      "2025-09-06 10:25:07 [scrapy.utils.log] INFO: Versions:\n",
      "{'lxml': '6.0.1',\n",
      " 'libxml2': '2.14.5',\n",
      " 'cssselect': '1.3.0',\n",
      " 'parsel': '1.10.0',\n",
      " 'w3lib': '2.3.1',\n",
      " 'Twisted': '25.5.0',\n",
      " 'Python': '3.10.18 (main, Jun  5 2025, 13:14:17) [GCC 11.2.0]',\n",
      " 'pyOpenSSL': '25.1.0 (OpenSSL 3.5.2 5 Aug 2025)',\n",
      " 'cryptography': '45.0.7',\n",
      " 'Platform': 'Linux-5.15.167.4-microsoft-standard-WSL2-x86_64-with-glibc2.39'}\n",
      "2025-09-06 10:25:07 [scrapy.addons] INFO: Enabled addons:\n",
      "[]\n",
      "2025-09-06 10:25:07 [scrapy.extensions.telnet] INFO: Telnet Password: e2c9c5f21cb4af8f\n",
      "2025-09-06 10:25:07 [scrapy.middleware] INFO: Enabled extensions:\n",
      "['scrapy.extensions.corestats.CoreStats',\n",
      " 'scrapy.extensions.telnet.TelnetConsole',\n",
      " 'scrapy.extensions.memusage.MemoryUsage',\n",
      " 'scrapy.extensions.logstats.LogStats',\n",
      " 'scrapy.extensions.throttle.AutoThrottle']\n",
      "2025-09-06 10:25:07 [scrapy.crawler] INFO: Overridden settings:\n",
      "{'AUTOTHROTTLE_ENABLED': True,\n",
      " 'AUTOTHROTTLE_MAX_DELAY': 10,\n",
      " 'AUTOTHROTTLE_START_DELAY': 1,\n",
      " 'DOWNLOAD_DELAY': 2.0,\n",
      " 'LOG_LEVEL': 'INFO',\n",
      " 'RETRY_TIMES': 3,\n",
      " 'USER_AGENT': 'Mozilla/5.0 (Windows NT 10.0; Win64; x64) AppleWebKit/537.36 '\n",
      "               '(KHTML, like Gecko) Chrome/115.0.0.0 Safari/537.36'}\n",
      "2025-09-06 10:25:07 [scrapy.middleware] INFO: Enabled downloader middlewares:\n",
      "['scrapy.downloadermiddlewares.offsite.OffsiteMiddleware',\n",
      " 'scrapy.downloadermiddlewares.httpauth.HttpAuthMiddleware',\n",
      " 'scrapy.downloadermiddlewares.downloadtimeout.DownloadTimeoutMiddleware',\n",
      " 'scrapy.downloadermiddlewares.defaultheaders.DefaultHeadersMiddleware',\n",
      " 'scrapy.downloadermiddlewares.useragent.UserAgentMiddleware',\n",
      " 'scrapy.downloadermiddlewares.retry.RetryMiddleware',\n",
      " 'scrapy.downloadermiddlewares.redirect.MetaRefreshMiddleware',\n",
      " 'scrapy.downloadermiddlewares.httpcompression.HttpCompressionMiddleware',\n",
      " 'scrapy.downloadermiddlewares.redirect.RedirectMiddleware',\n",
      " 'scrapy.downloadermiddlewares.cookies.CookiesMiddleware',\n",
      " 'scrapy.downloadermiddlewares.httpproxy.HttpProxyMiddleware',\n",
      " 'scrapy.downloadermiddlewares.stats.DownloaderStats']\n",
      "2025-09-06 10:25:07 [scrapy.middleware] INFO: Enabled spider middlewares:\n",
      "['scrapy.spidermiddlewares.start.StartSpiderMiddleware',\n",
      " 'scrapy.spidermiddlewares.httperror.HttpErrorMiddleware',\n",
      " 'scrapy.spidermiddlewares.referer.RefererMiddleware',\n",
      " 'scrapy.spidermiddlewares.urllength.UrlLengthMiddleware',\n",
      " 'scrapy.spidermiddlewares.depth.DepthMiddleware']\n",
      "2025-09-06 10:25:07 [scrapy.middleware] INFO: Enabled item pipelines:\n",
      "[]\n",
      "2025-09-06 10:25:07 [scrapy.core.engine] INFO: Spider opened\n",
      "2025-09-06 10:25:07 [py.warnings] WARNING: /home/m_bar/miniconda3/envs/kayak/lib/python3.10/site-packages/scrapy/core/spidermw.py:433: ScrapyDeprecationWarning: __main__.BookingSpider defines the deprecated start_requests() method. start_requests() has been deprecated in favor of a new method, start(), to support asynchronous code execution. start_requests() will stop being called in a future version of Scrapy. If you use Scrapy 2.13 or higher only, replace start_requests() with start(); note that start() is a coroutine (async def). If you need to maintain compatibility with lower Scrapy versions, when overriding start_requests() in a spider class, override start() as well; you can use super() to reuse the inherited start() implementation without copy-pasting. See the release notes of Scrapy 2.13 for details: https://docs.scrapy.org/en/2.13/news.html\n",
      "  warn(\n",
      "\n",
      "2025-09-06 10:25:07 [scrapy.extensions.logstats] INFO: Crawled 0 pages (at 0 pages/min), scraped 0 items (at 0 items/min)\n",
      "2025-09-06 10:25:07 [scrapy.extensions.telnet] INFO: Telnet console listening on 127.0.0.1:6023\n",
      "2025-09-06 10:25:07 [scrapy-playwright] INFO: Starting download handler\n",
      "2025-09-06 10:25:07 [scrapy-playwright] INFO: Starting download handler\n",
      "2025-09-06 10:25:07 [scrapy-playwright] INFO: Launching browser chromium\n",
      "2025-09-06 10:25:08 [scrapy-playwright] INFO: Browser chromium launched\n",
      "2025-09-06 10:26:07 [scrapy.extensions.logstats] INFO: Crawled 14 pages (at 14 pages/min), scraped 0 items (at 0 items/min)\n",
      "2025-09-06 10:27:07 [scrapy.extensions.logstats] INFO: Crawled 27 pages (at 13 pages/min), scraped 0 items (at 0 items/min)\n",
      "2025-09-06 10:28:07 [scrapy.extensions.logstats] INFO: Crawled 39 pages (at 12 pages/min), scraped 0 items (at 0 items/min)\n",
      "2025-09-06 10:28:58 [scrapy.core.engine] INFO: Closing spider (finished)\n",
      "2025-09-06 10:28:58 [booking] INFO: Résultats sauvegardés dans booking_results/results_aix_en_provence.json\n",
      "2025-09-06 10:28:58 [booking] INFO: Résultats sauvegardés dans booking_results/results_avignon.json\n",
      "2025-09-06 10:28:58 [scrapy.statscollectors] INFO: Dumping Scrapy stats:\n",
      "{'downloader/request_bytes': 41210,\n",
      " 'downloader/request_count': 52,\n",
      " 'downloader/request_method_count/GET': 52,\n",
      " 'downloader/response_bytes': 81746663,\n",
      " 'downloader/response_count': 52,\n",
      " 'downloader/response_status_count/200': 51,\n",
      " 'downloader/response_status_count/202': 1,\n",
      " 'dupefilter/filtered': 50,\n",
      " 'elapsed_time_seconds': 230.49604,\n",
      " 'finish_reason': 'finished',\n",
      " 'finish_time': datetime.datetime(2025, 9, 6, 8, 28, 58, 250795, tzinfo=datetime.timezone.utc),\n",
      " 'items_per_minute': 0.0,\n",
      " 'log_count/INFO': 19,\n",
      " 'log_count/WARNING': 1,\n",
      " 'memusage/max': 148344832,\n",
      " 'memusage/startup': 63590400,\n",
      " 'playwright/browser_count': 1,\n",
      " 'playwright/context_count': 1,\n",
      " 'playwright/context_count/max_concurrent': 1,\n",
      " 'playwright/context_count/persistent/False': 1,\n",
      " 'playwright/context_count/remote/False': 1,\n",
      " 'playwright/page_count': 52,\n",
      " 'playwright/page_count/closed': 52,\n",
      " 'playwright/page_count/max_concurrent': 2,\n",
      " 'playwright/request_count': 14427,\n",
      " 'playwright/request_count/method/GET': 13762,\n",
      " 'playwright/request_count/method/POST': 665,\n",
      " 'playwright/request_count/navigation': 53,\n",
      " 'playwright/request_count/resource_type/document': 53,\n",
      " 'playwright/request_count/resource_type/fetch': 638,\n",
      " 'playwright/request_count/resource_type/font': 154,\n",
      " 'playwright/request_count/resource_type/image': 1513,\n",
      " 'playwright/request_count/resource_type/other': 266,\n",
      " 'playwright/request_count/resource_type/ping': 99,\n",
      " 'playwright/request_count/resource_type/script': 7009,\n",
      " 'playwright/request_count/resource_type/stylesheet': 4227,\n",
      " 'playwright/request_count/resource_type/xhr': 468,\n",
      " 'playwright/response_count': 13953,\n",
      " 'playwright/response_count/method/GET': 13448,\n",
      " 'playwright/response_count/method/POST': 505,\n",
      " 'playwright/response_count/resource_type/document': 53,\n",
      " 'playwright/response_count/resource_type/fetch': 428,\n",
      " 'playwright/response_count/resource_type/font': 154,\n",
      " 'playwright/response_count/resource_type/image': 1344,\n",
      " 'playwright/response_count/resource_type/other': 266,\n",
      " 'playwright/response_count/resource_type/ping': 73,\n",
      " 'playwright/response_count/resource_type/script': 6993,\n",
      " 'playwright/response_count/resource_type/stylesheet': 4205,\n",
      " 'playwright/response_count/resource_type/xhr': 437,\n",
      " 'request_depth_max': 1,\n",
      " 'response_received_count': 52,\n",
      " 'responses_per_minute': 13.565217391304348,\n",
      " 'scheduler/dequeued': 52,\n",
      " 'scheduler/dequeued/memory': 52,\n",
      " 'scheduler/enqueued': 52,\n",
      " 'scheduler/enqueued/memory': 52,\n",
      " 'start_time': datetime.datetime(2025, 9, 6, 8, 25, 7, 754755, tzinfo=datetime.timezone.utc)}\n",
      "2025-09-06 10:28:58 [scrapy.core.engine] INFO: Spider closed (finished)\n",
      "2025-09-06 10:28:58 [scrapy-playwright] INFO: Closing download handler\n",
      "2025-09-06 10:28:58 [scrapy-playwright] INFO: Closing download handler\n",
      "2025-09-06 10:28:58 [scrapy-playwright] INFO: Closing browser\n",
      "⏳ Pause 30s avant le prochain batch...\n",
      "\n",
      "🚀 Lancement batch 12: ['Uzes', 'Nimes']\n",
      "\n",
      "2025-09-06 10:29:30 [scrapy.utils.log] INFO: Scrapy 2.13.3 started (bot: scrapybot)\n",
      "2025-09-06 10:29:30 [scrapy.utils.log] INFO: Versions:\n",
      "{'lxml': '6.0.1',\n",
      " 'libxml2': '2.14.5',\n",
      " 'cssselect': '1.3.0',\n",
      " 'parsel': '1.10.0',\n",
      " 'w3lib': '2.3.1',\n",
      " 'Twisted': '25.5.0',\n",
      " 'Python': '3.10.18 (main, Jun  5 2025, 13:14:17) [GCC 11.2.0]',\n",
      " 'pyOpenSSL': '25.1.0 (OpenSSL 3.5.2 5 Aug 2025)',\n",
      " 'cryptography': '45.0.7',\n",
      " 'Platform': 'Linux-5.15.167.4-microsoft-standard-WSL2-x86_64-with-glibc2.39'}\n",
      "2025-09-06 10:29:30 [scrapy.addons] INFO: Enabled addons:\n",
      "[]\n",
      "2025-09-06 10:29:30 [scrapy.extensions.telnet] INFO: Telnet Password: 80087a6b19903060\n",
      "2025-09-06 10:29:30 [scrapy.middleware] INFO: Enabled extensions:\n",
      "['scrapy.extensions.corestats.CoreStats',\n",
      " 'scrapy.extensions.telnet.TelnetConsole',\n",
      " 'scrapy.extensions.memusage.MemoryUsage',\n",
      " 'scrapy.extensions.logstats.LogStats',\n",
      " 'scrapy.extensions.throttle.AutoThrottle']\n",
      "2025-09-06 10:29:30 [scrapy.crawler] INFO: Overridden settings:\n",
      "{'AUTOTHROTTLE_ENABLED': True,\n",
      " 'AUTOTHROTTLE_MAX_DELAY': 10,\n",
      " 'AUTOTHROTTLE_START_DELAY': 1,\n",
      " 'DOWNLOAD_DELAY': 2.0,\n",
      " 'LOG_LEVEL': 'INFO',\n",
      " 'RETRY_TIMES': 3,\n",
      " 'USER_AGENT': 'Mozilla/5.0 (Windows NT 10.0; Win64; x64) AppleWebKit/537.36 '\n",
      "               '(KHTML, like Gecko) Chrome/115.0.0.0 Safari/537.36'}\n",
      "2025-09-06 10:29:30 [scrapy.middleware] INFO: Enabled downloader middlewares:\n",
      "['scrapy.downloadermiddlewares.offsite.OffsiteMiddleware',\n",
      " 'scrapy.downloadermiddlewares.httpauth.HttpAuthMiddleware',\n",
      " 'scrapy.downloadermiddlewares.downloadtimeout.DownloadTimeoutMiddleware',\n",
      " 'scrapy.downloadermiddlewares.defaultheaders.DefaultHeadersMiddleware',\n",
      " 'scrapy.downloadermiddlewares.useragent.UserAgentMiddleware',\n",
      " 'scrapy.downloadermiddlewares.retry.RetryMiddleware',\n",
      " 'scrapy.downloadermiddlewares.redirect.MetaRefreshMiddleware',\n",
      " 'scrapy.downloadermiddlewares.httpcompression.HttpCompressionMiddleware',\n",
      " 'scrapy.downloadermiddlewares.redirect.RedirectMiddleware',\n",
      " 'scrapy.downloadermiddlewares.cookies.CookiesMiddleware',\n",
      " 'scrapy.downloadermiddlewares.httpproxy.HttpProxyMiddleware',\n",
      " 'scrapy.downloadermiddlewares.stats.DownloaderStats']\n",
      "2025-09-06 10:29:30 [scrapy.middleware] INFO: Enabled spider middlewares:\n",
      "['scrapy.spidermiddlewares.start.StartSpiderMiddleware',\n",
      " 'scrapy.spidermiddlewares.httperror.HttpErrorMiddleware',\n",
      " 'scrapy.spidermiddlewares.referer.RefererMiddleware',\n",
      " 'scrapy.spidermiddlewares.urllength.UrlLengthMiddleware',\n",
      " 'scrapy.spidermiddlewares.depth.DepthMiddleware']\n",
      "2025-09-06 10:29:30 [scrapy.middleware] INFO: Enabled item pipelines:\n",
      "[]\n",
      "2025-09-06 10:29:30 [scrapy.core.engine] INFO: Spider opened\n",
      "2025-09-06 10:29:30 [py.warnings] WARNING: /home/m_bar/miniconda3/envs/kayak/lib/python3.10/site-packages/scrapy/core/spidermw.py:433: ScrapyDeprecationWarning: __main__.BookingSpider defines the deprecated start_requests() method. start_requests() has been deprecated in favor of a new method, start(), to support asynchronous code execution. start_requests() will stop being called in a future version of Scrapy. If you use Scrapy 2.13 or higher only, replace start_requests() with start(); note that start() is a coroutine (async def). If you need to maintain compatibility with lower Scrapy versions, when overriding start_requests() in a spider class, override start() as well; you can use super() to reuse the inherited start() implementation without copy-pasting. See the release notes of Scrapy 2.13 for details: https://docs.scrapy.org/en/2.13/news.html\n",
      "  warn(\n",
      "\n",
      "2025-09-06 10:29:30 [scrapy.extensions.logstats] INFO: Crawled 0 pages (at 0 pages/min), scraped 0 items (at 0 items/min)\n",
      "2025-09-06 10:29:30 [scrapy.extensions.telnet] INFO: Telnet console listening on 127.0.0.1:6023\n",
      "2025-09-06 10:29:30 [scrapy-playwright] INFO: Starting download handler\n",
      "2025-09-06 10:29:30 [scrapy-playwright] INFO: Starting download handler\n",
      "2025-09-06 10:29:30 [scrapy-playwright] INFO: Launching browser chromium\n",
      "2025-09-06 10:29:30 [scrapy-playwright] INFO: Browser chromium launched\n",
      "2025-09-06 10:30:30 [scrapy.extensions.logstats] INFO: Crawled 14 pages (at 14 pages/min), scraped 0 items (at 0 items/min)\n",
      "2025-09-06 10:31:30 [scrapy.extensions.logstats] INFO: Crawled 27 pages (at 13 pages/min), scraped 0 items (at 0 items/min)\n",
      "2025-09-06 10:32:30 [scrapy.extensions.logstats] INFO: Crawled 39 pages (at 12 pages/min), scraped 0 items (at 0 items/min)\n",
      "2025-09-06 10:33:22 [scrapy.core.engine] INFO: Closing spider (finished)\n",
      "2025-09-06 10:33:22 [booking] INFO: Résultats sauvegardés dans booking_results/results_uzes.json\n",
      "2025-09-06 10:33:22 [booking] INFO: Résultats sauvegardés dans booking_results/results_nimes.json\n",
      "2025-09-06 10:33:22 [scrapy.statscollectors] INFO: Dumping Scrapy stats:\n",
      "{'downloader/request_bytes': 40346,\n",
      " 'downloader/request_count': 52,\n",
      " 'downloader/request_method_count/GET': 52,\n",
      " 'downloader/response_bytes': 78100334,\n",
      " 'downloader/response_count': 52,\n",
      " 'downloader/response_status_count/200': 51,\n",
      " 'downloader/response_status_count/202': 1,\n",
      " 'dupefilter/filtered': 50,\n",
      " 'elapsed_time_seconds': 232.551932,\n",
      " 'finish_reason': 'finished',\n",
      " 'finish_time': datetime.datetime(2025, 9, 6, 8, 33, 22, 788273, tzinfo=datetime.timezone.utc),\n",
      " 'items_per_minute': 0.0,\n",
      " 'log_count/INFO': 19,\n",
      " 'log_count/WARNING': 1,\n",
      " 'memusage/max': 143892480,\n",
      " 'memusage/startup': 63713280,\n",
      " 'playwright/browser_count': 1,\n",
      " 'playwright/context_count': 1,\n",
      " 'playwright/context_count/max_concurrent': 1,\n",
      " 'playwright/context_count/persistent/False': 1,\n",
      " 'playwright/context_count/remote/False': 1,\n",
      " 'playwright/page_count': 52,\n",
      " 'playwright/page_count/closed': 52,\n",
      " 'playwright/page_count/max_concurrent': 2,\n",
      " 'playwright/request_count': 14205,\n",
      " 'playwright/request_count/method/GET': 13537,\n",
      " 'playwright/request_count/method/POST': 668,\n",
      " 'playwright/request_count/navigation': 53,\n",
      " 'playwright/request_count/resource_type/document': 53,\n",
      " 'playwright/request_count/resource_type/fetch': 650,\n",
      " 'playwright/request_count/resource_type/font': 154,\n",
      " 'playwright/request_count/resource_type/image': 1482,\n",
      " 'playwright/request_count/resource_type/other': 266,\n",
      " 'playwright/request_count/resource_type/ping': 100,\n",
      " 'playwright/request_count/resource_type/script': 6870,\n",
      " 'playwright/request_count/resource_type/stylesheet': 4160,\n",
      " 'playwright/request_count/resource_type/xhr': 470,\n",
      " 'playwright/response_count': 13775,\n",
      " 'playwright/response_count/method/GET': 13241,\n",
      " 'playwright/response_count/method/POST': 534,\n",
      " 'playwright/response_count/resource_type/document': 53,\n",
      " 'playwright/response_count/resource_type/fetch': 484,\n",
      " 'playwright/response_count/resource_type/font': 154,\n",
      " 'playwright/response_count/resource_type/image': 1308,\n",
      " 'playwright/response_count/resource_type/other': 266,\n",
      " 'playwright/response_count/resource_type/ping': 64,\n",
      " 'playwright/response_count/resource_type/script': 6861,\n",
      " 'playwright/response_count/resource_type/stylesheet': 4146,\n",
      " 'playwright/response_count/resource_type/xhr': 439,\n",
      " 'request_depth_max': 1,\n",
      " 'response_received_count': 52,\n",
      " 'responses_per_minute': 13.448275862068966,\n",
      " 'scheduler/dequeued': 52,\n",
      " 'scheduler/dequeued/memory': 52,\n",
      " 'scheduler/enqueued': 52,\n",
      " 'scheduler/enqueued/memory': 52,\n",
      " 'start_time': datetime.datetime(2025, 9, 6, 8, 29, 30, 236341, tzinfo=datetime.timezone.utc)}\n",
      "2025-09-06 10:33:22 [scrapy.core.engine] INFO: Spider closed (finished)\n",
      "2025-09-06 10:33:22 [scrapy-playwright] INFO: Closing download handler\n",
      "2025-09-06 10:33:22 [scrapy-playwright] INFO: Closing download handler\n",
      "2025-09-06 10:33:22 [scrapy-playwright] INFO: Closing browser\n",
      "⏳ Pause 30s avant le prochain batch...\n",
      "\n",
      "🚀 Lancement batch 13: ['Aigues Mortes', 'Saintes Maries de la mer']\n",
      "\n",
      "2025-09-06 10:33:55 [scrapy.utils.log] INFO: Scrapy 2.13.3 started (bot: scrapybot)\n",
      "2025-09-06 10:33:55 [scrapy.utils.log] INFO: Versions:\n",
      "{'lxml': '6.0.1',\n",
      " 'libxml2': '2.14.5',\n",
      " 'cssselect': '1.3.0',\n",
      " 'parsel': '1.10.0',\n",
      " 'w3lib': '2.3.1',\n",
      " 'Twisted': '25.5.0',\n",
      " 'Python': '3.10.18 (main, Jun  5 2025, 13:14:17) [GCC 11.2.0]',\n",
      " 'pyOpenSSL': '25.1.0 (OpenSSL 3.5.2 5 Aug 2025)',\n",
      " 'cryptography': '45.0.7',\n",
      " 'Platform': 'Linux-5.15.167.4-microsoft-standard-WSL2-x86_64-with-glibc2.39'}\n",
      "2025-09-06 10:33:55 [scrapy.addons] INFO: Enabled addons:\n",
      "[]\n",
      "2025-09-06 10:33:55 [scrapy.extensions.telnet] INFO: Telnet Password: ba876c2f52dd4495\n",
      "2025-09-06 10:33:55 [scrapy.middleware] INFO: Enabled extensions:\n",
      "['scrapy.extensions.corestats.CoreStats',\n",
      " 'scrapy.extensions.telnet.TelnetConsole',\n",
      " 'scrapy.extensions.memusage.MemoryUsage',\n",
      " 'scrapy.extensions.logstats.LogStats',\n",
      " 'scrapy.extensions.throttle.AutoThrottle']\n",
      "2025-09-06 10:33:55 [scrapy.crawler] INFO: Overridden settings:\n",
      "{'AUTOTHROTTLE_ENABLED': True,\n",
      " 'AUTOTHROTTLE_MAX_DELAY': 10,\n",
      " 'AUTOTHROTTLE_START_DELAY': 1,\n",
      " 'DOWNLOAD_DELAY': 2.0,\n",
      " 'LOG_LEVEL': 'INFO',\n",
      " 'RETRY_TIMES': 3,\n",
      " 'USER_AGENT': 'Mozilla/5.0 (Windows NT 10.0; Win64; x64) AppleWebKit/537.36 '\n",
      "               '(KHTML, like Gecko) Chrome/115.0.0.0 Safari/537.36'}\n",
      "2025-09-06 10:33:55 [scrapy.middleware] INFO: Enabled downloader middlewares:\n",
      "['scrapy.downloadermiddlewares.offsite.OffsiteMiddleware',\n",
      " 'scrapy.downloadermiddlewares.httpauth.HttpAuthMiddleware',\n",
      " 'scrapy.downloadermiddlewares.downloadtimeout.DownloadTimeoutMiddleware',\n",
      " 'scrapy.downloadermiddlewares.defaultheaders.DefaultHeadersMiddleware',\n",
      " 'scrapy.downloadermiddlewares.useragent.UserAgentMiddleware',\n",
      " 'scrapy.downloadermiddlewares.retry.RetryMiddleware',\n",
      " 'scrapy.downloadermiddlewares.redirect.MetaRefreshMiddleware',\n",
      " 'scrapy.downloadermiddlewares.httpcompression.HttpCompressionMiddleware',\n",
      " 'scrapy.downloadermiddlewares.redirect.RedirectMiddleware',\n",
      " 'scrapy.downloadermiddlewares.cookies.CookiesMiddleware',\n",
      " 'scrapy.downloadermiddlewares.httpproxy.HttpProxyMiddleware',\n",
      " 'scrapy.downloadermiddlewares.stats.DownloaderStats']\n",
      "2025-09-06 10:33:55 [scrapy.middleware] INFO: Enabled spider middlewares:\n",
      "['scrapy.spidermiddlewares.start.StartSpiderMiddleware',\n",
      " 'scrapy.spidermiddlewares.httperror.HttpErrorMiddleware',\n",
      " 'scrapy.spidermiddlewares.referer.RefererMiddleware',\n",
      " 'scrapy.spidermiddlewares.urllength.UrlLengthMiddleware',\n",
      " 'scrapy.spidermiddlewares.depth.DepthMiddleware']\n",
      "2025-09-06 10:33:55 [scrapy.middleware] INFO: Enabled item pipelines:\n",
      "[]\n",
      "2025-09-06 10:33:55 [scrapy.core.engine] INFO: Spider opened\n",
      "2025-09-06 10:33:55 [py.warnings] WARNING: /home/m_bar/miniconda3/envs/kayak/lib/python3.10/site-packages/scrapy/core/spidermw.py:433: ScrapyDeprecationWarning: __main__.BookingSpider defines the deprecated start_requests() method. start_requests() has been deprecated in favor of a new method, start(), to support asynchronous code execution. start_requests() will stop being called in a future version of Scrapy. If you use Scrapy 2.13 or higher only, replace start_requests() with start(); note that start() is a coroutine (async def). If you need to maintain compatibility with lower Scrapy versions, when overriding start_requests() in a spider class, override start() as well; you can use super() to reuse the inherited start() implementation without copy-pasting. See the release notes of Scrapy 2.13 for details: https://docs.scrapy.org/en/2.13/news.html\n",
      "  warn(\n",
      "\n",
      "2025-09-06 10:33:55 [scrapy.extensions.logstats] INFO: Crawled 0 pages (at 0 pages/min), scraped 0 items (at 0 items/min)\n",
      "2025-09-06 10:33:55 [scrapy.extensions.telnet] INFO: Telnet console listening on 127.0.0.1:6023\n",
      "2025-09-06 10:33:55 [scrapy-playwright] INFO: Starting download handler\n",
      "2025-09-06 10:33:55 [scrapy-playwright] INFO: Starting download handler\n",
      "2025-09-06 10:33:55 [scrapy-playwright] INFO: Launching browser chromium\n",
      "2025-09-06 10:33:55 [scrapy-playwright] INFO: Browser chromium launched\n",
      "2025-09-06 10:34:55 [scrapy.extensions.logstats] INFO: Crawled 15 pages (at 15 pages/min), scraped 0 items (at 0 items/min)\n",
      "2025-09-06 10:35:55 [scrapy.extensions.logstats] INFO: Crawled 28 pages (at 13 pages/min), scraped 0 items (at 0 items/min)\n",
      "2025-09-06 10:36:55 [scrapy.extensions.logstats] INFO: Crawled 41 pages (at 13 pages/min), scraped 0 items (at 0 items/min)\n",
      "2025-09-06 10:37:38 [scrapy.core.engine] INFO: Closing spider (finished)\n",
      "2025-09-06 10:37:38 [booking] INFO: Résultats sauvegardés dans booking_results/results_aigues_mortes.json\n",
      "2025-09-06 10:37:38 [booking] INFO: Résultats sauvegardés dans booking_results/results_saintes_maries_de_la_mer.json\n",
      "2025-09-06 10:37:38 [scrapy.statscollectors] INFO: Dumping Scrapy stats:\n",
      "{'downloader/request_bytes': 42495,\n",
      " 'downloader/request_count': 52,\n",
      " 'downloader/request_method_count/GET': 52,\n",
      " 'downloader/response_bytes': 77587210,\n",
      " 'downloader/response_count': 52,\n",
      " 'downloader/response_status_count/200': 51,\n",
      " 'downloader/response_status_count/202': 1,\n",
      " 'dupefilter/filtered': 50,\n",
      " 'elapsed_time_seconds': 222.79356,\n",
      " 'finish_reason': 'finished',\n",
      " 'finish_time': datetime.datetime(2025, 9, 6, 8, 37, 38, 192404, tzinfo=datetime.timezone.utc),\n",
      " 'items_per_minute': 0.0,\n",
      " 'log_count/INFO': 19,\n",
      " 'log_count/WARNING': 1,\n",
      " 'memusage/max': 152920064,\n",
      " 'memusage/startup': 63594496,\n",
      " 'playwright/browser_count': 1,\n",
      " 'playwright/context_count': 1,\n",
      " 'playwright/context_count/max_concurrent': 1,\n",
      " 'playwright/context_count/persistent/False': 1,\n",
      " 'playwright/context_count/remote/False': 1,\n",
      " 'playwright/page_count': 52,\n",
      " 'playwright/page_count/closed': 52,\n",
      " 'playwright/page_count/max_concurrent': 2,\n",
      " 'playwright/request_count': 13855,\n",
      " 'playwright/request_count/method/GET': 13232,\n",
      " 'playwright/request_count/method/POST': 623,\n",
      " 'playwright/request_count/navigation': 53,\n",
      " 'playwright/request_count/resource_type/document': 53,\n",
      " 'playwright/request_count/resource_type/fetch': 653,\n",
      " 'playwright/request_count/resource_type/font': 154,\n",
      " 'playwright/request_count/resource_type/image': 1272,\n",
      " 'playwright/request_count/resource_type/other': 266,\n",
      " 'playwright/request_count/resource_type/ping': 101,\n",
      " 'playwright/request_count/resource_type/script': 6792,\n",
      " 'playwright/request_count/resource_type/stylesheet': 4141,\n",
      " 'playwright/request_count/resource_type/xhr': 423,\n",
      " 'playwright/response_count': 13427,\n",
      " 'playwright/response_count/method/GET': 12955,\n",
      " 'playwright/response_count/method/POST': 472,\n",
      " 'playwright/response_count/resource_type/document': 53,\n",
      " 'playwright/response_count/resource_type/fetch': 467,\n",
      " 'playwright/response_count/resource_type/font': 154,\n",
      " 'playwright/response_count/resource_type/image': 1121,\n",
      " 'playwright/response_count/resource_type/other': 265,\n",
      " 'playwright/response_count/resource_type/ping': 70,\n",
      " 'playwright/response_count/resource_type/script': 6783,\n",
      " 'playwright/response_count/resource_type/stylesheet': 4127,\n",
      " 'playwright/response_count/resource_type/xhr': 387,\n",
      " 'request_depth_max': 1,\n",
      " 'response_received_count': 52,\n",
      " 'responses_per_minute': 14.054054054054053,\n",
      " 'scheduler/dequeued': 52,\n",
      " 'scheduler/dequeued/memory': 52,\n",
      " 'scheduler/enqueued': 52,\n",
      " 'scheduler/enqueued/memory': 52,\n",
      " 'start_time': datetime.datetime(2025, 9, 6, 8, 33, 55, 398844, tzinfo=datetime.timezone.utc)}\n",
      "2025-09-06 10:37:38 [scrapy.core.engine] INFO: Spider closed (finished)\n",
      "2025-09-06 10:37:38 [scrapy-playwright] INFO: Closing download handler\n",
      "2025-09-06 10:37:38 [scrapy-playwright] INFO: Closing download handler\n",
      "2025-09-06 10:37:38 [scrapy-playwright] INFO: Closing browser\n",
      "⏳ Pause 30s avant le prochain batch...\n",
      "\n",
      "🚀 Lancement batch 14: ['Collioure', 'Carcassonne']\n",
      "\n",
      "2025-09-06 10:38:10 [scrapy.utils.log] INFO: Scrapy 2.13.3 started (bot: scrapybot)\n",
      "2025-09-06 10:38:10 [scrapy.utils.log] INFO: Versions:\n",
      "{'lxml': '6.0.1',\n",
      " 'libxml2': '2.14.5',\n",
      " 'cssselect': '1.3.0',\n",
      " 'parsel': '1.10.0',\n",
      " 'w3lib': '2.3.1',\n",
      " 'Twisted': '25.5.0',\n",
      " 'Python': '3.10.18 (main, Jun  5 2025, 13:14:17) [GCC 11.2.0]',\n",
      " 'pyOpenSSL': '25.1.0 (OpenSSL 3.5.2 5 Aug 2025)',\n",
      " 'cryptography': '45.0.7',\n",
      " 'Platform': 'Linux-5.15.167.4-microsoft-standard-WSL2-x86_64-with-glibc2.39'}\n",
      "2025-09-06 10:38:10 [scrapy.addons] INFO: Enabled addons:\n",
      "[]\n",
      "2025-09-06 10:38:10 [scrapy.extensions.telnet] INFO: Telnet Password: 4ea235fdf12cbd37\n",
      "2025-09-06 10:38:10 [scrapy.middleware] INFO: Enabled extensions:\n",
      "['scrapy.extensions.corestats.CoreStats',\n",
      " 'scrapy.extensions.telnet.TelnetConsole',\n",
      " 'scrapy.extensions.memusage.MemoryUsage',\n",
      " 'scrapy.extensions.logstats.LogStats',\n",
      " 'scrapy.extensions.throttle.AutoThrottle']\n",
      "2025-09-06 10:38:10 [scrapy.crawler] INFO: Overridden settings:\n",
      "{'AUTOTHROTTLE_ENABLED': True,\n",
      " 'AUTOTHROTTLE_MAX_DELAY': 10,\n",
      " 'AUTOTHROTTLE_START_DELAY': 1,\n",
      " 'DOWNLOAD_DELAY': 2.0,\n",
      " 'LOG_LEVEL': 'INFO',\n",
      " 'RETRY_TIMES': 3,\n",
      " 'USER_AGENT': 'Mozilla/5.0 (Windows NT 10.0; Win64; x64) AppleWebKit/537.36 '\n",
      "               '(KHTML, like Gecko) Chrome/115.0.0.0 Safari/537.36'}\n",
      "2025-09-06 10:38:10 [scrapy.middleware] INFO: Enabled downloader middlewares:\n",
      "['scrapy.downloadermiddlewares.offsite.OffsiteMiddleware',\n",
      " 'scrapy.downloadermiddlewares.httpauth.HttpAuthMiddleware',\n",
      " 'scrapy.downloadermiddlewares.downloadtimeout.DownloadTimeoutMiddleware',\n",
      " 'scrapy.downloadermiddlewares.defaultheaders.DefaultHeadersMiddleware',\n",
      " 'scrapy.downloadermiddlewares.useragent.UserAgentMiddleware',\n",
      " 'scrapy.downloadermiddlewares.retry.RetryMiddleware',\n",
      " 'scrapy.downloadermiddlewares.redirect.MetaRefreshMiddleware',\n",
      " 'scrapy.downloadermiddlewares.httpcompression.HttpCompressionMiddleware',\n",
      " 'scrapy.downloadermiddlewares.redirect.RedirectMiddleware',\n",
      " 'scrapy.downloadermiddlewares.cookies.CookiesMiddleware',\n",
      " 'scrapy.downloadermiddlewares.httpproxy.HttpProxyMiddleware',\n",
      " 'scrapy.downloadermiddlewares.stats.DownloaderStats']\n",
      "2025-09-06 10:38:10 [scrapy.middleware] INFO: Enabled spider middlewares:\n",
      "['scrapy.spidermiddlewares.start.StartSpiderMiddleware',\n",
      " 'scrapy.spidermiddlewares.httperror.HttpErrorMiddleware',\n",
      " 'scrapy.spidermiddlewares.referer.RefererMiddleware',\n",
      " 'scrapy.spidermiddlewares.urllength.UrlLengthMiddleware',\n",
      " 'scrapy.spidermiddlewares.depth.DepthMiddleware']\n",
      "2025-09-06 10:38:10 [scrapy.middleware] INFO: Enabled item pipelines:\n",
      "[]\n",
      "2025-09-06 10:38:10 [scrapy.core.engine] INFO: Spider opened\n",
      "2025-09-06 10:38:10 [py.warnings] WARNING: /home/m_bar/miniconda3/envs/kayak/lib/python3.10/site-packages/scrapy/core/spidermw.py:433: ScrapyDeprecationWarning: __main__.BookingSpider defines the deprecated start_requests() method. start_requests() has been deprecated in favor of a new method, start(), to support asynchronous code execution. start_requests() will stop being called in a future version of Scrapy. If you use Scrapy 2.13 or higher only, replace start_requests() with start(); note that start() is a coroutine (async def). If you need to maintain compatibility with lower Scrapy versions, when overriding start_requests() in a spider class, override start() as well; you can use super() to reuse the inherited start() implementation without copy-pasting. See the release notes of Scrapy 2.13 for details: https://docs.scrapy.org/en/2.13/news.html\n",
      "  warn(\n",
      "\n",
      "2025-09-06 10:38:10 [scrapy.extensions.logstats] INFO: Crawled 0 pages (at 0 pages/min), scraped 0 items (at 0 items/min)\n",
      "2025-09-06 10:38:10 [scrapy.extensions.telnet] INFO: Telnet console listening on 127.0.0.1:6023\n",
      "2025-09-06 10:38:10 [scrapy-playwright] INFO: Starting download handler\n",
      "2025-09-06 10:38:10 [scrapy-playwright] INFO: Starting download handler\n",
      "2025-09-06 10:38:10 [scrapy-playwright] INFO: Launching browser chromium\n",
      "2025-09-06 10:38:10 [scrapy-playwright] INFO: Browser chromium launched\n",
      "2025-09-06 10:39:10 [scrapy.extensions.logstats] INFO: Crawled 14 pages (at 14 pages/min), scraped 0 items (at 0 items/min)\n",
      "2025-09-06 10:40:10 [scrapy.extensions.logstats] INFO: Crawled 27 pages (at 13 pages/min), scraped 0 items (at 0 items/min)\n",
      "2025-09-06 10:41:10 [scrapy.extensions.logstats] INFO: Crawled 42 pages (at 15 pages/min), scraped 0 items (at 0 items/min)\n",
      "2025-09-06 10:41:55 [scrapy.core.engine] INFO: Closing spider (finished)\n",
      "2025-09-06 10:41:55 [booking] INFO: Résultats sauvegardés dans booking_results/results_collioure.json\n",
      "2025-09-06 10:41:55 [booking] INFO: Résultats sauvegardés dans booking_results/results_carcassonne.json\n",
      "2025-09-06 10:41:55 [scrapy.statscollectors] INFO: Dumping Scrapy stats:\n",
      "{'downloader/request_bytes': 40982,\n",
      " 'downloader/request_count': 52,\n",
      " 'downloader/request_method_count/GET': 52,\n",
      " 'downloader/response_bytes': 80999125,\n",
      " 'downloader/response_count': 52,\n",
      " 'downloader/response_status_count/200': 51,\n",
      " 'downloader/response_status_count/202': 1,\n",
      " 'dupefilter/filtered': 50,\n",
      " 'elapsed_time_seconds': 224.94889,\n",
      " 'finish_reason': 'finished',\n",
      " 'finish_time': datetime.datetime(2025, 9, 6, 8, 41, 55, 183833, tzinfo=datetime.timezone.utc),\n",
      " 'items_per_minute': 0.0,\n",
      " 'log_count/INFO': 19,\n",
      " 'log_count/WARNING': 1,\n",
      " 'memusage/max': 145453056,\n",
      " 'memusage/startup': 63688704,\n",
      " 'playwright/browser_count': 1,\n",
      " 'playwright/context_count': 1,\n",
      " 'playwright/context_count/max_concurrent': 1,\n",
      " 'playwright/context_count/persistent/False': 1,\n",
      " 'playwright/context_count/remote/False': 1,\n",
      " 'playwright/page_count': 52,\n",
      " 'playwright/page_count/closed': 52,\n",
      " 'playwright/page_count/max_concurrent': 2,\n",
      " 'playwright/request_count': 14246,\n",
      " 'playwright/request_count/method/GET': 13626,\n",
      " 'playwright/request_count/method/POST': 620,\n",
      " 'playwright/request_count/navigation': 53,\n",
      " 'playwright/request_count/resource_type/document': 53,\n",
      " 'playwright/request_count/resource_type/fetch': 653,\n",
      " 'playwright/request_count/resource_type/font': 154,\n",
      " 'playwright/request_count/resource_type/image': 1397,\n",
      " 'playwright/request_count/resource_type/other': 266,\n",
      " 'playwright/request_count/resource_type/ping': 98,\n",
      " 'playwright/request_count/resource_type/script': 6966,\n",
      " 'playwright/request_count/resource_type/stylesheet': 4237,\n",
      " 'playwright/request_count/resource_type/xhr': 422,\n",
      " 'playwright/response_count': 13746,\n",
      " 'playwright/response_count/method/GET': 13286,\n",
      " 'playwright/response_count/method/POST': 460,\n",
      " 'playwright/response_count/resource_type/document': 53,\n",
      " 'playwright/response_count/resource_type/fetch': 424,\n",
      " 'playwright/response_count/resource_type/font': 154,\n",
      " 'playwright/response_count/resource_type/image': 1210,\n",
      " 'playwright/response_count/resource_type/other': 266,\n",
      " 'playwright/response_count/resource_type/ping': 72,\n",
      " 'playwright/response_count/resource_type/script': 6956,\n",
      " 'playwright/response_count/resource_type/stylesheet': 4226,\n",
      " 'playwright/response_count/resource_type/xhr': 385,\n",
      " 'request_depth_max': 1,\n",
      " 'response_received_count': 52,\n",
      " 'responses_per_minute': 13.928571428571429,\n",
      " 'scheduler/dequeued': 52,\n",
      " 'scheduler/dequeued/memory': 52,\n",
      " 'scheduler/enqueued': 52,\n",
      " 'scheduler/enqueued/memory': 52,\n",
      " 'start_time': datetime.datetime(2025, 9, 6, 8, 38, 10, 234943, tzinfo=datetime.timezone.utc)}\n",
      "2025-09-06 10:41:55 [scrapy.core.engine] INFO: Spider closed (finished)\n",
      "2025-09-06 10:41:55 [scrapy-playwright] INFO: Closing download handler\n",
      "2025-09-06 10:41:55 [scrapy-playwright] INFO: Closing download handler\n",
      "2025-09-06 10:41:55 [scrapy-playwright] INFO: Closing browser\n",
      "⏳ Pause 30s avant le prochain batch...\n",
      "\n",
      "🚀 Lancement batch 15: ['Foix', 'Toulouse']\n",
      "\n",
      "2025-09-06 10:42:27 [scrapy.utils.log] INFO: Scrapy 2.13.3 started (bot: scrapybot)\n",
      "2025-09-06 10:42:27 [scrapy.utils.log] INFO: Versions:\n",
      "{'lxml': '6.0.1',\n",
      " 'libxml2': '2.14.5',\n",
      " 'cssselect': '1.3.0',\n",
      " 'parsel': '1.10.0',\n",
      " 'w3lib': '2.3.1',\n",
      " 'Twisted': '25.5.0',\n",
      " 'Python': '3.10.18 (main, Jun  5 2025, 13:14:17) [GCC 11.2.0]',\n",
      " 'pyOpenSSL': '25.1.0 (OpenSSL 3.5.2 5 Aug 2025)',\n",
      " 'cryptography': '45.0.7',\n",
      " 'Platform': 'Linux-5.15.167.4-microsoft-standard-WSL2-x86_64-with-glibc2.39'}\n",
      "2025-09-06 10:42:27 [scrapy.addons] INFO: Enabled addons:\n",
      "[]\n",
      "2025-09-06 10:42:27 [scrapy.extensions.telnet] INFO: Telnet Password: 729bee87711c3695\n",
      "2025-09-06 10:42:27 [scrapy.middleware] INFO: Enabled extensions:\n",
      "['scrapy.extensions.corestats.CoreStats',\n",
      " 'scrapy.extensions.telnet.TelnetConsole',\n",
      " 'scrapy.extensions.memusage.MemoryUsage',\n",
      " 'scrapy.extensions.logstats.LogStats',\n",
      " 'scrapy.extensions.throttle.AutoThrottle']\n",
      "2025-09-06 10:42:27 [scrapy.crawler] INFO: Overridden settings:\n",
      "{'AUTOTHROTTLE_ENABLED': True,\n",
      " 'AUTOTHROTTLE_MAX_DELAY': 10,\n",
      " 'AUTOTHROTTLE_START_DELAY': 1,\n",
      " 'DOWNLOAD_DELAY': 2.0,\n",
      " 'LOG_LEVEL': 'INFO',\n",
      " 'RETRY_TIMES': 3,\n",
      " 'USER_AGENT': 'Mozilla/5.0 (Windows NT 10.0; Win64; x64) AppleWebKit/537.36 '\n",
      "               '(KHTML, like Gecko) Chrome/115.0.0.0 Safari/537.36'}\n",
      "2025-09-06 10:42:27 [scrapy.middleware] INFO: Enabled downloader middlewares:\n",
      "['scrapy.downloadermiddlewares.offsite.OffsiteMiddleware',\n",
      " 'scrapy.downloadermiddlewares.httpauth.HttpAuthMiddleware',\n",
      " 'scrapy.downloadermiddlewares.downloadtimeout.DownloadTimeoutMiddleware',\n",
      " 'scrapy.downloadermiddlewares.defaultheaders.DefaultHeadersMiddleware',\n",
      " 'scrapy.downloadermiddlewares.useragent.UserAgentMiddleware',\n",
      " 'scrapy.downloadermiddlewares.retry.RetryMiddleware',\n",
      " 'scrapy.downloadermiddlewares.redirect.MetaRefreshMiddleware',\n",
      " 'scrapy.downloadermiddlewares.httpcompression.HttpCompressionMiddleware',\n",
      " 'scrapy.downloadermiddlewares.redirect.RedirectMiddleware',\n",
      " 'scrapy.downloadermiddlewares.cookies.CookiesMiddleware',\n",
      " 'scrapy.downloadermiddlewares.httpproxy.HttpProxyMiddleware',\n",
      " 'scrapy.downloadermiddlewares.stats.DownloaderStats']\n",
      "2025-09-06 10:42:27 [scrapy.middleware] INFO: Enabled spider middlewares:\n",
      "['scrapy.spidermiddlewares.start.StartSpiderMiddleware',\n",
      " 'scrapy.spidermiddlewares.httperror.HttpErrorMiddleware',\n",
      " 'scrapy.spidermiddlewares.referer.RefererMiddleware',\n",
      " 'scrapy.spidermiddlewares.urllength.UrlLengthMiddleware',\n",
      " 'scrapy.spidermiddlewares.depth.DepthMiddleware']\n",
      "2025-09-06 10:42:27 [scrapy.middleware] INFO: Enabled item pipelines:\n",
      "[]\n",
      "2025-09-06 10:42:27 [scrapy.core.engine] INFO: Spider opened\n",
      "2025-09-06 10:42:27 [py.warnings] WARNING: /home/m_bar/miniconda3/envs/kayak/lib/python3.10/site-packages/scrapy/core/spidermw.py:433: ScrapyDeprecationWarning: __main__.BookingSpider defines the deprecated start_requests() method. start_requests() has been deprecated in favor of a new method, start(), to support asynchronous code execution. start_requests() will stop being called in a future version of Scrapy. If you use Scrapy 2.13 or higher only, replace start_requests() with start(); note that start() is a coroutine (async def). If you need to maintain compatibility with lower Scrapy versions, when overriding start_requests() in a spider class, override start() as well; you can use super() to reuse the inherited start() implementation without copy-pasting. See the release notes of Scrapy 2.13 for details: https://docs.scrapy.org/en/2.13/news.html\n",
      "  warn(\n",
      "\n",
      "2025-09-06 10:42:27 [scrapy.extensions.logstats] INFO: Crawled 0 pages (at 0 pages/min), scraped 0 items (at 0 items/min)\n",
      "2025-09-06 10:42:27 [scrapy.extensions.telnet] INFO: Telnet console listening on 127.0.0.1:6023\n",
      "2025-09-06 10:42:27 [scrapy-playwright] INFO: Starting download handler\n",
      "2025-09-06 10:42:27 [scrapy-playwright] INFO: Starting download handler\n",
      "2025-09-06 10:42:27 [scrapy-playwright] INFO: Launching browser chromium\n",
      "2025-09-06 10:42:27 [scrapy-playwright] INFO: Browser chromium launched\n",
      "2025-09-06 10:43:27 [scrapy.extensions.logstats] INFO: Crawled 14 pages (at 14 pages/min), scraped 0 items (at 0 items/min)\n",
      "2025-09-06 10:44:27 [scrapy.extensions.logstats] INFO: Crawled 28 pages (at 14 pages/min), scraped 0 items (at 0 items/min)\n",
      "2025-09-06 10:45:27 [scrapy.extensions.logstats] INFO: Crawled 41 pages (at 13 pages/min), scraped 0 items (at 0 items/min)\n",
      "2025-09-06 10:46:17 [scrapy.core.engine] INFO: Closing spider (finished)\n",
      "2025-09-06 10:46:17 [booking] INFO: Résultats sauvegardés dans booking_results/results_foix.json\n",
      "2025-09-06 10:46:17 [booking] INFO: Résultats sauvegardés dans booking_results/results_toulouse.json\n",
      "2025-09-06 10:46:17 [scrapy.statscollectors] INFO: Dumping Scrapy stats:\n",
      "{'downloader/request_bytes': 39945,\n",
      " 'downloader/request_count': 52,\n",
      " 'downloader/request_method_count/GET': 52,\n",
      " 'downloader/response_bytes': 76240820,\n",
      " 'downloader/response_count': 52,\n",
      " 'downloader/response_status_count/200': 52,\n",
      " 'dupefilter/filtered': 50,\n",
      " 'elapsed_time_seconds': 230.319648,\n",
      " 'finish_reason': 'finished',\n",
      " 'finish_time': datetime.datetime(2025, 9, 6, 8, 46, 17, 643834, tzinfo=datetime.timezone.utc),\n",
      " 'items_per_minute': 0.0,\n",
      " 'log_count/INFO': 19,\n",
      " 'log_count/WARNING': 1,\n",
      " 'memusage/max': 152842240,\n",
      " 'memusage/startup': 63537152,\n",
      " 'playwright/browser_count': 1,\n",
      " 'playwright/context_count': 1,\n",
      " 'playwright/context_count/max_concurrent': 1,\n",
      " 'playwright/context_count/persistent/False': 1,\n",
      " 'playwright/context_count/remote/False': 1,\n",
      " 'playwright/page_count': 52,\n",
      " 'playwright/page_count/closed': 52,\n",
      " 'playwright/page_count/max_concurrent': 2,\n",
      " 'playwright/request_count': 14107,\n",
      " 'playwright/request_count/method/GET': 13486,\n",
      " 'playwright/request_count/method/POST': 621,\n",
      " 'playwright/request_count/navigation': 52,\n",
      " 'playwright/request_count/resource_type/document': 52,\n",
      " 'playwright/request_count/resource_type/fetch': 653,\n",
      " 'playwright/request_count/resource_type/font': 154,\n",
      " 'playwright/request_count/resource_type/image': 1363,\n",
      " 'playwright/request_count/resource_type/other': 266,\n",
      " 'playwright/request_count/resource_type/ping': 100,\n",
      " 'playwright/request_count/resource_type/script': 6879,\n",
      " 'playwright/request_count/resource_type/stylesheet': 4209,\n",
      " 'playwright/request_count/resource_type/xhr': 431,\n",
      " 'playwright/response_count': 13665,\n",
      " 'playwright/response_count/method/GET': 13173,\n",
      " 'playwright/response_count/method/POST': 492,\n",
      " 'playwright/response_count/resource_type/document': 52,\n",
      " 'playwright/response_count/resource_type/fetch': 484,\n",
      " 'playwright/response_count/resource_type/font': 154,\n",
      " 'playwright/response_count/resource_type/image': 1186,\n",
      " 'playwright/response_count/resource_type/other': 261,\n",
      " 'playwright/response_count/resource_type/ping': 70,\n",
      " 'playwright/response_count/resource_type/script': 6868,\n",
      " 'playwright/response_count/resource_type/stylesheet': 4191,\n",
      " 'playwright/response_count/resource_type/xhr': 399,\n",
      " 'request_depth_max': 1,\n",
      " 'response_received_count': 52,\n",
      " 'responses_per_minute': 13.565217391304348,\n",
      " 'scheduler/dequeued': 52,\n",
      " 'scheduler/dequeued/memory': 52,\n",
      " 'scheduler/enqueued': 52,\n",
      " 'scheduler/enqueued/memory': 52,\n",
      " 'start_time': datetime.datetime(2025, 9, 6, 8, 42, 27, 324186, tzinfo=datetime.timezone.utc)}\n",
      "2025-09-06 10:46:17 [scrapy.core.engine] INFO: Spider closed (finished)\n",
      "2025-09-06 10:46:17 [scrapy-playwright] INFO: Closing download handler\n",
      "2025-09-06 10:46:17 [scrapy-playwright] INFO: Closing download handler\n",
      "2025-09-06 10:46:17 [scrapy-playwright] INFO: Closing browser\n",
      "⏳ Pause 30s avant le prochain batch...\n",
      "\n",
      "🚀 Lancement batch 16: ['Montauban', 'Biarritz']\n",
      "\n",
      "2025-09-06 10:46:49 [scrapy.utils.log] INFO: Scrapy 2.13.3 started (bot: scrapybot)\n",
      "2025-09-06 10:46:49 [scrapy.utils.log] INFO: Versions:\n",
      "{'lxml': '6.0.1',\n",
      " 'libxml2': '2.14.5',\n",
      " 'cssselect': '1.3.0',\n",
      " 'parsel': '1.10.0',\n",
      " 'w3lib': '2.3.1',\n",
      " 'Twisted': '25.5.0',\n",
      " 'Python': '3.10.18 (main, Jun  5 2025, 13:14:17) [GCC 11.2.0]',\n",
      " 'pyOpenSSL': '25.1.0 (OpenSSL 3.5.2 5 Aug 2025)',\n",
      " 'cryptography': '45.0.7',\n",
      " 'Platform': 'Linux-5.15.167.4-microsoft-standard-WSL2-x86_64-with-glibc2.39'}\n",
      "2025-09-06 10:46:49 [scrapy.addons] INFO: Enabled addons:\n",
      "[]\n",
      "2025-09-06 10:46:49 [scrapy.extensions.telnet] INFO: Telnet Password: 8553b844d9bc261e\n",
      "2025-09-06 10:46:49 [scrapy.middleware] INFO: Enabled extensions:\n",
      "['scrapy.extensions.corestats.CoreStats',\n",
      " 'scrapy.extensions.telnet.TelnetConsole',\n",
      " 'scrapy.extensions.memusage.MemoryUsage',\n",
      " 'scrapy.extensions.logstats.LogStats',\n",
      " 'scrapy.extensions.throttle.AutoThrottle']\n",
      "2025-09-06 10:46:49 [scrapy.crawler] INFO: Overridden settings:\n",
      "{'AUTOTHROTTLE_ENABLED': True,\n",
      " 'AUTOTHROTTLE_MAX_DELAY': 10,\n",
      " 'AUTOTHROTTLE_START_DELAY': 1,\n",
      " 'DOWNLOAD_DELAY': 2.0,\n",
      " 'LOG_LEVEL': 'INFO',\n",
      " 'RETRY_TIMES': 3,\n",
      " 'USER_AGENT': 'Mozilla/5.0 (Windows NT 10.0; Win64; x64) AppleWebKit/537.36 '\n",
      "               '(KHTML, like Gecko) Chrome/115.0.0.0 Safari/537.36'}\n",
      "2025-09-06 10:46:49 [scrapy.middleware] INFO: Enabled downloader middlewares:\n",
      "['scrapy.downloadermiddlewares.offsite.OffsiteMiddleware',\n",
      " 'scrapy.downloadermiddlewares.httpauth.HttpAuthMiddleware',\n",
      " 'scrapy.downloadermiddlewares.downloadtimeout.DownloadTimeoutMiddleware',\n",
      " 'scrapy.downloadermiddlewares.defaultheaders.DefaultHeadersMiddleware',\n",
      " 'scrapy.downloadermiddlewares.useragent.UserAgentMiddleware',\n",
      " 'scrapy.downloadermiddlewares.retry.RetryMiddleware',\n",
      " 'scrapy.downloadermiddlewares.redirect.MetaRefreshMiddleware',\n",
      " 'scrapy.downloadermiddlewares.httpcompression.HttpCompressionMiddleware',\n",
      " 'scrapy.downloadermiddlewares.redirect.RedirectMiddleware',\n",
      " 'scrapy.downloadermiddlewares.cookies.CookiesMiddleware',\n",
      " 'scrapy.downloadermiddlewares.httpproxy.HttpProxyMiddleware',\n",
      " 'scrapy.downloadermiddlewares.stats.DownloaderStats']\n",
      "2025-09-06 10:46:49 [scrapy.middleware] INFO: Enabled spider middlewares:\n",
      "['scrapy.spidermiddlewares.start.StartSpiderMiddleware',\n",
      " 'scrapy.spidermiddlewares.httperror.HttpErrorMiddleware',\n",
      " 'scrapy.spidermiddlewares.referer.RefererMiddleware',\n",
      " 'scrapy.spidermiddlewares.urllength.UrlLengthMiddleware',\n",
      " 'scrapy.spidermiddlewares.depth.DepthMiddleware']\n",
      "2025-09-06 10:46:49 [scrapy.middleware] INFO: Enabled item pipelines:\n",
      "[]\n",
      "2025-09-06 10:46:49 [scrapy.core.engine] INFO: Spider opened\n",
      "2025-09-06 10:46:49 [py.warnings] WARNING: /home/m_bar/miniconda3/envs/kayak/lib/python3.10/site-packages/scrapy/core/spidermw.py:433: ScrapyDeprecationWarning: __main__.BookingSpider defines the deprecated start_requests() method. start_requests() has been deprecated in favor of a new method, start(), to support asynchronous code execution. start_requests() will stop being called in a future version of Scrapy. If you use Scrapy 2.13 or higher only, replace start_requests() with start(); note that start() is a coroutine (async def). If you need to maintain compatibility with lower Scrapy versions, when overriding start_requests() in a spider class, override start() as well; you can use super() to reuse the inherited start() implementation without copy-pasting. See the release notes of Scrapy 2.13 for details: https://docs.scrapy.org/en/2.13/news.html\n",
      "  warn(\n",
      "\n",
      "2025-09-06 10:46:49 [scrapy.extensions.logstats] INFO: Crawled 0 pages (at 0 pages/min), scraped 0 items (at 0 items/min)\n",
      "2025-09-06 10:46:49 [scrapy.extensions.telnet] INFO: Telnet console listening on 127.0.0.1:6023\n",
      "2025-09-06 10:46:49 [scrapy-playwright] INFO: Starting download handler\n",
      "2025-09-06 10:46:49 [scrapy-playwright] INFO: Starting download handler\n",
      "2025-09-06 10:46:50 [scrapy-playwright] INFO: Launching browser chromium\n",
      "2025-09-06 10:46:50 [scrapy-playwright] INFO: Browser chromium launched\n",
      "2025-09-06 10:47:49 [scrapy.extensions.logstats] INFO: Crawled 14 pages (at 14 pages/min), scraped 0 items (at 0 items/min)\n",
      "2025-09-06 10:48:49 [scrapy.extensions.logstats] INFO: Crawled 30 pages (at 16 pages/min), scraped 0 items (at 0 items/min)\n",
      "2025-09-06 10:49:49 [scrapy.extensions.logstats] INFO: Crawled 44 pages (at 14 pages/min), scraped 0 items (at 0 items/min)\n",
      "2025-09-06 10:50:17 [scrapy.core.engine] INFO: Closing spider (finished)\n",
      "2025-09-06 10:50:17 [booking] INFO: Résultats sauvegardés dans booking_results/results_montauban.json\n",
      "2025-09-06 10:50:17 [booking] INFO: Résultats sauvegardés dans booking_results/results_biarritz.json\n",
      "2025-09-06 10:50:17 [scrapy.statscollectors] INFO: Dumping Scrapy stats:\n",
      "{'downloader/request_bytes': 40971,\n",
      " 'downloader/request_count': 52,\n",
      " 'downloader/request_method_count/GET': 52,\n",
      " 'downloader/response_bytes': 79052915,\n",
      " 'downloader/response_count': 52,\n",
      " 'downloader/response_status_count/200': 51,\n",
      " 'downloader/response_status_count/202': 1,\n",
      " 'dupefilter/filtered': 50,\n",
      " 'elapsed_time_seconds': 207.745596,\n",
      " 'finish_reason': 'finished',\n",
      " 'finish_time': datetime.datetime(2025, 9, 6, 8, 50, 17, 586136, tzinfo=datetime.timezone.utc),\n",
      " 'items_per_minute': 0.0,\n",
      " 'log_count/INFO': 19,\n",
      " 'log_count/WARNING': 1,\n",
      " 'memusage/max': 143515648,\n",
      " 'memusage/startup': 63664128,\n",
      " 'playwright/browser_count': 1,\n",
      " 'playwright/context_count': 1,\n",
      " 'playwright/context_count/max_concurrent': 1,\n",
      " 'playwright/context_count/persistent/False': 1,\n",
      " 'playwright/context_count/remote/False': 1,\n",
      " 'playwright/page_count': 52,\n",
      " 'playwright/page_count/closed': 52,\n",
      " 'playwright/page_count/max_concurrent': 2,\n",
      " 'playwright/request_count': 14101,\n",
      " 'playwright/request_count/method/GET': 13484,\n",
      " 'playwright/request_count/method/POST': 617,\n",
      " 'playwright/request_count/navigation': 53,\n",
      " 'playwright/request_count/resource_type/document': 53,\n",
      " 'playwright/request_count/resource_type/fetch': 641,\n",
      " 'playwright/request_count/resource_type/font': 154,\n",
      " 'playwright/request_count/resource_type/image': 1429,\n",
      " 'playwright/request_count/resource_type/other': 266,\n",
      " 'playwright/request_count/resource_type/ping': 98,\n",
      " 'playwright/request_count/resource_type/script': 6868,\n",
      " 'playwright/request_count/resource_type/stylesheet': 4176,\n",
      " 'playwright/request_count/resource_type/xhr': 416,\n",
      " 'playwright/response_count': 13596,\n",
      " 'playwright/response_count/method/GET': 13155,\n",
      " 'playwright/response_count/method/POST': 441,\n",
      " 'playwright/response_count/resource_type/document': 53,\n",
      " 'playwright/response_count/resource_type/fetch': 407,\n",
      " 'playwright/response_count/resource_type/font': 154,\n",
      " 'playwright/response_count/resource_type/image': 1252,\n",
      " 'playwright/response_count/resource_type/other': 266,\n",
      " 'playwright/response_count/resource_type/ping': 73,\n",
      " 'playwright/response_count/resource_type/script': 6855,\n",
      " 'playwright/response_count/resource_type/stylesheet': 4158,\n",
      " 'playwright/response_count/resource_type/xhr': 378,\n",
      " 'request_depth_max': 1,\n",
      " 'response_received_count': 52,\n",
      " 'responses_per_minute': 15.072463768115941,\n",
      " 'scheduler/dequeued': 52,\n",
      " 'scheduler/dequeued/memory': 52,\n",
      " 'scheduler/enqueued': 52,\n",
      " 'scheduler/enqueued/memory': 52,\n",
      " 'start_time': datetime.datetime(2025, 9, 6, 8, 46, 49, 840540, tzinfo=datetime.timezone.utc)}\n",
      "2025-09-06 10:50:17 [scrapy.core.engine] INFO: Spider closed (finished)\n",
      "2025-09-06 10:50:17 [scrapy-playwright] INFO: Closing download handler\n",
      "2025-09-06 10:50:17 [scrapy-playwright] INFO: Closing download handler\n",
      "2025-09-06 10:50:17 [scrapy-playwright] INFO: Closing browser\n",
      "⏳ Pause 30s avant le prochain batch...\n",
      "\n",
      "🚀 Lancement batch 17: ['Bayonne', 'La Rochelle']\n",
      "\n",
      "2025-09-06 10:50:49 [scrapy.utils.log] INFO: Scrapy 2.13.3 started (bot: scrapybot)\n",
      "2025-09-06 10:50:49 [scrapy.utils.log] INFO: Versions:\n",
      "{'lxml': '6.0.1',\n",
      " 'libxml2': '2.14.5',\n",
      " 'cssselect': '1.3.0',\n",
      " 'parsel': '1.10.0',\n",
      " 'w3lib': '2.3.1',\n",
      " 'Twisted': '25.5.0',\n",
      " 'Python': '3.10.18 (main, Jun  5 2025, 13:14:17) [GCC 11.2.0]',\n",
      " 'pyOpenSSL': '25.1.0 (OpenSSL 3.5.2 5 Aug 2025)',\n",
      " 'cryptography': '45.0.7',\n",
      " 'Platform': 'Linux-5.15.167.4-microsoft-standard-WSL2-x86_64-with-glibc2.39'}\n",
      "2025-09-06 10:50:49 [scrapy.addons] INFO: Enabled addons:\n",
      "[]\n",
      "2025-09-06 10:50:49 [scrapy.extensions.telnet] INFO: Telnet Password: 187bdd491c1e578e\n",
      "2025-09-06 10:50:49 [scrapy.middleware] INFO: Enabled extensions:\n",
      "['scrapy.extensions.corestats.CoreStats',\n",
      " 'scrapy.extensions.telnet.TelnetConsole',\n",
      " 'scrapy.extensions.memusage.MemoryUsage',\n",
      " 'scrapy.extensions.logstats.LogStats',\n",
      " 'scrapy.extensions.throttle.AutoThrottle']\n",
      "2025-09-06 10:50:49 [scrapy.crawler] INFO: Overridden settings:\n",
      "{'AUTOTHROTTLE_ENABLED': True,\n",
      " 'AUTOTHROTTLE_MAX_DELAY': 10,\n",
      " 'AUTOTHROTTLE_START_DELAY': 1,\n",
      " 'DOWNLOAD_DELAY': 2.0,\n",
      " 'LOG_LEVEL': 'INFO',\n",
      " 'RETRY_TIMES': 3,\n",
      " 'USER_AGENT': 'Mozilla/5.0 (Windows NT 10.0; Win64; x64) AppleWebKit/537.36 '\n",
      "               '(KHTML, like Gecko) Chrome/115.0.0.0 Safari/537.36'}\n",
      "2025-09-06 10:50:49 [scrapy.middleware] INFO: Enabled downloader middlewares:\n",
      "['scrapy.downloadermiddlewares.offsite.OffsiteMiddleware',\n",
      " 'scrapy.downloadermiddlewares.httpauth.HttpAuthMiddleware',\n",
      " 'scrapy.downloadermiddlewares.downloadtimeout.DownloadTimeoutMiddleware',\n",
      " 'scrapy.downloadermiddlewares.defaultheaders.DefaultHeadersMiddleware',\n",
      " 'scrapy.downloadermiddlewares.useragent.UserAgentMiddleware',\n",
      " 'scrapy.downloadermiddlewares.retry.RetryMiddleware',\n",
      " 'scrapy.downloadermiddlewares.redirect.MetaRefreshMiddleware',\n",
      " 'scrapy.downloadermiddlewares.httpcompression.HttpCompressionMiddleware',\n",
      " 'scrapy.downloadermiddlewares.redirect.RedirectMiddleware',\n",
      " 'scrapy.downloadermiddlewares.cookies.CookiesMiddleware',\n",
      " 'scrapy.downloadermiddlewares.httpproxy.HttpProxyMiddleware',\n",
      " 'scrapy.downloadermiddlewares.stats.DownloaderStats']\n",
      "2025-09-06 10:50:49 [scrapy.middleware] INFO: Enabled spider middlewares:\n",
      "['scrapy.spidermiddlewares.start.StartSpiderMiddleware',\n",
      " 'scrapy.spidermiddlewares.httperror.HttpErrorMiddleware',\n",
      " 'scrapy.spidermiddlewares.referer.RefererMiddleware',\n",
      " 'scrapy.spidermiddlewares.urllength.UrlLengthMiddleware',\n",
      " 'scrapy.spidermiddlewares.depth.DepthMiddleware']\n",
      "2025-09-06 10:50:49 [scrapy.middleware] INFO: Enabled item pipelines:\n",
      "[]\n",
      "2025-09-06 10:50:49 [scrapy.core.engine] INFO: Spider opened\n",
      "2025-09-06 10:50:49 [py.warnings] WARNING: /home/m_bar/miniconda3/envs/kayak/lib/python3.10/site-packages/scrapy/core/spidermw.py:433: ScrapyDeprecationWarning: __main__.BookingSpider defines the deprecated start_requests() method. start_requests() has been deprecated in favor of a new method, start(), to support asynchronous code execution. start_requests() will stop being called in a future version of Scrapy. If you use Scrapy 2.13 or higher only, replace start_requests() with start(); note that start() is a coroutine (async def). If you need to maintain compatibility with lower Scrapy versions, when overriding start_requests() in a spider class, override start() as well; you can use super() to reuse the inherited start() implementation without copy-pasting. See the release notes of Scrapy 2.13 for details: https://docs.scrapy.org/en/2.13/news.html\n",
      "  warn(\n",
      "\n",
      "2025-09-06 10:50:49 [scrapy.extensions.logstats] INFO: Crawled 0 pages (at 0 pages/min), scraped 0 items (at 0 items/min)\n",
      "2025-09-06 10:50:49 [scrapy.extensions.telnet] INFO: Telnet console listening on 127.0.0.1:6023\n",
      "2025-09-06 10:50:49 [scrapy-playwright] INFO: Starting download handler\n",
      "2025-09-06 10:50:49 [scrapy-playwright] INFO: Starting download handler\n",
      "2025-09-06 10:50:50 [scrapy-playwright] INFO: Launching browser chromium\n",
      "2025-09-06 10:50:50 [scrapy-playwright] INFO: Browser chromium launched\n",
      "2025-09-06 10:51:49 [scrapy.extensions.logstats] INFO: Crawled 16 pages (at 16 pages/min), scraped 0 items (at 0 items/min)\n",
      "2025-09-06 10:52:49 [scrapy.extensions.logstats] INFO: Crawled 28 pages (at 12 pages/min), scraped 0 items (at 0 items/min)\n",
      "2025-09-06 10:53:49 [scrapy.extensions.logstats] INFO: Crawled 41 pages (at 13 pages/min), scraped 0 items (at 0 items/min)\n",
      "2025-09-06 10:54:35 [scrapy.core.engine] INFO: Closing spider (finished)\n",
      "2025-09-06 10:54:35 [booking] INFO: Résultats sauvegardés dans booking_results/results_bayonne.json\n",
      "2025-09-06 10:54:35 [booking] INFO: Résultats sauvegardés dans booking_results/results_la_rochelle.json\n",
      "2025-09-06 10:54:35 [scrapy.statscollectors] INFO: Dumping Scrapy stats:\n",
      "{'downloader/request_bytes': 40911,\n",
      " 'downloader/request_count': 52,\n",
      " 'downloader/request_method_count/GET': 52,\n",
      " 'downloader/response_bytes': 80080007,\n",
      " 'downloader/response_count': 52,\n",
      " 'downloader/response_status_count/200': 51,\n",
      " 'downloader/response_status_count/202': 1,\n",
      " 'dupefilter/filtered': 50,\n",
      " 'elapsed_time_seconds': 225.725693,\n",
      " 'finish_reason': 'finished',\n",
      " 'finish_time': datetime.datetime(2025, 9, 6, 8, 54, 35, 539352, tzinfo=datetime.timezone.utc),\n",
      " 'items_per_minute': 0.0,\n",
      " 'log_count/INFO': 19,\n",
      " 'log_count/WARNING': 1,\n",
      " 'memusage/max': 144494592,\n",
      " 'memusage/startup': 64159744,\n",
      " 'playwright/browser_count': 1,\n",
      " 'playwright/context_count': 1,\n",
      " 'playwright/context_count/max_concurrent': 1,\n",
      " 'playwright/context_count/persistent/False': 1,\n",
      " 'playwright/context_count/remote/False': 1,\n",
      " 'playwright/page_count': 52,\n",
      " 'playwright/page_count/closed': 52,\n",
      " 'playwright/page_count/max_concurrent': 2,\n",
      " 'playwright/request_count': 14311,\n",
      " 'playwright/request_count/method/GET': 13646,\n",
      " 'playwright/request_count/method/POST': 665,\n",
      " 'playwright/request_count/navigation': 53,\n",
      " 'playwright/request_count/resource_type/document': 53,\n",
      " 'playwright/request_count/resource_type/fetch': 639,\n",
      " 'playwright/request_count/resource_type/font': 154,\n",
      " 'playwright/request_count/resource_type/image': 1412,\n",
      " 'playwright/request_count/resource_type/other': 266,\n",
      " 'playwright/request_count/resource_type/ping': 99,\n",
      " 'playwright/request_count/resource_type/script': 6991,\n",
      " 'playwright/request_count/resource_type/stylesheet': 4229,\n",
      " 'playwright/request_count/resource_type/xhr': 468,\n",
      " 'playwright/response_count': 13980,\n",
      " 'playwright/response_count/method/GET': 13476,\n",
      " 'playwright/response_count/method/POST': 504,\n",
      " 'playwright/response_count/resource_type/document': 53,\n",
      " 'playwright/response_count/resource_type/fetch': 412,\n",
      " 'playwright/response_count/resource_type/font': 154,\n",
      " 'playwright/response_count/resource_type/image': 1393,\n",
      " 'playwright/response_count/resource_type/other': 266,\n",
      " 'playwright/response_count/resource_type/ping': 82,\n",
      " 'playwright/response_count/resource_type/script': 6976,\n",
      " 'playwright/response_count/resource_type/stylesheet': 4212,\n",
      " 'playwright/response_count/resource_type/xhr': 432,\n",
      " 'request_depth_max': 1,\n",
      " 'response_received_count': 52,\n",
      " 'responses_per_minute': 13.866666666666667,\n",
      " 'scheduler/dequeued': 52,\n",
      " 'scheduler/dequeued/memory': 52,\n",
      " 'scheduler/enqueued': 52,\n",
      " 'scheduler/enqueued/memory': 52,\n",
      " 'start_time': datetime.datetime(2025, 9, 6, 8, 50, 49, 813659, tzinfo=datetime.timezone.utc)}\n",
      "2025-09-06 10:54:35 [scrapy.core.engine] INFO: Spider closed (finished)\n",
      "2025-09-06 10:54:35 [scrapy-playwright] INFO: Closing download handler\n",
      "2025-09-06 10:54:35 [scrapy-playwright] INFO: Closing download handler\n",
      "2025-09-06 10:54:35 [scrapy-playwright] INFO: Closing browser\n"
     ]
    }
   ],
   "source": [
    "!python booking_final.py\n"
   ]
  },
  {
   "cell_type": "code",
   "execution_count": null,
   "metadata": {},
   "outputs": [
    {
     "name": "stdout",
     "output_type": "stream",
     "text": [
      "<class 'pandas.core.frame.DataFrame'>\n",
      "RangeIndex: 875 entries, 0 to 874\n",
      "Data columns (total 7 columns):\n",
      " #   Column       Non-Null Count  Dtype  \n",
      "---  ------       --------------  -----  \n",
      " 0   ville        875 non-null    object \n",
      " 1   name         875 non-null    object \n",
      " 2   description  875 non-null    object \n",
      " 3   url          875 non-null    object \n",
      " 4   rating       865 non-null    object \n",
      " 5   latitude     875 non-null    float64\n",
      " 6   longitude    875 non-null    float64\n",
      "dtypes: float64(2), object(5)\n",
      "memory usage: 48.0+ KB\n"
     ]
    },
    {
     "data": {
      "text/html": [
       "<div>\n",
       "<style scoped>\n",
       "    .dataframe tbody tr th:only-of-type {\n",
       "        vertical-align: middle;\n",
       "    }\n",
       "\n",
       "    .dataframe tbody tr th {\n",
       "        vertical-align: top;\n",
       "    }\n",
       "\n",
       "    .dataframe thead th {\n",
       "        text-align: right;\n",
       "    }\n",
       "</style>\n",
       "<table border=\"1\" class=\"dataframe\">\n",
       "  <thead>\n",
       "    <tr style=\"text-align: right;\">\n",
       "      <th></th>\n",
       "      <th>ville</th>\n",
       "      <th>name</th>\n",
       "      <th>description</th>\n",
       "      <th>url</th>\n",
       "      <th>rating</th>\n",
       "      <th>latitude</th>\n",
       "      <th>longitude</th>\n",
       "    </tr>\n",
       "  </thead>\n",
       "  <tbody>\n",
       "    <tr>\n",
       "      <th>0</th>\n",
       "      <td>Aigues Mortes</td>\n",
       "      <td>Résidence Odalys Fleur de Sel</td>\n",
       "      <td>Situé à Aigues-Mortes, à 5 minutes à pied du c...</td>\n",
       "      <td>https://www.booking.com/hotel/fr/residence-oda...</td>\n",
       "      <td>Avec une note de 8,4</td>\n",
       "      <td>43.574094</td>\n",
       "      <td>4.179246</td>\n",
       "    </tr>\n",
       "    <tr>\n",
       "      <th>1</th>\n",
       "      <td>Aigues Mortes</td>\n",
       "      <td>Résidence Odalys Le Mas des Flamants</td>\n",
       "      <td>Située à l'extérieur des fortifications d'Aigu...</td>\n",
       "      <td>https://www.booking.com/hotel/fr/residence-le-...</td>\n",
       "      <td>Avec une note de 8,4</td>\n",
       "      <td>43.573794</td>\n",
       "      <td>4.180622</td>\n",
       "    </tr>\n",
       "    <tr>\n",
       "      <th>2</th>\n",
       "      <td>Aigues Mortes</td>\n",
       "      <td>La maison sur la place dans Aigues Mortes</td>\n",
       "      <td>Situé à Aigues-Mortes, l’hébergement La maison...</td>\n",
       "      <td>https://www.booking.com/hotel/fr/la-maison-sur...</td>\n",
       "      <td>Avec une note de 9,2</td>\n",
       "      <td>43.565873</td>\n",
       "      <td>4.192959</td>\n",
       "    </tr>\n",
       "    <tr>\n",
       "      <th>3</th>\n",
       "      <td>Aigues Mortes</td>\n",
       "      <td>Maison sol en ciel Petit Dejeuner et Parking i...</td>\n",
       "      <td>L’établissement Maison sol en ciel Petit Dejeu...</td>\n",
       "      <td>https://www.booking.com/hotel/fr/maison-sol-en...</td>\n",
       "      <td>Avec une note de 9,9</td>\n",
       "      <td>43.564323</td>\n",
       "      <td>4.193398</td>\n",
       "    </tr>\n",
       "    <tr>\n",
       "      <th>4</th>\n",
       "      <td>Aigues Mortes</td>\n",
       "      <td>Marina Aigues Mortes 75m2</td>\n",
       "      <td>L’hébergement Marina Aigues Mortes 75m2 se sit...</td>\n",
       "      <td>https://www.booking.com/hotel/fr/marina-aigues...</td>\n",
       "      <td>Avec une note de 9,6</td>\n",
       "      <td>43.574746</td>\n",
       "      <td>4.188398</td>\n",
       "    </tr>\n",
       "  </tbody>\n",
       "</table>\n",
       "</div>"
      ],
      "text/plain": [
       "           ville                                               name  \\\n",
       "0  Aigues Mortes                      Résidence Odalys Fleur de Sel   \n",
       "1  Aigues Mortes               Résidence Odalys Le Mas des Flamants   \n",
       "2  Aigues Mortes          La maison sur la place dans Aigues Mortes   \n",
       "3  Aigues Mortes  Maison sol en ciel Petit Dejeuner et Parking i...   \n",
       "4  Aigues Mortes                          Marina Aigues Mortes 75m2   \n",
       "\n",
       "                                         description  \\\n",
       "0  Situé à Aigues-Mortes, à 5 minutes à pied du c...   \n",
       "1  Située à l'extérieur des fortifications d'Aigu...   \n",
       "2  Situé à Aigues-Mortes, l’hébergement La maison...   \n",
       "3  L’établissement Maison sol en ciel Petit Dejeu...   \n",
       "4  L’hébergement Marina Aigues Mortes 75m2 se sit...   \n",
       "\n",
       "                                                 url                rating  \\\n",
       "0  https://www.booking.com/hotel/fr/residence-oda...  Avec une note de 8,4   \n",
       "1  https://www.booking.com/hotel/fr/residence-le-...  Avec une note de 8,4   \n",
       "2  https://www.booking.com/hotel/fr/la-maison-sur...  Avec une note de 9,2   \n",
       "3  https://www.booking.com/hotel/fr/maison-sol-en...  Avec une note de 9,9   \n",
       "4  https://www.booking.com/hotel/fr/marina-aigues...  Avec une note de 9,6   \n",
       "\n",
       "    latitude  longitude  \n",
       "0  43.574094   4.179246  \n",
       "1  43.573794   4.180622  \n",
       "2  43.565873   4.192959  \n",
       "3  43.564323   4.193398  \n",
       "4  43.574746   4.188398  "
      ]
     },
     "metadata": {},
     "output_type": "display_data"
    },
    {
     "data": {
      "text/plain": [
       "None"
      ]
     },
     "metadata": {},
     "output_type": "display_data"
    },
    {
     "data": {
      "text/plain": [
       "ville           0\n",
       "name            0\n",
       "description     0\n",
       "url             0\n",
       "rating         10\n",
       "latitude        0\n",
       "longitude       0\n",
       "dtype: int64"
      ]
     },
     "metadata": {},
     "output_type": "display_data"
    }
   ],
   "source": [
    "\n",
    "# On fusionne les fichiers charger par scrapy\n",
    "path = 'booking_results'\n",
    "all_files = glob.glob(os.path.join(path, \"*.json\"))\n",
    "\n",
    "\n",
    "list_of_dfs = []\n",
    "\n",
    "# On lit chaque fichier JSON et on ajoute son contenu à la liste\n",
    "for file in all_files:\n",
    "    try:\n",
    "        df = pd.read_json(file)  \n",
    "        list_of_dfs.append(df)\n",
    "    except Exception as e:\n",
    "        print(f\"Erreur lors de la lecture du fichier : {file}\")\n",
    "        print(\"Erreur :\", e)\n",
    "\n",
    "# On Concaténe tous les DataFrames en un seul et on crée un fichier CSV\n",
    "df_hotels = pd.concat(list_of_dfs, ignore_index=True)\n",
    "\n",
    "# On vérifie les données\n",
    "display(df_hotels.head(), df_hotels.info(),df_hotels.isna().sum())\n",
    "\n"
   ]
  },
  {
   "cell_type": "markdown",
   "metadata": {},
   "source": [
    "La colonne rating contient 10 valeurs manquantes. Après vérification sur Booking, il s’avère que ces hébergements sont trop récents et n’ont pas encore de note. Nous allons donc supprimer ces lignes de notre dataset."
   ]
  },
  {
   "cell_type": "code",
   "execution_count": null,
   "metadata": {},
   "outputs": [
    {
     "name": "stdout",
     "output_type": "stream",
     "text": [
      "<class 'pandas.core.frame.DataFrame'>\n",
      "Index: 865 entries, 0 to 874\n",
      "Data columns (total 7 columns):\n",
      " #   Column       Non-Null Count  Dtype  \n",
      "---  ------       --------------  -----  \n",
      " 0   ville        865 non-null    object \n",
      " 1   name         865 non-null    object \n",
      " 2   description  865 non-null    object \n",
      " 3   url          865 non-null    object \n",
      " 4   rating       865 non-null    object \n",
      " 5   latitude     865 non-null    float64\n",
      " 6   longitude    865 non-null    float64\n",
      "dtypes: float64(2), object(5)\n",
      "memory usage: 54.1+ KB\n"
     ]
    },
    {
     "data": {
      "text/html": [
       "<div>\n",
       "<style scoped>\n",
       "    .dataframe tbody tr th:only-of-type {\n",
       "        vertical-align: middle;\n",
       "    }\n",
       "\n",
       "    .dataframe tbody tr th {\n",
       "        vertical-align: top;\n",
       "    }\n",
       "\n",
       "    .dataframe thead th {\n",
       "        text-align: right;\n",
       "    }\n",
       "</style>\n",
       "<table border=\"1\" class=\"dataframe\">\n",
       "  <thead>\n",
       "    <tr style=\"text-align: right;\">\n",
       "      <th></th>\n",
       "      <th>ville</th>\n",
       "      <th>name</th>\n",
       "      <th>description</th>\n",
       "      <th>url</th>\n",
       "      <th>rating</th>\n",
       "      <th>latitude</th>\n",
       "      <th>longitude</th>\n",
       "    </tr>\n",
       "  </thead>\n",
       "  <tbody>\n",
       "    <tr>\n",
       "      <th>0</th>\n",
       "      <td>Aigues Mortes</td>\n",
       "      <td>Résidence Odalys Fleur de Sel</td>\n",
       "      <td>Situé à Aigues-Mortes, à 5 minutes à pied du c...</td>\n",
       "      <td>https://www.booking.com/hotel/fr/residence-oda...</td>\n",
       "      <td>Avec une note de 8,4</td>\n",
       "      <td>43.574094</td>\n",
       "      <td>4.179246</td>\n",
       "    </tr>\n",
       "    <tr>\n",
       "      <th>1</th>\n",
       "      <td>Aigues Mortes</td>\n",
       "      <td>Résidence Odalys Le Mas des Flamants</td>\n",
       "      <td>Située à l'extérieur des fortifications d'Aigu...</td>\n",
       "      <td>https://www.booking.com/hotel/fr/residence-le-...</td>\n",
       "      <td>Avec une note de 8,4</td>\n",
       "      <td>43.573794</td>\n",
       "      <td>4.180622</td>\n",
       "    </tr>\n",
       "    <tr>\n",
       "      <th>2</th>\n",
       "      <td>Aigues Mortes</td>\n",
       "      <td>La maison sur la place dans Aigues Mortes</td>\n",
       "      <td>Situé à Aigues-Mortes, l’hébergement La maison...</td>\n",
       "      <td>https://www.booking.com/hotel/fr/la-maison-sur...</td>\n",
       "      <td>Avec une note de 9,2</td>\n",
       "      <td>43.565873</td>\n",
       "      <td>4.192959</td>\n",
       "    </tr>\n",
       "    <tr>\n",
       "      <th>3</th>\n",
       "      <td>Aigues Mortes</td>\n",
       "      <td>Maison sol en ciel Petit Dejeuner et Parking i...</td>\n",
       "      <td>L’établissement Maison sol en ciel Petit Dejeu...</td>\n",
       "      <td>https://www.booking.com/hotel/fr/maison-sol-en...</td>\n",
       "      <td>Avec une note de 9,9</td>\n",
       "      <td>43.564323</td>\n",
       "      <td>4.193398</td>\n",
       "    </tr>\n",
       "    <tr>\n",
       "      <th>4</th>\n",
       "      <td>Aigues Mortes</td>\n",
       "      <td>Marina Aigues Mortes 75m2</td>\n",
       "      <td>L’hébergement Marina Aigues Mortes 75m2 se sit...</td>\n",
       "      <td>https://www.booking.com/hotel/fr/marina-aigues...</td>\n",
       "      <td>Avec une note de 9,6</td>\n",
       "      <td>43.574746</td>\n",
       "      <td>4.188398</td>\n",
       "    </tr>\n",
       "  </tbody>\n",
       "</table>\n",
       "</div>"
      ],
      "text/plain": [
       "           ville                                               name  \\\n",
       "0  Aigues Mortes                      Résidence Odalys Fleur de Sel   \n",
       "1  Aigues Mortes               Résidence Odalys Le Mas des Flamants   \n",
       "2  Aigues Mortes          La maison sur la place dans Aigues Mortes   \n",
       "3  Aigues Mortes  Maison sol en ciel Petit Dejeuner et Parking i...   \n",
       "4  Aigues Mortes                          Marina Aigues Mortes 75m2   \n",
       "\n",
       "                                         description  \\\n",
       "0  Situé à Aigues-Mortes, à 5 minutes à pied du c...   \n",
       "1  Située à l'extérieur des fortifications d'Aigu...   \n",
       "2  Situé à Aigues-Mortes, l’hébergement La maison...   \n",
       "3  L’établissement Maison sol en ciel Petit Dejeu...   \n",
       "4  L’hébergement Marina Aigues Mortes 75m2 se sit...   \n",
       "\n",
       "                                                 url                rating  \\\n",
       "0  https://www.booking.com/hotel/fr/residence-oda...  Avec une note de 8,4   \n",
       "1  https://www.booking.com/hotel/fr/residence-le-...  Avec une note de 8,4   \n",
       "2  https://www.booking.com/hotel/fr/la-maison-sur...  Avec une note de 9,2   \n",
       "3  https://www.booking.com/hotel/fr/maison-sol-en...  Avec une note de 9,9   \n",
       "4  https://www.booking.com/hotel/fr/marina-aigues...  Avec une note de 9,6   \n",
       "\n",
       "    latitude  longitude  \n",
       "0  43.574094   4.179246  \n",
       "1  43.573794   4.180622  \n",
       "2  43.565873   4.192959  \n",
       "3  43.564323   4.193398  \n",
       "4  43.574746   4.188398  "
      ]
     },
     "metadata": {},
     "output_type": "display_data"
    },
    {
     "data": {
      "text/plain": [
       "None"
      ]
     },
     "metadata": {},
     "output_type": "display_data"
    },
    {
     "data": {
      "text/plain": [
       "ville          0\n",
       "name           0\n",
       "description    0\n",
       "url            0\n",
       "rating         0\n",
       "latitude       0\n",
       "longitude      0\n",
       "dtype: int64"
      ]
     },
     "metadata": {},
     "output_type": "display_data"
    }
   ],
   "source": [
    "df_hotels.dropna(subset=['rating'], inplace=True)\n",
    "display(df_hotels.head(), df_hotels.info(),df_hotels.isna().sum())"
   ]
  },
  {
   "cell_type": "code",
   "execution_count": 23,
   "metadata": {},
   "outputs": [],
   "source": [
    "# Enregistrement des fichiers CSV en local\n",
    "# df_hotels.to_csv('output/hotels.csv')\n",
    "df_villes1.to_csv('output/villes2.csv')\n",
    "df_meteo.to_csv('output/meteo2.csv')"
   ]
  },
  {
   "cell_type": "markdown",
   "metadata": {},
   "source": [
    "#### Envoi des fichiers CSV sur notre S3"
   ]
  },
  {
   "cell_type": "code",
   "execution_count": 24,
   "metadata": {},
   "outputs": [],
   "source": [
    "# chargement du fichier secret.env pour connecter à AWS S3\n",
    "load_dotenv(\"secret.env\")\n",
    "\n",
    "AWS_KEY = os.getenv(\"AWS_ACCESS_KEY_ID\")\n",
    "AWS_SECRET = os.getenv(\"AWS_SECRET_ACCESS_KEY\")\n",
    "BUCKET_NAME = os.getenv(\"AWS_BUCKET_NAME\")\n",
    "\n",
    "\n",
    "s3 = boto3.client(\"s3\", \n",
    "                  aws_access_key_id=AWS_KEY, \n",
    "                  aws_secret_access_key=AWS_SECRET)\n",
    "\n"
   ]
  },
  {
   "cell_type": "code",
   "execution_count": 25,
   "metadata": {},
   "outputs": [],
   "source": [
    "# transférer les fichiers dans le bucket\n",
    "# s3.upload_file(\"output/hotels.csv\", BUCKET_NAME, \"hotels.csv\")\n",
    "s3.upload_file('output/meteo2.csv', BUCKET_NAME, \"meteo2.csv\")\n",
    "s3.upload_file('output/villes2.csv', BUCKET_NAME, \"villes2.csv\")"
   ]
  },
  {
   "cell_type": "markdown",
   "metadata": {},
   "source": [
    "Maintenant, nous allons récupérer les fichiers depuis notre S3 afin de les charger dans notre base de données. Pour cela, nous utiliserons NeonDB, une base de données relationnelle PostgreSQL managée dans le cloud. Elle nous permettra de stocker, organiser et interroger efficacement les données que nous avons préalablement déposées dans S3."
   ]
  },
  {
   "cell_type": "code",
   "execution_count": 72,
   "metadata": {},
   "outputs": [],
   "source": [
    "# On charge les données depuis le S3\n",
    "s3.download_file(BUCKET_NAME, \"meteo2.csv\", \"input/meteoS3.csv\")\n",
    "s3.download_file(BUCKET_NAME, \"villes2.csv\", \"input/villesS3.csv\")\n",
    "s3.download_file(BUCKET_NAME, \"hotels.csv\", \"input/hotelS3.csv\")\n",
    "df_hotelS3 = pd.read_csv(\"input/hotelS3.csv\")\n",
    "df_meteoS3 = pd.read_csv(\"input/meteoS3.csv\")\n",
    "df_villesS3 = pd.read_csv(\"input/villesS3.csv\")\n",
    "# On vérifie si nos données sont bien chargées\n",
    "# df_hotelS3.head(), df_meteoS3.head()"
   ]
  },
  {
   "cell_type": "markdown",
   "metadata": {},
   "source": [
    "La colonne rating contient du texte avec la note intégrée. Nous allons créer une nouvelle colonne score qui contiendra uniquement la valeur numérique de la note, puis nous supprimerons la colonne rating devenue inutile."
   ]
  },
  {
   "cell_type": "code",
   "execution_count": null,
   "metadata": {},
   "outputs": [],
   "source": [
    "df_hotelS3['score']= df_hotelS3['rating'].str.split().str[4]\n",
    "df_hotelS3['score'] = df_hotelS3['score'].str.replace(',', '.').astype(float)\n",
    "df_hotelS3.drop('rating', axis=1, inplace=True)"
   ]
  },
  {
   "cell_type": "code",
   "execution_count": 75,
   "metadata": {},
   "outputs": [],
   "source": [
    "# Suppression de la colonne Unnamed: 0 et 'ville-1'\n",
    "df_villesS3.drop(['Unnamed: 0','ville-1'], axis=1, inplace=True)\n"
   ]
  },
  {
   "cell_type": "code",
   "execution_count": 76,
   "metadata": {},
   "outputs": [],
   "source": [
    "# Connexion à la base de données PostgreSQL\n",
    "load_dotenv(\"secret.env\")\n",
    "db_user = os.getenv(\"DB_USER\")\n",
    "db_password = os.getenv(\"DB_PASS\")\n",
    "db_host = os.getenv(\"DB_HOST\")\n",
    "db_name = os.getenv(\"DB_NAME\")\n",
    "\n",
    "# Créer l'engine SQLAlchemy\n",
    "engine = create_engine(f\"postgresql+psycopg2://{db_user}:{db_password}@{db_host}/{db_name}\")"
   ]
  },
  {
   "cell_type": "code",
   "execution_count": 77,
   "metadata": {},
   "outputs": [],
   "source": [
    "# Suppession des tables si elles existent\n",
    "with engine.connect() as connection:\n",
    "    connection.execute(text(\"DROP TABLE IF EXISTS hotels2 CASCADE\"))\n",
    "    connection.execute(text(\"DROP TABLE IF EXISTS villes2 CASCADE\"))\n",
    "    connection.execute(text(\"DROP TABLE IF EXISTS meteo2 CASCADE\"))"
   ]
  },
  {
   "cell_type": "code",
   "execution_count": 78,
   "metadata": {},
   "outputs": [
    {
     "name": "stdout",
     "output_type": "stream",
     "text": [
      "Tables créées.\n"
     ]
    }
   ],
   "source": [
    "\n",
    "\n",
    "# Nous créeons les tables\n",
    "create_table_villes2 = \"\"\"\n",
    "CREATE TABLE IF NOT EXISTS villes2(\n",
    "    id INT PRIMARY KEY,\n",
    "    ville VARCHAR(255),\n",
    "    longitude DOUBLE PRECISION,\n",
    "    latitude DOUBLE PRECISION\n",
    "    );\n",
    "\"\"\"\n",
    "\n",
    "create_table_meteo2 = \"\"\"\n",
    "CREATE TABLE IF NOT EXISTS meteo2 (\n",
    "    id_meteo SERIAL PRIMARY KEY,\n",
    "    id INT REFERENCES villes2(id),\n",
    "    latitude DOUBLE PRECISION,\n",
    "    longitude DOUBLE PRECISION,\n",
    "    temp_max_matin FLOAT,\n",
    "    temp_max_aprem FLOAT,\n",
    "    precip_matin FLOAT,\n",
    "    precip_aprem FLOAT,\n",
    "    desc_matin VARCHAR(255),\n",
    "    desc_aprem VARCHAR(255),\n",
    "    date DATE\n",
    ");\n",
    "\"\"\"\n",
    "create_table_hotels2 = \"\"\"\n",
    "CREATE TABLE IF NOT EXISTS hotels2 (\n",
    "    id_hotels SERIAL PRIMARY KEY,\n",
    "    id INT REFERENCES villes2(id),\n",
    "    latitude DOUBLE PRECISION,\n",
    "    longitude DOUBLE PRECISION,\n",
    "    name VARCHAR(255),\n",
    "    description TEXT,\n",
    "    url TEXT,\n",
    "    score FLOAT \n",
    "    );\n",
    "\"\"\"\n",
    "# Exécuter la requête\n",
    "with engine.connect() as connection:\n",
    "    connection.execute(text(create_table_villes2))\n",
    "    connection.execute(text(create_table_meteo2))\n",
    "    connection.execute(text(create_table_hotels2))\n",
    "  \n",
    "    connection.commit()\n",
    "\n",
    "print(\"Tables créées.\")"
   ]
  },
  {
   "cell_type": "code",
   "execution_count": 79,
   "metadata": {},
   "outputs": [],
   "source": [
    "with engine.begin() as conn:\n",
    "    conn.execute(text(\"TRUNCATE TABLE villes2 CASCADE\"))\n",
    "    # CASCADE pour vider aussi les tables qui dépendent de villes2 si nécessaire\n",
    "    # si tu veux garder meteo2 et hotels2, enlève CASCADE\n"
   ]
  },
  {
   "cell_type": "code",
   "execution_count": 80,
   "metadata": {},
   "outputs": [
    {
     "data": {
      "text/plain": [
       "35"
      ]
     },
     "execution_count": 80,
     "metadata": {},
     "output_type": "execute_result"
    }
   ],
   "source": [
    "# Insertion de la table villes\n",
    "df_villesS3.to_sql(\"villes2\", engine, if_exists=\"append\", index=False)"
   ]
  },
  {
   "cell_type": "code",
   "execution_count": 82,
   "metadata": {},
   "outputs": [],
   "source": [
    "# merge pour insertion des clés étrangères\n",
    "villes_mapping = pd.read_sql(\"SELECT id, ville FROM villes2\", engine)\n",
    "df_hotelS3 = df_hotelS3.merge(villes_mapping, on='ville', how='left')\n",
    "df_meteoS3 = df_meteoS3.merge(villes_mapping, on=\"ville\", how='left')"
   ]
  },
  {
   "cell_type": "code",
   "execution_count": 83,
   "metadata": {},
   "outputs": [],
   "source": [
    "#supprimer la colonne ville avant insertion à la table\n",
    "df_hotelS3.drop(columns=['ville'], inplace=True)\n",
    "\n"
   ]
  },
  {
   "cell_type": "code",
   "execution_count": 84,
   "metadata": {},
   "outputs": [],
   "source": [
    "#supprimer la colonne ville et Unnamed: 0 avant insertion à la table\n",
    "df_meteoS3.drop(columns=['ville','Unnamed: 0'], inplace=True)\n"
   ]
  },
  {
   "cell_type": "code",
   "execution_count": 85,
   "metadata": {},
   "outputs": [
    {
     "data": {
      "text/plain": [
       "865"
      ]
     },
     "execution_count": 85,
     "metadata": {},
     "output_type": "execute_result"
    }
   ],
   "source": [
    "# Nous envoyons nos données dans les tables\n",
    "df_meteoS3.to_sql(\"meteo2\", engine, if_exists=\"append\", index=False)\n",
    "df_hotelS3.to_sql(\"hotels2\", engine, if_exists=\"append\", index=False)"
   ]
  },
  {
   "cell_type": "code",
   "execution_count": 86,
   "metadata": {},
   "outputs": [
    {
     "name": "stdout",
     "output_type": "stream",
     "text": [
      "Lecture depuis le fichier meteo :\n",
      "   id_meteo  id latitude longitude  temp_max_matin  temp_max_aprem  \\\n",
      "0       386   0     None      None           15.26           15.74   \n",
      "1       387   0     None      None           12.10           14.54   \n",
      "2       388   0     None      None           12.50           16.03   \n",
      "3       389   0     None      None           14.43           15.57   \n",
      "4       390   0     None      None           16.06           16.20   \n",
      "5       391   1     None      None           15.99           20.04   \n",
      "6       392   1     None      None           17.36           21.58   \n",
      "7       393   1     None      None           16.53           23.11   \n",
      "8       394   1     None      None           18.72           22.16   \n",
      "9       395   1     None      None           19.22           24.29   \n",
      "\n",
      "   precip_matin  precip_aprem   desc_matin    desc_aprem        date  \n",
      "0           0.0          0.00  ciel dégagé       nuageux  2025-09-25  \n",
      "1           0.0          0.00      couvert       couvert  2025-09-26  \n",
      "2           0.0          0.00      nuageux       couvert  2025-09-27  \n",
      "3           0.0          0.13      couvert  légère pluie  2025-09-28  \n",
      "4           0.0          0.00  ciel dégagé       couvert  2025-09-29  \n",
      "5           0.0          0.00  ciel dégagé       nuageux  2025-09-25  \n",
      "6           0.0          0.00      nuageux   peu nuageux  2025-09-26  \n",
      "7           0.0          0.00      couvert       nuageux  2025-09-27  \n",
      "8           0.0          0.00      couvert       couvert  2025-09-28  \n",
      "9           0.0          0.00      couvert       couvert  2025-09-29  \n"
     ]
    }
   ],
   "source": [
    "# Requête pour vérifier les données insérées\n",
    "df_meteo2 =pd.read_sql(\"SELECT * FROM meteo2 LIMIT 10\", con=engine)\n",
    "print(f\"Lecture depuis le fichier meteo :\\n{df_meteo2}\")"
   ]
  },
  {
   "cell_type": "code",
   "execution_count": 87,
   "metadata": {},
   "outputs": [
    {
     "name": "stdout",
     "output_type": "stream",
     "text": [
      "Lecture depuis le fichier meteo :\n",
      "    latitude\n",
      "0  49.493898\n",
      "1  43.837425\n",
      "2  48.649518\n",
      "3  47.238022\n",
      "4  43.494514\n"
     ]
    }
   ],
   "source": [
    "# Requête pour vérifier les données insérées\n",
    "df_villes2= pd.read_sql(\"SELECT latitude FROM villes2 LIMIT 5\", con=engine)\n",
    "print(f\"Lecture depuis le fichier meteo :\\n{df_villes2}\")"
   ]
  },
  {
   "cell_type": "code",
   "execution_count": 88,
   "metadata": {},
   "outputs": [
    {
     "name": "stdout",
     "output_type": "stream",
     "text": [
      "Lecture depuis le fichier hotels :\n",
      "    id_hotels  id   latitude  longitude  \\\n",
      "0        1731  20  43.574094   4.179246   \n",
      "1        1732  20  43.573794   4.180622   \n",
      "2        1733  20  43.565873   4.192959   \n",
      "3        1734  20  43.564323   4.193398   \n",
      "4        1735  20  43.574746   4.188398   \n",
      "5        1736  20  43.570589   4.187651   \n",
      "6        1737  20  43.565819   4.205353   \n",
      "7        1738  20  43.565203   4.189902   \n",
      "8        1739  20  43.573982   4.195183   \n",
      "9        1740  20  43.586060   4.197451   \n",
      "10       1741  20  43.565819   4.205353   \n",
      "11       1742  20  43.568922   4.188115   \n",
      "12       1743  20  43.567220   4.189344   \n",
      "13       1744  20  43.575810   4.182881   \n",
      "14       1745  20  43.561044   4.217806   \n",
      "15       1746  20  43.572988   4.194825   \n",
      "16       1747  20  43.573603   4.187765   \n",
      "17       1748  20  43.571866   4.193662   \n",
      "18       1749  20  43.569828   4.189679   \n",
      "19       1750  20  43.562119   4.185999   \n",
      "20       1751  20  43.574800   4.190900   \n",
      "21       1752  20  43.564534   4.192230   \n",
      "22       1753  20  43.576396   4.197818   \n",
      "23       1754  20  43.582126   4.251837   \n",
      "24       1755  21  43.524091   5.455216   \n",
      "25       1756  21  43.523910   5.442494   \n",
      "26       1757  21  43.524612   5.453754   \n",
      "27       1758  21  43.525599   5.451721   \n",
      "28       1759  21  43.491969   5.371623   \n",
      "29       1760  21  43.526240   5.438205   \n",
      "30       1761  21  43.566063   5.384448   \n",
      "31       1762  21  43.521918   5.457872   \n",
      "32       1763  21  43.513714   5.470212   \n",
      "33       1764  21  43.533363   5.446056   \n",
      "34       1770  21  43.531264   5.445070   \n",
      "35       1765  21  43.530003   5.425696   \n",
      "36       1766  21  43.511843   5.486707   \n",
      "37       1767  21  43.525497   5.445952   \n",
      "38       1768  21  43.530050   5.444147   \n",
      "39       1769  21  43.547506   5.387329   \n",
      "\n",
      "                                                 name  \\\n",
      "0                       Résidence Odalys Fleur de Sel   \n",
      "1                Résidence Odalys Le Mas des Flamants   \n",
      "2           La maison sur la place dans Aigues Mortes   \n",
      "3   Maison sol en ciel Petit Dejeuner et Parking i...   \n",
      "4                           Marina Aigues Mortes 75m2   \n",
      "5      Maison de vacances à quelques pas des remparts   \n",
      "6                Holiday Home L'Abrivado by Interhome   \n",
      "7                       Maison de village avec garage   \n",
      "8                                    Les Flo location   \n",
      "9                                   Le Mas Des Sables   \n",
      "10  Maison T4 -Jardin+ Parking+ Clim -Proche Remparts   \n",
      "11                      Maison aux pieds des Remparts   \n",
      "12                                  Hôtel Saint Louis   \n",
      "13                                            Evasion   \n",
      "14                                        Mas Tarquin   \n",
      "15  Hôtel les jardins du canal - piscine chauffée ...   \n",
      "16                                         Marina LTI   \n",
      "17                                  Hôtel Le Médiéval   \n",
      "18                           Maison Face aux Remparts   \n",
      "19  La Perle Rose Villa Standing 5 étoiles avec pi...   \n",
      "20               2 Bedroom Cozy Home In Aigues-Mortes   \n",
      "21                                       chez sandrou   \n",
      "22         Artemia Aigues-Mortes - Hotel avec piscine   \n",
      "23        Apartment La maison d'Adélaïde by Interhome   \n",
      "24  Appart Hotel Odalys City Aix en Provence L'Atrium   \n",
      "25                Hôtel de la Rotonde Aix en Provence   \n",
      "26                                        Le Concorde   \n",
      "27                                     Hotel Cardinal   \n",
      "28                                           Le Néliö   \n",
      "29                  Renaissance Aix-en-Provence Hotel   \n",
      "30                                Domaine de Carraire   \n",
      "31                                    Hôtel Le Mozart   \n",
      "32                               Adonis Arc Hotel Aix   \n",
      "33                                         Hôtel Paul   \n",
      "34                              Aquabella Hôtel & Spa   \n",
      "35  Appart Hotel Odalys City Aix en Provence Le Cl...   \n",
      "36                 Comfort Aparthotel Aix Le Tholonet   \n",
      "37  Hôtel Saint Christophe Aix en Provence Centre ...   \n",
      "38                                    Hôtel Escaletto   \n",
      "39                                SetClub Hôtel & Spa   \n",
      "\n",
      "                                          description  \\\n",
      "0   Situé à Aigues-Mortes, à 5 minutes à pied du c...   \n",
      "1   Située à l'extérieur des fortifications d'Aigu...   \n",
      "2   Situé à Aigues-Mortes, l’hébergement La maison...   \n",
      "3   L’établissement Maison sol en ciel Petit Dejeu...   \n",
      "4   L’hébergement Marina Aigues Mortes 75m2 se sit...   \n",
      "5   L’hébergement Maison de vacances à quelques pa...   \n",
      "6   L’hébergement Holiday Home L'Abrivado by Inter...   \n",
      "7   Offrant une vue sur la ville, l’hébergement Ma...   \n",
      "8   L’hébergement Les Flo location vous accueille ...   \n",
      "9   Le Mas des Sables vous accueille dans un parc ...   \n",
      "10  L’hébergement Maison T4 -Jardin+ Parking+ Clim...   \n",
      "11  Offrant une vue sur le jardin, l’hébergement M...   \n",
      "12  Situé dans le cœur historique d'Aigues-Mortes,...   \n",
      "13  L’établissement Evasion se situe à Aigues-Mort...   \n",
      "14  L’hébergement Mas Tarquin propose un jardin et...   \n",
      "15  L’hôtel Canal Aigues Mortes vous accueille sur...   \n",
      "16  L’hébergement Marina LTI vous accueille à Aigu...   \n",
      "17  L'Hôtel Le Médiéval est situé sur les rives du...   \n",
      "18  Offrant une vue sur le cours d’eau, l’hébergem...   \n",
      "19  Situé à Aigues-Mortes, l’hébergement La Perle ...   \n",
      "20  Situé à Aigues-Mortes et offrant une vue sur l...   \n",
      "21  L’hébergement chez sandrou vous accueille à re...   \n",
      "22  Doté d'une connexion Wi-Fi gratuite et d'une p...   \n",
      "23  Situé à Aigues-Mortes, l’hébergement Apartment...   \n",
      "24  Situé à Aix-en-Provence, l’Appart Hotel Odalys...   \n",
      "25  L’Hôtel de la Rotonde Aix en Provence est situ...   \n",
      "26  Le Concorde est idéalement situé dans le centr...   \n",
      "27  L’établissement Hotel Cardinal bénéficie d’une...   \n",
      "28  Doté d'un jardin, d'un bar et d'un restaurant,...   \n",
      "29  Situé à moins de 10 minutes à pied du centre d...   \n",
      "30  L’établissement Domaine de Carraire se trouve ...   \n",
      "31  Situé à 500 mètres du musée Granet, l’Hôtel Le...   \n",
      "32  Situé au cœur de la Provence, l’Adonis Arc Hot...   \n",
      "33  Situé au cœur d'Aix-en-Provence, l'Hôtel Paul ...   \n",
      "34  Entouré d’un beau jardin, l’Aquabella Hôtel & ...   \n",
      "35  Située à Aix-en-Provence, à 10 minutes en voit...   \n",
      "36  Le Comfort Aparthotel Aix Le Tholonet est situ...   \n",
      "37  Situé à Aix-en-Provence, l’établissement Hôtel...   \n",
      "38  Établissement 3 étoiles, l’Hôtel Escaletto vou...   \n",
      "39  L’établissement SetClub Hôtel & Spa se situe à...   \n",
      "\n",
      "                                                  url  score  \n",
      "0   https://www.booking.com/hotel/fr/residence-oda...    8.4  \n",
      "1   https://www.booking.com/hotel/fr/residence-le-...    8.4  \n",
      "2   https://www.booking.com/hotel/fr/la-maison-sur...    9.2  \n",
      "3   https://www.booking.com/hotel/fr/maison-sol-en...    9.9  \n",
      "4   https://www.booking.com/hotel/fr/marina-aigues...    9.6  \n",
      "5   https://www.booking.com/hotel/fr/maison-de-vac...    8.8  \n",
      "6   https://www.booking.com/hotel/fr/adbdcdbcfedea...    9.0  \n",
      "7   https://www.booking.com/hotel/fr/maison-de-vil...    8.6  \n",
      "8   https://www.booking.com/hotel/fr/les-flo-locat...    9.1  \n",
      "9   https://www.booking.com/hotel/fr/le-mas-des-sa...    8.0  \n",
      "10  https://www.booking.com/hotel/fr/maison-t4-jar...    8.7  \n",
      "11  https://www.booking.com/hotel/fr/maison-aux-pi...    9.6  \n",
      "12  https://www.booking.com/hotel/fr/saint-louis-a...    8.5  \n",
      "13  https://www.booking.com/hotel/fr/evasion-aigue...    9.6  \n",
      "14  https://www.booking.com/hotel/fr/frederic-aigu...    9.3  \n",
      "15  https://www.booking.com/hotel/fr/canal-aigues-...    8.7  \n",
      "16  https://www.booking.com/hotel/fr/marina-aigues...    9.7  \n",
      "17  https://www.booking.com/hotel/fr/le-medieval.f...    8.9  \n",
      "18  https://www.booking.com/hotel/fr/maison-face-a...    8.6  \n",
      "19  https://www.booking.com/hotel/fr/la-perle-rose...    9.9  \n",
      "20  https://www.booking.com/hotel/fr/nice-home-in-...    9.0  \n",
      "21  https://www.booking.com/hotel/fr/chez-sandrou....    9.6  \n",
      "22  https://www.booking.com/hotel/fr/le-royal-hote...    8.8  \n",
      "23  https://www.booking.com/hotel/fr/apartment-la-...    9.2  \n",
      "24  https://www.booking.com/hotel/fr/atrium-d-anai...    8.0  \n",
      "25  https://www.booking.com/hotel/fr/rotonde.fr.ht...    8.2  \n",
      "26  https://www.booking.com/hotel/fr/le-concorde-s...    7.9  \n",
      "27  https://www.booking.com/hotel/fr/cardinal.fr.h...    8.6  \n",
      "28  https://www.booking.com/hotel/fr/le-nelio.fr.h...    8.3  \n",
      "29  https://www.booking.com/hotel/fr/renaissance-a...    8.5  \n",
      "30  https://www.booking.com/hotel/fr/domaine-de-ca...    8.7  \n",
      "31  https://www.booking.com/hotel/fr/le-mozart.fr....    8.4  \n",
      "32  https://www.booking.com/hotel/fr/arc-aix-hotel...    7.6  \n",
      "33  https://www.booking.com/hotel/fr/paul.fr.html?...    8.5  \n",
      "34  https://www.booking.com/hotel/fr/hotel-aquabel...    8.7  \n",
      "35  https://www.booking.com/hotel/fr/le-clos-de-la...    8.0  \n",
      "36  https://www.booking.com/hotel/fr/ra-c-sidence-...    7.7  \n",
      "37  https://www.booking.com/hotel/fr/ha-tel-saint-...    9.1  \n",
      "38  https://www.booking.com/hotel/fr/hotel-escalet...    8.4  \n",
      "39  https://www.booking.com/hotel/fr/le-set.fr.htm...    8.0  \n"
     ]
    }
   ],
   "source": [
    "# Lire depuis hotels\n",
    "df_hotels2 = pd.read_sql(\"SELECT * FROM hotels2 LIMIT 40\", con=engine)\n",
    "print(f\"Lecture depuis le fichier hotels :\\n{df_hotels2}\")"
   ]
  },
  {
   "cell_type": "markdown",
   "metadata": {},
   "source": [
    "On nous a demandé d’identifier le Top 5 des destinations et de les représenter sur une carte.\n",
    "Pour déterminer ce Top 5, nous avons pris en compte la température moyenne sur les 5 prochains jours ainsi que le niveau de précipitation le plus faible.\n",
    "Ensuite, nous afficherons sur une autre carte le Top 20 des hôtels par ville, puis nous terminerons par la visualisation du Top 20 des hôtels situés dans les 5 destinations retenues."
   ]
  },
  {
   "cell_type": "code",
   "execution_count": 89,
   "metadata": {},
   "outputs": [
    {
     "name": "stdout",
     "output_type": "stream",
     "text": [
      "         ville   latitude  longitude  temp_moy  precip_moy\n",
      "0      Avignon  43.949249   4.805901    20.063       0.000\n",
      "1        Nimes  43.837425   4.360069    19.900       0.000\n",
      "2  Carcassonne  43.213036   2.349107    19.814       0.000\n",
      "3    Collioure  42.525050   3.083155    19.681       0.034\n",
      "4         Uzes  44.012128   4.419672    19.286       0.000\n"
     ]
    },
    {
     "data": {
      "application/vnd.plotly.v1+json": {
       "config": {
        "plotlyServerURL": "https://plot.ly"
       },
       "data": [
        {
         "customdata": {
          "bdata": "46WbxCAQNEBmZmZmZuYzQKrx0k1i0DNAdJMYBFauM0Dwp8ZLN0kzQA==",
          "dtype": "f8",
          "shape": "5, 1"
         },
         "hovertemplate": "<b>%{hovertext}</b><br><br>latitude=%{lat}<br>longitude=%{lon}<br>temp_moy=%{marker.color}<extra></extra>",
         "hovertext": [
          "Avignon",
          "Nimes",
          "Carcassonne",
          "Collioure",
          "Uzes"
         ],
         "lat": {
          "bdata": "HaBFAIH5RUCULTe9MOtFQEjw0MFEm0VA5WGh1jRDRUBB7zJojQFGQA==",
          "dtype": "f8"
         },
         "legendgroup": "",
         "lon": {
          "bdata": "hzoHKj45E0DBQGvZtXARQKt28o74ygJA6uLbYE2qCEC8NsBxvq0RQA==",
          "dtype": "f8"
         },
         "marker": {
          "color": {
           "bdata": "46WbxCAQNEBmZmZmZuYzQKrx0k1i0DNAdJMYBFauM0Dwp8ZLN0kzQA==",
           "dtype": "f8"
          },
          "coloraxis": "coloraxis"
         },
         "mode": "markers",
         "name": "",
         "showlegend": false,
         "subplot": "map",
         "type": "scattermap"
        }
       ],
       "layout": {
        "coloraxis": {
         "colorbar": {
          "title": {
           "text": "temp_moy"
          }
         },
         "colorscale": [
          [
           0,
           "blue"
          ],
          [
           0.5,
           "orange"
          ],
          [
           1,
           "red"
          ]
         ]
        },
        "legend": {
         "tracegroupgap": 0
        },
        "map": {
         "center": {
          "lat": 43.507377579999996,
          "lon": 3.8035808
         },
         "domain": {
          "x": [
           0,
           1
          ],
          "y": [
           0,
           1
          ]
         },
         "style": "carto-positron",
         "zoom": 5
        },
        "mapbox": {
         "center": {
          "lat": 43.507377579999996,
          "lon": 3.8035808
         },
         "zoom": 5
        },
        "template": {
         "data": {
          "bar": [
           {
            "error_x": {
             "color": "#2a3f5f"
            },
            "error_y": {
             "color": "#2a3f5f"
            },
            "marker": {
             "line": {
              "color": "#E5ECF6",
              "width": 0.5
             },
             "pattern": {
              "fillmode": "overlay",
              "size": 10,
              "solidity": 0.2
             }
            },
            "type": "bar"
           }
          ],
          "barpolar": [
           {
            "marker": {
             "line": {
              "color": "#E5ECF6",
              "width": 0.5
             },
             "pattern": {
              "fillmode": "overlay",
              "size": 10,
              "solidity": 0.2
             }
            },
            "type": "barpolar"
           }
          ],
          "carpet": [
           {
            "aaxis": {
             "endlinecolor": "#2a3f5f",
             "gridcolor": "white",
             "linecolor": "white",
             "minorgridcolor": "white",
             "startlinecolor": "#2a3f5f"
            },
            "baxis": {
             "endlinecolor": "#2a3f5f",
             "gridcolor": "white",
             "linecolor": "white",
             "minorgridcolor": "white",
             "startlinecolor": "#2a3f5f"
            },
            "type": "carpet"
           }
          ],
          "choropleth": [
           {
            "colorbar": {
             "outlinewidth": 0,
             "ticks": ""
            },
            "type": "choropleth"
           }
          ],
          "contour": [
           {
            "colorbar": {
             "outlinewidth": 0,
             "ticks": ""
            },
            "colorscale": [
             [
              0,
              "#0d0887"
             ],
             [
              0.1111111111111111,
              "#46039f"
             ],
             [
              0.2222222222222222,
              "#7201a8"
             ],
             [
              0.3333333333333333,
              "#9c179e"
             ],
             [
              0.4444444444444444,
              "#bd3786"
             ],
             [
              0.5555555555555556,
              "#d8576b"
             ],
             [
              0.6666666666666666,
              "#ed7953"
             ],
             [
              0.7777777777777778,
              "#fb9f3a"
             ],
             [
              0.8888888888888888,
              "#fdca26"
             ],
             [
              1,
              "#f0f921"
             ]
            ],
            "type": "contour"
           }
          ],
          "contourcarpet": [
           {
            "colorbar": {
             "outlinewidth": 0,
             "ticks": ""
            },
            "type": "contourcarpet"
           }
          ],
          "heatmap": [
           {
            "colorbar": {
             "outlinewidth": 0,
             "ticks": ""
            },
            "colorscale": [
             [
              0,
              "#0d0887"
             ],
             [
              0.1111111111111111,
              "#46039f"
             ],
             [
              0.2222222222222222,
              "#7201a8"
             ],
             [
              0.3333333333333333,
              "#9c179e"
             ],
             [
              0.4444444444444444,
              "#bd3786"
             ],
             [
              0.5555555555555556,
              "#d8576b"
             ],
             [
              0.6666666666666666,
              "#ed7953"
             ],
             [
              0.7777777777777778,
              "#fb9f3a"
             ],
             [
              0.8888888888888888,
              "#fdca26"
             ],
             [
              1,
              "#f0f921"
             ]
            ],
            "type": "heatmap"
           }
          ],
          "histogram": [
           {
            "marker": {
             "pattern": {
              "fillmode": "overlay",
              "size": 10,
              "solidity": 0.2
             }
            },
            "type": "histogram"
           }
          ],
          "histogram2d": [
           {
            "colorbar": {
             "outlinewidth": 0,
             "ticks": ""
            },
            "colorscale": [
             [
              0,
              "#0d0887"
             ],
             [
              0.1111111111111111,
              "#46039f"
             ],
             [
              0.2222222222222222,
              "#7201a8"
             ],
             [
              0.3333333333333333,
              "#9c179e"
             ],
             [
              0.4444444444444444,
              "#bd3786"
             ],
             [
              0.5555555555555556,
              "#d8576b"
             ],
             [
              0.6666666666666666,
              "#ed7953"
             ],
             [
              0.7777777777777778,
              "#fb9f3a"
             ],
             [
              0.8888888888888888,
              "#fdca26"
             ],
             [
              1,
              "#f0f921"
             ]
            ],
            "type": "histogram2d"
           }
          ],
          "histogram2dcontour": [
           {
            "colorbar": {
             "outlinewidth": 0,
             "ticks": ""
            },
            "colorscale": [
             [
              0,
              "#0d0887"
             ],
             [
              0.1111111111111111,
              "#46039f"
             ],
             [
              0.2222222222222222,
              "#7201a8"
             ],
             [
              0.3333333333333333,
              "#9c179e"
             ],
             [
              0.4444444444444444,
              "#bd3786"
             ],
             [
              0.5555555555555556,
              "#d8576b"
             ],
             [
              0.6666666666666666,
              "#ed7953"
             ],
             [
              0.7777777777777778,
              "#fb9f3a"
             ],
             [
              0.8888888888888888,
              "#fdca26"
             ],
             [
              1,
              "#f0f921"
             ]
            ],
            "type": "histogram2dcontour"
           }
          ],
          "mesh3d": [
           {
            "colorbar": {
             "outlinewidth": 0,
             "ticks": ""
            },
            "type": "mesh3d"
           }
          ],
          "parcoords": [
           {
            "line": {
             "colorbar": {
              "outlinewidth": 0,
              "ticks": ""
             }
            },
            "type": "parcoords"
           }
          ],
          "pie": [
           {
            "automargin": true,
            "type": "pie"
           }
          ],
          "scatter": [
           {
            "fillpattern": {
             "fillmode": "overlay",
             "size": 10,
             "solidity": 0.2
            },
            "type": "scatter"
           }
          ],
          "scatter3d": [
           {
            "line": {
             "colorbar": {
              "outlinewidth": 0,
              "ticks": ""
             }
            },
            "marker": {
             "colorbar": {
              "outlinewidth": 0,
              "ticks": ""
             }
            },
            "type": "scatter3d"
           }
          ],
          "scattercarpet": [
           {
            "marker": {
             "colorbar": {
              "outlinewidth": 0,
              "ticks": ""
             }
            },
            "type": "scattercarpet"
           }
          ],
          "scattergeo": [
           {
            "marker": {
             "colorbar": {
              "outlinewidth": 0,
              "ticks": ""
             }
            },
            "type": "scattergeo"
           }
          ],
          "scattergl": [
           {
            "marker": {
             "colorbar": {
              "outlinewidth": 0,
              "ticks": ""
             }
            },
            "type": "scattergl"
           }
          ],
          "scattermap": [
           {
            "marker": {
             "colorbar": {
              "outlinewidth": 0,
              "ticks": ""
             }
            },
            "type": "scattermap"
           }
          ],
          "scattermapbox": [
           {
            "marker": {
             "colorbar": {
              "outlinewidth": 0,
              "ticks": ""
             }
            },
            "type": "scattermapbox"
           }
          ],
          "scatterpolar": [
           {
            "marker": {
             "colorbar": {
              "outlinewidth": 0,
              "ticks": ""
             }
            },
            "type": "scatterpolar"
           }
          ],
          "scatterpolargl": [
           {
            "marker": {
             "colorbar": {
              "outlinewidth": 0,
              "ticks": ""
             }
            },
            "type": "scatterpolargl"
           }
          ],
          "scatterternary": [
           {
            "marker": {
             "colorbar": {
              "outlinewidth": 0,
              "ticks": ""
             }
            },
            "type": "scatterternary"
           }
          ],
          "surface": [
           {
            "colorbar": {
             "outlinewidth": 0,
             "ticks": ""
            },
            "colorscale": [
             [
              0,
              "#0d0887"
             ],
             [
              0.1111111111111111,
              "#46039f"
             ],
             [
              0.2222222222222222,
              "#7201a8"
             ],
             [
              0.3333333333333333,
              "#9c179e"
             ],
             [
              0.4444444444444444,
              "#bd3786"
             ],
             [
              0.5555555555555556,
              "#d8576b"
             ],
             [
              0.6666666666666666,
              "#ed7953"
             ],
             [
              0.7777777777777778,
              "#fb9f3a"
             ],
             [
              0.8888888888888888,
              "#fdca26"
             ],
             [
              1,
              "#f0f921"
             ]
            ],
            "type": "surface"
           }
          ],
          "table": [
           {
            "cells": {
             "fill": {
              "color": "#EBF0F8"
             },
             "line": {
              "color": "white"
             }
            },
            "header": {
             "fill": {
              "color": "#C8D4E3"
             },
             "line": {
              "color": "white"
             }
            },
            "type": "table"
           }
          ]
         },
         "layout": {
          "annotationdefaults": {
           "arrowcolor": "#2a3f5f",
           "arrowhead": 0,
           "arrowwidth": 1
          },
          "autotypenumbers": "strict",
          "coloraxis": {
           "colorbar": {
            "outlinewidth": 0,
            "ticks": ""
           }
          },
          "colorscale": {
           "diverging": [
            [
             0,
             "#8e0152"
            ],
            [
             0.1,
             "#c51b7d"
            ],
            [
             0.2,
             "#de77ae"
            ],
            [
             0.3,
             "#f1b6da"
            ],
            [
             0.4,
             "#fde0ef"
            ],
            [
             0.5,
             "#f7f7f7"
            ],
            [
             0.6,
             "#e6f5d0"
            ],
            [
             0.7,
             "#b8e186"
            ],
            [
             0.8,
             "#7fbc41"
            ],
            [
             0.9,
             "#4d9221"
            ],
            [
             1,
             "#276419"
            ]
           ],
           "sequential": [
            [
             0,
             "#0d0887"
            ],
            [
             0.1111111111111111,
             "#46039f"
            ],
            [
             0.2222222222222222,
             "#7201a8"
            ],
            [
             0.3333333333333333,
             "#9c179e"
            ],
            [
             0.4444444444444444,
             "#bd3786"
            ],
            [
             0.5555555555555556,
             "#d8576b"
            ],
            [
             0.6666666666666666,
             "#ed7953"
            ],
            [
             0.7777777777777778,
             "#fb9f3a"
            ],
            [
             0.8888888888888888,
             "#fdca26"
            ],
            [
             1,
             "#f0f921"
            ]
           ],
           "sequentialminus": [
            [
             0,
             "#0d0887"
            ],
            [
             0.1111111111111111,
             "#46039f"
            ],
            [
             0.2222222222222222,
             "#7201a8"
            ],
            [
             0.3333333333333333,
             "#9c179e"
            ],
            [
             0.4444444444444444,
             "#bd3786"
            ],
            [
             0.5555555555555556,
             "#d8576b"
            ],
            [
             0.6666666666666666,
             "#ed7953"
            ],
            [
             0.7777777777777778,
             "#fb9f3a"
            ],
            [
             0.8888888888888888,
             "#fdca26"
            ],
            [
             1,
             "#f0f921"
            ]
           ]
          },
          "colorway": [
           "#636efa",
           "#EF553B",
           "#00cc96",
           "#ab63fa",
           "#FFA15A",
           "#19d3f3",
           "#FF6692",
           "#B6E880",
           "#FF97FF",
           "#FECB52"
          ],
          "font": {
           "color": "#2a3f5f"
          },
          "geo": {
           "bgcolor": "white",
           "lakecolor": "white",
           "landcolor": "#E5ECF6",
           "showlakes": true,
           "showland": true,
           "subunitcolor": "white"
          },
          "hoverlabel": {
           "align": "left"
          },
          "hovermode": "closest",
          "mapbox": {
           "style": "light"
          },
          "paper_bgcolor": "white",
          "plot_bgcolor": "#E5ECF6",
          "polar": {
           "angularaxis": {
            "gridcolor": "white",
            "linecolor": "white",
            "ticks": ""
           },
           "bgcolor": "#E5ECF6",
           "radialaxis": {
            "gridcolor": "white",
            "linecolor": "white",
            "ticks": ""
           }
          },
          "scene": {
           "xaxis": {
            "backgroundcolor": "#E5ECF6",
            "gridcolor": "white",
            "gridwidth": 2,
            "linecolor": "white",
            "showbackground": true,
            "ticks": "",
            "zerolinecolor": "white"
           },
           "yaxis": {
            "backgroundcolor": "#E5ECF6",
            "gridcolor": "white",
            "gridwidth": 2,
            "linecolor": "white",
            "showbackground": true,
            "ticks": "",
            "zerolinecolor": "white"
           },
           "zaxis": {
            "backgroundcolor": "#E5ECF6",
            "gridcolor": "white",
            "gridwidth": 2,
            "linecolor": "white",
            "showbackground": true,
            "ticks": "",
            "zerolinecolor": "white"
           }
          },
          "shapedefaults": {
           "line": {
            "color": "#2a3f5f"
           }
          },
          "ternary": {
           "aaxis": {
            "gridcolor": "white",
            "linecolor": "white",
            "ticks": ""
           },
           "baxis": {
            "gridcolor": "white",
            "linecolor": "white",
            "ticks": ""
           },
           "bgcolor": "#E5ECF6",
           "caxis": {
            "gridcolor": "white",
            "linecolor": "white",
            "ticks": ""
           }
          },
          "title": {
           "x": 0.05
          },
          "xaxis": {
           "automargin": true,
           "gridcolor": "white",
           "linecolor": "white",
           "ticks": "",
           "title": {
            "standoff": 15
           },
           "zerolinecolor": "white",
           "zerolinewidth": 2
          },
          "yaxis": {
           "automargin": true,
           "gridcolor": "white",
           "linecolor": "white",
           "ticks": "",
           "title": {
            "standoff": 15
           },
           "zerolinecolor": "white",
           "zerolinewidth": 2
          }
         }
        },
        "title": {
         "text": "Top 5 villes les plus chaudes"
        }
       }
      }
     },
     "metadata": {},
     "output_type": "display_data"
    }
   ],
   "source": [
    "# Les 5 villes les plus chaudes\n",
    "query_cities_top5=\"\"\"\n",
    "WITH top_ville AS(\n",
    "    SELECT m.id,\n",
    "        AVG((m.temp_max_matin+m.temp_max_aprem)/2) AS temp_moy,\n",
    "        AVG((m.precip_matin+m.precip_aprem)/2) AS precip_moy\n",
    "    FROM meteo2 m\n",
    "    GROUP BY m.id\n",
    ")\n",
    "SELECT v.ville,\n",
    "        v.latitude,\n",
    "        v.longitude,\n",
    "        tp.temp_moy,\n",
    "        tp.precip_moy\n",
    "    FROM top_ville tp\n",
    "    JOIN villes2 v ON tp.id=v.id\n",
    "    ORDER BY tp.temp_moy DESC, tp.precip_moy ASC\n",
    "    LIMIT 5;\n",
    "\"\"\"\n",
    "\n",
    "top5 = pd.read_sql(query_cities_top5, con=engine)\n",
    "print(top5)\n",
    "fig = px.scatter_map(top5, \n",
    "                    lat='latitude', \n",
    "                    lon='longitude', \n",
    "                    hover_name='ville',\n",
    "                    hover_data={'temp_moy'},\n",
    "                    color='temp_moy',\n",
    "                    color_continuous_scale=(\"blue\",\"orange\",\"red\"),\n",
    "                    title=\"Top 5 villes les plus chaudes\",\n",
    "                    zoom=5,\n",
    "                    # height=600\n",
    "                    )\n",
    "fig.update_layout(map_style=\"carto-positron\")\n",
    "fig.show()"
   ]
  },
  {
   "cell_type": "code",
   "execution_count": 90,
   "metadata": {},
   "outputs": [
    {
     "name": "stdout",
     "output_type": "stream",
     "text": [
      "                           ville  \\\n",
      "0                        Avignon   \n",
      "1                    Carcassonne   \n",
      "2   Chateau du Haut Koenigsbourg   \n",
      "3       Saintes Maries de la mer   \n",
      "4             Bormes les Mimosas   \n",
      "5                         Bayeux   \n",
      "6                           Uzes   \n",
      "7              Mont Saint Michel   \n",
      "8             Bormes les Mimosas   \n",
      "9                      Eguisheim   \n",
      "10                          Uzes   \n",
      "11                 Aigues Mortes   \n",
      "12                       Avignon   \n",
      "13                        Bayeux   \n",
      "14                 Aigues Mortes   \n",
      "15                    Strasbourg   \n",
      "16      Saintes Maries de la mer   \n",
      "17                   Carcassonne   \n",
      "18                          Foix   \n",
      "19                         Nimes   \n",
      "\n",
      "                                                 name   latitude  longitude  \\\n",
      "0                                     Le Clos Saluces  43.950193   4.810586   \n",
      "1                               Le Belvédère St Gimer  43.206833   2.361293   \n",
      "2                                  Au pied du Château  48.248402   7.354826   \n",
      "3   Appartement 3 pièces 4 personne centre village...  43.452181   4.431478   \n",
      "4                Villa Le Pas de Courtin by Interhome  43.151361   6.302437   \n",
      "5                             LEPTILOFT BAYEUX Centre  49.281332  -0.715019   \n",
      "6   Appartement Uzès, piscine, climatisation, park...  44.008163   4.410136   \n",
      "7                   Gîte au pied du Mont Saint Michel  48.611982  -1.484611   \n",
      "8                      T3- Proche plages et commerces  43.123297   6.357146   \n",
      "9                                      Fleur de Vigne  48.046113   7.305163   \n",
      "10  La Grande Bourgade-Authentique Maison en Pierr...  44.010459   4.417140   \n",
      "11  La Perle Rose Villa Standing 5 étoiles avec pi...  43.562119   4.185999   \n",
      "12  PLACE DU PALAIS DES PAPES 3 chambres Parking C...  43.951293   4.806370   \n",
      "13            Hôtel particulier \"le clos de la croix\"  49.277964  -0.701677   \n",
      "14  Maison sol en ciel Petit Dejeuner et Parking i...  43.564323   4.193398   \n",
      "15  Génial T4 90m2 cosy&clim 3 CHB 2 SDB - tram 5m...  48.566900   7.757486   \n",
      "16                      Résidence L’Oiseau des Sables  43.452052   4.431091   \n",
      "17               Situation exceptionnelle HARMONY III  43.211814   2.352205   \n",
      "18                                          MacaIndCo  42.950958   1.618598   \n",
      "19                                     Mas d'Escattes  43.870408   4.404552   \n",
      "\n",
      "    score  \n",
      "0    10.0  \n",
      "1    10.0  \n",
      "2    10.0  \n",
      "3    10.0  \n",
      "4    10.0  \n",
      "5    10.0  \n",
      "6    10.0  \n",
      "7    10.0  \n",
      "8    10.0  \n",
      "9     9.9  \n",
      "10    9.9  \n",
      "11    9.9  \n",
      "12    9.9  \n",
      "13    9.9  \n",
      "14    9.9  \n",
      "15    9.8  \n",
      "16    9.8  \n",
      "17    9.8  \n",
      "18    9.8  \n",
      "19    9.8  \n"
     ]
    },
    {
     "data": {
      "application/vnd.plotly.v1+json": {
       "config": {
        "plotlyServerURL": "https://plot.ly"
       },
       "data": [
        {
         "customdata": {
          "bdata": "AAAAAAAAJEDNzMzMzMwjQA==",
          "dtype": "f8",
          "shape": "2, 1"
         },
         "hovertemplate": "<b>%{hovertext}</b><br><br>ville=Avignon<br>latitude=%{lat}<br>longitude=%{lon}<br>score=%{customdata[0]}<extra></extra>",
         "hovertext": [
          "Le Clos Saluces",
          "PLACE DU PALAIS DES PAPES 3 chambres Parking Climatisation 3 Salles de bain"
         ],
         "lat": {
          "bdata": "AvD075/5RUBlUQ/0w/lFQA==",
          "dtype": "f8"
         },
         "legendgroup": "Avignon",
         "lon": {
          "bdata": "ATAJVAo+E0Apwqf6uDkTQA==",
          "dtype": "f8"
         },
         "marker": {
          "color": "#636efa"
         },
         "mode": "markers",
         "name": "Avignon",
         "showlegend": true,
         "subplot": "map",
         "type": "scattermap"
        },
        {
         "customdata": {
          "bdata": "AAAAAAAAJECamZmZmZkjQA==",
          "dtype": "f8",
          "shape": "2, 1"
         },
         "hovertemplate": "<b>%{hovertext}</b><br><br>ville=Carcassonne<br>latitude=%{lat}<br>longitude=%{lon}<br>score=%{customdata[0]}<extra></extra>",
         "hovertext": [
          "Le Belvédère St Gimer",
          "Situation exceptionnelle HARMONY III"
         ],
         "lat": {
          "bdata": "UZ4egHmaRUALy9e3HJtFQA==",
          "dtype": "f8"
         },
         "legendgroup": "Carcassonne",
         "lon": {
          "bdata": "Y0vqX+3jAkAA7TrYUNECQA==",
          "dtype": "f8"
         },
         "marker": {
          "color": "#EF553B"
         },
         "mode": "markers",
         "name": "Carcassonne",
         "showlegend": true,
         "subplot": "map",
         "type": "scattermap"
        },
        {
         "customdata": {
          "bdata": "AAAAAAAAJEA=",
          "dtype": "f8",
          "shape": "1, 1"
         },
         "hovertemplate": "<b>%{hovertext}</b><br><br>ville=Chateau du Haut Koenigsbourg<br>latitude=%{lat}<br>longitude=%{lon}<br>score=%{customdata[0]}<extra></extra>",
         "hovertext": [
          "Au pied du Château"
         ],
         "lat": {
          "bdata": "UN8yp8sfSEA=",
          "dtype": "f8"
         },
         "legendgroup": "Chateau du Haut Koenigsbourg",
         "lon": {
          "bdata": "CR+lbVdrHUA=",
          "dtype": "f8"
         },
         "marker": {
          "color": "#00cc96"
         },
         "mode": "markers",
         "name": "Chateau du Haut Koenigsbourg",
         "showlegend": true,
         "subplot": "map",
         "type": "scattermap"
        },
        {
         "customdata": {
          "bdata": "AAAAAAAAJECamZmZmZkjQA==",
          "dtype": "f8",
          "shape": "2, 1"
         },
         "hovertemplate": "<b>%{hovertext}</b><br><br>ville=Saintes Maries de la mer<br>latitude=%{lat}<br>longitude=%{lon}<br>score=%{customdata[0]}<extra></extra>",
         "hovertext": [
          "Appartement 3 pièces 4 personne centre village - 3 Pièces 4 personnes MAE-7788",
          "Résidence L’Oiseau des Sables"
         ],
         "lat": {
          "bdata": "BG6CFOG5RUAGCmHa3LlFQA==",
          "dtype": "f8"
         },
         "legendgroup": "Saintes Maries de la mer",
         "lon": {
          "bdata": "IsZrXtW5EUBKXGz/b7kRQA==",
          "dtype": "f8"
         },
         "marker": {
          "color": "#ab63fa"
         },
         "mode": "markers",
         "name": "Saintes Maries de la mer",
         "showlegend": true,
         "subplot": "map",
         "type": "scattermap"
        },
        {
         "customdata": {
          "bdata": "AAAAAAAAJEAAAAAAAAAkQA==",
          "dtype": "f8",
          "shape": "2, 1"
         },
         "hovertemplate": "<b>%{hovertext}</b><br><br>ville=Bormes les Mimosas<br>latitude=%{lat}<br>longitude=%{lon}<br>score=%{customdata[0]}<extra></extra>",
         "hovertext": [
          "Villa Le Pas de Courtin by Interhome",
          "T3- Proche plages et commerces"
         ],
         "lat": {
          "bdata": "53EYzF+TRUDzWDMyyI9FQA==",
          "dtype": "f8"
         },
         "legendgroup": "Bormes les Mimosas",
         "lon": {
          "bdata": "w2aAC7I1GUDAlleut20ZQA==",
          "dtype": "f8"
         },
         "marker": {
          "color": "#FFA15A"
         },
         "mode": "markers",
         "name": "Bormes les Mimosas",
         "showlegend": true,
         "subplot": "map",
         "type": "scattermap"
        },
        {
         "customdata": {
          "bdata": "AAAAAAAAJEDNzMzMzMwjQA==",
          "dtype": "f8",
          "shape": "2, 1"
         },
         "hovertemplate": "<b>%{hovertext}</b><br><br>ville=Bayeux<br>latitude=%{lat}<br>longitude=%{lon}<br>score=%{customdata[0]}<extra></extra>",
         "hovertext": [
          "LEPTILOFT BAYEUX Centre",
          "Hôtel particulier \"le clos de la croix\""
         ],
         "lat": {
          "bdata": "2EftsgKkSECQuwhTlKNIQA==",
          "dtype": "f8"
         },
         "legendgroup": "Bayeux",
         "lon": {
          "bdata": "530J+2/h5r9fX+tSI3Tmvw==",
          "dtype": "f8"
         },
         "marker": {
          "color": "#19d3f3"
         },
         "mode": "markers",
         "name": "Bayeux",
         "showlegend": true,
         "subplot": "map",
         "type": "scattermap"
        },
        {
         "customdata": {
          "bdata": "AAAAAAAAJEDNzMzMzMwjQA==",
          "dtype": "f8",
          "shape": "2, 1"
         },
         "hovertemplate": "<b>%{hovertext}</b><br><br>ville=Uzes<br>latitude=%{lat}<br>longitude=%{lon}<br>score=%{customdata[0]}<extra></extra>",
         "hovertext": [
          "Appartement Uzès, piscine, climatisation, parking privé",
          "La Grande Bourgade-Authentique Maison en Pierre avec Terrasse Climatisation au Cœur d'Uzès"
         ],
         "lat": {
          "bdata": "xQQ1fAsBRkAhexi1VgFGQA==",
          "dtype": "f8"
         },
         "legendgroup": "Uzes",
         "lon": {
          "bdata": "gKlVqvqjEUBFbdG4JqsRQA==",
          "dtype": "f8"
         },
         "marker": {
          "color": "#FF6692"
         },
         "mode": "markers",
         "name": "Uzes",
         "showlegend": true,
         "subplot": "map",
         "type": "scattermap"
        },
        {
         "customdata": {
          "bdata": "AAAAAAAAJEA=",
          "dtype": "f8",
          "shape": "1, 1"
         },
         "hovertemplate": "<b>%{hovertext}</b><br><br>ville=Mont Saint Michel<br>latitude=%{lat}<br>longitude=%{lon}<br>score=%{customdata[0]}<extra></extra>",
         "hovertext": [
          "Gîte au pied du Mont Saint Michel"
         ],
         "lat": {
          "bdata": "+F3HblVOSEA=",
          "dtype": "f8"
         },
         "legendgroup": "Mont Saint Michel",
         "lon": {
          "bdata": "5kwk4vfA978=",
          "dtype": "f8"
         },
         "marker": {
          "color": "#B6E880"
         },
         "mode": "markers",
         "name": "Mont Saint Michel",
         "showlegend": true,
         "subplot": "map",
         "type": "scattermap"
        },
        {
         "customdata": {
          "bdata": "zczMzMzMI0A=",
          "dtype": "f8",
          "shape": "1, 1"
         },
         "hovertemplate": "<b>%{hovertext}</b><br><br>ville=Eguisheim<br>latitude=%{lat}<br>longitude=%{lon}<br>score=%{customdata[0]}<extra></extra>",
         "hovertext": [
          "Fleur de Vigne"
         ],
         "lat": {
          "bdata": "JXQ8C+cFSEA=",
          "dtype": "f8"
         },
         "legendgroup": "Eguisheim",
         "lon": {
          "bdata": "VcWvs3w4HUA=",
          "dtype": "f8"
         },
         "marker": {
          "color": "#FF97FF"
         },
         "mode": "markers",
         "name": "Eguisheim",
         "showlegend": true,
         "subplot": "map",
         "type": "scattermap"
        },
        {
         "customdata": {
          "bdata": "zczMzMzMI0DNzMzMzMwjQA==",
          "dtype": "f8",
          "shape": "2, 1"
         },
         "hovertemplate": "<b>%{hovertext}</b><br><br>ville=Aigues Mortes<br>latitude=%{lat}<br>longitude=%{lon}<br>score=%{customdata[0]}<extra></extra>",
         "hovertext": [
          "La Perle Rose Villa Standing 5 étoiles avec piscine jacuzzi et superbe vue",
          "Maison sol en ciel Petit Dejeuner et Parking inclus"
         ],
         "lat": {
          "bdata": "6RujgvPHRUALMHK7O8hFQA==",
          "dtype": "f8"
         },
         "legendgroup": "Aigues Mortes",
         "lon": {
          "bdata": "Wo0UoHa+EEDvyfY2CsYQQA==",
          "dtype": "f8"
         },
         "marker": {
          "color": "#FECB52"
         },
         "mode": "markers",
         "name": "Aigues Mortes",
         "showlegend": true,
         "subplot": "map",
         "type": "scattermap"
        },
        {
         "customdata": {
          "bdata": "mpmZmZmZI0A=",
          "dtype": "f8",
          "shape": "1, 1"
         },
         "hovertemplate": "<b>%{hovertext}</b><br><br>ville=Strasbourg<br>latitude=%{lat}<br>longitude=%{lon}<br>score=%{customdata[0]}<extra></extra>",
         "hovertext": [
          "Génial T4 90m2 cosy&clim 3 CHB 2 SDB - tram 5min du centre de Strasbourg"
         ],
         "lat": {
          "bdata": "sMy2LpBISEA=",
          "dtype": "f8"
         },
         "legendgroup": "Strasbourg",
         "lon": {
          "bdata": "0byIW6oHH0A=",
          "dtype": "f8"
         },
         "marker": {
          "color": "#636efa"
         },
         "mode": "markers",
         "name": "Strasbourg",
         "showlegend": true,
         "subplot": "map",
         "type": "scattermap"
        },
        {
         "customdata": {
          "bdata": "mpmZmZmZI0A=",
          "dtype": "f8",
          "shape": "1, 1"
         },
         "hovertemplate": "<b>%{hovertext}</b><br><br>ville=Foix<br>latitude=%{lat}<br>longitude=%{lon}<br>score=%{customdata[0]}<extra></extra>",
         "hovertext": [
          "MacaIndCo"
         ],
         "lat": {
          "bdata": "ZjGx+bh5RUA=",
          "dtype": "f8"
         },
         "legendgroup": "Foix",
         "lon": {
          "bdata": "cQqGzsbl+T8=",
          "dtype": "f8"
         },
         "marker": {
          "color": "#EF553B"
         },
         "mode": "markers",
         "name": "Foix",
         "showlegend": true,
         "subplot": "map",
         "type": "scattermap"
        },
        {
         "customdata": {
          "bdata": "mpmZmZmZI0A=",
          "dtype": "f8",
          "shape": "1, 1"
         },
         "hovertemplate": "<b>%{hovertext}</b><br><br>ville=Nimes<br>latitude=%{lat}<br>longitude=%{lon}<br>score=%{customdata[0]}<extra></extra>",
         "hovertext": [
          "Mas d'Escattes"
         ],
         "lat": {
          "bdata": "dq25imnvRUA=",
          "dtype": "f8"
         },
         "legendgroup": "Nimes",
         "lon": {
          "bdata": "Eh8s+0KeEUA=",
          "dtype": "f8"
         },
         "marker": {
          "color": "#00cc96"
         },
         "mode": "markers",
         "name": "Nimes",
         "showlegend": true,
         "subplot": "map",
         "type": "scattermap"
        }
       ],
       "layout": {
        "height": 600,
        "legend": {
         "title": {
          "text": "ville"
         },
         "tracegroupgap": 0
        },
        "map": {
         "center": {
          "lat": 45.074907415246145,
          "lon": 3.929929833142346
         },
         "domain": {
          "x": [
           0,
           1
          ],
          "y": [
           0,
           1
          ]
         },
         "style": "carto-positron",
         "zoom": 5
        },
        "mapbox": {
         "center": {
          "lat": 45.074907415246145,
          "lon": 3.929929833142346
         },
         "zoom": 5
        },
        "template": {
         "data": {
          "bar": [
           {
            "error_x": {
             "color": "#2a3f5f"
            },
            "error_y": {
             "color": "#2a3f5f"
            },
            "marker": {
             "line": {
              "color": "#E5ECF6",
              "width": 0.5
             },
             "pattern": {
              "fillmode": "overlay",
              "size": 10,
              "solidity": 0.2
             }
            },
            "type": "bar"
           }
          ],
          "barpolar": [
           {
            "marker": {
             "line": {
              "color": "#E5ECF6",
              "width": 0.5
             },
             "pattern": {
              "fillmode": "overlay",
              "size": 10,
              "solidity": 0.2
             }
            },
            "type": "barpolar"
           }
          ],
          "carpet": [
           {
            "aaxis": {
             "endlinecolor": "#2a3f5f",
             "gridcolor": "white",
             "linecolor": "white",
             "minorgridcolor": "white",
             "startlinecolor": "#2a3f5f"
            },
            "baxis": {
             "endlinecolor": "#2a3f5f",
             "gridcolor": "white",
             "linecolor": "white",
             "minorgridcolor": "white",
             "startlinecolor": "#2a3f5f"
            },
            "type": "carpet"
           }
          ],
          "choropleth": [
           {
            "colorbar": {
             "outlinewidth": 0,
             "ticks": ""
            },
            "type": "choropleth"
           }
          ],
          "contour": [
           {
            "colorbar": {
             "outlinewidth": 0,
             "ticks": ""
            },
            "colorscale": [
             [
              0,
              "#0d0887"
             ],
             [
              0.1111111111111111,
              "#46039f"
             ],
             [
              0.2222222222222222,
              "#7201a8"
             ],
             [
              0.3333333333333333,
              "#9c179e"
             ],
             [
              0.4444444444444444,
              "#bd3786"
             ],
             [
              0.5555555555555556,
              "#d8576b"
             ],
             [
              0.6666666666666666,
              "#ed7953"
             ],
             [
              0.7777777777777778,
              "#fb9f3a"
             ],
             [
              0.8888888888888888,
              "#fdca26"
             ],
             [
              1,
              "#f0f921"
             ]
            ],
            "type": "contour"
           }
          ],
          "contourcarpet": [
           {
            "colorbar": {
             "outlinewidth": 0,
             "ticks": ""
            },
            "type": "contourcarpet"
           }
          ],
          "heatmap": [
           {
            "colorbar": {
             "outlinewidth": 0,
             "ticks": ""
            },
            "colorscale": [
             [
              0,
              "#0d0887"
             ],
             [
              0.1111111111111111,
              "#46039f"
             ],
             [
              0.2222222222222222,
              "#7201a8"
             ],
             [
              0.3333333333333333,
              "#9c179e"
             ],
             [
              0.4444444444444444,
              "#bd3786"
             ],
             [
              0.5555555555555556,
              "#d8576b"
             ],
             [
              0.6666666666666666,
              "#ed7953"
             ],
             [
              0.7777777777777778,
              "#fb9f3a"
             ],
             [
              0.8888888888888888,
              "#fdca26"
             ],
             [
              1,
              "#f0f921"
             ]
            ],
            "type": "heatmap"
           }
          ],
          "histogram": [
           {
            "marker": {
             "pattern": {
              "fillmode": "overlay",
              "size": 10,
              "solidity": 0.2
             }
            },
            "type": "histogram"
           }
          ],
          "histogram2d": [
           {
            "colorbar": {
             "outlinewidth": 0,
             "ticks": ""
            },
            "colorscale": [
             [
              0,
              "#0d0887"
             ],
             [
              0.1111111111111111,
              "#46039f"
             ],
             [
              0.2222222222222222,
              "#7201a8"
             ],
             [
              0.3333333333333333,
              "#9c179e"
             ],
             [
              0.4444444444444444,
              "#bd3786"
             ],
             [
              0.5555555555555556,
              "#d8576b"
             ],
             [
              0.6666666666666666,
              "#ed7953"
             ],
             [
              0.7777777777777778,
              "#fb9f3a"
             ],
             [
              0.8888888888888888,
              "#fdca26"
             ],
             [
              1,
              "#f0f921"
             ]
            ],
            "type": "histogram2d"
           }
          ],
          "histogram2dcontour": [
           {
            "colorbar": {
             "outlinewidth": 0,
             "ticks": ""
            },
            "colorscale": [
             [
              0,
              "#0d0887"
             ],
             [
              0.1111111111111111,
              "#46039f"
             ],
             [
              0.2222222222222222,
              "#7201a8"
             ],
             [
              0.3333333333333333,
              "#9c179e"
             ],
             [
              0.4444444444444444,
              "#bd3786"
             ],
             [
              0.5555555555555556,
              "#d8576b"
             ],
             [
              0.6666666666666666,
              "#ed7953"
             ],
             [
              0.7777777777777778,
              "#fb9f3a"
             ],
             [
              0.8888888888888888,
              "#fdca26"
             ],
             [
              1,
              "#f0f921"
             ]
            ],
            "type": "histogram2dcontour"
           }
          ],
          "mesh3d": [
           {
            "colorbar": {
             "outlinewidth": 0,
             "ticks": ""
            },
            "type": "mesh3d"
           }
          ],
          "parcoords": [
           {
            "line": {
             "colorbar": {
              "outlinewidth": 0,
              "ticks": ""
             }
            },
            "type": "parcoords"
           }
          ],
          "pie": [
           {
            "automargin": true,
            "type": "pie"
           }
          ],
          "scatter": [
           {
            "fillpattern": {
             "fillmode": "overlay",
             "size": 10,
             "solidity": 0.2
            },
            "type": "scatter"
           }
          ],
          "scatter3d": [
           {
            "line": {
             "colorbar": {
              "outlinewidth": 0,
              "ticks": ""
             }
            },
            "marker": {
             "colorbar": {
              "outlinewidth": 0,
              "ticks": ""
             }
            },
            "type": "scatter3d"
           }
          ],
          "scattercarpet": [
           {
            "marker": {
             "colorbar": {
              "outlinewidth": 0,
              "ticks": ""
             }
            },
            "type": "scattercarpet"
           }
          ],
          "scattergeo": [
           {
            "marker": {
             "colorbar": {
              "outlinewidth": 0,
              "ticks": ""
             }
            },
            "type": "scattergeo"
           }
          ],
          "scattergl": [
           {
            "marker": {
             "colorbar": {
              "outlinewidth": 0,
              "ticks": ""
             }
            },
            "type": "scattergl"
           }
          ],
          "scattermap": [
           {
            "marker": {
             "colorbar": {
              "outlinewidth": 0,
              "ticks": ""
             }
            },
            "type": "scattermap"
           }
          ],
          "scattermapbox": [
           {
            "marker": {
             "colorbar": {
              "outlinewidth": 0,
              "ticks": ""
             }
            },
            "type": "scattermapbox"
           }
          ],
          "scatterpolar": [
           {
            "marker": {
             "colorbar": {
              "outlinewidth": 0,
              "ticks": ""
             }
            },
            "type": "scatterpolar"
           }
          ],
          "scatterpolargl": [
           {
            "marker": {
             "colorbar": {
              "outlinewidth": 0,
              "ticks": ""
             }
            },
            "type": "scatterpolargl"
           }
          ],
          "scatterternary": [
           {
            "marker": {
             "colorbar": {
              "outlinewidth": 0,
              "ticks": ""
             }
            },
            "type": "scatterternary"
           }
          ],
          "surface": [
           {
            "colorbar": {
             "outlinewidth": 0,
             "ticks": ""
            },
            "colorscale": [
             [
              0,
              "#0d0887"
             ],
             [
              0.1111111111111111,
              "#46039f"
             ],
             [
              0.2222222222222222,
              "#7201a8"
             ],
             [
              0.3333333333333333,
              "#9c179e"
             ],
             [
              0.4444444444444444,
              "#bd3786"
             ],
             [
              0.5555555555555556,
              "#d8576b"
             ],
             [
              0.6666666666666666,
              "#ed7953"
             ],
             [
              0.7777777777777778,
              "#fb9f3a"
             ],
             [
              0.8888888888888888,
              "#fdca26"
             ],
             [
              1,
              "#f0f921"
             ]
            ],
            "type": "surface"
           }
          ],
          "table": [
           {
            "cells": {
             "fill": {
              "color": "#EBF0F8"
             },
             "line": {
              "color": "white"
             }
            },
            "header": {
             "fill": {
              "color": "#C8D4E3"
             },
             "line": {
              "color": "white"
             }
            },
            "type": "table"
           }
          ]
         },
         "layout": {
          "annotationdefaults": {
           "arrowcolor": "#2a3f5f",
           "arrowhead": 0,
           "arrowwidth": 1
          },
          "autotypenumbers": "strict",
          "coloraxis": {
           "colorbar": {
            "outlinewidth": 0,
            "ticks": ""
           }
          },
          "colorscale": {
           "diverging": [
            [
             0,
             "#8e0152"
            ],
            [
             0.1,
             "#c51b7d"
            ],
            [
             0.2,
             "#de77ae"
            ],
            [
             0.3,
             "#f1b6da"
            ],
            [
             0.4,
             "#fde0ef"
            ],
            [
             0.5,
             "#f7f7f7"
            ],
            [
             0.6,
             "#e6f5d0"
            ],
            [
             0.7,
             "#b8e186"
            ],
            [
             0.8,
             "#7fbc41"
            ],
            [
             0.9,
             "#4d9221"
            ],
            [
             1,
             "#276419"
            ]
           ],
           "sequential": [
            [
             0,
             "#0d0887"
            ],
            [
             0.1111111111111111,
             "#46039f"
            ],
            [
             0.2222222222222222,
             "#7201a8"
            ],
            [
             0.3333333333333333,
             "#9c179e"
            ],
            [
             0.4444444444444444,
             "#bd3786"
            ],
            [
             0.5555555555555556,
             "#d8576b"
            ],
            [
             0.6666666666666666,
             "#ed7953"
            ],
            [
             0.7777777777777778,
             "#fb9f3a"
            ],
            [
             0.8888888888888888,
             "#fdca26"
            ],
            [
             1,
             "#f0f921"
            ]
           ],
           "sequentialminus": [
            [
             0,
             "#0d0887"
            ],
            [
             0.1111111111111111,
             "#46039f"
            ],
            [
             0.2222222222222222,
             "#7201a8"
            ],
            [
             0.3333333333333333,
             "#9c179e"
            ],
            [
             0.4444444444444444,
             "#bd3786"
            ],
            [
             0.5555555555555556,
             "#d8576b"
            ],
            [
             0.6666666666666666,
             "#ed7953"
            ],
            [
             0.7777777777777778,
             "#fb9f3a"
            ],
            [
             0.8888888888888888,
             "#fdca26"
            ],
            [
             1,
             "#f0f921"
            ]
           ]
          },
          "colorway": [
           "#636efa",
           "#EF553B",
           "#00cc96",
           "#ab63fa",
           "#FFA15A",
           "#19d3f3",
           "#FF6692",
           "#B6E880",
           "#FF97FF",
           "#FECB52"
          ],
          "font": {
           "color": "#2a3f5f"
          },
          "geo": {
           "bgcolor": "white",
           "lakecolor": "white",
           "landcolor": "#E5ECF6",
           "showlakes": true,
           "showland": true,
           "subunitcolor": "white"
          },
          "hoverlabel": {
           "align": "left"
          },
          "hovermode": "closest",
          "mapbox": {
           "style": "light"
          },
          "paper_bgcolor": "white",
          "plot_bgcolor": "#E5ECF6",
          "polar": {
           "angularaxis": {
            "gridcolor": "white",
            "linecolor": "white",
            "ticks": ""
           },
           "bgcolor": "#E5ECF6",
           "radialaxis": {
            "gridcolor": "white",
            "linecolor": "white",
            "ticks": ""
           }
          },
          "scene": {
           "xaxis": {
            "backgroundcolor": "#E5ECF6",
            "gridcolor": "white",
            "gridwidth": 2,
            "linecolor": "white",
            "showbackground": true,
            "ticks": "",
            "zerolinecolor": "white"
           },
           "yaxis": {
            "backgroundcolor": "#E5ECF6",
            "gridcolor": "white",
            "gridwidth": 2,
            "linecolor": "white",
            "showbackground": true,
            "ticks": "",
            "zerolinecolor": "white"
           },
           "zaxis": {
            "backgroundcolor": "#E5ECF6",
            "gridcolor": "white",
            "gridwidth": 2,
            "linecolor": "white",
            "showbackground": true,
            "ticks": "",
            "zerolinecolor": "white"
           }
          },
          "shapedefaults": {
           "line": {
            "color": "#2a3f5f"
           }
          },
          "ternary": {
           "aaxis": {
            "gridcolor": "white",
            "linecolor": "white",
            "ticks": ""
           },
           "baxis": {
            "gridcolor": "white",
            "linecolor": "white",
            "ticks": ""
           },
           "bgcolor": "#E5ECF6",
           "caxis": {
            "gridcolor": "white",
            "linecolor": "white",
            "ticks": ""
           }
          },
          "title": {
           "x": 0.05
          },
          "xaxis": {
           "automargin": true,
           "gridcolor": "white",
           "linecolor": "white",
           "ticks": "",
           "title": {
            "standoff": 15
           },
           "zerolinecolor": "white",
           "zerolinewidth": 2
          },
          "yaxis": {
           "automargin": true,
           "gridcolor": "white",
           "linecolor": "white",
           "ticks": "",
           "title": {
            "standoff": 15
           },
           "zerolinecolor": "white",
           "zerolinewidth": 2
          }
         }
        },
        "title": {
         "text": "Top 20 hôtels par ville"
        }
       }
      }
     },
     "metadata": {},
     "output_type": "display_data"
    }
   ],
   "source": [
    "# Les 20 meilleurs hôtels par ville\n",
    "query_hotel_top20_per_city = \"\"\"\n",
    "SELECT v.ville,\n",
    "        h.name,\n",
    "        h.latitude,\n",
    "        h.longitude,\n",
    "        h.score\n",
    "FROM hotels2 h\n",
    "JOIN villes2 v ON h.id=v.id\n",
    "ORDER BY h.score DESC\n",
    "LIMIT 20;\n",
    "\"\"\"\n",
    "\n",
    "top = pd.read_sql(query_hotel_top20_per_city, con=engine)\n",
    "print(top)\n",
    "fig = px.scatter_map(top, \n",
    "                    lat='latitude', \n",
    "                    lon='longitude', \n",
    "                    hover_name='name',\n",
    "                    hover_data='score',\n",
    "                    color='ville',\n",
    "                    title=\"Top 20 hôtels par ville\",\n",
    "                    zoom=5,\n",
    "                    height=600)\n",
    "fig.update_layout(map_style=\"carto-positron\")\n",
    "fig.show()\n"
   ]
  },
  {
   "cell_type": "code",
   "execution_count": 91,
   "metadata": {},
   "outputs": [
    {
     "name": "stdout",
     "output_type": "stream",
     "text": [
      "      ville   latitude  longitude  \\\n",
      "0   Avignon  43.950193   4.810586   \n",
      "1   Avignon  43.951293   4.806370   \n",
      "2   Avignon  43.948867   4.809148   \n",
      "3   Avignon  43.945103   4.822203   \n",
      "4   Avignon  43.947607   4.807996   \n",
      "..      ...        ...        ...   \n",
      "95     Uzes  44.014362   4.410920   \n",
      "96     Uzes  44.012514   4.418554   \n",
      "97     Uzes  44.012464   4.421800   \n",
      "98     Uzes  44.007718   4.408578   \n",
      "99     Uzes  44.007783   4.407181   \n",
      "\n",
      "                                                 name  score  temp_moy  \\\n",
      "0                                     Le Clos Saluces   10.0    20.063   \n",
      "1   PLACE DU PALAIS DES PAPES 3 chambres Parking C...    9.9    20.063   \n",
      "2                                        le Travertin    9.6    20.063   \n",
      "3                       Villa Aigarden maison d'hôtes    9.6    20.063   \n",
      "4                                          KAROUBA.31    9.5    20.063   \n",
      "..                                                ...    ...       ...   \n",
      "95                                       La Villa Léa    9.2    19.286   \n",
      "96                       Le Joubert Hôtel Particulier    9.1    19.286   \n",
      "97                          Boutique Hôtel Entraigues    9.0    19.286   \n",
      "98                 Appartement 1 chambre avec Piscine    8.8    19.286   \n",
      "99                                          Le Pietro    8.7    19.286   \n",
      "\n",
      "    precip_moy  \n",
      "0          0.0  \n",
      "1          0.0  \n",
      "2          0.0  \n",
      "3          0.0  \n",
      "4          0.0  \n",
      "..         ...  \n",
      "95         0.0  \n",
      "96         0.0  \n",
      "97         0.0  \n",
      "98         0.0  \n",
      "99         0.0  \n",
      "\n",
      "[100 rows x 7 columns]\n"
     ]
    },
    {
     "data": {
      "application/vnd.plotly.v1+json": {
       "config": {
        "plotlyServerURL": "https://plot.ly"
       },
       "data": [
        {
         "customdata": [
          [
           "Avignon",
           10,
           20.063
          ],
          [
           "Avignon",
           9.9,
           20.063
          ],
          [
           "Avignon",
           9.6,
           20.063
          ],
          [
           "Avignon",
           9.6,
           20.063
          ],
          [
           "Avignon",
           9.5,
           20.063
          ],
          [
           "Avignon",
           9.2,
           20.063
          ],
          [
           "Avignon",
           9.2,
           20.063
          ],
          [
           "Avignon",
           9,
           20.063
          ],
          [
           "Avignon",
           8.9,
           20.063
          ],
          [
           "Avignon",
           8.9,
           20.063
          ],
          [
           "Avignon",
           8.8,
           20.063
          ],
          [
           "Avignon",
           8.6,
           20.063
          ],
          [
           "Avignon",
           8.5,
           20.063
          ],
          [
           "Avignon",
           8.4,
           20.063
          ],
          [
           "Avignon",
           8.3,
           20.063
          ],
          [
           "Avignon",
           8.2,
           20.063
          ],
          [
           "Avignon",
           8,
           20.063
          ],
          [
           "Avignon",
           8,
           20.063
          ],
          [
           "Avignon",
           8,
           20.063
          ],
          [
           "Avignon",
           7.9,
           20.063
          ],
          [
           "Carcassonne",
           10,
           19.814
          ],
          [
           "Carcassonne",
           9.8,
           19.814
          ],
          [
           "Carcassonne",
           9.7,
           19.814
          ],
          [
           "Carcassonne",
           9.6,
           19.814
          ],
          [
           "Carcassonne",
           9.6,
           19.814
          ],
          [
           "Carcassonne",
           9.5,
           19.814
          ],
          [
           "Carcassonne",
           9.4,
           19.814
          ],
          [
           "Carcassonne",
           9.2,
           19.814
          ],
          [
           "Carcassonne",
           8.9,
           19.814
          ],
          [
           "Carcassonne",
           8.8,
           19.814
          ],
          [
           "Carcassonne",
           8.5,
           19.814
          ],
          [
           "Carcassonne",
           8.5,
           19.814
          ],
          [
           "Carcassonne",
           8.5,
           19.814
          ],
          [
           "Carcassonne",
           8.5,
           19.814
          ],
          [
           "Carcassonne",
           8.4,
           19.814
          ],
          [
           "Carcassonne",
           8.4,
           19.814
          ],
          [
           "Carcassonne",
           8.3,
           19.814
          ],
          [
           "Carcassonne",
           8.3,
           19.814
          ],
          [
           "Carcassonne",
           8.3,
           19.814
          ],
          [
           "Carcassonne",
           8.2,
           19.814
          ],
          [
           "Collioure",
           9.6,
           19.680999999999997
          ],
          [
           "Collioure",
           9.5,
           19.680999999999997
          ],
          [
           "Collioure",
           9.4,
           19.680999999999997
          ],
          [
           "Collioure",
           9.4,
           19.680999999999997
          ],
          [
           "Collioure",
           9.3,
           19.680999999999997
          ],
          [
           "Collioure",
           9.2,
           19.680999999999997
          ],
          [
           "Collioure",
           9.2,
           19.680999999999997
          ],
          [
           "Collioure",
           9.2,
           19.680999999999997
          ],
          [
           "Collioure",
           9.1,
           19.680999999999997
          ],
          [
           "Collioure",
           9.1,
           19.680999999999997
          ],
          [
           "Collioure",
           9,
           19.680999999999997
          ],
          [
           "Collioure",
           8.8,
           19.680999999999997
          ],
          [
           "Collioure",
           8.5,
           19.680999999999997
          ],
          [
           "Collioure",
           8.4,
           19.680999999999997
          ],
          [
           "Collioure",
           8.3,
           19.680999999999997
          ],
          [
           "Collioure",
           8.3,
           19.680999999999997
          ],
          [
           "Collioure",
           8.3,
           19.680999999999997
          ],
          [
           "Collioure",
           8.3,
           19.680999999999997
          ],
          [
           "Collioure",
           8.3,
           19.680999999999997
          ],
          [
           "Collioure",
           8.1,
           19.680999999999997
          ],
          [
           "Nimes",
           9.8,
           19.9
          ],
          [
           "Nimes",
           9.6,
           19.9
          ],
          [
           "Nimes",
           9.3,
           19.9
          ],
          [
           "Nimes",
           9.2,
           19.9
          ],
          [
           "Nimes",
           9.1,
           19.9
          ],
          [
           "Nimes",
           9.1,
           19.9
          ],
          [
           "Nimes",
           9,
           19.9
          ],
          [
           "Nimes",
           9,
           19.9
          ],
          [
           "Nimes",
           8.9,
           19.9
          ],
          [
           "Nimes",
           8.7,
           19.9
          ],
          [
           "Nimes",
           8.5,
           19.9
          ],
          [
           "Nimes",
           8.5,
           19.9
          ],
          [
           "Nimes",
           8.4,
           19.9
          ],
          [
           "Nimes",
           8.3,
           19.9
          ],
          [
           "Nimes",
           8.2,
           19.9
          ],
          [
           "Nimes",
           8,
           19.9
          ],
          [
           "Nimes",
           8,
           19.9
          ],
          [
           "Nimes",
           7.8,
           19.9
          ],
          [
           "Nimes",
           7.8,
           19.9
          ],
          [
           "Nimes",
           7.8,
           19.9
          ],
          [
           "Uzes",
           10,
           19.286
          ],
          [
           "Uzes",
           9.9,
           19.286
          ],
          [
           "Uzes",
           9.8,
           19.286
          ],
          [
           "Uzes",
           9.7,
           19.286
          ],
          [
           "Uzes",
           9.7,
           19.286
          ],
          [
           "Uzes",
           9.7,
           19.286
          ],
          [
           "Uzes",
           9.6,
           19.286
          ],
          [
           "Uzes",
           9.6,
           19.286
          ],
          [
           "Uzes",
           9.6,
           19.286
          ],
          [
           "Uzes",
           9.5,
           19.286
          ],
          [
           "Uzes",
           9.5,
           19.286
          ],
          [
           "Uzes",
           9.4,
           19.286
          ],
          [
           "Uzes",
           9.3,
           19.286
          ],
          [
           "Uzes",
           9.3,
           19.286
          ],
          [
           "Uzes",
           9.3,
           19.286
          ],
          [
           "Uzes",
           9.2,
           19.286
          ],
          [
           "Uzes",
           9.1,
           19.286
          ],
          [
           "Uzes",
           9,
           19.286
          ],
          [
           "Uzes",
           8.8,
           19.286
          ],
          [
           "Uzes",
           8.7,
           19.286
          ]
         ],
         "hovertemplate": "<b>%{hovertext}</b><br><br>latitude=%{lat}<br>longitude=%{lon}<br>ville=%{customdata[0]}<br>score=%{customdata[1]}<br>temp_moy=%{marker.color}<extra></extra>",
         "hovertext": [
          "Le Clos Saluces",
          "PLACE DU PALAIS DES PAPES 3 chambres Parking Climatisation 3 Salles de bain",
          "le Travertin",
          "Villa Aigarden maison d'hôtes",
          "KAROUBA.31",
          "Maison d'hôtes L'îlot bambou",
          "Maison 3 Chambres - Terrasse - Climatisation 10 minutes à pied du Pont d'Avignon",
          "Aux MARCHES DU PALAIS - AC CLIM - SPACIEUX - TERRASSE - WIFI",
          "COWOOL AVIGNON",
          "Les Cachettes",
          "Charmante Maison provençale avec piscine dans Avignon",
          "Logis Hotel la Ferme",
          "LES FRENES EN PROVENCE-CHÂTEAU ZEN",
          "Hotel Le Magnan",
          "Hôtel Le Bristol",
          "Avignon Grand Hotel",
          "ApartHotel Sainte-Marthe",
          "Au cœur des Papes, dans bâtisse de charme studios & appartements en cœur de ville",
          "Auberge de jeunesse HI Avignon",
          "Hôtel Central",
          "Le Belvédère St Gimer",
          "Situation exceptionnelle HARMONY III",
          "LA COUR CARREE - chambres d'hôtes",
          "Gîte Carcasso",
          "Appartement Aloa",
          "Carcassonne Townhouse",
          "Résidence Alpha Centauri",
          "La Folie des Remparts",
          "La Maison de L' Ambassadeur Carcassonne B&B",
          "GOOD KNIGHT",
          "Hôtel l'Aragon",
          "Hotel Espace Cite",
          "Mercure Carcassonne La Cité",
          "ibis Styles Carcassonne La Cité",
          "La Rapière",
          "Hôtel Le Donjon - Cœur de La Cité Médiévale",
          "Hotel du Roi & Spa by SOWELL COLLECTION",
          "Hôtel Pont Rouge , Carcassonne",
          "SOWELL HOTELS Les Chevaliers",
          "Cocon Carcassonnais - Free parking - Wifi - Climatisation - Tout équipée",
          "La Casa Machado 1",
          "L'Escale de Collioure - Climatisé, parking privé sécurisé, vue mer",
          "Collioure - Modern Beachside Apartment Joey",
          "Au coeur de Collioure",
          "Casa Collioura & Spa",
          "Les Roches Brunes",
          "Maison Nova - Boutique Hôtel & Spa",
          "Apartment Les Hauts de Collioure-2 by Interhome",
          "Le Madeloc Hôtel & Spa",
          "Ambeille Collioure",
          "Hôtel La Casa Pairal",
          "Grand Hotel Du Golfe - Spa & Restaurant",
          "Le Mas des Citronniers",
          "Hôtel des Templiers",
          "Hôtel Princes de Catalogne",
          "Collioure, le village préféré des Français",
          "La Frégate",
          "Ibanova Appartements",
          "Résidence du Soleil",
          "Residence Pierre & Vacances Les Balcons de Collioure",
          "Mas d'Escattes",
          "Mazet Pierre de Vers - Le Mas des Olivers Nîmes",
          "Chambres d'Hôtes Lovely Planette",
          "Les villas du triangle - chambres d'hôtes",
          "Les Trois Rois",
          "Maison Albar Hotels L’Imperator",
          "L'escapade Nîmoise",
          "Charmant Mazet",
          "Appart'City Collection Nîmes Arènes",
          "SQUARE HOTEL",
          "Appart'hôtel Odalys City - Nîmes Arènes - Palais des Congrès",
          "Hotel Majestic",
          "Hôtel & Spa Vatel",
          "Mas La Farelle Chambre d'hote,Fitness & Salle de jeux Gratuite & SPA en supplément",
          "Best Western Marquis de la Baume",
          "Campanile PRIME - Nîmes Centre",
          "Comfort Aparthotel Nimes Centre",
          "Appart'City Classic Nîmes",
          "Logis NIMOTEL Hôtel Cosy",
          "HÔTEL C SUITES chambres spacieuses",
          "Appartement Uzès, piscine, climatisation, parking privé",
          "La Grande Bourgade-Authentique Maison en Pierre avec Terrasse Climatisation au Cœur d'Uzès",
          "Le Pré Aux Cigales",
          "Le Mas des Alexandrins",
          "Uzès Place aux Herbes Elégance Renaissance",
          "Mazet de la Lavande",
          "Mazet de Mô",
          "Escapade Uzétienne Cœur de ville et Parking",
          "Coeur d'Uzès",
          "Vallee de l Eure",
          "Appartement avec Piscine privée dans Résidence pour 6 personnes",
          "Au Gré Du Voyage",
          "Une chambre à Uzès",
          "Le Cherche Midi - Appartement centre historique d'Uzès",
          "Hôtel Le SAINT-GENIÈS",
          "La Villa Léa",
          "Le Joubert Hôtel Particulier",
          "Boutique Hôtel Entraigues",
          "Appartement 1 chambre avec Piscine",
          "Le Pietro"
         ],
         "lat": {
          "bdata": "AvD075/5RUBlUQ/0w/lFQFEJ3nh0+UVAkuxsI/n4RUCM+n8wS/lFQLr+1U+9+UVAS6yMRj75RUAkfzDw3PlFQC7FTNxr90VAZKbQCbr5RUCjdVQ1QfZFQAV6O6bc/EVA/2YYLfb3RUBv56nZyPhFQDardQvW+EVAB9P9UKX4RUCjSvQplvlFQOa3Qx4c+UVAPrlcs0v5RUATOzf2BvlFQFGeHoB5mkVAC8vXtxybRUC0sKcd/ppFQLiSHRuBmkVAlkGFDUqcRUASLuQR3JpFQDVOcpT0lkVAvVcIBmuaRUCq/BdUH5tFQPrvwWuXmkVA+XReLJmaRUCBn9xdq5pFQP+IcFqEmkVAuCpmIJKaRUCvUuOFp5pFQFTMQGttmkVASS7/If2aRUDQHuwo7p1FQOlZdBwDm0VACqNZ2T6bRUBgzQRWV0NFQIRd3RfLQkVA1PNuLChDRUC+T1WhgUNFQJMj+DoEQ0VA2nOHmD5DRUBdtXxuskNFQB5Pyw9cQ0VAIJWEj65DRUAIJqgfNkNFQMunfXNZQ0VAk6FBAVNERUAIei+0P0NFQMg3FsZpQ0VACEMEKVFDRUAWDucprkJFQN/p659gQ0VAankvCPZCRUB4QgSE9UJFQKffIq82Q0VAdq25imnvRUCIiWHi6u1FQDgvTny17UVARiGKyKTrRUBwoJhDIupFQDZVY2lZ60VAzg9tEWLqRUB9WbcC1e9FQPOsNF686kVATdpU3SPrRUA1/ReKwupFQEoflmrM6kVARqarqAjpRUBD4h5LH+hFQCieStd360VABYLbQE/pRUBz08ojj+pFQD3Pk7Yp6UVAHJ1JzmToRUCOdAZGXuhFQMUENXwLAUZAIXsYtVYBRkAfJkYb+gFGQNshcGJ5/0VAnTUu0noBRkCKfnx6hP9FQEReIDBTAUZAgOn++50BRkCpGEIptQFGQKbQeY1dAUZA+P1HAjQCRkBmMscrxgFGQJSthriDAUZA2CiQfqABRkAnbQ6Z/gJGQLqjtp/WAUZAvZ2OEZoBRkDd37humAFGQAIMcOb8AEZAlosSCP8ARkA=",
          "dtype": "f8"
         },
         "legendgroup": "",
         "lon": {
          "bdata": "ATAJVAo+E0Apwqf6uDkTQF/IuyyRPBNAf6Dctu9JE0CYJIVoYzsTQP9RsforMRNATvRU4pU/E0C2kDZEyzgTQMH76FnfUxNAgEhC2BU+E0AbbnZabVQTQAAAAKxLTxNAb/JbdLKEE0AAAADWqT8TQAAAAN6oOBNAAAAAsKo3E0AAAABmikcTQONaSBuiPRNA4idpWVI5E0AAAABeGTkTQGNL6l/t4wJAAO062FDRAkB96lil9MwCQMZSJF8J5AJAAAAAEG3ZAkAlOzYC8doCQMaG+gcURgNALwK+NnbkAkB/BFx+pNACQG2Oc5tw7wJAAAAAuFPwAkAAAABILPECQAEAABBg9QJAAAAAoFH7AkD////PtO8CQAAAAMS46AJAVS5U/rXcAkAAAACAH/MCQACtwe+X3QJAqaZ/pOPVAkBXWt7d/6cIQHIAPJ3qvwhASgwCK4fGCEABn8SMla0IQCtz6Q5bsghAvCA+CPy4CECUCnQ3maIIQGLYYUz6mwhAAAAAfBWhCEBAgid5UqEIQAAAAByqqAhAAAAAoMODCEAAAABFF6kIQAAAADTpqwhAAAAA+FSpCEA3I6GBYZYIQAAAAG+CqghAxo22hUKvCED3W251864IQAAAAJ02uQhAEh8s+0KeEUDsN26M+JERQMAma9RDZBFAALDjC5qQEUClkDKgfG0RQAAAAP47aRFAA8pLo25sEUC+38HndHgRQIBJb74bchFAqvOo+L9zEUChBeU+m28RQAAAANYadhFAAAAAOclGEUDulXmrrpMRQAAAAAjAcRFAAAAAYN10EUAAAABsr3gRQAAAACBZdRFAAAAACexiEUBuF5rrNGIRQICpVar6oxFARW3RuCarEUAFAAn2tKMRQIDAy/S5tRFA1qfB2VKsEUBHzCiXGrQRQAVaM41UsBFAjq89sySoEUCHbvYHyq0RQBad0ftrrhFAY2dbDaCvEUCA8gWd/68RQIrTDWWLrBFA+na3V4usEUAAAACMWq0RQAAwrh7IpBFABX6eUJmsEUAAjUle7K8RQM5rkVliohFAYP0QLfSgEUA=",
          "dtype": "f8"
         },
         "marker": {
          "color": {
           "bdata": "46WbxCAQNEDjpZvEIBA0QOOlm8QgEDRA46WbxCAQNEDjpZvEIBA0QOOlm8QgEDRA46WbxCAQNEDjpZvEIBA0QOOlm8QgEDRA46WbxCAQNEDjpZvEIBA0QOOlm8QgEDRA46WbxCAQNEDjpZvEIBA0QOOlm8QgEDRA46WbxCAQNEDjpZvEIBA0QOOlm8QgEDRA46WbxCAQNEDjpZvEIBA0QKrx0k1i0DNAqvHSTWLQM0Cq8dJNYtAzQKrx0k1i0DNAqvHSTWLQM0Cq8dJNYtAzQKrx0k1i0DNAqvHSTWLQM0Cq8dJNYtAzQKrx0k1i0DNAqvHSTWLQM0Cq8dJNYtAzQKrx0k1i0DNAqvHSTWLQM0Cq8dJNYtAzQKrx0k1i0DNAqvHSTWLQM0Cq8dJNYtAzQKrx0k1i0DNAqvHSTWLQM0B0kxgEVq4zQHSTGARWrjNAdJMYBFauM0B0kxgEVq4zQHSTGARWrjNAdJMYBFauM0B0kxgEVq4zQHSTGARWrjNAdJMYBFauM0B0kxgEVq4zQHSTGARWrjNAdJMYBFauM0B0kxgEVq4zQHSTGARWrjNAdJMYBFauM0B0kxgEVq4zQHSTGARWrjNAdJMYBFauM0B0kxgEVq4zQHSTGARWrjNAZmZmZmbmM0BmZmZmZuYzQGZmZmZm5jNAZmZmZmbmM0BmZmZmZuYzQGZmZmZm5jNAZmZmZmbmM0BmZmZmZuYzQGZmZmZm5jNAZmZmZmbmM0BmZmZmZuYzQGZmZmZm5jNAZmZmZmbmM0BmZmZmZuYzQGZmZmZm5jNAZmZmZmbmM0BmZmZmZuYzQGZmZmZm5jNAZmZmZmbmM0BmZmZmZuYzQPCnxks3STNA8KfGSzdJM0Dwp8ZLN0kzQPCnxks3STNA8KfGSzdJM0Dwp8ZLN0kzQPCnxks3STNA8KfGSzdJM0Dwp8ZLN0kzQPCnxks3STNA8KfGSzdJM0Dwp8ZLN0kzQPCnxks3STNA8KfGSzdJM0Dwp8ZLN0kzQPCnxks3STNA8KfGSzdJM0Dwp8ZLN0kzQPCnxks3STNA8KfGSzdJM0A=",
           "dtype": "f8"
          },
          "coloraxis": "coloraxis"
         },
         "mode": "markers",
         "name": "",
         "showlegend": false,
         "subplot": "map",
         "type": "scattermap"
        }
       ],
       "layout": {
        "coloraxis": {
         "colorbar": {
          "title": {
           "text": "temp_moy"
          }
         },
         "colorscale": [
          [
           0,
           "blue"
          ],
          [
           0.5,
           "orange"
          ],
          [
           1,
           "red"
          ]
         ]
        },
        "height": 600,
        "legend": {
         "tracegroupgap": 0
        },
        "map": {
         "center": {
          "lat": 43.50573984437483,
          "lon": 3.8088805851088114
         },
         "domain": {
          "x": [
           0,
           1
          ],
          "y": [
           0,
           1
          ]
         },
         "style": "carto-positron",
         "zoom": 5
        },
        "mapbox": {
         "center": {
          "lat": 43.50573984437483,
          "lon": 3.8088805851088114
         },
         "zoom": 5
        },
        "template": {
         "data": {
          "bar": [
           {
            "error_x": {
             "color": "#2a3f5f"
            },
            "error_y": {
             "color": "#2a3f5f"
            },
            "marker": {
             "line": {
              "color": "#E5ECF6",
              "width": 0.5
             },
             "pattern": {
              "fillmode": "overlay",
              "size": 10,
              "solidity": 0.2
             }
            },
            "type": "bar"
           }
          ],
          "barpolar": [
           {
            "marker": {
             "line": {
              "color": "#E5ECF6",
              "width": 0.5
             },
             "pattern": {
              "fillmode": "overlay",
              "size": 10,
              "solidity": 0.2
             }
            },
            "type": "barpolar"
           }
          ],
          "carpet": [
           {
            "aaxis": {
             "endlinecolor": "#2a3f5f",
             "gridcolor": "white",
             "linecolor": "white",
             "minorgridcolor": "white",
             "startlinecolor": "#2a3f5f"
            },
            "baxis": {
             "endlinecolor": "#2a3f5f",
             "gridcolor": "white",
             "linecolor": "white",
             "minorgridcolor": "white",
             "startlinecolor": "#2a3f5f"
            },
            "type": "carpet"
           }
          ],
          "choropleth": [
           {
            "colorbar": {
             "outlinewidth": 0,
             "ticks": ""
            },
            "type": "choropleth"
           }
          ],
          "contour": [
           {
            "colorbar": {
             "outlinewidth": 0,
             "ticks": ""
            },
            "colorscale": [
             [
              0,
              "#0d0887"
             ],
             [
              0.1111111111111111,
              "#46039f"
             ],
             [
              0.2222222222222222,
              "#7201a8"
             ],
             [
              0.3333333333333333,
              "#9c179e"
             ],
             [
              0.4444444444444444,
              "#bd3786"
             ],
             [
              0.5555555555555556,
              "#d8576b"
             ],
             [
              0.6666666666666666,
              "#ed7953"
             ],
             [
              0.7777777777777778,
              "#fb9f3a"
             ],
             [
              0.8888888888888888,
              "#fdca26"
             ],
             [
              1,
              "#f0f921"
             ]
            ],
            "type": "contour"
           }
          ],
          "contourcarpet": [
           {
            "colorbar": {
             "outlinewidth": 0,
             "ticks": ""
            },
            "type": "contourcarpet"
           }
          ],
          "heatmap": [
           {
            "colorbar": {
             "outlinewidth": 0,
             "ticks": ""
            },
            "colorscale": [
             [
              0,
              "#0d0887"
             ],
             [
              0.1111111111111111,
              "#46039f"
             ],
             [
              0.2222222222222222,
              "#7201a8"
             ],
             [
              0.3333333333333333,
              "#9c179e"
             ],
             [
              0.4444444444444444,
              "#bd3786"
             ],
             [
              0.5555555555555556,
              "#d8576b"
             ],
             [
              0.6666666666666666,
              "#ed7953"
             ],
             [
              0.7777777777777778,
              "#fb9f3a"
             ],
             [
              0.8888888888888888,
              "#fdca26"
             ],
             [
              1,
              "#f0f921"
             ]
            ],
            "type": "heatmap"
           }
          ],
          "histogram": [
           {
            "marker": {
             "pattern": {
              "fillmode": "overlay",
              "size": 10,
              "solidity": 0.2
             }
            },
            "type": "histogram"
           }
          ],
          "histogram2d": [
           {
            "colorbar": {
             "outlinewidth": 0,
             "ticks": ""
            },
            "colorscale": [
             [
              0,
              "#0d0887"
             ],
             [
              0.1111111111111111,
              "#46039f"
             ],
             [
              0.2222222222222222,
              "#7201a8"
             ],
             [
              0.3333333333333333,
              "#9c179e"
             ],
             [
              0.4444444444444444,
              "#bd3786"
             ],
             [
              0.5555555555555556,
              "#d8576b"
             ],
             [
              0.6666666666666666,
              "#ed7953"
             ],
             [
              0.7777777777777778,
              "#fb9f3a"
             ],
             [
              0.8888888888888888,
              "#fdca26"
             ],
             [
              1,
              "#f0f921"
             ]
            ],
            "type": "histogram2d"
           }
          ],
          "histogram2dcontour": [
           {
            "colorbar": {
             "outlinewidth": 0,
             "ticks": ""
            },
            "colorscale": [
             [
              0,
              "#0d0887"
             ],
             [
              0.1111111111111111,
              "#46039f"
             ],
             [
              0.2222222222222222,
              "#7201a8"
             ],
             [
              0.3333333333333333,
              "#9c179e"
             ],
             [
              0.4444444444444444,
              "#bd3786"
             ],
             [
              0.5555555555555556,
              "#d8576b"
             ],
             [
              0.6666666666666666,
              "#ed7953"
             ],
             [
              0.7777777777777778,
              "#fb9f3a"
             ],
             [
              0.8888888888888888,
              "#fdca26"
             ],
             [
              1,
              "#f0f921"
             ]
            ],
            "type": "histogram2dcontour"
           }
          ],
          "mesh3d": [
           {
            "colorbar": {
             "outlinewidth": 0,
             "ticks": ""
            },
            "type": "mesh3d"
           }
          ],
          "parcoords": [
           {
            "line": {
             "colorbar": {
              "outlinewidth": 0,
              "ticks": ""
             }
            },
            "type": "parcoords"
           }
          ],
          "pie": [
           {
            "automargin": true,
            "type": "pie"
           }
          ],
          "scatter": [
           {
            "fillpattern": {
             "fillmode": "overlay",
             "size": 10,
             "solidity": 0.2
            },
            "type": "scatter"
           }
          ],
          "scatter3d": [
           {
            "line": {
             "colorbar": {
              "outlinewidth": 0,
              "ticks": ""
             }
            },
            "marker": {
             "colorbar": {
              "outlinewidth": 0,
              "ticks": ""
             }
            },
            "type": "scatter3d"
           }
          ],
          "scattercarpet": [
           {
            "marker": {
             "colorbar": {
              "outlinewidth": 0,
              "ticks": ""
             }
            },
            "type": "scattercarpet"
           }
          ],
          "scattergeo": [
           {
            "marker": {
             "colorbar": {
              "outlinewidth": 0,
              "ticks": ""
             }
            },
            "type": "scattergeo"
           }
          ],
          "scattergl": [
           {
            "marker": {
             "colorbar": {
              "outlinewidth": 0,
              "ticks": ""
             }
            },
            "type": "scattergl"
           }
          ],
          "scattermap": [
           {
            "marker": {
             "colorbar": {
              "outlinewidth": 0,
              "ticks": ""
             }
            },
            "type": "scattermap"
           }
          ],
          "scattermapbox": [
           {
            "marker": {
             "colorbar": {
              "outlinewidth": 0,
              "ticks": ""
             }
            },
            "type": "scattermapbox"
           }
          ],
          "scatterpolar": [
           {
            "marker": {
             "colorbar": {
              "outlinewidth": 0,
              "ticks": ""
             }
            },
            "type": "scatterpolar"
           }
          ],
          "scatterpolargl": [
           {
            "marker": {
             "colorbar": {
              "outlinewidth": 0,
              "ticks": ""
             }
            },
            "type": "scatterpolargl"
           }
          ],
          "scatterternary": [
           {
            "marker": {
             "colorbar": {
              "outlinewidth": 0,
              "ticks": ""
             }
            },
            "type": "scatterternary"
           }
          ],
          "surface": [
           {
            "colorbar": {
             "outlinewidth": 0,
             "ticks": ""
            },
            "colorscale": [
             [
              0,
              "#0d0887"
             ],
             [
              0.1111111111111111,
              "#46039f"
             ],
             [
              0.2222222222222222,
              "#7201a8"
             ],
             [
              0.3333333333333333,
              "#9c179e"
             ],
             [
              0.4444444444444444,
              "#bd3786"
             ],
             [
              0.5555555555555556,
              "#d8576b"
             ],
             [
              0.6666666666666666,
              "#ed7953"
             ],
             [
              0.7777777777777778,
              "#fb9f3a"
             ],
             [
              0.8888888888888888,
              "#fdca26"
             ],
             [
              1,
              "#f0f921"
             ]
            ],
            "type": "surface"
           }
          ],
          "table": [
           {
            "cells": {
             "fill": {
              "color": "#EBF0F8"
             },
             "line": {
              "color": "white"
             }
            },
            "header": {
             "fill": {
              "color": "#C8D4E3"
             },
             "line": {
              "color": "white"
             }
            },
            "type": "table"
           }
          ]
         },
         "layout": {
          "annotationdefaults": {
           "arrowcolor": "#2a3f5f",
           "arrowhead": 0,
           "arrowwidth": 1
          },
          "autotypenumbers": "strict",
          "coloraxis": {
           "colorbar": {
            "outlinewidth": 0,
            "ticks": ""
           }
          },
          "colorscale": {
           "diverging": [
            [
             0,
             "#8e0152"
            ],
            [
             0.1,
             "#c51b7d"
            ],
            [
             0.2,
             "#de77ae"
            ],
            [
             0.3,
             "#f1b6da"
            ],
            [
             0.4,
             "#fde0ef"
            ],
            [
             0.5,
             "#f7f7f7"
            ],
            [
             0.6,
             "#e6f5d0"
            ],
            [
             0.7,
             "#b8e186"
            ],
            [
             0.8,
             "#7fbc41"
            ],
            [
             0.9,
             "#4d9221"
            ],
            [
             1,
             "#276419"
            ]
           ],
           "sequential": [
            [
             0,
             "#0d0887"
            ],
            [
             0.1111111111111111,
             "#46039f"
            ],
            [
             0.2222222222222222,
             "#7201a8"
            ],
            [
             0.3333333333333333,
             "#9c179e"
            ],
            [
             0.4444444444444444,
             "#bd3786"
            ],
            [
             0.5555555555555556,
             "#d8576b"
            ],
            [
             0.6666666666666666,
             "#ed7953"
            ],
            [
             0.7777777777777778,
             "#fb9f3a"
            ],
            [
             0.8888888888888888,
             "#fdca26"
            ],
            [
             1,
             "#f0f921"
            ]
           ],
           "sequentialminus": [
            [
             0,
             "#0d0887"
            ],
            [
             0.1111111111111111,
             "#46039f"
            ],
            [
             0.2222222222222222,
             "#7201a8"
            ],
            [
             0.3333333333333333,
             "#9c179e"
            ],
            [
             0.4444444444444444,
             "#bd3786"
            ],
            [
             0.5555555555555556,
             "#d8576b"
            ],
            [
             0.6666666666666666,
             "#ed7953"
            ],
            [
             0.7777777777777778,
             "#fb9f3a"
            ],
            [
             0.8888888888888888,
             "#fdca26"
            ],
            [
             1,
             "#f0f921"
            ]
           ]
          },
          "colorway": [
           "#636efa",
           "#EF553B",
           "#00cc96",
           "#ab63fa",
           "#FFA15A",
           "#19d3f3",
           "#FF6692",
           "#B6E880",
           "#FF97FF",
           "#FECB52"
          ],
          "font": {
           "color": "#2a3f5f"
          },
          "geo": {
           "bgcolor": "white",
           "lakecolor": "white",
           "landcolor": "#E5ECF6",
           "showlakes": true,
           "showland": true,
           "subunitcolor": "white"
          },
          "hoverlabel": {
           "align": "left"
          },
          "hovermode": "closest",
          "mapbox": {
           "style": "light"
          },
          "paper_bgcolor": "white",
          "plot_bgcolor": "#E5ECF6",
          "polar": {
           "angularaxis": {
            "gridcolor": "white",
            "linecolor": "white",
            "ticks": ""
           },
           "bgcolor": "#E5ECF6",
           "radialaxis": {
            "gridcolor": "white",
            "linecolor": "white",
            "ticks": ""
           }
          },
          "scene": {
           "xaxis": {
            "backgroundcolor": "#E5ECF6",
            "gridcolor": "white",
            "gridwidth": 2,
            "linecolor": "white",
            "showbackground": true,
            "ticks": "",
            "zerolinecolor": "white"
           },
           "yaxis": {
            "backgroundcolor": "#E5ECF6",
            "gridcolor": "white",
            "gridwidth": 2,
            "linecolor": "white",
            "showbackground": true,
            "ticks": "",
            "zerolinecolor": "white"
           },
           "zaxis": {
            "backgroundcolor": "#E5ECF6",
            "gridcolor": "white",
            "gridwidth": 2,
            "linecolor": "white",
            "showbackground": true,
            "ticks": "",
            "zerolinecolor": "white"
           }
          },
          "shapedefaults": {
           "line": {
            "color": "#2a3f5f"
           }
          },
          "ternary": {
           "aaxis": {
            "gridcolor": "white",
            "linecolor": "white",
            "ticks": ""
           },
           "baxis": {
            "gridcolor": "white",
            "linecolor": "white",
            "ticks": ""
           },
           "bgcolor": "#E5ECF6",
           "caxis": {
            "gridcolor": "white",
            "linecolor": "white",
            "ticks": ""
           }
          },
          "title": {
           "x": 0.05
          },
          "xaxis": {
           "automargin": true,
           "gridcolor": "white",
           "linecolor": "white",
           "ticks": "",
           "title": {
            "standoff": 15
           },
           "zerolinecolor": "white",
           "zerolinewidth": 2
          },
          "yaxis": {
           "automargin": true,
           "gridcolor": "white",
           "linecolor": "white",
           "ticks": "",
           "title": {
            "standoff": 15
           },
           "zerolinecolor": "white",
           "zerolinewidth": 2
          }
         }
        },
        "title": {
         "text": "TOP 20 des hotels dans le TOP 5 des villes les plus chaudes"
        }
       }
      }
     },
     "metadata": {},
     "output_type": "display_data"
    }
   ],
   "source": [
    "# Les 20 meilleurs hôtels dans les 5 villes les plus chaudes\n",
    "query_top_destination=\"\"\"\n",
    "WITH top5_villes AS (\n",
    "    SELECT m.id,\n",
    "           AVG((m.temp_max_matin + m.temp_max_aprem)/2) AS temp_moy,\n",
    "           AVG((m.precip_matin + m.precip_aprem)/2) AS precip_moy\n",
    "    FROM meteo2 m\n",
    "    GROUP BY m.id\n",
    "    ORDER BY temp_moy DESC,\n",
    "             precip_moy ASC\n",
    "    LIMIT 5\n",
    "),hotels_rn AS (\n",
    "    SELECT h.*,\n",
    "            ROW_NUMBER() OVER (PARTITION BY h.id ORDER BY h.score DESC) AS rn\n",
    "    FROM hotels2 h\n",
    ")\n",
    "SELECT v.ville,\n",
    "       h.latitude,\n",
    "       h.longitude,\n",
    "       h.name,\n",
    "       h.score,\n",
    "       t5.temp_moy,\n",
    "       t5.precip_moy\n",
    "FROM hotels_rn h\n",
    "JOIN top5_villes t5\n",
    "  ON h.id = t5.id\n",
    "JOIN villes2 v\n",
    "  ON h.id = v.id\n",
    "WHERE h.rn <= 20\n",
    "ORDER BY v.ville, h.score DESC;\n",
    "\"\"\"\n",
    "\n",
    "top_dest = pd.read_sql(query_top_destination, con=engine)\n",
    "print(top_dest)\n",
    "\n",
    "fig = px.scatter_map(top_dest, \n",
    "                    lat='latitude', \n",
    "                    lon='longitude', \n",
    "                    hover_name='name',\n",
    "                    hover_data={\"ville\": True, \"score\": True, \"temp_moy\": True},\n",
    "                    color=\"temp_moy\",  \n",
    "                    color_continuous_scale=('blue','orange','red'),\n",
    "                    title=\"TOP 20 des hotels dans le TOP 5 des villes les plus chaudes\",\n",
    "                    zoom=5,\n",
    "                    height=600)\n",
    "fig.update_layout(map_style=\"carto-positron\")\n",
    "fig.show()"
   ]
  },
  {
   "cell_type": "code",
   "execution_count": 92,
   "metadata": {},
   "outputs": [
    {
     "name": "stdout",
     "output_type": "stream",
     "text": [
      "     ville   latitude  longitude  \\\n",
      "0   Amiens  49.887694   2.294524   \n",
      "1   Amiens  49.894753   2.299982   \n",
      "2   Amiens  49.886054   2.290221   \n",
      "3   Amiens  49.891626   2.301684   \n",
      "4   Amiens  49.896102   2.310790   \n",
      "5   Amiens  49.896155   2.306368   \n",
      "6   Amiens  49.897063   2.303700   \n",
      "7   Amiens  49.888542   2.331349   \n",
      "8   Amiens  49.891809   2.306885   \n",
      "9   Amiens  49.897527   2.316416   \n",
      "10  Amiens  49.874971   2.271423   \n",
      "11  Amiens  49.887352   2.281246   \n",
      "12  Amiens  49.894445   2.300942   \n",
      "13  Amiens  49.902358   2.314285   \n",
      "14  Amiens  49.879613   2.266651   \n",
      "15  Amiens  49.891249   2.309530   \n",
      "16  Amiens  49.896985   2.298736   \n",
      "17  Amiens  49.891591   2.313573   \n",
      "18  Amiens  49.889779   2.302499   \n",
      "19  Amiens  49.891676   2.307754   \n",
      "20   Lille  50.637541   3.076923   \n",
      "21   Lille  50.635281   3.060162   \n",
      "22   Lille  50.634074   3.064229   \n",
      "23   Lille  50.628842   3.051979   \n",
      "24   Lille  50.628842   3.051979   \n",
      "25   Lille  50.634074   3.065783   \n",
      "26   Lille  50.631178   3.068318   \n",
      "27   Lille  50.636547   3.062342   \n",
      "28   Lille  50.618381   3.053997   \n",
      "29   Lille  50.627831   3.063592   \n",
      "30   Lille  50.637346   3.069457   \n",
      "31   Lille  50.636718   3.065322   \n",
      "32   Lille  50.637888   3.072685   \n",
      "33   Lille  50.636246   3.069242   \n",
      "34   Lille  50.632382   3.067943   \n",
      "35   Lille  50.630759   3.058088   \n",
      "36   Lille  50.634796   3.064133   \n",
      "37   Lille  50.636038   3.066937   \n",
      "38   Lille  50.638833   3.076681   \n",
      "39   Lille  50.629058   3.081134   \n",
      "40   Rouen  49.433135   1.088838   \n",
      "41   Rouen  49.441669   1.101360   \n",
      "42   Rouen  49.440808   1.086571   \n",
      "43   Rouen  49.446441   1.094120   \n",
      "44   Rouen  49.443929   1.086240   \n",
      "45   Rouen  49.442178   1.088876   \n",
      "46   Rouen  49.453286   1.098285   \n",
      "47   Rouen  49.433659   1.098616   \n",
      "48   Rouen  49.439067   1.089627   \n",
      "49   Rouen  49.442592   1.088360   \n",
      "50   Rouen  49.457515   1.099753   \n",
      "51   Rouen  49.437834   1.097253   \n",
      "52   Rouen  49.430084   1.075983   \n",
      "53   Rouen  49.438851   1.089955   \n",
      "54   Rouen  49.438723   1.091352   \n",
      "55   Rouen  49.442635   1.086858   \n",
      "56   Rouen  49.441173   1.095175   \n",
      "57   Rouen  49.447989   1.100908   \n",
      "58   Rouen  49.444668   1.088917   \n",
      "59   Rouen  49.435558   1.103742   \n",
      "\n",
      "                                                 name  score  temp_moy  \\\n",
      "0                                    Maison Longuevie    9.5    14.175   \n",
      "1   Plein centre- 90m Cathédrale - 2ch - 4 couchag...    9.4    14.175   \n",
      "2   Appartement Les Jardins de Jules Verne - Côté ...    9.4    14.175   \n",
      "3                                      Coeur de ville    9.4    14.175   \n",
      "4                                            LA BERGE    9.3    14.175   \n",
      "5                                   Au Coeur d'Amiens    9.3    14.175   \n",
      "6   Maison de ville spacieuse et calme en plein co...    9.2    14.175   \n",
      "7    Comme une parenthèse au coeur des hortillonnages    9.1    14.175   \n",
      "8   Grande amiénoise hyper-centre, 2 Parkings, Ter...    8.9    14.175   \n",
      "9                        Le Châlet des Hortillonnages    8.8    14.175   \n",
      "10                          Résidence NOVAGE - Amiens    8.7    14.175   \n",
      "11      Le Duplex 3 chambres - 1P à 7P - Saint Honore    8.6    14.175   \n",
      "12                   Hotel Le Prieuré et La Résidence    8.5    14.175   \n",
      "13                                        Gite Amiens    8.5    14.175   \n",
      "14            The Originals Boutique Hôtel Amiens Sud    8.5    14.175   \n",
      "15                                        Moxy Amiens    8.4    14.175   \n",
      "16  2 chambres Hyper centre avec place de Parking ...    8.1    14.175   \n",
      "17                     ibis budget Amiens Centre Gare    8.1    14.175   \n",
      "18                                     Le Saint Louis    8.1    14.175   \n",
      "19                  Holiday Inn Express Amiens by IHG    8.0    14.175   \n",
      "20                               Hôtel Barrière Lille    8.8    14.601   \n",
      "21         Aparthotel Adagio Lille Centre Grand Place    8.8    14.601   \n",
      "22                           OKKO Hotels Lille Centre    8.6    14.601   \n",
      "23                            JOST Hôtel Lille Centre    8.5    14.601   \n",
      "24                           JOST Hostel Lille Centre    8.5    14.601   \n",
      "25                                 Appart Hypercentre    8.5    14.601   \n",
      "26          L'Hermitage Gantois, Autograph Collection    8.4    14.601   \n",
      "27                 Grand Hotel Bellevue - Grand Place    8.4    14.601   \n",
      "28               Twenty Business Flats Lille - Bayard    8.3    14.601   \n",
      "29                                    Moxy Lille City    8.3    14.601   \n",
      "30                              CALM Appart' & Hostel    8.2    14.601   \n",
      "31                                Hôtel Carlton Lille    8.1    14.601   \n",
      "32                                 Hotel Lille Europe    8.1    14.601   \n",
      "33                                      Hotel Chagnot    8.1    14.601   \n",
      "34              ibis Styles Lille Centre Gare Beffroi    8.1    14.601   \n",
      "35            Holiday Inn Express Lille Centre by IHG    8.1    14.601   \n",
      "36                                        Hotel Kanaï    8.0    14.601   \n",
      "37                                           Brueghel    8.0    14.601   \n",
      "38                        Novotel Suites Lille Europe    7.9    14.601   \n",
      "39             Appart'City Confort Lille Grand Palais    7.8    14.601   \n",
      "40  Rouen centre avec Sauna - Jacuzzi - Parking - ...    9.4    14.400   \n",
      "41             l'Olympe - Babyfoot - Cinéma - Parking    9.2    14.400   \n",
      "42  Appartement confortable et élégant en centre v...    9.0    14.400   \n",
      "43                   Radisson Blu Hotel, Rouen Centre    8.9    14.400   \n",
      "44             Le Crosne - Parking - Standing - Calme    8.8    14.400   \n",
      "45      Hôtel de Bourgtheroulde, Autograph Collection    8.7    14.400   \n",
      "46                                  Hyatt Place Rouen    8.6    14.400   \n",
      "47                               Rouen Vue Cathédrale    8.6    14.400   \n",
      "48   Aparthotel Adagio Access Rouen Centre Cathédrale    8.6    14.400   \n",
      "49  Glamour Chic en hyper centre pour 4 - Wifi - S...    8.5    14.400   \n",
      "50  Rouen ECO LODGES maison entière avec terrasse ...    8.5    14.400   \n",
      "51                                    Hotel De Quebec    8.5    14.400   \n",
      "52  T3 Flat Moderne sur 2 étages Metro Parking Fre...    8.5    14.400   \n",
      "53                    Novotel Rouen Centre Cathédrale    8.5    14.400   \n",
      "54             Hôtel Paulette Rouen Centre Cathédrale    8.5    14.400   \n",
      "55  Hôtel Littéraire Gustave Flaubert, BW Signatur...    8.5    14.400   \n",
      "56                    Mercure Rouen Centre Cathédrale    8.4    14.400   \n",
      "57        Ambiance Jungle Rouen Centre - MyLittleStay    8.2    14.400   \n",
      "58                                Appart Rouen Centre    8.2    14.400   \n",
      "59                 Mercure Rouen Centre Champ de Mars    8.2    14.400   \n",
      "\n",
      "    precip_moy  \n",
      "0          0.0  \n",
      "1          0.0  \n",
      "2          0.0  \n",
      "3          0.0  \n",
      "4          0.0  \n",
      "5          0.0  \n",
      "6          0.0  \n",
      "7          0.0  \n",
      "8          0.0  \n",
      "9          0.0  \n",
      "10         0.0  \n",
      "11         0.0  \n",
      "12         0.0  \n",
      "13         0.0  \n",
      "14         0.0  \n",
      "15         0.0  \n",
      "16         0.0  \n",
      "17         0.0  \n",
      "18         0.0  \n",
      "19         0.0  \n",
      "20         0.0  \n",
      "21         0.0  \n",
      "22         0.0  \n",
      "23         0.0  \n",
      "24         0.0  \n",
      "25         0.0  \n",
      "26         0.0  \n",
      "27         0.0  \n",
      "28         0.0  \n",
      "29         0.0  \n",
      "30         0.0  \n",
      "31         0.0  \n",
      "32         0.0  \n",
      "33         0.0  \n",
      "34         0.0  \n",
      "35         0.0  \n",
      "36         0.0  \n",
      "37         0.0  \n",
      "38         0.0  \n",
      "39         0.0  \n",
      "40         0.0  \n",
      "41         0.0  \n",
      "42         0.0  \n",
      "43         0.0  \n",
      "44         0.0  \n",
      "45         0.0  \n",
      "46         0.0  \n",
      "47         0.0  \n",
      "48         0.0  \n",
      "49         0.0  \n",
      "50         0.0  \n",
      "51         0.0  \n",
      "52         0.0  \n",
      "53         0.0  \n",
      "54         0.0  \n",
      "55         0.0  \n",
      "56         0.0  \n",
      "57         0.0  \n",
      "58         0.0  \n",
      "59         0.0  \n"
     ]
    },
    {
     "name": "stderr",
     "output_type": "stream",
     "text": [
      "/tmp/ipykernel_1389/2409259914.py:41: DeprecationWarning:\n",
      "\n",
      "*scatter_mapbox* is deprecated! Use *scatter_map* instead. Learn more at: https://plotly.com/python/mapbox-to-maplibre/\n",
      "\n"
     ]
    },
    {
     "data": {
      "application/vnd.plotly.v1+json": {
       "config": {
        "plotlyServerURL": "https://plot.ly"
       },
       "data": [
        {
         "customdata": [
          [
           "Amiens",
           9.5,
           14.175
          ],
          [
           "Amiens",
           9.4,
           14.175
          ],
          [
           "Amiens",
           9.4,
           14.175
          ],
          [
           "Amiens",
           9.4,
           14.175
          ],
          [
           "Amiens",
           9.3,
           14.175
          ],
          [
           "Amiens",
           9.3,
           14.175
          ],
          [
           "Amiens",
           9.2,
           14.175
          ],
          [
           "Amiens",
           9.1,
           14.175
          ],
          [
           "Amiens",
           8.9,
           14.175
          ],
          [
           "Amiens",
           8.8,
           14.175
          ],
          [
           "Amiens",
           8.7,
           14.175
          ],
          [
           "Amiens",
           8.6,
           14.175
          ],
          [
           "Amiens",
           8.5,
           14.175
          ],
          [
           "Amiens",
           8.5,
           14.175
          ],
          [
           "Amiens",
           8.5,
           14.175
          ],
          [
           "Amiens",
           8.4,
           14.175
          ],
          [
           "Amiens",
           8.1,
           14.175
          ],
          [
           "Amiens",
           8.1,
           14.175
          ],
          [
           "Amiens",
           8.1,
           14.175
          ],
          [
           "Amiens",
           8,
           14.175
          ],
          [
           "Lille",
           8.8,
           14.600999999999999
          ],
          [
           "Lille",
           8.8,
           14.600999999999999
          ],
          [
           "Lille",
           8.6,
           14.600999999999999
          ],
          [
           "Lille",
           8.5,
           14.600999999999999
          ],
          [
           "Lille",
           8.5,
           14.600999999999999
          ],
          [
           "Lille",
           8.5,
           14.600999999999999
          ],
          [
           "Lille",
           8.4,
           14.600999999999999
          ],
          [
           "Lille",
           8.4,
           14.600999999999999
          ],
          [
           "Lille",
           8.3,
           14.600999999999999
          ],
          [
           "Lille",
           8.3,
           14.600999999999999
          ],
          [
           "Lille",
           8.2,
           14.600999999999999
          ],
          [
           "Lille",
           8.1,
           14.600999999999999
          ],
          [
           "Lille",
           8.1,
           14.600999999999999
          ],
          [
           "Lille",
           8.1,
           14.600999999999999
          ],
          [
           "Lille",
           8.1,
           14.600999999999999
          ],
          [
           "Lille",
           8.1,
           14.600999999999999
          ],
          [
           "Lille",
           8,
           14.600999999999999
          ],
          [
           "Lille",
           8,
           14.600999999999999
          ],
          [
           "Lille",
           7.9,
           14.600999999999999
          ],
          [
           "Lille",
           7.8,
           14.600999999999999
          ],
          [
           "Rouen",
           9.4,
           14.4
          ],
          [
           "Rouen",
           9.2,
           14.4
          ],
          [
           "Rouen",
           9,
           14.4
          ],
          [
           "Rouen",
           8.9,
           14.4
          ],
          [
           "Rouen",
           8.8,
           14.4
          ],
          [
           "Rouen",
           8.7,
           14.4
          ],
          [
           "Rouen",
           8.6,
           14.4
          ],
          [
           "Rouen",
           8.6,
           14.4
          ],
          [
           "Rouen",
           8.6,
           14.4
          ],
          [
           "Rouen",
           8.5,
           14.4
          ],
          [
           "Rouen",
           8.5,
           14.4
          ],
          [
           "Rouen",
           8.5,
           14.4
          ],
          [
           "Rouen",
           8.5,
           14.4
          ],
          [
           "Rouen",
           8.5,
           14.4
          ],
          [
           "Rouen",
           8.5,
           14.4
          ],
          [
           "Rouen",
           8.5,
           14.4
          ],
          [
           "Rouen",
           8.4,
           14.4
          ],
          [
           "Rouen",
           8.2,
           14.4
          ],
          [
           "Rouen",
           8.2,
           14.4
          ],
          [
           "Rouen",
           8.2,
           14.4
          ]
         ],
         "hovertemplate": "<b>%{hovertext}</b><br><br>latitude=%{lat}<br>longitude=%{lon}<br>ville=%{customdata[0]}<br>score=%{customdata[1]}<br>temp_moy=%{marker.color}<extra></extra>",
         "hovertext": [
          "Maison Longuevie",
          "Plein centre- 90m Cathédrale - 2ch - 4 couchages - 6 personnes",
          "Appartement Les Jardins de Jules Verne - Côté Jardin",
          "Coeur de ville",
          "LA BERGE",
          "Au Coeur d'Amiens",
          "Maison de ville spacieuse et calme en plein coeur d'Amiens",
          "Comme une parenthèse au coeur des hortillonnages",
          "Grande amiénoise hyper-centre, 2 Parkings, Terrasse, Vue, BBQ, Hamac, Salle de Jeux",
          "Le Châlet des Hortillonnages",
          "Résidence NOVAGE - Amiens",
          "Le Duplex 3 chambres - 1P à 7P - Saint Honore",
          "Hotel Le Prieuré et La Résidence",
          "Gite Amiens",
          "The Originals Boutique Hôtel Amiens Sud",
          "Moxy Amiens",
          "2 chambres Hyper centre avec place de Parking et WIFI",
          "ibis budget Amiens Centre Gare",
          "Le Saint Louis",
          "Holiday Inn Express Amiens by IHG",
          "Hôtel Barrière Lille",
          "Aparthotel Adagio Lille Centre Grand Place",
          "OKKO Hotels Lille Centre",
          "JOST Hôtel Lille Centre",
          "JOST Hostel Lille Centre",
          "Appart Hypercentre",
          "L'Hermitage Gantois, Autograph Collection",
          "Grand Hotel Bellevue - Grand Place",
          "Twenty Business Flats Lille - Bayard",
          "Moxy Lille City",
          "CALM Appart' & Hostel",
          "Hôtel Carlton Lille",
          "Hotel Lille Europe",
          "Hotel Chagnot",
          "ibis Styles Lille Centre Gare Beffroi",
          "Holiday Inn Express Lille Centre by IHG",
          "Hotel Kanaï",
          "Brueghel",
          "Novotel Suites Lille Europe",
          "Appart'City Confort Lille Grand Palais",
          "Rouen centre avec Sauna - Jacuzzi - Parking - 5 étoiles",
          "l'Olympe - Babyfoot - Cinéma - Parking",
          "Appartement confortable et élégant en centre ville",
          "Radisson Blu Hotel, Rouen Centre",
          "Le Crosne - Parking - Standing - Calme",
          "Hôtel de Bourgtheroulde, Autograph Collection",
          "Hyatt Place Rouen",
          "Rouen Vue Cathédrale",
          "Aparthotel Adagio Access Rouen Centre Cathédrale",
          "Glamour Chic en hyper centre pour 4 - Wifi - Sauna pour 2 - MyLittleStay",
          "Rouen ECO LODGES maison entière avec terrasse dans jardin potager piscine parking",
          "Hotel De Quebec",
          "T3 Flat Moderne sur 2 étages Metro Parking Free Entrance autonome",
          "Novotel Rouen Centre Cathédrale",
          "Hôtel Paulette Rouen Centre Cathédrale",
          "Hôtel Littéraire Gustave Flaubert, BW Signature Collection",
          "Mercure Rouen Centre Cathédrale",
          "Ambiance Jungle Rouen Centre - MyLittleStay",
          "Appart Rouen Centre",
          "Mercure Rouen Centre Champ de Mars"
         ],
         "lat": {
          "bdata": "f2399J/xSEDTwfo/h/JIQCN/1TZq8UhAcHM3ziDySECSrpl8s/JIQIvRhDe18khAZHmy9tLySECsj4e+u/FIQDpj88wm8khAoCNlKuLySEAkOD8P/+9IQD1H5LuU8UhAkCUcLn3ySEDbZBd2gPNIQKKALCeX8EhA3st9chTySEASPxBq0PJIQDc0Zacf8khAL3D0ReTxSEA8UBZyIvJIQG9You2aUUlAlWJH41BRSUA4nzpWKVFJQGBtMeR9UElAYG0x5H1QSUA4nzpWKVFJQCTYEHDKUElASXrXX3pRSUAKO3sdJ09JQB41JsRcUElAOk1Hj5RRSUBENAL6f1FJQAtBtkymUUlAlJv7gXBRSUC5WH7o8VBJQEELJbm8UElAe98//EBRSUCJZ/y0aVFJQDx7t0rFUUlApTPJ+IRQSUBh4Ln3cLdIQIWURJuIuEhAq+beaGy4SED5S4v6JLlIQClhAafSuEhAXoHoSZm4SECJJo1DBbpIQKGKyiaCt0hAXeDyWDO4SEBRvMraprhIQCy1NN2PukhAQCJf8wq4SECIQnABDbdIQKiq0EAsuEhAGijeESi4SECJZzBEqLhIQNzwEVp4uEhASjxFs1e5SEDzyYrh6rhIQIBmo1nAt0hA",
          "dtype": "f8"
         },
         "legendgroup": "",
         "lon": {
          "bdata": "yhgfZi9bAkBNFecDXWYCQO3s0FVfUgJAwAb9J9lpAkC5akNqf3wCQAlNUB5xcwJA31VqUfptAkAKgPRNmqYCQAAXCRKAdAJA8j3sEAWIAkB2FffE3ysCQLQmcbH9PwJAAAAAfFRoAkAA+R6sp4MCQHi6gu0ZIgJACwxZ3ep5AkCiE53Az2MCQNREn48yggJAAAAA0IRrAkAAAACoR3YCQAAAAMCJnQhAFLLzNjZ7CEBmo3N+ioMIQKeatAR0aghAp5q0BHRqCEBmMbH5uIYIQAAAAIDqiwhAAAAAYK1/CECQtdDflW4IQEBMwoU8gghAAAAAdD+OCEAAAAC4x4UIQAEAAODblAhAAAAA9M6NCEAAAACgJYsIQAAAABD3dghAAAAADFiDCEAAAABIFokIQAAAADALnQhAAQAAkCmmCEDURQpl4WvxP5crcj4rn/E/jk08sZhi8T9vZB75g4HxPwqpkUw9YfE/hGOWPQls8T8/cZqak5LxP7n4DdDuk/E/32qduBxv8T+ZZOQs7GnxP/ifQc6WmPE/AAAA+FiO8T+trMhDOjfxP0Gh+fd0cPE/AAAAeC128T8AAAAgxWPxPwEAALDWhfE/HqJ2ZFGd8T9W73A7NGzxPwAAANDtqPE/",
          "dtype": "f8"
         },
         "marker": {
          "color": {
           "bdata": "mpmZmZlZLECamZmZmVksQJqZmZmZWSxAmpmZmZlZLECamZmZmVksQJqZmZmZWSxAmpmZmZlZLECamZmZmVksQJqZmZmZWSxAmpmZmZlZLECamZmZmVksQJqZmZmZWSxAmpmZmZlZLECamZmZmVksQJqZmZmZWSxAmpmZmZlZLECamZmZmVksQJqZmZmZWSxAmpmZmZlZLECamZmZmVksQMDKoUW2My1AwMqhRbYzLUDAyqFFtjMtQMDKoUW2My1AwMqhRbYzLUDAyqFFtjMtQMDKoUW2My1AwMqhRbYzLUDAyqFFtjMtQMDKoUW2My1AwMqhRbYzLUDAyqFFtjMtQMDKoUW2My1AwMqhRbYzLUDAyqFFtjMtQMDKoUW2My1AwMqhRbYzLUDAyqFFtjMtQMDKoUW2My1AwMqhRbYzLUDNzMzMzMwsQM3MzMzMzCxAzczMzMzMLEDNzMzMzMwsQM3MzMzMzCxAzczMzMzMLEDNzMzMzMwsQM3MzMzMzCxAzczMzMzMLEDNzMzMzMwsQM3MzMzMzCxAzczMzMzMLEDNzMzMzMwsQM3MzMzMzCxAzczMzMzMLEDNzMzMzMwsQM3MzMzMzCxAzczMzMzMLEDNzMzMzMwsQM3MzMzMzCxA",
           "dtype": "f8"
          },
          "coloraxis": "coloraxis"
         },
         "mode": "markers",
         "name": "",
         "showlegend": false,
         "subplot": "mapbox",
         "type": "scattermapbox"
        }
       ],
       "layout": {
        "coloraxis": {
         "colorbar": {
          "title": {
           "text": "temp_moy"
          }
         },
         "colorscale": [
          [
           0,
           "blue"
          ],
          [
           0.5,
           "orange"
          ],
          [
           1,
           "red"
          ]
         ]
        },
        "height": 600,
        "legend": {
         "tracegroupgap": 0
        },
        "mapbox": {
         "center": {
          "lat": 49.98869656261972,
          "lon": 2.1531712640671286
         },
         "domain": {
          "x": [
           0,
           1
          ],
          "y": [
           0,
           1
          ]
         },
         "style": "carto-positron",
         "zoom": 5
        },
        "template": {
         "data": {
          "bar": [
           {
            "error_x": {
             "color": "#2a3f5f"
            },
            "error_y": {
             "color": "#2a3f5f"
            },
            "marker": {
             "line": {
              "color": "#E5ECF6",
              "width": 0.5
             },
             "pattern": {
              "fillmode": "overlay",
              "size": 10,
              "solidity": 0.2
             }
            },
            "type": "bar"
           }
          ],
          "barpolar": [
           {
            "marker": {
             "line": {
              "color": "#E5ECF6",
              "width": 0.5
             },
             "pattern": {
              "fillmode": "overlay",
              "size": 10,
              "solidity": 0.2
             }
            },
            "type": "barpolar"
           }
          ],
          "carpet": [
           {
            "aaxis": {
             "endlinecolor": "#2a3f5f",
             "gridcolor": "white",
             "linecolor": "white",
             "minorgridcolor": "white",
             "startlinecolor": "#2a3f5f"
            },
            "baxis": {
             "endlinecolor": "#2a3f5f",
             "gridcolor": "white",
             "linecolor": "white",
             "minorgridcolor": "white",
             "startlinecolor": "#2a3f5f"
            },
            "type": "carpet"
           }
          ],
          "choropleth": [
           {
            "colorbar": {
             "outlinewidth": 0,
             "ticks": ""
            },
            "type": "choropleth"
           }
          ],
          "contour": [
           {
            "colorbar": {
             "outlinewidth": 0,
             "ticks": ""
            },
            "colorscale": [
             [
              0,
              "#0d0887"
             ],
             [
              0.1111111111111111,
              "#46039f"
             ],
             [
              0.2222222222222222,
              "#7201a8"
             ],
             [
              0.3333333333333333,
              "#9c179e"
             ],
             [
              0.4444444444444444,
              "#bd3786"
             ],
             [
              0.5555555555555556,
              "#d8576b"
             ],
             [
              0.6666666666666666,
              "#ed7953"
             ],
             [
              0.7777777777777778,
              "#fb9f3a"
             ],
             [
              0.8888888888888888,
              "#fdca26"
             ],
             [
              1,
              "#f0f921"
             ]
            ],
            "type": "contour"
           }
          ],
          "contourcarpet": [
           {
            "colorbar": {
             "outlinewidth": 0,
             "ticks": ""
            },
            "type": "contourcarpet"
           }
          ],
          "heatmap": [
           {
            "colorbar": {
             "outlinewidth": 0,
             "ticks": ""
            },
            "colorscale": [
             [
              0,
              "#0d0887"
             ],
             [
              0.1111111111111111,
              "#46039f"
             ],
             [
              0.2222222222222222,
              "#7201a8"
             ],
             [
              0.3333333333333333,
              "#9c179e"
             ],
             [
              0.4444444444444444,
              "#bd3786"
             ],
             [
              0.5555555555555556,
              "#d8576b"
             ],
             [
              0.6666666666666666,
              "#ed7953"
             ],
             [
              0.7777777777777778,
              "#fb9f3a"
             ],
             [
              0.8888888888888888,
              "#fdca26"
             ],
             [
              1,
              "#f0f921"
             ]
            ],
            "type": "heatmap"
           }
          ],
          "histogram": [
           {
            "marker": {
             "pattern": {
              "fillmode": "overlay",
              "size": 10,
              "solidity": 0.2
             }
            },
            "type": "histogram"
           }
          ],
          "histogram2d": [
           {
            "colorbar": {
             "outlinewidth": 0,
             "ticks": ""
            },
            "colorscale": [
             [
              0,
              "#0d0887"
             ],
             [
              0.1111111111111111,
              "#46039f"
             ],
             [
              0.2222222222222222,
              "#7201a8"
             ],
             [
              0.3333333333333333,
              "#9c179e"
             ],
             [
              0.4444444444444444,
              "#bd3786"
             ],
             [
              0.5555555555555556,
              "#d8576b"
             ],
             [
              0.6666666666666666,
              "#ed7953"
             ],
             [
              0.7777777777777778,
              "#fb9f3a"
             ],
             [
              0.8888888888888888,
              "#fdca26"
             ],
             [
              1,
              "#f0f921"
             ]
            ],
            "type": "histogram2d"
           }
          ],
          "histogram2dcontour": [
           {
            "colorbar": {
             "outlinewidth": 0,
             "ticks": ""
            },
            "colorscale": [
             [
              0,
              "#0d0887"
             ],
             [
              0.1111111111111111,
              "#46039f"
             ],
             [
              0.2222222222222222,
              "#7201a8"
             ],
             [
              0.3333333333333333,
              "#9c179e"
             ],
             [
              0.4444444444444444,
              "#bd3786"
             ],
             [
              0.5555555555555556,
              "#d8576b"
             ],
             [
              0.6666666666666666,
              "#ed7953"
             ],
             [
              0.7777777777777778,
              "#fb9f3a"
             ],
             [
              0.8888888888888888,
              "#fdca26"
             ],
             [
              1,
              "#f0f921"
             ]
            ],
            "type": "histogram2dcontour"
           }
          ],
          "mesh3d": [
           {
            "colorbar": {
             "outlinewidth": 0,
             "ticks": ""
            },
            "type": "mesh3d"
           }
          ],
          "parcoords": [
           {
            "line": {
             "colorbar": {
              "outlinewidth": 0,
              "ticks": ""
             }
            },
            "type": "parcoords"
           }
          ],
          "pie": [
           {
            "automargin": true,
            "type": "pie"
           }
          ],
          "scatter": [
           {
            "fillpattern": {
             "fillmode": "overlay",
             "size": 10,
             "solidity": 0.2
            },
            "type": "scatter"
           }
          ],
          "scatter3d": [
           {
            "line": {
             "colorbar": {
              "outlinewidth": 0,
              "ticks": ""
             }
            },
            "marker": {
             "colorbar": {
              "outlinewidth": 0,
              "ticks": ""
             }
            },
            "type": "scatter3d"
           }
          ],
          "scattercarpet": [
           {
            "marker": {
             "colorbar": {
              "outlinewidth": 0,
              "ticks": ""
             }
            },
            "type": "scattercarpet"
           }
          ],
          "scattergeo": [
           {
            "marker": {
             "colorbar": {
              "outlinewidth": 0,
              "ticks": ""
             }
            },
            "type": "scattergeo"
           }
          ],
          "scattergl": [
           {
            "marker": {
             "colorbar": {
              "outlinewidth": 0,
              "ticks": ""
             }
            },
            "type": "scattergl"
           }
          ],
          "scattermap": [
           {
            "marker": {
             "colorbar": {
              "outlinewidth": 0,
              "ticks": ""
             }
            },
            "type": "scattermap"
           }
          ],
          "scattermapbox": [
           {
            "marker": {
             "colorbar": {
              "outlinewidth": 0,
              "ticks": ""
             }
            },
            "type": "scattermapbox"
           }
          ],
          "scatterpolar": [
           {
            "marker": {
             "colorbar": {
              "outlinewidth": 0,
              "ticks": ""
             }
            },
            "type": "scatterpolar"
           }
          ],
          "scatterpolargl": [
           {
            "marker": {
             "colorbar": {
              "outlinewidth": 0,
              "ticks": ""
             }
            },
            "type": "scatterpolargl"
           }
          ],
          "scatterternary": [
           {
            "marker": {
             "colorbar": {
              "outlinewidth": 0,
              "ticks": ""
             }
            },
            "type": "scatterternary"
           }
          ],
          "surface": [
           {
            "colorbar": {
             "outlinewidth": 0,
             "ticks": ""
            },
            "colorscale": [
             [
              0,
              "#0d0887"
             ],
             [
              0.1111111111111111,
              "#46039f"
             ],
             [
              0.2222222222222222,
              "#7201a8"
             ],
             [
              0.3333333333333333,
              "#9c179e"
             ],
             [
              0.4444444444444444,
              "#bd3786"
             ],
             [
              0.5555555555555556,
              "#d8576b"
             ],
             [
              0.6666666666666666,
              "#ed7953"
             ],
             [
              0.7777777777777778,
              "#fb9f3a"
             ],
             [
              0.8888888888888888,
              "#fdca26"
             ],
             [
              1,
              "#f0f921"
             ]
            ],
            "type": "surface"
           }
          ],
          "table": [
           {
            "cells": {
             "fill": {
              "color": "#EBF0F8"
             },
             "line": {
              "color": "white"
             }
            },
            "header": {
             "fill": {
              "color": "#C8D4E3"
             },
             "line": {
              "color": "white"
             }
            },
            "type": "table"
           }
          ]
         },
         "layout": {
          "annotationdefaults": {
           "arrowcolor": "#2a3f5f",
           "arrowhead": 0,
           "arrowwidth": 1
          },
          "autotypenumbers": "strict",
          "coloraxis": {
           "colorbar": {
            "outlinewidth": 0,
            "ticks": ""
           }
          },
          "colorscale": {
           "diverging": [
            [
             0,
             "#8e0152"
            ],
            [
             0.1,
             "#c51b7d"
            ],
            [
             0.2,
             "#de77ae"
            ],
            [
             0.3,
             "#f1b6da"
            ],
            [
             0.4,
             "#fde0ef"
            ],
            [
             0.5,
             "#f7f7f7"
            ],
            [
             0.6,
             "#e6f5d0"
            ],
            [
             0.7,
             "#b8e186"
            ],
            [
             0.8,
             "#7fbc41"
            ],
            [
             0.9,
             "#4d9221"
            ],
            [
             1,
             "#276419"
            ]
           ],
           "sequential": [
            [
             0,
             "#0d0887"
            ],
            [
             0.1111111111111111,
             "#46039f"
            ],
            [
             0.2222222222222222,
             "#7201a8"
            ],
            [
             0.3333333333333333,
             "#9c179e"
            ],
            [
             0.4444444444444444,
             "#bd3786"
            ],
            [
             0.5555555555555556,
             "#d8576b"
            ],
            [
             0.6666666666666666,
             "#ed7953"
            ],
            [
             0.7777777777777778,
             "#fb9f3a"
            ],
            [
             0.8888888888888888,
             "#fdca26"
            ],
            [
             1,
             "#f0f921"
            ]
           ],
           "sequentialminus": [
            [
             0,
             "#0d0887"
            ],
            [
             0.1111111111111111,
             "#46039f"
            ],
            [
             0.2222222222222222,
             "#7201a8"
            ],
            [
             0.3333333333333333,
             "#9c179e"
            ],
            [
             0.4444444444444444,
             "#bd3786"
            ],
            [
             0.5555555555555556,
             "#d8576b"
            ],
            [
             0.6666666666666666,
             "#ed7953"
            ],
            [
             0.7777777777777778,
             "#fb9f3a"
            ],
            [
             0.8888888888888888,
             "#fdca26"
            ],
            [
             1,
             "#f0f921"
            ]
           ]
          },
          "colorway": [
           "#636efa",
           "#EF553B",
           "#00cc96",
           "#ab63fa",
           "#FFA15A",
           "#19d3f3",
           "#FF6692",
           "#B6E880",
           "#FF97FF",
           "#FECB52"
          ],
          "font": {
           "color": "#2a3f5f"
          },
          "geo": {
           "bgcolor": "white",
           "lakecolor": "white",
           "landcolor": "#E5ECF6",
           "showlakes": true,
           "showland": true,
           "subunitcolor": "white"
          },
          "hoverlabel": {
           "align": "left"
          },
          "hovermode": "closest",
          "mapbox": {
           "style": "light"
          },
          "paper_bgcolor": "white",
          "plot_bgcolor": "#E5ECF6",
          "polar": {
           "angularaxis": {
            "gridcolor": "white",
            "linecolor": "white",
            "ticks": ""
           },
           "bgcolor": "#E5ECF6",
           "radialaxis": {
            "gridcolor": "white",
            "linecolor": "white",
            "ticks": ""
           }
          },
          "scene": {
           "xaxis": {
            "backgroundcolor": "#E5ECF6",
            "gridcolor": "white",
            "gridwidth": 2,
            "linecolor": "white",
            "showbackground": true,
            "ticks": "",
            "zerolinecolor": "white"
           },
           "yaxis": {
            "backgroundcolor": "#E5ECF6",
            "gridcolor": "white",
            "gridwidth": 2,
            "linecolor": "white",
            "showbackground": true,
            "ticks": "",
            "zerolinecolor": "white"
           },
           "zaxis": {
            "backgroundcolor": "#E5ECF6",
            "gridcolor": "white",
            "gridwidth": 2,
            "linecolor": "white",
            "showbackground": true,
            "ticks": "",
            "zerolinecolor": "white"
           }
          },
          "shapedefaults": {
           "line": {
            "color": "#2a3f5f"
           }
          },
          "ternary": {
           "aaxis": {
            "gridcolor": "white",
            "linecolor": "white",
            "ticks": ""
           },
           "baxis": {
            "gridcolor": "white",
            "linecolor": "white",
            "ticks": ""
           },
           "bgcolor": "#E5ECF6",
           "caxis": {
            "gridcolor": "white",
            "linecolor": "white",
            "ticks": ""
           }
          },
          "title": {
           "x": 0.05
          },
          "xaxis": {
           "automargin": true,
           "gridcolor": "white",
           "linecolor": "white",
           "ticks": "",
           "title": {
            "standoff": 15
           },
           "zerolinecolor": "white",
           "zerolinewidth": 2
          },
          "yaxis": {
           "automargin": true,
           "gridcolor": "white",
           "linecolor": "white",
           "ticks": "",
           "title": {
            "standoff": 15
           },
           "zerolinecolor": "white",
           "zerolinewidth": 2
          }
         }
        },
        "title": {
         "text": "TOP 20 des hotels dans le TOP 5 des villes ayant une temperature inferieur à 15°C et sans précipitations"
        }
       }
      }
     },
     "metadata": {},
     "output_type": "display_data"
    }
   ],
   "source": [
    "query_top_destination2=\"\"\"\n",
    "WITH meteo_stats AS (\n",
    "    SELECT m.id,\n",
    "        AVG((m.temp_max_matin+m.temp_max_aprem)/2) AS temp_moy,\n",
    "        AVG((m.precip_matin+m.precip_aprem)/2) AS precip_moy\n",
    "    FROM meteo2 m\n",
    "    GROUP BY m.id\n",
    "        ),\n",
    "\n",
    "top5_meteo AS (\n",
    "    SELECT id,temp_moy, precip_moy\n",
    "    FROM meteo_stats\n",
    "    WHERE temp_moy < 15 AND precip_moy = 0\n",
    "    ORDER BY temp_moy DESC, precip_moy ASC\n",
    "    LIMIT 5\n",
    "        ),   \n",
    "hotels_rn AS (\n",
    "    SELECT h.*,\n",
    "            ROW_NUMBER() OVER (PARTITION BY h.id ORDER BY h.score DESC) AS rn\n",
    "    FROM hotels2 h\n",
    "        )\n",
    "SELECT v.ville,\n",
    "       h.latitude,\n",
    "       h.longitude,\n",
    "       h.name,\n",
    "       h.score,\n",
    "       t5.temp_moy,\n",
    "       t5.precip_moy\n",
    "FROM hotels_rn h\n",
    "JOIN top5_meteo t5\n",
    "  ON h.id = t5.id\n",
    "JOIN villes2 v\n",
    "  ON h.id = v.id\n",
    "WHERE h.rn <= 20\n",
    "ORDER BY v.ville, h.score DESC;\n",
    "\"\"\"\n",
    "\n",
    "top_dest2 = pd.read_sql(query_top_destination2, con=engine)\n",
    "print(top_dest2)\n",
    "\n",
    "fig = px.scatter_mapbox(top_dest2, \n",
    "                    lat='latitude', \n",
    "                    lon='longitude', \n",
    "                    hover_name='name',\n",
    "                    hover_data={\"ville\": True, \"score\": True, \"temp_moy\": True},\n",
    "                    color=\"temp_moy\",  \n",
    "                    color_continuous_scale=('blue','orange','red'),\n",
    "                    title=\"TOP 20 des hotels dans le TOP 5 des villes ayant une temperature inferieur à 15°C et sans précipitations\",\n",
    "                    zoom=5,\n",
    "                    height=600)\n",
    "fig.update_layout(mapbox_style=\"carto-positron\")\n",
    "fig.show()"
   ]
  },
  {
   "cell_type": "code",
   "execution_count": 93,
   "metadata": {},
   "outputs": [
    {
     "name": "stdout",
     "output_type": "stream",
     "text": [
      "                                                name  longitude   latitude  \\\n",
      "0  Appartement 3 pièces 4 personne centre village...   4.431478  43.452181   \n",
      "1  Appartement Uzès, piscine, climatisation, park...   4.410136  44.008163   \n",
      "2                                 Au pied du Château   7.354826  48.248402   \n",
      "3                  Gîte au pied du Mont Saint Michel  -1.484611  48.611982   \n",
      "4                              Le Belvédère St Gimer   2.361293  43.206833   \n",
      "5                                    Le Clos Saluces   4.810586  43.950193   \n",
      "6                            LEPTILOFT BAYEUX Centre  -0.715019  49.281332   \n",
      "7               Villa Le Pas de Courtin by Interhome   6.302437  43.151361   \n",
      "8                     T3- Proche plages et commerces   6.357146  43.123297   \n",
      "9  La Perle Rose Villa Standing 5 étoiles avec pi...   4.185999  43.562119   \n",
      "\n",
      "   score  \n",
      "0   10.0  \n",
      "1   10.0  \n",
      "2   10.0  \n",
      "3   10.0  \n",
      "4   10.0  \n",
      "5   10.0  \n",
      "6   10.0  \n",
      "7   10.0  \n",
      "8   10.0  \n",
      "9    9.9  \n"
     ]
    }
   ],
   "source": [
    "# les 10 meilleurs hotels\n",
    "query_top_hotels=\"\"\"\n",
    "SELECT name, longitude, latitude, score\n",
    "FROM hotels2\n",
    "ORDER BY score DESC\n",
    "LIMIT 10;\n",
    "\"\"\"\n",
    "q = pd.read_sql(query_top_hotels, con=engine)\n",
    "print(q)"
   ]
  },
  {
   "cell_type": "code",
   "execution_count": 94,
   "metadata": {},
   "outputs": [
    {
     "name": "stdout",
     "output_type": "stream",
     "text": [
      "                       ville   latitude  longitude  temp_moy\n",
      "0                    Avignon  43.949249   4.805901    20.063\n",
      "1                      Nimes  43.837425   4.360069    19.900\n",
      "2                Carcassonne  43.213036   2.349107    19.814\n",
      "3                  Collioure  42.525050   3.083155    19.681\n",
      "4                       Uzes  44.012128   4.419672    19.286\n",
      "5                  Marseille  43.296174   5.369953    19.197\n",
      "6                   Toulouse  43.604464   1.444243    19.003\n",
      "7            Aix en Provence  43.529842   5.447474    18.854\n",
      "8              Aigues Mortes  43.566152   4.191540    18.694\n",
      "9         Bormes les Mimosas  43.150697   6.341928    18.574\n",
      "10                      Foix  42.963900   1.605381    18.570\n",
      "11  Saintes Maries de la mer  43.451592   4.427720    18.525\n",
      "12                   Bayonne  43.494514  -1.473666    18.477\n",
      "13                    Cassis  43.214036   5.539632    18.456\n",
      "14                 Montauban  44.017584   1.354999    18.220\n",
      "15                  Biarritz  43.471144  -1.552727    18.142\n",
      "16                  Grenoble  45.187560   5.735782    18.022\n",
      "17                      Lyon  45.757814   4.832011    16.141\n",
      "18               La Rochelle  46.159732  -1.151595    16.105\n",
      "19                Saint Malo  48.649518  -2.026041    15.693\n"
     ]
    }
   ],
   "source": [
    "# les villes les plus chaudes\n",
    "query_hot_points = \"\"\"\n",
    "WITH hot AS (\n",
    "    SELECT m.id,\n",
    "           AVG((m.temp_max_matin + m.temp_max_aprem)/2) AS temp_moy\n",
    "    FROM meteo2 m\n",
    "    GROUP BY m.id \n",
    ")\n",
    "SELECT v.ville,\n",
    "       v.latitude,\n",
    "       v.longitude,\n",
    "       tm.temp_moy\n",
    "FROM hot tm\n",
    "JOIN villes2 v ON v.id=tm.id\n",
    "ORDER BY tm.temp_moy DESC\n",
    "LIMIT 20\n",
    ";\n",
    "\"\"\"\n",
    "p_hot = pd.read_sql(query_hot_points, con=engine)\n",
    "print(p_hot)\n"
   ]
  }
 ],
 "metadata": {
  "colab": {
   "provenance": []
  },
  "kernelspec": {
   "display_name": "kayak",
   "language": "python",
   "name": "python3"
  },
  "language_info": {
   "codemirror_mode": {
    "name": "ipython",
    "version": 3
   },
   "file_extension": ".py",
   "mimetype": "text/x-python",
   "name": "python",
   "nbconvert_exporter": "python",
   "pygments_lexer": "ipython3",
   "version": "3.10.18"
  }
 },
 "nbformat": 4,
 "nbformat_minor": 0
}
